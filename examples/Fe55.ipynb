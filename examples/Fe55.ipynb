{
 "cells": [
  {
   "cell_type": "code",
   "execution_count": null,
   "id": "4feb8873",
   "metadata": {},
   "outputs": [],
   "source": [
    "%matplotlib notebook\n",
    "import numpy as np\n",
    "import time\n",
    "import tables as tb\n",
    "import matplotlib.pyplot as plt\n",
    "\n",
    "from tjmonopix.tjmonopix import TJMonoPix\n",
    "from tjmonopix.online_monitor import noise_monitor, plots\n",
    "from tjmonopix.analysis import analysis_functions\n",
    "\n",
    "import tjmonopix.scans.injection_scan\n",
    "\n",
    "chip = TJMonoPix(conf=\"../tjmonopix/tjmonopix_mio3.yaml\", no_power_reset=False)\n",
    "chip.init(fl=\"EN_HV\")\n",
    "\n",
    "chip['data_rx'].CONF_START_FREEZE = 64 #default 3\n",
    "chip['data_rx'].CONF_STOP_FREEZE = 100 #default 40\n",
    "chip['data_rx'].CONF_START_READ = 66 #default 6\n",
    "chip['data_rx'].CONF_STOP_READ = 68 #default 7\n",
    "chip['data_rx'].CONF_STOP = 105 #default 45"
   ]
  },
  {
   "cell_type": "code",
   "execution_count": null,
   "id": "175193d4",
   "metadata": {},
   "outputs": [],
   "source": [
    "chip.get_power_status()"
   ]
  },
  {
   "cell_type": "code",
   "execution_count": null,
   "id": "114a73ae",
   "metadata": {},
   "outputs": [],
   "source": [
    "vl_dac = 40\n",
    "vh_dac = 80\n",
    "vreset_dac = 35\n",
    "icasn_dac = 0  # This sets the baseline voltage of the discriminator input\n",
    "ireset_dac = 2\n",
    "ithr_dac = 5  # Also this sets the baseline voltage of the discriminator input\n",
    "idb_dac = 20  # This sets the threshold of the discriminator. It is changed later.\n",
    "ibias_dac = 100\n",
    "\n",
    "vl = chip.set_vl_dacunits(vl_dac,1)\n",
    "vh = chip.set_vh_dacunits(vh_dac,1)\n",
    "\n",
    "chip.write_conf()\n",
    "\n",
    "vreset = chip.set_vreset_dacunits(vreset_dac, 1) \n",
    "icasn = chip.set_icasn_dacunits(icasn_dac,1) \n",
    "\n",
    "ireset = chip.set_ireset_dacunits(ireset_dac,1,1) \n",
    "ithr = chip.set_ithr_dacunits(ithr_dac,1) \n",
    "idb = chip.set_idb_dacunits(idb_dac,1) \n",
    "ibias = chip.set_ibias_dacunits(ibias_dac,1) \n",
    "\n",
    "chip.write_conf()"
   ]
  },
  {
   "cell_type": "code",
   "execution_count": null,
   "id": "a28e8f70",
   "metadata": {},
   "outputs": [],
   "source": [
    "chip.unmask_all()\n",
    "plots.tj_plot(chip, dt = 0.2, wait_inj=False);\n"
   ]
  },
  {
   "cell_type": "code",
   "execution_count": null,
   "id": "debfdbd9",
   "metadata": {},
   "outputs": [],
   "source": []
  },
  {
   "cell_type": "code",
   "execution_count": null,
   "id": "a7f563c9",
   "metadata": {},
   "outputs": [],
   "source": [
    "hits, _, _ = chip.recv_data_summary(delta_t)\n",
    "with tb.open_file('test.h5', \"w\") as f:\n",
    "    description = np.zeros((1,), dtype=hits.dtype)\n",
    "    hit_table = f.create_table(f.root, name=\"Hits\", description=description, title=\"Hit data\")\n",
    "    hit_table.append(hits)\n",
    "    hit_table.flush()"
   ]
  }
 ],
 "metadata": {
  "kernelspec": {
   "display_name": "Python 3 (ipykernel)",
   "language": "python",
   "name": "python3"
  },
  "language_info": {
   "codemirror_mode": {
    "name": "ipython",
    "version": 3
   },
   "file_extension": ".py",
   "mimetype": "text/x-python",
   "name": "python",
   "nbconvert_exporter": "python",
   "pygments_lexer": "ipython3",
   "version": "3.8.10"
  }
 },
 "nbformat": 4,
 "nbformat_minor": 5
}
