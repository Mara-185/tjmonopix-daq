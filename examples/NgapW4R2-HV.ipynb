{
 "cells": [
  {
   "cell_type": "code",
   "execution_count": 1,
   "metadata": {},
   "outputs": [
    {
     "name": "stderr",
     "output_type": "stream",
     "text": [
      "2020-02-20 19:17:39,241 [INFO ] (MainThread) GPAC: skipping power reset\n",
      "2020-02-20 19:17:40,654 [INFO ] (MainThread) Found adapter card: General Purpose Analog Card (GPAC) with ID 3\n",
      "2020-02-20 19:17:40,737 [INFO ] (MainThread) Found board 0 running firmware version 0.0\n",
      "2020-02-20 19:17:40,825 [INFO ] (MainThread) ibias = 45\n",
      "2020-02-20 19:17:40,826 [INFO ] (MainThread) ibias = 503.125nA\n",
      "2020-02-20 19:17:41,094 [INFO ] (MainThread) {'VPC [V]': 1.2998506463536463, 'VDDA_DAC [mA]': 3.002966091804109, 'VDDP [V]': 1.8049802771084336, 'VDDP OC': False, 'VDDA [mA]': 45.59215351649283, 'VDDD [V]': 1.8035120323232323, 'VDDA_DAC OC': False, 'VDDD [mA]': 2.820288999038665e-08, 'VPCSWSF [V]': 0.5001542395802099, 'VDDP [mA]': 128.39714805315754, 'BiasSF [V]': 1.071282183285075, 'VDDD OC': False, 'VPC [mA]': -0.4114981819124498, 'VPCSWSF [mA]': -0.10205063108620942, 'VDDA [V]': 1.8068556096096098, 'VDDA OC': False, 'VDDA_DAC [V]': 1.8045472377622378, 'BiasSF [mA]': 0.10059447096451782}\n"
     ]
    }
   ],
   "source": [
    "import sys,os,time\n",
    "\n",
    "import tables as tb\n",
    "import yaml\n",
    "import numpy as np\n",
    "import matplotlib.pyplot as plt\n",
    "import tjmonopix.tjmonopix\n",
    "import tjmonopix.scans.th_scan as th_scan\n",
    "import tjmonopix.scans.source_scan as source_scan\n",
    "\n",
    "#### how to power\n",
    "# PWELL/PSUB 0V/200uA, HV0V/100uA \n",
    "# PWELL/PSUB -6V/200uA --> MIO3 6V, GAPC 5V --> run this cell\n",
    "# HV 1.8V/100uA --> PWELL/PSUB 0V/200uA --> HV 20V\n",
    "\n",
    "DUtoe=33.\n",
    "chip=tjmonopix.tjmonopix.TJMonoPix(\n",
    "    conf=\"/home/user/workspace/tjmonopix/tjmonopix_30/tjmonopix/tjmonopix_mio3.yaml\",\n",
    "    no_power_reset=True)\n",
    "chip.init(\"EN_HV\")"
   ]
  },
  {
   "cell_type": "code",
   "execution_count": 2,
   "metadata": {},
   "outputs": [
    {
     "name": "stderr",
     "output_type": "stream",
     "text": [
      "2020-02-20 19:17:49,379 [INFO ] (MainThread) ibias = 45\n",
      "2020-02-20 19:17:49,381 [INFO ] (MainThread) ibias = 503.125nA\n"
     ]
    }
   ],
   "source": [
    "# reset configuration\n",
    "chip.default_conf()\n",
    "chip.reset_ibias()"
   ]
  },
  {
   "cell_type": "code",
   "execution_count": 3,
   "metadata": {
    "scrolled": true
   },
   "outputs": [
    {
     "name": "stderr",
     "output_type": "stream",
     "text": [
      "2020-02-20 19:17:52,225 [INFO ] (MainThread) vreset = 1.05106299213V\n",
      "2020-02-20 19:17:52,227 [INFO ] (MainThread) icasn = 0\n",
      "2020-02-20 19:17:52,228 [INFO ] (MainThread) icasn = 4.375nA\n",
      "2020-02-20 19:17:52,230 [INFO ] (MainThread) ireset = 2 high leakage mode\n",
      "2020-02-20 19:17:52,231 [INFO ] (MainThread) ireset = 0.1025390625nA, high leakage mode\n",
      "2020-02-20 19:17:52,233 [INFO ] (MainThread) ithr = 10\n",
      "2020-02-20 19:17:52,234 [INFO ] (MainThread) ithr = 1.50390625nA\n",
      "2020-02-20 19:17:52,236 [INFO ] (MainThread) idb = 40\n",
      "2020-02-20 19:17:52,237 [INFO ] (MainThread) idb = 717.5nA\n",
      "2020-02-20 19:17:52,239 [INFO ] (MainThread) ibias = 20\n",
      "2020-02-20 19:17:52,240 [INFO ] (MainThread) ibias = 229.6875nA\n"
     ]
    }
   ],
   "source": [
    "####### CONFIGURE THE FRONT END ######\n",
    "# INPUT baseline\n",
    "chip.reset_ibias()\n",
    "chip.set_vreset_dacunits(35,1) #1V\n",
    "# OUTPUT BASELINE\n",
    "chip.set_icasn_dacunits(0,1) #4.375nA # approx 1.084V at -3V backbias, 600mV at 0V backbias\n",
    "chip.set_vcasn_dac_dacunits(40)\n",
    "# INOUT RESET rate\n",
    "chip.set_ireset_dacunits(2,1,1) #270pA, HIGH LEAKAGE MODE, NORMAL SCALING, 0 = LOW LEAKAGE MODE, SCALING*0.01\n",
    "# OUTPUT RESET rate\n",
    "chip.set_ithr_dacunits(10,1)  #680pA\n",
    "# BIASING OF THE DISCRIMINATOR (AND THE THRESHOLD)\n",
    "chip.set_idb_dacunits(40,1)  #500nA\n",
    "# DC current of Amp, OUTPUT RISE TIME\n",
    "chip.set_ibias_dacunits(20,1) #500nA\n",
    "chip.write_conf()"
   ]
  },
  {
   "cell_type": "code",
   "execution_count": 9,
   "metadata": {},
   "outputs": [
    {
     "name": "stderr",
     "output_type": "stream",
     "text": [
      "2019-11-25 12:13:27,796 [INFO ] (MainThread) vl = 1.00862204724V\n",
      "2019-11-25 12:13:27,798 [INFO ] (MainThread) vh = 1.50468503937V\n"
     ]
    }
   ],
   "source": [
    "#### (optional) check analog output\n",
    "chip.enable_analog(col=\"all\")\n",
    "chip.set_inj_all(inj_n=0)  ## run this cell with inj_n=1 to stop injection\n",
    "chip.inject()"
   ]
  },
  {
   "cell_type": "code",
   "execution_count": 4,
   "metadata": {
    "scrolled": true
   },
   "outputs": [
    {
     "name": "stderr",
     "output_type": "stream",
     "text": [
      "2020-02-20 19:17:56,958 [INFO ] (MainThread) auto_mask th=2 step=10 exp=0.200000 fl=EN_HV\n",
      "2020-02-20 19:17:58,292 [INFO ] (MainThread) Enable MASKH 10 Noise data 2\n",
      "2020-02-20 19:17:58,294 [INFO ] (MainThread) Number of noisy pixels: 0\n",
      "2020-02-20 19:17:58,517 [INFO ] (MainThread) Enable MASKH 20 Noise data 974\n",
      "2020-02-20 19:17:58,518 [INFO ] (MainThread) Number of noisy pixels: 2\n",
      "2020-02-20 19:17:58,748 [INFO ] (MainThread) Enable MASKH 30 Noise data 11194\n",
      "2020-02-20 19:17:58,750 [INFO ] (MainThread) Number of noisy pixels: 8\n",
      "2020-02-20 19:17:58,972 [INFO ] (MainThread) Enable MASKH 40 Noise data 1582\n",
      "2020-02-20 19:17:58,973 [INFO ] (MainThread) Number of noisy pixels: 15\n",
      "2020-02-20 19:17:59,198 [INFO ] (MainThread) Enable MASKH 50 Noise data 1\n",
      "2020-02-20 19:17:59,200 [INFO ] (MainThread) Number of noisy pixels: 15\n",
      "2020-02-20 19:17:59,451 [INFO ] (MainThread) Enable MASKH 60 Noise data 34310\n",
      "2020-02-20 19:17:59,452 [INFO ] (MainThread) Number of noisy pixels: 17\n",
      "2020-02-20 19:17:59,676 [INFO ] (MainThread) Enable MASKH 70 Noise data 50\n",
      "2020-02-20 19:17:59,677 [INFO ] (MainThread) Number of noisy pixels: 21\n",
      "2020-02-20 19:17:59,901 [INFO ] (MainThread) Enable MASKH 80 Noise data 86\n",
      "2020-02-20 19:17:59,902 [INFO ] (MainThread) Number of noisy pixels: 24\n",
      "2020-02-20 19:18:00,127 [INFO ] (MainThread) Enable MASKH 90 Noise data 3\n",
      "2020-02-20 19:18:00,129 [INFO ] (MainThread) Number of noisy pixels: 25\n",
      "2020-02-20 19:18:00,352 [INFO ] (MainThread) Enable MASKH 100 Noise data 5\n",
      "2020-02-20 19:18:00,354 [INFO ] (MainThread) Number of noisy pixels: 26\n",
      "2020-02-20 19:18:00,579 [INFO ] (MainThread) Enable MASKH 110 Noise data 0\n",
      "2020-02-20 19:18:00,581 [INFO ] (MainThread) Number of noisy pixels: 26\n",
      "2020-02-20 19:18:00,804 [INFO ] (MainThread) Enable MASKH 120 Noise data 0\n",
      "2020-02-20 19:18:00,805 [INFO ] (MainThread) Number of noisy pixels: 26\n",
      "2020-02-20 19:18:01,030 [INFO ] (MainThread) Enable MASKH 130 Noise data 730\n",
      "2020-02-20 19:18:01,032 [INFO ] (MainThread) Number of noisy pixels: 30\n",
      "2020-02-20 19:18:01,255 [INFO ] (MainThread) Enable MASKH 140 Noise data 1\n",
      "2020-02-20 19:18:01,257 [INFO ] (MainThread) Number of noisy pixels: 30\n",
      "2020-02-20 19:18:01,482 [INFO ] (MainThread) Enable MASKH 150 Noise data 5\n",
      "2020-02-20 19:18:01,484 [INFO ] (MainThread) Number of noisy pixels: 31\n",
      "2020-02-20 19:18:01,710 [INFO ] (MainThread) Enable MASKH 160 Noise data 3407\n",
      "2020-02-20 19:18:01,712 [INFO ] (MainThread) Number of noisy pixels: 32\n",
      "2020-02-20 19:18:01,936 [INFO ] (MainThread) Enable MASKH 170 Noise data 8\n",
      "2020-02-20 19:18:01,938 [INFO ] (MainThread) Number of noisy pixels: 33\n",
      "2020-02-20 19:18:02,162 [INFO ] (MainThread) Enable MASKH 180 Noise data 23\n",
      "2020-02-20 19:18:02,163 [INFO ] (MainThread) Number of noisy pixels: 34\n",
      "2020-02-20 19:18:02,388 [INFO ] (MainThread) Enable MASKH 190 Noise data 2\n",
      "2020-02-20 19:18:02,389 [INFO ] (MainThread) Number of noisy pixels: 34\n",
      "2020-02-20 19:18:02,617 [INFO ] (MainThread) Enable MASKH 200 Noise data 4015\n",
      "2020-02-20 19:18:02,618 [INFO ] (MainThread) Number of noisy pixels: 35\n",
      "2020-02-20 19:18:02,843 [INFO ] (MainThread) Enable MASKH 210 Noise data 320\n",
      "2020-02-20 19:18:02,844 [INFO ] (MainThread) Number of noisy pixels: 36\n",
      "2020-02-20 19:18:03,069 [INFO ] (MainThread) Enable MASKH 220 Noise data 9\n",
      "2020-02-20 19:18:03,071 [INFO ] (MainThread) Number of noisy pixels: 37\n",
      "2020-02-20 19:18:03,296 [INFO ] (MainThread) Enable MASKH 223 Noise data 5\n",
      "2020-02-20 19:18:03,297 [INFO ] (MainThread) Number of noisy pixels: 38\n",
      "2020-02-20 19:18:03,522 [INFO ] (MainThread) Enable MASKV 10 Noise data 6\n",
      "2020-02-20 19:18:03,523 [INFO ] (MainThread) Number of noisy pixels: 39\n",
      "2020-02-20 19:18:03,747 [INFO ] (MainThread) Enable MASKV 20 Noise data 0\n",
      "2020-02-20 19:18:03,748 [INFO ] (MainThread) Number of noisy pixels: 39\n",
      "2020-02-20 19:18:03,974 [INFO ] (MainThread) Enable MASKV 30 Noise data 3\n",
      "2020-02-20 19:18:03,975 [INFO ] (MainThread) Number of noisy pixels: 40\n",
      "2020-02-20 19:18:04,201 [INFO ] (MainThread) Enable MASKV 40 Noise data 2\n",
      "2020-02-20 19:18:04,202 [INFO ] (MainThread) Number of noisy pixels: 40\n",
      "2020-02-20 19:18:04,428 [INFO ] (MainThread) Enable MASKV 50 Noise data 3\n",
      "2020-02-20 19:18:04,429 [INFO ] (MainThread) Number of noisy pixels: 41\n",
      "2020-02-20 19:18:04,655 [INFO ] (MainThread) Enable MASKV 60 Noise data 3\n",
      "2020-02-20 19:18:04,656 [INFO ] (MainThread) Number of noisy pixels: 41\n",
      "2020-02-20 19:18:04,882 [INFO ] (MainThread) Enable MASKV 70 Noise data 3\n",
      "2020-02-20 19:18:04,883 [INFO ] (MainThread) Number of noisy pixels: 42\n",
      "2020-02-20 19:18:05,108 [INFO ] (MainThread) Enable MASKV 80 Noise data 3\n",
      "2020-02-20 19:18:05,110 [INFO ] (MainThread) Number of noisy pixels: 43\n",
      "2020-02-20 19:18:05,333 [INFO ] (MainThread) Enable MASKV 90 Noise data 7\n",
      "2020-02-20 19:18:05,335 [INFO ] (MainThread) Number of noisy pixels: 43\n",
      "2020-02-20 19:18:05,561 [INFO ] (MainThread) Enable MASKV 100 Noise data 0\n",
      "2020-02-20 19:18:05,562 [INFO ] (MainThread) Number of noisy pixels: 43\n",
      "2020-02-20 19:18:05,787 [INFO ] (MainThread) Enable MASKV 110 Noise data 3\n",
      "2020-02-20 19:18:05,789 [INFO ] (MainThread) Number of noisy pixels: 43\n",
      "2020-02-20 19:18:06,014 [INFO ] (MainThread) Enable MASKV 111 Noise data 3\n",
      "2020-02-20 19:18:06,016 [INFO ] (MainThread) Number of noisy pixels: 43\n",
      "2020-02-20 19:18:06,241 [INFO ] (MainThread) Enable MASKD 10 Noise data 2\n",
      "2020-02-20 19:18:06,242 [INFO ] (MainThread) Number of noisy pixels: 43\n",
      "2020-02-20 19:18:06,467 [INFO ] (MainThread) Enable MASKD 20 Noise data 1\n",
      "2020-02-20 19:18:06,469 [INFO ] (MainThread) Number of noisy pixels: 43\n",
      "2020-02-20 19:18:06,695 [INFO ] (MainThread) Enable MASKD 30 Noise data 4\n",
      "2020-02-20 19:18:06,697 [INFO ] (MainThread) Number of noisy pixels: 44\n",
      "2020-02-20 19:18:06,920 [INFO ] (MainThread) Enable MASKD 40 Noise data 4\n",
      "2020-02-20 19:18:06,922 [INFO ] (MainThread) Number of noisy pixels: 45\n",
      "2020-02-20 19:18:07,147 [INFO ] (MainThread) Enable MASKD 50 Noise data 2\n",
      "2020-02-20 19:18:07,148 [INFO ] (MainThread) Number of noisy pixels: 45\n",
      "2020-02-20 19:18:07,373 [INFO ] (MainThread) Enable MASKD 60 Noise data 3\n",
      "2020-02-20 19:18:07,375 [INFO ] (MainThread) Number of noisy pixels: 45\n",
      "2020-02-20 19:18:07,598 [INFO ] (MainThread) Enable MASKD 70 Noise data 2\n",
      "2020-02-20 19:18:07,600 [INFO ] (MainThread) Number of noisy pixels: 45\n",
      "2020-02-20 19:18:07,823 [INFO ] (MainThread) Enable MASKD 80 Noise data 1\n",
      "2020-02-20 19:18:07,825 [INFO ] (MainThread) Number of noisy pixels: 45\n",
      "2020-02-20 19:18:08,050 [INFO ] (MainThread) Enable MASKD 90 Noise data 5\n",
      "2020-02-20 19:18:08,051 [INFO ] (MainThread) Number of noisy pixels: 45\n",
      "2020-02-20 19:18:08,276 [INFO ] (MainThread) Enable MASKD 100 Noise data 2\n",
      "2020-02-20 19:18:08,278 [INFO ] (MainThread) Number of noisy pixels: 45\n",
      "2020-02-20 19:18:08,501 [INFO ] (MainThread) Enable MASKD 110 Noise data 6\n",
      "2020-02-20 19:18:08,503 [INFO ] (MainThread) Number of noisy pixels: 46\n",
      "2020-02-20 19:18:08,728 [INFO ] (MainThread) Enable MASKD 120 Noise data 0\n",
      "2020-02-20 19:18:08,729 [INFO ] (MainThread) Number of noisy pixels: 46\n",
      "2020-02-20 19:18:08,955 [INFO ] (MainThread) Enable MASKD 130 Noise data 3\n",
      "2020-02-20 19:18:08,957 [INFO ] (MainThread) Number of noisy pixels: 46\n",
      "2020-02-20 19:18:09,182 [INFO ] (MainThread) Enable MASKD 140 Noise data 1\n",
      "2020-02-20 19:18:09,184 [INFO ] (MainThread) Number of noisy pixels: 46\n",
      "2020-02-20 19:18:09,408 [INFO ] (MainThread) Enable MASKD 150 Noise data 4\n",
      "2020-02-20 19:18:09,409 [INFO ] (MainThread) Number of noisy pixels: 46\n",
      "2020-02-20 19:18:09,633 [INFO ] (MainThread) Enable MASKD 160 Noise data 4\n",
      "2020-02-20 19:18:09,635 [INFO ] (MainThread) Number of noisy pixels: 46\n",
      "2020-02-20 19:18:09,861 [INFO ] (MainThread) Enable MASKD 170 Noise data 2\n",
      "2020-02-20 19:18:09,862 [INFO ] (MainThread) Number of noisy pixels: 46\n",
      "2020-02-20 19:18:10,087 [INFO ] (MainThread) Enable MASKD 180 Noise data 6\n",
      "2020-02-20 19:18:10,089 [INFO ] (MainThread) Number of noisy pixels: 47\n",
      "2020-02-20 19:18:10,315 [INFO ] (MainThread) Enable MASKD 190 Noise data 2\n",
      "2020-02-20 19:18:10,316 [INFO ] (MainThread) Number of noisy pixels: 48\n",
      "2020-02-20 19:18:10,542 [INFO ] (MainThread) Enable MASKD 200 Noise data 0\n",
      "2020-02-20 19:18:10,543 [INFO ] (MainThread) Number of noisy pixels: 48\n",
      "2020-02-20 19:18:10,768 [INFO ] (MainThread) Enable MASKD 210 Noise data 2\n"
     ]
    },
    {
     "name": "stderr",
     "output_type": "stream",
     "text": [
      "2020-02-20 19:18:10,770 [INFO ] (MainThread) Number of noisy pixels: 48\n",
      "2020-02-20 19:18:10,996 [INFO ] (MainThread) Enable MASKD 220 Noise data 0\n",
      "2020-02-20 19:18:10,997 [INFO ] (MainThread) Number of noisy pixels: 48\n",
      "2020-02-20 19:18:11,222 [INFO ] (MainThread) Enable MASKD 230 Noise data 2\n",
      "2020-02-20 19:18:11,224 [INFO ] (MainThread) Number of noisy pixels: 48\n",
      "2020-02-20 19:18:11,450 [INFO ] (MainThread) Enable MASKD 240 Noise data 0\n",
      "2020-02-20 19:18:11,451 [INFO ] (MainThread) Number of noisy pixels: 48\n",
      "2020-02-20 19:18:11,677 [INFO ] (MainThread) Enable MASKD 250 Noise data 0\n",
      "2020-02-20 19:18:11,679 [INFO ] (MainThread) Number of noisy pixels: 48\n",
      "2020-02-20 19:18:11,904 [INFO ] (MainThread) Enable MASKD 260 Noise data 3\n",
      "2020-02-20 19:18:11,906 [INFO ] (MainThread) Number of noisy pixels: 48\n",
      "2020-02-20 19:18:12,131 [INFO ] (MainThread) Enable MASKD 270 Noise data 1\n",
      "2020-02-20 19:18:12,133 [INFO ] (MainThread) Number of noisy pixels: 48\n",
      "2020-02-20 19:18:12,358 [INFO ] (MainThread) Enable MASKD 280 Noise data 3\n",
      "2020-02-20 19:18:12,360 [INFO ] (MainThread) Number of noisy pixels: 48\n",
      "2020-02-20 19:18:12,586 [INFO ] (MainThread) Enable MASKD 290 Noise data 2\n",
      "2020-02-20 19:18:12,588 [INFO ] (MainThread) Number of noisy pixels: 48\n",
      "2020-02-20 19:18:12,813 [INFO ] (MainThread) Enable MASKD 300 Noise data 2\n",
      "2020-02-20 19:18:12,815 [INFO ] (MainThread) Number of noisy pixels: 48\n",
      "2020-02-20 19:18:13,039 [INFO ] (MainThread) Enable MASKD 310 Noise data 0\n",
      "2020-02-20 19:18:13,040 [INFO ] (MainThread) Number of noisy pixels: 48\n",
      "2020-02-20 19:18:13,266 [INFO ] (MainThread) Enable MASKD 320 Noise data 1\n",
      "2020-02-20 19:18:13,268 [INFO ] (MainThread) Number of noisy pixels: 48\n",
      "2020-02-20 19:18:13,493 [INFO ] (MainThread) Enable MASKD 330 Noise data 0\n",
      "2020-02-20 19:18:13,494 [INFO ] (MainThread) Number of noisy pixels: 48\n",
      "2020-02-20 19:18:13,719 [INFO ] (MainThread) Enable MASKD 340 Noise data 3\n",
      "2020-02-20 19:18:13,720 [INFO ] (MainThread) Number of noisy pixels: 48\n",
      "2020-02-20 19:18:13,946 [INFO ] (MainThread) Enable MASKD 350 Noise data 0\n",
      "2020-02-20 19:18:13,948 [INFO ] (MainThread) Number of noisy pixels: 48\n",
      "2020-02-20 19:18:14,174 [INFO ] (MainThread) Enable MASKD 360 Noise data 2\n",
      "2020-02-20 19:18:14,175 [INFO ] (MainThread) Number of noisy pixels: 48\n",
      "2020-02-20 19:18:14,399 [INFO ] (MainThread) Enable MASKD 370 Noise data 1\n",
      "2020-02-20 19:18:14,401 [INFO ] (MainThread) Number of noisy pixels: 48\n",
      "2020-02-20 19:18:14,627 [INFO ] (MainThread) Enable MASKD 380 Noise data 2\n",
      "2020-02-20 19:18:14,629 [INFO ] (MainThread) Number of noisy pixels: 48\n",
      "2020-02-20 19:18:14,854 [INFO ] (MainThread) Enable MASKD 390 Noise data 0\n",
      "2020-02-20 19:18:14,856 [INFO ] (MainThread) Number of noisy pixels: 48\n",
      "2020-02-20 19:18:15,081 [INFO ] (MainThread) Enable MASKD 400 Noise data 0\n",
      "2020-02-20 19:18:15,083 [INFO ] (MainThread) Number of noisy pixels: 48\n",
      "2020-02-20 19:18:15,309 [INFO ] (MainThread) Enable MASKD 410 Noise data 3\n",
      "2020-02-20 19:18:15,310 [INFO ] (MainThread) Number of noisy pixels: 49\n",
      "2020-02-20 19:18:15,534 [INFO ] (MainThread) Enable MASKD 420 Noise data 1\n",
      "2020-02-20 19:18:15,536 [INFO ] (MainThread) Number of noisy pixels: 49\n",
      "2020-02-20 19:18:15,759 [INFO ] (MainThread) Enable MASKD 430 Noise data 2\n",
      "2020-02-20 19:18:15,761 [INFO ] (MainThread) Number of noisy pixels: 49\n",
      "2020-02-20 19:18:15,986 [INFO ] (MainThread) Enable MASKD 440 Noise data 0\n",
      "2020-02-20 19:18:15,988 [INFO ] (MainThread) Number of noisy pixels: 49\n",
      "2020-02-20 19:18:16,214 [INFO ] (MainThread) Enable MASKD 447 Noise data 0\n",
      "2020-02-20 19:18:16,215 [INFO ] (MainThread) Number of noisy pixels: 49\n",
      "2020-02-20 19:18:16,440 [INFO ] (MainThread) Checking noisy pixels after masking...\n",
      "2020-02-20 19:18:16,441 [INFO ] (MainThread) Data size: 1\n",
      "2020-02-20 19:18:16,442 [INFO ] (MainThread) Number of noisy pixels: 49\n",
      "2020-02-20 19:18:16,758 [INFO ] (MainThread) Noisy pixels: [(3,   0, 213) (3,   2, 147) (3,   4,  21) (3,   4,  62) (3,   9,  76)\n",
      " (3,  12, 197) (3,  14,  53) (3,  16, 207) (3,  17, 121) (3,  17, 127)\n",
      " (3,  19,  21) (3,  23, 155) (3,  24, 129) (3,  26,  39) (3,  29,   0)\n",
      " (3,  30,   8) (3,  30,  31) (3,  34, 148) (3,  34, 178) (3,  46,  58)\n",
      " (3,  47, 214) (3,  50, 179) (3,  52, 212) (3,  54,  10) (3,  55,  96)\n",
      " (3,  55, 206) (3,  57, 167) (3,  59, 167) (3,  63,  22) (3,  66,  40)\n",
      " (3,  66,  73) (3,  66, 192) (3,  68,  27) (3,  69,  40) (3,  71,  77)\n",
      " (3,  71, 199) (3,  78,  18) (3,  80, 167) (3,  82, 127) (3,  84,  31)\n",
      " (3,  85, 137) (3,  94,  62) (3,  99,  35) (3, 104,  13) (3, 105, 102)\n",
      " (3, 108,   5) (3, 108,  78)]\n",
      "2020-02-20 19:18:16,760 [INFO ] (MainThread) Total number of noisy pixels: 47\n",
      "2020-02-20 19:18:17,269 [INFO ] (MainThread) Number of enabled pixels: 24835\n",
      "2020-02-20 19:18:17,270 [INFO ] (MainThread) Number of disabled pixels (noisy plus unintentionally masked): 253\n"
     ]
    },
    {
     "data": {
      "image/png": "[encoded data removed]",
      "text/plain": [
       "<Figure size 432x288 with 1 Axes>"
      ]
     },
     "metadata": {
      "needs_background": "light"
     },
     "output_type": "display_data"
    }
   ],
   "source": [
    "#### enable pixels and mask noisy pixels\n",
    "chip.set_monoread()\n",
    "noisy=chip.auto_mask()\n",
    "\n",
    "mask=chip.get_pixel_status(mask=None,mode=\"all\")\n",
    "plt.imshow(chip.get_pixel_status(mask=mask,mode=\"preamp\")[3,:,:],\n",
    "           interpolation=\"none\",origin=\"bottomleft\")\n",
    "plt.title(\"Enabled pixel = yellow\");"
   ]
  },
  {
   "cell_type": "code",
   "execution_count": 5,
   "metadata": {},
   "outputs": [
    {
     "name": "stdout",
     "output_type": "stream",
     "text": [
      "preamp of [15,15]: True\n",
      "inj of [15,15]: True\n",
      "hitor of [15,15]: False\n"
     ]
    }
   ],
   "source": [
    "### select one pixel\n",
    "col=15\n",
    "row=15\n",
    "chip.enable_injection(chip.fl_n, col, row)\n",
    "#chip.enable_pixel(chip.fl_n,col,row) \n",
    "#chip.enable_hitor(chip.fl_n,col,row)\n",
    "mask=chip.get_pixel_status(mask=None,mode=\"all\")\n",
    "print \"preamp of [%d,%d]:\"%(col,row),chip.get_pixel_status(mask=mask,mode=\"preamp\")[chip.fl_n, col, row]\n",
    "print \"inj of [%d,%d]:\"%(col,row),chip.get_pixel_status(mask=mask,mode=\"inj\")[chip.fl_n, col, row]\n",
    "print \"hitor of [%d,%d]:\"%(col,row),chip.get_pixel_status(mask=mask,mode=\"mon\")[chip.fl_n, col, row]"
   ]
  },
  {
   "cell_type": "code",
   "execution_count": 6,
   "metadata": {},
   "outputs": [
    {
     "name": "stderr",
     "output_type": "stream",
     "text": [
      "2020-02-20 19:18:34,706 [INFO ] (MainThread) vl = 1.00862204724V\n",
      "2020-02-20 19:18:34,708 [INFO ] (MainThread) vh = 1.50468503937V\n"
     ]
    },
    {
     "name": "stdout",
     "output_type": "stream",
     "text": [
      "n of data 1005\n",
      "(15, 15) 1000\n",
      "(18, 135) 2\n",
      "(55, 178) 1\n",
      "(42, 37) 1\n",
      "(31, 24) 1\n"
     ]
    }
   ],
   "source": [
    "### (optional) inject 1 pixel. it is good idea to run this once/twice.\n",
    "chip.set_inj_all(inj_n=1000,inj_phase=0)\n",
    "#chip.reset_ibias()\n",
    "chip.set_monoread()\n",
    "chip.inject()\n",
    "time.sleep(1)\n",
    "dat=chip.interpret_data(chip['fifo'].get_data())\n",
    "print \"n of data\", len(dat)\n",
    "if len(dat)!=0:\n",
    "    uni,cnt=np.unique(dat[[\"col\",'row']], return_counts=True)\n",
    "    arg=np.argsort(cnt)\n",
    "    for a in arg[::-1]:\n",
    "        print uni[a],cnt[a]"
   ]
  },
  {
   "cell_type": "code",
   "execution_count": 7,
   "metadata": {},
   "outputs": [
    {
     "name": "stderr",
     "output_type": "stream",
     "text": [
      "2020-02-20 19:18:43,471 [INFO ] (MainThread) vl = 1.00862204724V\n",
      "2020-02-20 19:18:43,472 [INFO ] (MainThread) vh = 1.50468503937V\n",
      "2020-02-20 19:18:43,476 [INFO ] (MainThread) Initializing ThScan\n",
      "2020-02-20 19:18:43,744 [INFO ] (MainThread) Power status: {'VPC [V]': 1.2998506463536463, 'VDDA_DAC [mA]': 3.002966091804109, 'VDDP [V]': 1.8049802771084336, 'VDDP OC': False, 'VDDA [mA]': 26.848712635902228, 'VDDD [V]': 1.8035120323232323, 'VDDA_DAC OC': False, 'VDDD [mA]': 2.820288999038665e-08, 'VPCSWSF [V]': 0.5001542395802099, 'VDDP [mA]': 143.50269488026495, 'BiasSF [V]': 1.0717822946564886, 'VDDD OC': False, 'VPC [mA]': -0.2539988757479363, 'VPCSWSF [mA]': -0.003001483308147924, 'VDDA [V]': 1.8008612492492493, 'VDDA OC': False, 'VDDA_DAC [V]': 1.8045472377622378, 'BiasSF [mA]': 0.10059447096451782}\n",
      "2020-02-20 19:18:48,911 [INFO ] (MainThread) Temperature: 30.2 C\n",
      "2020-02-20 19:18:48,941 [INFO ] (MainThread) Creating ZMQ context\n",
      "2020-02-20 19:18:48,943 [INFO ] (MainThread) Creating socket connection to server tcp://127.0.0.1:5500\n",
      "2020-02-20 19:18:48,944 [INFO ] (MainThread) ScanBase.start:data_send.data_send_init connected\n",
      "2020-02-20 19:18:48,946 [INFO ] (MainThread) Resetting SRAM FIFO: size = 1056\n",
      "2020-02-20 19:18:49,148 [WARNI] (MainThread) SRAM FIFO not empty after reset: size = 84\n",
      "2020-02-20 19:18:49,383 [INFO ] (MainThread) Set timestamp: src=inj\n",
      "2020-02-20 19:18:49,938 [INFO ] (MainThread) Starting FIFO readout\n",
      "2020-02-20 19:18:51,524 [INFO ] (MainThread) Stopped FIFO readout\n",
      "2020-02-20 19:18:51,528 [INFO ] (MainThread) g=None, dat=169002\n",
      "2020-02-20 19:18:51,530 [INFO ] (MainThread) Recived words: 169002\n",
      "2020-02-20 19:18:51,531 [INFO ] (MainThread) Data queue size: 0\n",
      "2020-02-20 19:18:51,533 [INFO ] (MainThread) SRAM FIFO size: 0\n",
      "2020-02-20 19:18:51,535 [INFO ] (MainThread) Channel:                     TDC | DATA_RX | TLU | TIMESTAMP\n",
      "2020-02-20 19:18:51,536 [INFO ] (MainThread) Discard counter:             None |       0 |   0 |         0\n",
      "2020-02-20 19:18:51,801 [INFO ] (MainThread) Power status: {'VPC [V]': 1.2998506463536463, 'VDDA_DAC [mA]': 3.002966091804109, 'VDDP [V]': 1.8049802771084336, 'VDDP OC': False, 'VDDA [mA]': 26.848712635902228, 'VDDD [V]': 1.8035120323232323, 'VDDA_DAC OC': False, 'VDDD [mA]': 2.820288999038665e-08, 'VPCSWSF [V]': 0.5006537, 'VDDP [mA]': 143.50269488026495, 'BiasSF [V]': 1.0717822946564886, 'VDDD OC': False, 'VPC [mA]': 0.19549914406761182, 'VPCSWSF [mA]': 0.0970481609121162, 'VDDA [V]': 1.8008612492492493, 'VDDA OC': False, 'VDDA_DAC [V]': 1.8045472377622378, 'BiasSF [mA]': 0.10059447096451782}\n",
      "2020-02-20 19:18:52,000 [INFO ] (MainThread) Temperature: 30.2 C\n",
      "2020-02-20 19:18:52,027 [INFO ] (MainThread) Closing socket connection\n"
     ]
    },
    {
     "name": "stdout",
     "output_type": "stream",
     "text": [
      "0 169001 100.000% 2.259s 56334hits 0errs\n",
      "data (inj_n 1000,inj_loop 35): INJ=35000 MONO=21334 MON=0\n"
     ]
    },
    {
     "name": "stderr",
     "output_type": "stream",
     "text": [
      "/home/user/anaconda/envs/ngap/lib/python2.7/site-packages/numba/dataflow.py:390: RuntimeWarning: Python2 style print partially supported.  Please use Python3 style print.\n",
      "  \"Python3 style print.\", RuntimeWarning)\n",
      "/home/user/anaconda/envs/ngap/lib/python2.7/site-packages/numba/ir_utils.py:1959: NumbaPendingDeprecationWarning: \n",
      "Encountered the use of a type that is scheduled for deprecation: type 'reflected list' found for argument 'injlist' of function '_build_inj'.\n",
      "\n",
      "For more information visit http://numba.pydata.org/numba-doc/latest/reference/deprecation.html#deprecation-of-reflection-for-list-and-set-types\n",
      "\n",
      "File \"../tjmonopix/analysis/event_builder_inj.py\", line 24:\n",
      "@njit\n",
      "def _build_inj(dat, injlist, thlist, phaselist, rowlist, inj_period, inj_n, mode, buf, scan_param_id, pre_inj, inj_id, inj_cnt):\n",
      "^\n",
      "\n",
      "  warnings.warn(NumbaPendingDeprecationWarning(msg, loc=loc))\n",
      "/home/user/anaconda/envs/ngap/lib/python2.7/site-packages/numba/ir_utils.py:1959: NumbaPendingDeprecationWarning: \n",
      "Encountered the use of a type that is scheduled for deprecation: type 'reflected list' found for argument 'phaselist' of function '_build_inj'.\n",
      "\n",
      "For more information visit http://numba.pydata.org/numba-doc/latest/reference/deprecation.html#deprecation-of-reflection-for-list-and-set-types\n",
      "\n",
      "File \"../tjmonopix/analysis/event_builder_inj.py\", line 24:\n",
      "@njit\n",
      "def _build_inj(dat, injlist, thlist, phaselist, rowlist, inj_period, inj_n, mode, buf, scan_param_id, pre_inj, inj_id, inj_cnt):\n",
      "^\n",
      "\n",
      "  warnings.warn(NumbaPendingDeprecationWarning(msg, loc=loc))\n",
      "/home/user/anaconda/envs/ngap/lib/python2.7/site-packages/numba/ir_utils.py:1959: NumbaPendingDeprecationWarning: \n",
      "Encountered the use of a type that is scheduled for deprecation: type 'reflected list' found for argument 'thlist' of function '_build_inj'.\n",
      "\n",
      "For more information visit http://numba.pydata.org/numba-doc/latest/reference/deprecation.html#deprecation-of-reflection-for-list-and-set-types\n",
      "\n",
      "File \"../tjmonopix/analysis/event_builder_inj.py\", line 24:\n",
      "@njit\n",
      "def _build_inj(dat, injlist, thlist, phaselist, rowlist, inj_period, inj_n, mode, buf, scan_param_id, pre_inj, inj_id, inj_cnt):\n",
      "^\n",
      "\n",
      "  warnings.warn(NumbaPendingDeprecationWarning(msg, loc=loc))\n",
      "/home/user/anaconda/envs/ngap/lib/python2.7/site-packages/numba/ir_utils.py:1959: NumbaPendingDeprecationWarning: \n",
      "Encountered the use of a type that is scheduled for deprecation: type 'reflected list' found for argument 'rowlist' of function '_build_inj'.\n",
      "\n",
      "For more information visit http://numba.pydata.org/numba-doc/latest/reference/deprecation.html#deprecation-of-reflection-for-list-and-set-types\n",
      "\n",
      "File \"../tjmonopix/analysis/event_builder_inj.py\", line 24:\n",
      "@njit\n",
      "def _build_inj(dat, injlist, thlist, phaselist, rowlist, inj_period, inj_n, mode, buf, scan_param_id, pre_inj, inj_id, inj_cnt):\n",
      "^\n",
      "\n",
      "  warnings.warn(NumbaPendingDeprecationWarning(msg, loc=loc))\n"
     ]
    },
    {
     "name": "stdout",
     "output_type": "stream",
     "text": [
      "0 56334 100.000% 0.856s 21334hits 0errs\n",
      "delete_noninjected from 21334 to 21323 to 21323 99.948 percent\n",
      "delete_cetainvalue from 21323 to 21323 100.000 percent\n",
      "fit mu=4.348e+02(13.1753DU) sigma=1.626e+01(0.4928DU)\n"
     ]
    },
    {
     "data": {
      "image/png": "[encoded data removed]",
      "text/plain": [
       "<Figure size 432x288 with 2 Axes>"
      ]
     },
     "metadata": {
      "needs_background": "light"
     },
     "output_type": "display_data"
    }
   ],
   "source": [
    "### S-curve\n",
    "chip.set_inj_all(inj_n=1000,inj_phase=0)\n",
    "reload(th_scan)\n",
    "scan=th_scan.ThScan(chip)\n",
    "scan.start(rowlist=np.arange(row,row+1,1), ## list of rows\n",
    "           collist=np.arange(col,col+1,1), ## list of columns\n",
    "           n_mask_col=1,                   ## maximum number of columns which are injected at once\n",
    "           injlist=np.arange(0,35)         ## scan values of test pulse amplitude in DU\n",
    "           )                               ## do not change\n",
    "scan.analyze(scan.output_filename)\n",
    "scan.stop()\n",
    "fraw=scan.output_filename+'.h5'\n",
    "fev=fraw[:-7]+'ev.h5'\n",
    "\n",
    "with tb.open_file(fev) as f:\n",
    "    cnts=f.root.Cnts[:]\n",
    "    inj=f.root.ScurveFit.attrs.injlist\n",
    "    fit=f.root.ScurveFit[:]\n",
    "fig,ax=plt.subplots(ncols=1,nrows=1,sharey=True)\n",
    "ax=[ax]\n",
    "cnts=cnts[np.bitwise_and(cnts['col']==col,cnts['row']==row)]\n",
    "fit=fit[np.bitwise_and(fit['col']==col,fit['row']==row)][0]\n",
    "cnt=np.zeros(len(inj))\n",
    "for c in cnts:\n",
    "    cnt[np.argwhere(inj==c[\"inj\"])[0][0]]=c['cnt']\n",
    "x,y=tjmonopix.analysis.utils.scurve_from_fit(th=inj,n=500,\n",
    "        reverse=False,A_fit=fit[\"A\"],mu_fit=fit[\"mu\"],sigma_fit=fit['sigma'])\n",
    "ax[0].plot(inj,cnt,\"o\")\n",
    "ax[0].plot(x,y,\"-\")\n",
    "ax2=ax[0].twiny()\n",
    "ax[0].set_xbound(np.min(inj),np.max(inj))\n",
    "ax2.set_xbound(np.min(inj)*DUtoe,np.max(inj)*DUtoe)\n",
    "ax[0].set_xlabel(\"Injection [DU]\")\n",
    "ax2.set_xlabel(\"Signal [e]\")\n",
    "print \"fit mu=%.3e(%.4fDU)\"%(fit[\"mu\"]*DUtoe,fit[\"mu\"]),\n",
    "print \"sigma=%.3e(%.4fDU)\"%(fit[\"sigma\"]*DUtoe,fit[\"sigma\"])"
   ]
  },
  {
   "cell_type": "code",
   "execution_count": 8,
   "metadata": {
    "scrolled": true
   },
   "outputs": [
    {
     "name": "stderr",
     "output_type": "stream",
     "text": [
      "2020-02-20 19:19:11,271 [INFO ] (MainThread) vl = 1.00862204724V\n",
      "2020-02-20 19:19:11,273 [INFO ] (MainThread) vh = 1.50468503937V\n",
      "2020-02-20 19:19:11,277 [INFO ] (MainThread) Initializing ThScan\n",
      "2020-02-20 19:19:11,542 [INFO ] (MainThread) Power status: {'VPC [V]': 1.2993515804695306, 'VDDA_DAC [mA]': 2.502471747485684, 'VDDP [V]': 1.8059798142570278, 'VDDP OC': False, 'VDDA [mA]': 26.848712635902228, 'VDDD [V]': 1.8035120323232323, 'VDDA_DAC OC': False, 'VDDD [mA]': 2.820288999038665e-08, 'VPCSWSF [V]': 0.5001542395802099, 'VDDP [mA]': 143.50269488026495, 'BiasSF [V]': 1.0717822946564886, 'VDDD OC': False, 'VPC [mA]': 0.3069986528761405, 'VPCSWSF [mA]': 0.015507700872600942, 'VDDA [V]': 1.8008612492492493, 'VDDA OC': False, 'VDDA_DAC [V]': 1.8045472377622378, 'BiasSF [mA]': 0.10059447096451782}\n",
      "2020-02-20 19:19:11,739 [INFO ] (MainThread) Temperature: 30.2 C\n",
      "2020-02-20 19:19:11,773 [INFO ] (MainThread) Creating ZMQ context\n",
      "2020-02-20 19:19:11,775 [INFO ] (MainThread) Creating socket connection to server tcp://127.0.0.1:5500\n",
      "2020-02-20 19:19:11,777 [INFO ] (MainThread) ScanBase.start:data_send.data_send_init connected\n",
      "2020-02-20 19:19:11,778 [INFO ] (MainThread) Resetting SRAM FIFO: size = 0\n",
      "2020-02-20 19:19:13,069 [INFO ] (MainThread) Set timestamp: src=inj\n",
      "2020-02-20 19:19:13,624 [INFO ] (MainThread) Starting FIFO readout\n",
      "2020-02-20 19:20:06,212 [INFO ] (MainThread) scan_param_id=0 dat=3741932: cols=[15]\n",
      "2020-02-20 19:20:06,716 [INFO ] (MainThread) Stopped FIFO readout\n",
      "2020-02-20 19:20:06,720 [INFO ] (MainThread) g=None, dat=238\n",
      "2020-02-20 19:20:06,722 [INFO ] (MainThread) Recived words: 3742170\n",
      "2020-02-20 19:20:06,723 [INFO ] (MainThread) Data queue size: 0\n",
      "2020-02-20 19:20:06,724 [INFO ] (MainThread) SRAM FIFO size: 0\n",
      "2020-02-20 19:20:06,726 [INFO ] (MainThread) Channel:                     TDC | DATA_RX | TLU | TIMESTAMP\n",
      "2020-02-20 19:20:06,727 [INFO ] (MainThread) Discard counter:             None |       0 |   0 |         0\n",
      "2020-02-20 19:20:06,992 [INFO ] (MainThread) Power status: {'VPC [V]': 1.2998506463536463, 'VDDA_DAC [mA]': 2.502471747485684, 'VDDP [V]': 1.8049802771084336, 'VDDP OC': False, 'VDDA [mA]': 26.848712635902228, 'VDDD [V]': 1.8025130343434344, 'VDDA_DAC OC': False, 'VDDD [mA]': 2.820288999038665e-08, 'VPCSWSF [V]': 0.5001542395802099, 'VDDP [mA]': 143.50269488026495, 'BiasSF [V]': 1.0717822946564886, 'VDDD OC': False, 'VPC [mA]': 0.3744983555180748, 'VPCSWSF [mA]': -0.06353151806140772, 'VDDA [V]': 1.8008612492492493, 'VDDA OC': False, 'VDDA_DAC [V]': 1.8045472377622378, 'BiasSF [mA]': 0.10059447096451782}\n",
      "2020-02-20 19:20:07,190 [INFO ] (MainThread) Temperature: 30.2 C\n",
      "2020-02-20 19:20:07,218 [INFO ] (MainThread) Closing socket connection\n"
     ]
    },
    {
     "name": "stdout",
     "output_type": "stream",
     "text": [
      "0 3742169 100.000% 0.037s 1247390hits 0errs\n",
      "data (inj_n 100,inj_loop 7840): INJ=784000 MONO=463390 MON=0\n",
      "0 1247390 100.000% 0.121s 463384hits 0errs\n",
      "delete_noninjected from 463384 to 462945 to 462945 99.905 percent\n",
      "delete_cetainvalue from 462945 to 462945 100.000 percent\n"
     ]
    },
    {
     "name": "stderr",
     "output_type": "stream",
     "text": [
      "/home/user/workspace/tjmonopix/tjmonopix_30/tjmonopix/analysis/utils.py:73: RuntimeWarning: invalid value encountered in sqrt\n",
      "  err=np.sqrt(np.diag(cov))\n"
     ]
    }
   ],
   "source": [
    "## Threshold scan 1col=~1.5min\n",
    "chip.set_inj_all(inj_n=100,inj_phase=0)\n",
    "reload(th_scan)\n",
    "scan=th_scan.ThScan(chip)\n",
    "scan.start(rowlist=np.arange(0,224,1), ## list of rows\n",
    "           collist=np.arange(col,col+1,1), ## list of columns change here (0,112,1) for full scan\n",
    "           n_mask_col=1,                   ## max number of columns to be injected\n",
    "           injlist=np.arange(0,35),        ## scan values of test pulse amplitude in DU\n",
    "           debug=4)                        \n",
    "scan.analyze(scan.output_filename)\n",
    "scan.stop()\n",
    "fraw=scan.output_filename+'.h5'\n",
    "fev=fraw[:-7]+'ev.h5'"
   ]
  },
  {
   "cell_type": "code",
   "execution_count": 9,
   "metadata": {},
   "outputs": [
    {
     "data": {
      "image/png": "[encoded data removed]",
      "text/plain": [
       "<Figure size 432x288 with 2 Axes>"
      ]
     },
     "metadata": {
      "needs_background": "light"
     },
     "output_type": "display_data"
    }
   ],
   "source": [
    "with tb.open_file(fev) as f:\n",
    "    fit=f.root.ScurveFit[:]\n",
    "fig,ax=plt.subplots(ncols=2,nrows=1,sharey=True)\n",
    "ax[0].hist(fit['mu']*DUtoe,bins=np.arange(0,30,0.5)*DUtoe,histtype=\"step\")\n",
    "ax[1].hist(fit['sigma']*DUtoe,bins=np.arange(0,3,0.05)*DUtoe,histtype=\"step\")\n",
    "ax[0].set_ylabel(\"# of pix\")\n",
    "ax[0].set_xlabel(\"Threshold [e]\")\n",
    "ax[1].set_xlabel(\"ENC [e]\");"
   ]
  },
  {
   "cell_type": "code",
   "execution_count": 10,
   "metadata": {},
   "outputs": [
    {
     "name": "stdout",
     "output_type": "stream",
     "text": [
      "fit mu=15.0000DU sigma=15.0000DU\n"
     ]
    },
    {
     "data": {
      "image/png": "[encoded data removed]",
      "text/plain": [
       "<Figure size 432x288 with 1 Axes>"
      ]
     },
     "metadata": {
      "needs_background": "light"
     },
     "output_type": "display_data"
    }
   ],
   "source": [
    "#### plot 1pixel s-curve\n",
    "with tb.open_file(fev) as f:\n",
    "    cnts=f.root.Cnts[:]\n",
    "    inj=f.root.ScurveFit.attrs.injlist\n",
    "    fit=f.root.ScurveFit[:]\n",
    "fig,ax=plt.subplots(ncols=1,nrows=1,sharey=True)\n",
    "ax=[ax]\n",
    "cnts=cnts[np.bitwise_and(cnts['col']==col,cnts['row']==row)]\n",
    "fit=fit[np.bitwise_and(fit['col']==col,fit['row']==row)][0]\n",
    "cnt=np.zeros(len(inj))\n",
    "for c in cnts:\n",
    "    cnt[np.argwhere(inj==c[\"inj\"])[0][0]]=c['cnt']\n",
    "x,y=tjmonopix.analysis.utils.scurve_from_fit(th=inj,n=500,\n",
    "        reverse=False,A_fit=fit['A'],mu_fit=fit['mu'],sigma_fit=fit['sigma'])\n",
    "ax[0].plot(inj*DUtoe,cnt,\"o\")\n",
    "ax[0].plot(x*DUtoe,y,\"-\")\n",
    "ax[0].set_xlabel(\"Signal [e]\")\n",
    "print \"fit mu=%.4fDU\"%fit[1],\"sigma=%.4fDU\"%fit[2]\n",
    "#print \"Threshold=%.3fe\"%(fit[1]*DUtoe),\"ENC=%.3fe\"%(fit[2]*DUtoe)"
   ]
  },
  {
   "cell_type": "markdown",
   "metadata": {},
   "source": [
    "# Source scan"
   ]
  },
  {
   "cell_type": "code",
   "execution_count": 11,
   "metadata": {},
   "outputs": [
    {
     "name": "stderr",
     "output_type": "stream",
     "text": [
      "2020-02-20 19:21:00,332 [INFO ] (MainThread) ibias = 45\n",
      "2020-02-20 19:21:00,333 [INFO ] (MainThread) ibias = 503.125nA\n",
      "2020-02-20 19:21:00,342 [INFO ] (MainThread) vreset = 1.05106299213V\n",
      "2020-02-20 19:21:00,344 [INFO ] (MainThread) icasn = 0\n",
      "2020-02-20 19:21:00,345 [INFO ] (MainThread) icasn = 4.375nA\n",
      "2020-02-20 19:21:00,347 [INFO ] (MainThread) ireset = 2 high leakage mode\n",
      "2020-02-20 19:21:00,349 [INFO ] (MainThread) ireset = 0.1025390625nA, high leakage mode\n",
      "2020-02-20 19:21:00,350 [INFO ] (MainThread) ithr = 5\n",
      "2020-02-20 19:21:00,352 [INFO ] (MainThread) ithr = 0.8203125nA\n",
      "2020-02-20 19:21:00,353 [INFO ] (MainThread) idb = 40\n",
      "2020-02-20 19:21:00,355 [INFO ] (MainThread) idb = 717.5nA\n",
      "2020-02-20 19:21:00,356 [INFO ] (MainThread) ibias = 15\n",
      "2020-02-20 19:21:00,358 [INFO ] (MainThread) ibias = 175.0nA\n"
     ]
    }
   ],
   "source": [
    "### load setting from confiuration file\n",
    "with open(\"/home/user/workspace/tjmonopix/tjmonopix_30/tjmonopix/scans/NgapW4R2-HV.yaml\") as f:\n",
    "    conf=yaml.safe_load(f)\n",
    "#chip=tjmonopix.tjmonopix.TJMonoPix(\n",
    "#    conf=conf['dut']['file'],\n",
    "#    no_power_reset=False)\n",
    "#chip.init()    \n",
    "    \n",
    "chip.default_conf()\n",
    "chip.switch_flavor(conf[\"dut\"]['flavor'])\n",
    "chip.enable_pixel(chip.fl_n,col=-1,row=-1,mask=conf['mask'])\n",
    "chip.reset_ibias()\n",
    "\n",
    "chip.set_vreset_dacunits(conf['dut']['vreset_dacunits'],1) #\n",
    "chip.set_icasn_dacunits(conf['dut']['icasn_dacunits'],1) \n",
    "chip.set_ireset_dacunits(conf['dut']['ireset_dacunits']['value'],conf['dut']['ireset_dacunits']['mode'],1)\n",
    "chip.set_ithr_dacunits(conf['dut']['ithr_dacunits'],1)\n",
    "chip.set_idb_dacunits(conf['dut']['idb_dacunits'],1)\n",
    "chip.set_ibias_dacunits(conf['dut']['ibias_dacunits'],1)\n",
    "chip.reset_ibias()"
   ]
  },
  {
   "cell_type": "code",
   "execution_count": 13,
   "metadata": {
    "scrolled": true
   },
   "outputs": [
    {
     "name": "stderr",
     "output_type": "stream",
     "text": [
      "2020-02-20 19:24:25,058 [INFO ] (MainThread) Initializing SourceScan\n",
      "2020-02-20 19:24:25,324 [INFO ] (MainThread) Power status: {'VPC [V]': 1.2998506463536463, 'VDDA_DAC [mA]': 2.502471747485684, 'VDDP [V]': 1.8049802771084336, 'VDDP OC': False, 'VDDA [mA]': 21.276338320050968, 'VDDD [V]': 1.8035120323232323, 'VDDA_DAC OC': False, 'VDDD [mA]': 2.820288999038665e-08, 'VPCSWSF [V]': 0.5001542395802099, 'VDDP [mA]': 143.50269488026495, 'BiasSF [V]': 1.0717822946564886, 'VDDD OC': False, 'VPC [mA]': 0.3359985251223048, 'VPCSWSF [mA]': 0.08204071427907658, 'VDDA [V]': 1.8018603093093095, 'VDDA OC': False, 'VDDA_DAC [V]': 1.8035484515484517, 'BiasSF [mA]': 0.10059447096451782}\n",
      "2020-02-20 19:24:25,522 [INFO ] (MainThread) Temperature: 30.3 C\n",
      "2020-02-20 19:24:25,548 [INFO ] (MainThread) Creating ZMQ context\n",
      "2020-02-20 19:24:25,550 [INFO ] (MainThread) Creating socket connection to server tcp://127.0.0.1:5500\n",
      "2020-02-20 19:24:25,551 [INFO ] (MainThread) ScanBase.start:data_send.data_send_init connected\n",
      "2020-02-20 19:24:25,553 [INFO ] (MainThread) Resetting SRAM FIFO: size = 24\n",
      "2020-02-20 19:24:26,297 [INFO ] (MainThread) Starting FIFO readout\n",
      "2020-02-20 19:24:26,494 [INFO ] (MainThread) time=0s dat=0 rate=0.000k/s temp=30.24C\n",
      "2020-02-20 19:24:27,696 [INFO ] (MainThread) time=1s dat=36 rate=0.029k/s temp=30.28C\n",
      "2020-02-20 19:24:28,898 [INFO ] (MainThread) time=2s dat=99 rate=0.051k/s temp=30.24C\n",
      "2020-02-20 19:24:30,097 [INFO ] (MainThread) time=4s dat=132 rate=0.027k/s temp=30.28C\n",
      "2020-02-20 19:24:31,295 [INFO ] (MainThread) time=5s dat=189 rate=0.046k/s temp=30.27C\n",
      "2020-02-20 19:24:32,499 [INFO ] (MainThread) time=6s dat=216 rate=0.022k/s temp=30.30C\n",
      "2020-02-20 19:24:33,699 [INFO ] (MainThread) time=7s dat=276 rate=0.049k/s temp=30.25C\n",
      "2020-02-20 19:24:34,897 [INFO ] (MainThread) time=8s dat=345 rate=0.056k/s temp=30.28C\n",
      "2020-02-20 19:24:36,096 [INFO ] (MainThread) time=10s dat=393 rate=0.039k/s temp=30.28C\n",
      "2020-02-20 19:24:37,295 [INFO ] (MainThread) time=11s dat=432 rate=0.032k/s temp=30.28C\n",
      "2020-02-20 19:24:38,496 [INFO ] (MainThread) time=12s dat=507 rate=0.061k/s temp=30.29C\n",
      "2020-02-20 19:24:39,695 [INFO ] (MainThread) time=13s dat=561 rate=0.044k/s temp=30.29C\n",
      "2020-02-20 19:24:40,895 [INFO ] (MainThread) time=14s dat=633 rate=0.059k/s temp=30.35C\n",
      "2020-02-20 19:24:42,094 [INFO ] (MainThread) time=16s dat=696 rate=0.051k/s temp=30.30C\n",
      "2020-02-20 19:24:43,292 [INFO ] (MainThread) time=17s dat=732 rate=0.029k/s temp=30.28C\n",
      "2020-02-20 19:24:44,492 [INFO ] (MainThread) time=18s dat=780 rate=0.039k/s temp=30.33C\n",
      "2020-02-20 19:24:45,690 [INFO ] (MainThread) time=19s dat=807 rate=0.022k/s temp=30.28C\n",
      "2020-02-20 19:24:46,889 [INFO ] (MainThread) time=20s dat=834 rate=0.022k/s temp=30.33C\n",
      "2020-02-20 19:24:48,088 [INFO ] (MainThread) time=22s dat=885 rate=0.042k/s temp=30.32C\n",
      "2020-02-20 19:24:49,290 [INFO ] (MainThread) time=23s dat=924 rate=0.032k/s temp=30.29C\n",
      "2020-02-20 19:24:50,490 [INFO ] (MainThread) time=24s dat=984 rate=0.049k/s temp=30.26C\n",
      "2020-02-20 19:24:51,688 [INFO ] (MainThread) time=25s dat=1056 rate=0.059k/s temp=30.34C\n",
      "2020-02-20 19:24:52,887 [INFO ] (MainThread) time=26s dat=1092 rate=0.029k/s temp=30.29C\n",
      "2020-02-20 19:24:54,086 [INFO ] (MainThread) time=28s dat=1122 rate=0.024k/s temp=30.30C\n",
      "2020-02-20 19:24:55,285 [INFO ] (MainThread) time=29s dat=1152 rate=0.024k/s temp=30.29C\n",
      "2020-02-20 19:24:56,485 [INFO ] (MainThread) time=30s dat=1206 rate=0.044k/s temp=30.30C\n",
      "2020-02-20 19:24:57,682 [INFO ] (MainThread) time=31s dat=1272 rate=0.054k/s temp=30.30C\n",
      "2020-02-20 19:25:57,937 [INFO ] (MainThread) time=91s dat=3456 rate=0.035k/s temp=30.38C\n",
      "2020-02-20 19:25:59,136 [INFO ] (MainThread) time=93s dat=3510 rate=0.044k/s temp=30.35C\n",
      "2020-02-20 19:26:00,337 [INFO ] (MainThread) time=94s dat=3546 rate=0.029k/s temp=30.39C\n",
      "2020-02-20 19:26:01,535 [INFO ] (MainThread) time=95s dat=3600 rate=0.044k/s temp=30.34C\n",
      "2020-02-20 19:26:02,733 [INFO ] (MainThread) time=96s dat=3645 rate=0.037k/s temp=30.35C\n",
      "2020-02-20 19:26:03,933 [INFO ] (MainThread) time=97s dat=3681 rate=0.029k/s temp=30.34C\n",
      "2020-02-20 19:26:05,131 [INFO ] (MainThread) time=99s dat=3747 rate=0.054k/s temp=30.36C\n",
      "2020-02-20 19:26:06,498 [WARNI] (MainThread) FIFO stopped due to timeout\n",
      "2020-02-20 19:26:06,535 [INFO ] (MainThread) Stopped FIFO readout\n",
      "2020-02-20 19:26:06,541 [INFO ] (MainThread) Recived words: 3813\n",
      "2020-02-20 19:26:06,542 [INFO ] (MainThread) Data queue size: 0\n",
      "2020-02-20 19:26:06,544 [INFO ] (MainThread) SRAM FIFO size: 48\n",
      "2020-02-20 19:26:06,546 [INFO ] (MainThread) Channel:                     TDC | DATA_RX | TLU | TIMESTAMP\n",
      "2020-02-20 19:26:06,547 [INFO ] (MainThread) Discard counter:             None |       0 |   0 |         0\n",
      "2020-02-20 19:26:06,816 [INFO ] (MainThread) Power status: {'VPC [V]': 1.2998506463536463, 'VDDA_DAC [mA]': 3.002966091804109, 'VDDP [V]': 1.8049802771084336, 'VDDP OC': False, 'VDDA [mA]': 21.276338320050968, 'VDDD [V]': 1.8035120323232323, 'VDDA_DAC OC': False, 'VDDD [mA]': 2.820288999038665e-08, 'VPCSWSF [V]': 0.5001542395802099, 'VDDP [mA]': 143.50269488026495, 'BiasSF [V]': 1.0717822946564886, 'VDDD OC': False, 'VPC [mA]': 0.004499985480804957, 'VPCSWSF [mA]': -0.10255087930731074, 'VDDA [V]': 1.8018603093093095, 'VDDA OC': False, 'VDDA_DAC [V]': 1.8045472377622378, 'BiasSF [mA]': 0.10059447096451782}\n",
      "2020-02-20 19:26:07,012 [INFO ] (MainThread) Temperature: 30.3 C\n",
      "2020-02-20 19:26:07,042 [INFO ] (MainThread) Closing socket connection\n"
     ]
    },
    {
     "name": "stdout",
     "output_type": "stream",
     "text": [
      "/home/user/workspace/tjmonopix/tjmonopix_30/examples/output_data/20200220_192425_source_scan.h5\n",
      "0 3812 100.000% 1.258s 1271hits\n"
     ]
    },
    {
     "data": {
      "image/png": "[encoded data removed]",
      "text/plain": [
       "<Figure size 432x288 with 2 Axes>"
      ]
     },
     "metadata": {
      "needs_background": "light"
     },
     "output_type": "display_data"
    }
   ],
   "source": [
    "## noise occupancy\n",
    "reload(source_scan)\n",
    "scan=source_scan.SourceScan(dut=chip)\n",
    "scan.start(scan_time=100,                                ## scan time in seconds\n",
    "           with_mon=False,with_rx1=False,with_tlu=False) ## do not change\n",
    "fhit=scan.analyze(scan.output_filename,event_build=\"none\",clusterize=False)\n",
    "scan.stop()\n",
    "\n",
    "with tb.open_file(fhit) as f:\n",
    "    hits=f.root.Hits[:]\n",
    "fig,ax=plt.subplots(ncols=2,nrows=1)\n",
    "hist=ax[0].hist2d(hits['col'],hits['row'],bins=[np.arange(0,112),np.arange(0,224)]);\n",
    "ax[1].hist(np.reshape(hist[0],[-1]),histtype=\"step\")\n",
    "ax[1].set_yscale(\"log\")\n",
    "ax[0].set_title(\"Hit map\");\n",
    "ax[1].set_ylabel(\"# of pixels\");\n",
    "fig.tight_layout()"
   ]
  },
  {
   "cell_type": "code",
   "execution_count": 6,
   "metadata": {},
   "outputs": [
    {
     "name": "stderr",
     "output_type": "stream",
     "text": [
      "2019-11-25 20:38:30,119 [INFO ] (MainThread) Initializing SourceScan\n",
      "2019-11-25 20:38:30,445 [INFO ] (MainThread) Power status: {'VPC [V]': 1.3007325834999997, 'VDDA_DAC [mA]': 2.0039990762671183, 'VDDP [V]': 1.7782266489468406, 'VDDP OC': False, 'VDDA [mA]': 13.265242527115744, 'VDDD [V]': 1.800444155, 'VDDA_DAC OC': False, 'VDDD [mA]': 0.5009997250796382, 'VPCSWSF [V]': 0.5005069754368446, 'VDDP [mA]': 86.86829602730414, 'BiasSF [V]': 1.0750223565789472, 'VDDD OC': False, 'VPC [mA]': -0.06600025145266833, 'VPCSWSF [mA]': -0.026130720011082603, 'VDDA [V]': 1.7945024418837676, 'VDDA OC': False, 'VDDA_DAC [V]': 1.7987217764350454, 'BiasSF [mA]': 0.10139230319999999}\n",
      "2019-11-25 20:38:30,643 [INFO ] (MainThread) Temperature: 32.3 C\n",
      "2019-11-25 20:38:30,669 [INFO ] (MainThread) Creating ZMQ context\n",
      "2019-11-25 20:38:30,671 [INFO ] (MainThread) Creating socket connection to server tcp://127.0.0.1:5500\n",
      "2019-11-25 20:38:30,673 [INFO ] (MainThread) ScanBase.start:data_send.data_send_init connected\n",
      "2019-11-25 20:38:30,674 [INFO ] (MainThread) Resetting SRAM FIFO: size = 121608\n",
      "2019-11-25 20:38:31,421 [INFO ] (MainThread) Starting FIFO readout\n",
      "2019-11-25 20:38:31,422 [WARNI] (MainThread) SRAM FIFO not empty when starting FIFO readout: size = 11680\n",
      "2019-11-25 20:38:31,425 [INFO ] (MainThread) *****SourceScan is running **** don't forget to start tlu ****\n",
      "2019-11-25 20:38:31,642 [INFO ] (MainThread) time=0s dat=3650 rate=2160.150k/s temp=32.23C\n",
      "2019-11-25 20:38:32,874 [INFO ] (MainThread) time=1s dat=207320 rate=163.194k/s temp=32.26C\n",
      "2019-11-25 20:38:34,095 [INFO ] (MainThread) time=2s dat=411720 rate=162.028k/s temp=32.25C\n",
      "2019-11-25 20:38:35,318 [INFO ] (MainThread) time=4s dat=616120 rate=163.601k/s temp=32.29C\n",
      "2019-11-25 20:38:36,536 [INFO ] (MainThread) time=5s dat=820155 rate=162.891k/s temp=32.26C\n",
      "2019-11-25 20:38:37,751 [INFO ] (MainThread) time=6s dat=1023460 rate=163.050k/s temp=32.26C\n",
      "2019-11-25 20:38:38,974 [INFO ] (MainThread) time=7s dat=1227495 rate=163.860k/s temp=32.23C\n",
      "2019-11-25 20:38:40,194 [INFO ] (MainThread) time=9s dat=1431530 rate=163.083k/s temp=32.25C\n",
      "2019-11-25 20:38:41,420 [INFO ] (MainThread) time=10s dat=1635565 rate=163.172k/s temp=32.23C\n",
      "2019-11-25 20:38:42,642 [INFO ] (MainThread) time=11s dat=1838870 rate=162.003k/s temp=32.24C\n",
      "2019-11-25 20:38:43,866 [INFO ] (MainThread) time=12s dat=2078675 rate=191.714k/s temp=32.21C\n",
      "2019-11-25 20:38:45,090 [INFO ] (MainThread) time=13s dat=2281980 rate=162.071k/s temp=32.27C\n",
      "2019-11-25 20:38:46,316 [INFO ] (MainThread) time=15s dat=2486380 rate=163.211k/s temp=32.25C\n",
      "2019-11-25 20:38:47,539 [INFO ] (MainThread) time=16s dat=2690415 rate=162.526k/s temp=32.26C\n",
      "2019-11-25 20:38:48,763 [INFO ] (MainThread) time=17s dat=2895180 rate=163.482k/s temp=32.26C\n",
      "2019-11-25 20:38:49,987 [INFO ] (MainThread) time=18s dat=3098120 rate=161.895k/s temp=32.22C\n",
      "2019-11-25 20:38:51,204 [INFO ] (MainThread) time=20s dat=3301790 rate=162.426k/s temp=32.20C\n",
      "2019-11-25 20:38:52,432 [INFO ] (MainThread) time=21s dat=3505095 rate=162.980k/s temp=32.23C\n",
      "2019-11-25 20:38:53,653 [INFO ] (MainThread) time=22s dat=3709130 rate=162.260k/s temp=32.21C\n",
      "2019-11-25 20:38:54,875 [INFO ] (MainThread) time=23s dat=3947110 rate=190.627k/s temp=32.26C\n",
      "2019-11-25 20:38:56,100 [INFO ] (MainThread) time=24s dat=4150050 rate=162.097k/s temp=32.21C\n",
      "2019-11-25 20:38:57,326 [INFO ] (MainThread) time=26s dat=4352990 rate=161.737k/s temp=32.24C\n",
      "2019-11-25 20:38:58,549 [INFO ] (MainThread) time=27s dat=4556660 rate=162.296k/s temp=32.26C\n",
      "2019-11-25 20:38:59,781 [INFO ] (MainThread) time=28s dat=4758870 rate=161.437k/s temp=32.26C\n",
      "2019-11-25 20:39:01,005 [INFO ] (MainThread) time=29s dat=4962540 rate=161.511k/s temp=32.22C\n",
      "2019-11-25 20:39:02,230 [INFO ] (MainThread) time=31s dat=5165845 rate=162.111k/s temp=32.26C\n",
      "2019-11-25 20:40:02,516 [INFO ] (MainThread) time=91s dat=15405190 rate=165.874k/s temp=32.22C\n",
      "2019-11-25 20:41:02,801 [INFO ] (MainThread) time=151s dat=25602925 rate=165.193k/s temp=32.20C\n",
      "2019-11-25 20:42:03,068 [INFO ] (MainThread) time=211s dat=35826575 rate=165.653k/s temp=32.18C\n",
      "2019-11-25 20:43:03,355 [INFO ] (MainThread) time=272s dat=46046210 rate=165.557k/s temp=32.26C\n",
      "2019-11-25 20:44:03,588 [INFO ] (MainThread) time=332s dat=56267305 rate=165.692k/s temp=32.20C\n",
      "2019-11-25 20:45:03,866 [INFO ] (MainThread) time=392s dat=66473800 rate=165.354k/s temp=32.24C\n",
      "2019-11-25 20:46:04,146 [INFO ] (MainThread) time=453s dat=76719350 rate=165.988k/s temp=32.23C\n",
      "2019-11-25 20:47:04,409 [INFO ] (MainThread) time=513s dat=86925845 rate=165.405k/s temp=32.25C\n",
      "2019-11-25 20:48:04,655 [INFO ] (MainThread) time=573s dat=97143290 rate=165.606k/s temp=32.28C\n",
      "2019-11-25 20:49:04,926 [INFO ] (MainThread) time=633s dat=107364385 rate=165.629k/s temp=32.22C\n",
      "2019-11-25 20:50:05,205 [INFO ] (MainThread) time=694s dat=117585115 rate=165.577k/s temp=32.26C\n",
      "2019-11-25 20:51:05,488 [INFO ] (MainThread) time=754s dat=127809495 rate=165.652k/s temp=32.24C\n",
      "2019-11-25 20:52:05,730 [INFO ] (MainThread) time=814s dat=138035700 rate=165.750k/s temp=32.28C\n",
      "2019-11-25 20:53:05,997 [INFO ] (MainThread) time=874s dat=148261175 rate=165.682k/s temp=32.23C\n",
      "2019-11-25 20:54:06,257 [INFO ] (MainThread) time=935s dat=158505995 rate=166.028k/s temp=32.25C\n",
      "2019-11-25 20:55:06,536 [INFO ] (MainThread) time=995s dat=168710300 rate=165.354k/s temp=32.24C\n",
      "2019-11-25 20:56:06,821 [INFO ] (MainThread) time=1055s dat=178916430 rate=165.313k/s temp=32.28C\n",
      "2019-11-25 20:57:07,103 [INFO ] (MainThread) time=1115s dat=189145920 rate=165.723k/s temp=32.26C\n",
      "2019-11-25 20:58:07,344 [INFO ] (MainThread) time=1176s dat=199360445 rate=165.568k/s temp=32.28C\n",
      "2019-11-25 20:59:07,610 [INFO ] (MainThread) time=1236s dat=209583365 rate=165.647k/s temp=32.24C\n",
      "2019-11-25 21:00:07,891 [INFO ] (MainThread) time=1296s dat=219827455 rate=165.963k/s temp=32.27C\n",
      "2019-11-25 21:01:08,153 [INFO ] (MainThread) time=1357s dat=230048915 rate=165.651k/s temp=32.22C\n",
      "2019-11-25 21:02:08,418 [INFO ] (MainThread) time=1417s dat=240261615 rate=165.502k/s temp=32.23C\n",
      "2019-11-25 21:03:08,709 [INFO ] (MainThread) time=1477s dat=250491470 rate=165.705k/s temp=32.33C\n",
      "2019-11-25 21:04:08,988 [INFO ] (MainThread) time=1537s dat=260688110 rate=165.160k/s temp=32.31C\n",
      "2019-11-25 21:05:09,261 [INFO ] (MainThread) time=1598s dat=270907015 rate=165.582k/s temp=32.30C\n",
      "2019-11-25 21:06:09,545 [INFO ] (MainThread) time=1658s dat=281153295 rate=165.984k/s temp=32.25C\n",
      "2019-11-25 21:07:09,822 [INFO ] (MainThread) time=1718s dat=291370010 rate=165.525k/s temp=32.24C\n",
      "2019-11-25 21:08:10,100 [INFO ] (MainThread) time=1778s dat=301580520 rate=165.428k/s temp=32.32C\n",
      "2019-11-25 21:09:10,376 [INFO ] (MainThread) time=1839s dat=311793950 rate=165.448k/s temp=32.26C\n",
      "2019-11-25 21:10:10,643 [INFO ] (MainThread) time=1899s dat=321998620 rate=165.374k/s temp=32.27C\n",
      "2019-11-25 21:11:10,910 [INFO ] (MainThread) time=1959s dat=332247820 rate=166.059k/s temp=32.26C\n",
      "2019-11-25 21:12:11,156 [INFO ] (MainThread) time=2020s dat=342466360 rate=165.643k/s temp=32.24C\n",
      "2019-11-25 21:13:11,412 [INFO ] (MainThread) time=2080s dat=352673220 rate=165.416k/s temp=32.29C\n",
      "2019-11-25 21:14:11,695 [INFO ] (MainThread) time=2140s dat=362897965 rate=165.660k/s temp=32.25C\n",
      "2019-11-25 21:15:11,984 [INFO ] (MainThread) time=2200s dat=373108110 rate=165.389k/s temp=32.30C\n",
      "2019-11-25 21:16:12,274 [INFO ] (MainThread) time=2261s dat=383313875 rate=165.314k/s temp=32.26C\n",
      "2019-11-25 21:17:12,553 [INFO ] (MainThread) time=2321s dat=393565265 rate=166.067k/s temp=32.27C\n",
      "2019-11-25 21:18:12,824 [INFO ] (MainThread) time=2381s dat=403775410 rate=165.405k/s temp=32.30C\n",
      "2019-11-25 21:19:13,106 [INFO ] (MainThread) time=2441s dat=413989570 rate=165.488k/s temp=32.26C\n",
      "2019-11-25 21:20:13,389 [INFO ] (MainThread) time=2502s dat=424204825 rate=165.485k/s temp=32.26C\n",
      "2019-11-25 21:21:13,658 [INFO ] (MainThread) time=2562s dat=434425920 rate=165.594k/s temp=32.32C\n",
      "2019-11-25 21:22:13,918 [INFO ] (MainThread) time=2622s dat=444632415 rate=165.415k/s temp=32.24C\n",
      "2019-11-25 21:23:14,201 [INFO ] (MainThread) time=2683s dat=454876140 rate=165.963k/s temp=32.26C\n",
      "2019-11-25 21:24:14,478 [INFO ] (MainThread) time=2743s dat=465078620 rate=165.280k/s temp=32.33C\n",
      "2019-11-25 21:25:14,736 [INFO ] (MainThread) time=2803s dat=475285480 rate=165.416k/s temp=32.29C\n"
     ]
    },
    {
     "name": "stderr",
     "output_type": "stream",
     "text": [
      "2019-11-25 21:26:15,019 [INFO ] (MainThread) time=2863s dat=485493435 rate=165.385k/s temp=32.33C\n",
      "2019-11-25 21:27:15,306 [INFO ] (MainThread) time=2924s dat=495695550 rate=165.260k/s temp=32.29C\n",
      "2019-11-25 21:28:15,586 [INFO ] (MainThread) time=2984s dat=505950225 rate=166.107k/s temp=32.32C\n",
      "2019-11-25 21:29:15,863 [INFO ] (MainThread) time=3044s dat=516148690 rate=165.230k/s temp=32.29C\n",
      "2019-11-25 21:30:16,137 [INFO ] (MainThread) time=3104s dat=526362485 rate=165.477k/s temp=32.31C\n",
      "2019-11-25 21:31:16,409 [INFO ] (MainThread) time=3165s dat=536590515 rate=165.754k/s temp=32.33C\n",
      "2019-11-25 21:32:16,668 [INFO ] (MainThread) time=3225s dat=546812340 rate=165.628k/s temp=32.33C\n",
      "2019-11-25 21:33:16,901 [INFO ] (MainThread) time=3285s dat=557020295 rate=165.504k/s temp=32.32C\n",
      "2019-11-25 21:34:17,183 [INFO ] (MainThread) time=3346s dat=567220950 rate=165.257k/s temp=32.32C\n",
      "2019-11-25 21:35:17,471 [INFO ] (MainThread) time=3406s dat=577476720 rate=166.139k/s temp=32.32C\n",
      "2019-11-25 21:36:17,760 [INFO ] (MainThread) time=3466s dat=587694895 rate=165.524k/s temp=32.29C\n",
      "2019-11-25 21:37:18,008 [INFO ] (MainThread) time=3526s dat=597919275 rate=165.703k/s temp=32.33C\n",
      "2019-11-25 21:38:18,283 [INFO ] (MainThread) time=3587s dat=608134165 rate=165.491k/s temp=32.31C\n",
      "2019-11-25 21:38:19,509 [INFO ] (MainThread) time=3588s dat=608337470 rate=162.701k/s temp=32.33C\n",
      "2019-11-25 21:38:20,732 [INFO ] (MainThread) time=3589s dat=608539680 rate=161.085k/s temp=32.31C\n",
      "2019-11-25 21:38:21,958 [INFO ] (MainThread) time=3590s dat=608742985 rate=162.495k/s temp=32.31C\n",
      "2019-11-25 21:38:23,184 [INFO ] (MainThread) time=3592s dat=608980235 rate=188.935k/s temp=32.34C\n",
      "2019-11-25 21:38:24,408 [INFO ] (MainThread) time=3593s dat=609182810 rate=161.311k/s temp=32.26C\n",
      "2019-11-25 21:38:25,629 [INFO ] (MainThread) time=3594s dat=609386480 rate=162.409k/s temp=32.32C\n",
      "2019-11-25 21:38:26,853 [INFO ] (MainThread) time=3595s dat=609591245 rate=163.907k/s temp=32.31C\n",
      "2019-11-25 21:38:28,078 [INFO ] (MainThread) time=3596s dat=609793090 rate=161.078k/s temp=32.36C\n",
      "2019-11-25 21:38:29,310 [INFO ] (MainThread) time=3598s dat=609997855 rate=163.065k/s temp=32.32C\n",
      "2019-11-25 21:38:30,533 [INFO ] (MainThread) time=3599s dat=610201525 rate=161.511k/s temp=32.34C\n",
      "2019-11-25 21:38:31,647 [WARNI] (MainThread) FIFO stopped due to timeout\n",
      "2019-11-25 21:38:31,670 [INFO ] (MainThread) Stopped FIFO readout\n",
      "2019-11-25 21:38:31,675 [INFO ] (MainThread) Recived words: 610438045\n",
      "2019-11-25 21:38:31,676 [INFO ] (MainThread) Data queue size: 0\n",
      "2019-11-25 21:38:31,678 [INFO ] (MainThread) SRAM FIFO size: 81412\n",
      "2019-11-25 21:38:31,679 [INFO ] (MainThread) Channel:                     TDC | DATA_RX | TLU | TIMESTAMP\n",
      "2019-11-25 21:38:31,681 [INFO ] (MainThread) Discard counter:             None |       0 |   0 |         0\n",
      "2019-11-25 21:38:31,957 [INFO ] (MainThread) Power status: {'VPC [V]': 1.3007325834999997, 'VDDA_DAC [mA]': 2.0039990762671183, 'VDDP [V]': 1.7782266489468406, 'VDDP OC': False, 'VDDA [mA]': 13.265242527115744, 'VDDD [V]': 1.800444155, 'VDDA_DAC OC': False, 'VDDD [mA]': 7.585704998729309e-08, 'VPCSWSF [V]': 0.5005069754368446, 'VDDP [mA]': 86.86829602730414, 'BiasSF [V]': 1.0750223565789472, 'VDDD OC': False, 'VPC [mA]': 0.23100093305149916, 'VPCSWSF [mA]': 0.006532694191033151, 'VDDA [V]': 1.795501731462926, 'VDDA OC': False, 'VDDA_DAC [V]': 1.7977220453172207, 'BiasSF [mA]': 0.10038269679999999}\n",
      "2019-11-25 21:38:32,158 [INFO ] (MainThread) Temperature: 32.4 C\n",
      "2019-11-25 21:38:32,187 [INFO ] (MainThread) Closing socket connection\n"
     ]
    },
    {
     "name": "stdout",
     "output_type": "stream",
     "text": [
      "/home/user/workspace/tjmonopix/tjmonopix_30/examples/output_data/20191125_203830_source_scan.h5\n",
      "('ERROR TJMONO', 0, 0, 331372084)\n",
      "\n",
      "('ERR TJMONO2', 1, 0, 536870979)\n",
      "\n",
      "0 99999999 16.382% 1.023s 33333332hits\n",
      "100000000 99999999 32.763% 3.642s 66666666hits\n",
      "200000000 99999999 49.145% 5.098s 99999999hits\n",
      "300000000 99999999 65.527% 6.636s 133333332hits\n",
      "400000000 99999999 81.908% 8.220s 166666666hits\n",
      "500000000 99999999 98.290% 9.804s 199999999hits\n",
      "600000000 10438044 100.000% 10.679s 203479347hits\n",
      "event_builder_token.build_h5() fin: /home/user/workspace/tjmonopix/tjmonopix_30/examples/output_data/20191125_203830_source_hit.h5\n",
      "event_builder.build_h5() # of data:total=203479347 TLU=0 TS1=0 TS2=0 TS3=0 TJ=203478845\n",
      "event_builder.build_h5() check timestamp: increase only True\n",
      "event_builder.build_h5() # of event=166740066\n"
     ]
    },
    {
     "name": "stderr",
     "output_type": "stream",
     "text": [
      "Exception in thread TcpReadoutThread:\n",
      "Traceback (most recent call last):\n",
      "  File \"/home/user/anaconda/envs/ngap/lib/python2.7/threading.py\", line 801, in __bootstrap_inner\n",
      "    self.run()\n",
      "  File \"/home/user/anaconda/envs/ngap/lib/python2.7/threading.py\", line 754, in run\n",
      "    self.__target(*self.__args, **self.__kwargs)\n",
      "  File \"/home/user/workspace/basil/basil_30/basil/TL/SiTcp.py\", line 406, in _tcp_readout\n",
      "    data = bytearray(self._sock_tcp.recv(1024 * 8))\n",
      "error: [Errno 104] Connection reset by peer\n",
      "\n"
     ]
    },
    {
     "ename": "ImportError",
     "evalue": "No module named event_builder2",
     "output_type": "error",
     "traceback": [
      "\u001b[0;31m---------------------------------------------------------------------------\u001b[0m",
      "\u001b[0;31mImportError\u001b[0m                               Traceback (most recent call last)",
      "\u001b[0;32m<ipython-input-6-1bcdd5001319>\u001b[0m in \u001b[0;36m<module>\u001b[0;34m()\u001b[0m\n\u001b[1;32m      4\u001b[0m scan.start(scan_time=3600,                                ## scan time in seconds\n\u001b[1;32m      5\u001b[0m            with_mon=False,with_rx1=False,with_tlu=False) ## do not change\n\u001b[0;32m----> 6\u001b[0;31m \u001b[0mfhit\u001b[0m\u001b[0;34m=\u001b[0m\u001b[0mscan\u001b[0m\u001b[0;34m.\u001b[0m\u001b[0manalyze\u001b[0m\u001b[0;34m(\u001b[0m\u001b[0mscan\u001b[0m\u001b[0;34m.\u001b[0m\u001b[0moutput_filename\u001b[0m\u001b[0;34m,\u001b[0m\u001b[0mevent_build\u001b[0m\u001b[0;34m=\u001b[0m\u001b[0;34m\"token\"\u001b[0m\u001b[0;34m,\u001b[0m\u001b[0mclusterize\u001b[0m\u001b[0;34m=\u001b[0m\u001b[0mTrue\u001b[0m\u001b[0;34m)\u001b[0m\u001b[0;34m\u001b[0m\u001b[0m\n\u001b[0m\u001b[1;32m      7\u001b[0m \u001b[0mscan\u001b[0m\u001b[0;34m.\u001b[0m\u001b[0mstop\u001b[0m\u001b[0;34m(\u001b[0m\u001b[0;34m)\u001b[0m\u001b[0;34m\u001b[0m\u001b[0m\n",
      "\u001b[0;32m/home/user/workspace/tjmonopix/tjmonopix_30/tjmonopix/scans/source_scan.py\u001b[0m in \u001b[0;36manalyze\u001b[0;34m(self, data_file, event_build, clusterize)\u001b[0m\n\u001b[1;32m     98\u001b[0m            \u001b[0mfev\u001b[0m\u001b[0;34m=\u001b[0m\u001b[0manalyzed_data_file\u001b[0m\u001b[0;34m\u001b[0m\u001b[0m\n\u001b[1;32m     99\u001b[0m            \u001b[0manalyzed_data_file\u001b[0m\u001b[0;34m=\u001b[0m\u001b[0mfraw\u001b[0m\u001b[0;34m[\u001b[0m\u001b[0;34m:\u001b[0m\u001b[0;34m-\u001b[0m\u001b[0;36m7\u001b[0m\u001b[0;34m]\u001b[0m\u001b[0;34m+\u001b[0m\u001b[0;34m\"cl.h5\"\u001b[0m\u001b[0;34m\u001b[0m\u001b[0m\n\u001b[0;32m--> 100\u001b[0;31m            \u001b[0;32mimport\u001b[0m \u001b[0mtjmonopix\u001b[0m\u001b[0;34m.\u001b[0m\u001b[0manalysis\u001b[0m\u001b[0;34m.\u001b[0m\u001b[0mevent_builder2\u001b[0m \u001b[0;32mas\u001b[0m \u001b[0mclusterizer\u001b[0m\u001b[0;34m\u001b[0m\u001b[0m\n\u001b[0m\u001b[1;32m    101\u001b[0m            \u001b[0mclusterizer\u001b[0m\u001b[0;34m.\u001b[0m\u001b[0mclusterize_h5\u001b[0m\u001b[0;34m(\u001b[0m\u001b[0mfev\u001b[0m\u001b[0;34m,\u001b[0m\u001b[0manalyzed_data_file\u001b[0m\u001b[0;34m,\u001b[0m\u001b[0mcol\u001b[0m\u001b[0;34m=\u001b[0m\u001b[0;36m3\u001b[0m\u001b[0;34m,\u001b[0m\u001b[0mrow\u001b[0m\u001b[0;34m=\u001b[0m\u001b[0;36m3\u001b[0m\u001b[0;34m,\u001b[0m\u001b[0mframe\u001b[0m\u001b[0;34m=\u001b[0m\u001b[0;36m3\u001b[0m\u001b[0;34m)\u001b[0m\u001b[0;34m\u001b[0m\u001b[0m\n\u001b[1;32m    102\u001b[0m \u001b[0;34m\u001b[0m\u001b[0m\n",
      "\u001b[0;31mImportError\u001b[0m: No module named event_builder2"
     ]
    },
    {
     "data": {
      "image/png": "[encoded data removed]",
      "text/plain": [
       "<Figure size 432x288 with 1 Axes>"
      ]
     },
     "metadata": {
      "needs_background": "light"
     },
     "output_type": "display_data"
    }
   ],
   "source": [
    "## Fe\n",
    "reload(source_scan)\n",
    "scan=source_scan.SourceScan(dut=chip)\n",
    "scan.start(scan_time=3600,                                ## scan time in seconds\n",
    "           with_mon=False,with_rx1=False,with_tlu=False) ## do not change\n",
    "fhit=scan.analyze(scan.output_filename,event_build=\"token\",clusterize=True)\n",
    "scan.stop()"
   ]
  },
  {
   "cell_type": "code",
   "execution_count": 7,
   "metadata": {},
   "outputs": [
    {
     "name": "stdout",
     "output_type": "stream",
     "text": [
      "/home/user/workspace/tjmonopix/tjmonopix_30/examples/output_data/20191125_203830_source_scan.h5\n",
      "('ERROR TJMONO', 0, 0, 331372084)\n",
      "\n",
      "('ERR TJMONO2', 1, 0, 536870979)\n",
      "\n",
      "0 99999999 16.382% 1.037s 33333332hits\n",
      "100000000 99999999 32.763% 2.645s 66666666hits\n",
      "200000000 99999999 49.145% 4.254s 99999999hits\n",
      "300000000 99999999 65.527% 6.362s 133333332hits\n",
      "400000000 99999999 81.908% 9.051s 166666666hits\n",
      "500000000 99999999 98.290% 11.726s 199999999hits\n",
      "600000000 10438044 100.000% 17.336s 203479347hits\n",
      "event_builder_token.build_h5() fin: /home/user/workspace/tjmonopix/tjmonopix_30/examples/output_data/20191125_203830_source_hit.h5\n",
      "event_builder.build_h5() # of data:total=203479347 TLU=0 TS1=0 TS2=0 TS3=0 TJ=203478845\n",
      "event_builder.build_h5() check timestamp: increase only True\n",
      "event_builder.build_h5() # of event=166740066\n"
     ]
    },
    {
     "ename": "ImportError",
     "evalue": "No module named event_builder2",
     "output_type": "error",
     "traceback": [
      "\u001b[0;31m---------------------------------------------------------------------------\u001b[0m",
      "\u001b[0;31mImportError\u001b[0m                               Traceback (most recent call last)",
      "\u001b[0;32m<ipython-input-7-8d5e739358a0>\u001b[0m in \u001b[0;36m<module>\u001b[0;34m()\u001b[0m\n\u001b[1;32m      1\u001b[0m \u001b[0mreload\u001b[0m\u001b[0;34m(\u001b[0m\u001b[0msource_scan\u001b[0m\u001b[0;34m)\u001b[0m\u001b[0;34m\u001b[0m\u001b[0m\n\u001b[0;32m----> 2\u001b[0;31m \u001b[0mfhit\u001b[0m\u001b[0;34m=\u001b[0m\u001b[0mscan\u001b[0m\u001b[0;34m.\u001b[0m\u001b[0manalyze\u001b[0m\u001b[0;34m(\u001b[0m\u001b[0mscan\u001b[0m\u001b[0;34m.\u001b[0m\u001b[0moutput_filename\u001b[0m\u001b[0;34m,\u001b[0m\u001b[0mevent_build\u001b[0m\u001b[0;34m=\u001b[0m\u001b[0;34m\"token\"\u001b[0m\u001b[0;34m,\u001b[0m\u001b[0mclusterize\u001b[0m\u001b[0;34m=\u001b[0m\u001b[0mTrue\u001b[0m\u001b[0;34m)\u001b[0m\u001b[0;34m\u001b[0m\u001b[0m\n\u001b[0m",
      "\u001b[0;32m/home/user/workspace/tjmonopix/tjmonopix_30/tjmonopix/scans/source_scan.py\u001b[0m in \u001b[0;36manalyze\u001b[0;34m(self, data_file, event_build, clusterize)\u001b[0m\n\u001b[1;32m     98\u001b[0m            \u001b[0mfev\u001b[0m\u001b[0;34m=\u001b[0m\u001b[0manalyzed_data_file\u001b[0m\u001b[0;34m\u001b[0m\u001b[0m\n\u001b[1;32m     99\u001b[0m            \u001b[0manalyzed_data_file\u001b[0m\u001b[0;34m=\u001b[0m\u001b[0mfraw\u001b[0m\u001b[0;34m[\u001b[0m\u001b[0;34m:\u001b[0m\u001b[0;34m-\u001b[0m\u001b[0;36m7\u001b[0m\u001b[0;34m]\u001b[0m\u001b[0;34m+\u001b[0m\u001b[0;34m\"cl.h5\"\u001b[0m\u001b[0;34m\u001b[0m\u001b[0m\n\u001b[0;32m--> 100\u001b[0;31m            \u001b[0;32mimport\u001b[0m \u001b[0mtjmonopix\u001b[0m\u001b[0;34m.\u001b[0m\u001b[0manalysis\u001b[0m\u001b[0;34m.\u001b[0m\u001b[0mclusterizer\u001b[0m \u001b[0;32mas\u001b[0m \u001b[0mclusterizer\u001b[0m\u001b[0;34m\u001b[0m\u001b[0m\n\u001b[0m\u001b[1;32m    101\u001b[0m            \u001b[0mclusterizer\u001b[0m\u001b[0;34m.\u001b[0m\u001b[0mclusterize_h5\u001b[0m\u001b[0;34m(\u001b[0m\u001b[0mfev\u001b[0m\u001b[0;34m,\u001b[0m\u001b[0manalyzed_data_file\u001b[0m\u001b[0;34m,\u001b[0m\u001b[0mcol\u001b[0m\u001b[0;34m=\u001b[0m\u001b[0;36m3\u001b[0m\u001b[0;34m,\u001b[0m\u001b[0mrow\u001b[0m\u001b[0;34m=\u001b[0m\u001b[0;36m3\u001b[0m\u001b[0;34m,\u001b[0m\u001b[0mframe\u001b[0m\u001b[0;34m=\u001b[0m\u001b[0;36m3\u001b[0m\u001b[0;34m)\u001b[0m\u001b[0;34m\u001b[0m\u001b[0m\n\u001b[1;32m    102\u001b[0m \u001b[0;34m\u001b[0m\u001b[0m\n",
      "\u001b[0;31mImportError\u001b[0m: No module named event_builder2"
     ]
    },
    {
     "data": {
      "image/png": "[encoded data removed]",
      "text/plain": [
       "<Figure size 432x288 with 1 Axes>"
      ]
     },
     "metadata": {
      "needs_background": "light"
     },
     "output_type": "display_data"
    }
   ],
   "source": [
    "reload(source_scan)\n",
    "fhit=scan.analyze(scan.output_filename,event_build=\"token\",clusterize=True)"
   ]
  },
  {
   "cell_type": "code",
   "execution_count": 31,
   "metadata": {},
   "outputs": [
    {
     "name": "stdout",
     "output_type": "stream",
     "text": [
      "event_builder_token.build_h5() fin: /home/user/workspace/tjmonopix/tjmonopix_30/examples/output_data/20191125_182803_source_hit.h5\n",
      "event_builder.build_h5() # of data:total=5736218 TLU=0 TS1=0 TS2=0 TS3=0 TJ=5736201\n",
      "event_builder.build_h5() check timestamp: increase only True\n",
      "event_builder.build_h5() # of event=4699519\n"
     ]
    },
    {
     "data": {
      "image/png": "[encoded data removed]",
      "text/plain": [
       "<Figure size 432x288 with 1 Axes>"
      ]
     },
     "metadata": {
      "needs_background": "light"
     },
     "output_type": "display_data"
    }
   ],
   "source": [
    "fraw=scan.output_filename+\".h5\"\n",
    "fhit=fraw[:-7]+\"hit.h5\"\n",
    "fev=fhit[:-6]+\"ev.h5\"\n",
    "fig,ax=plt.subplots(ncols=2,nrows=2)\n",
    "ax=np.reshape(ax,[-1])\n",
    "\n",
    "with tb.open_file(fhit) as f:\n",
    "    hits=f.root.Hits[:]\n",
    "\n",
    "hist=ax[0].hist2d(hits['col'],hits['row'],bins=[np.arange(0,112),np.arange(0,224)]);\n",
    "ax[1].hist(np.reshape(hist[0],[-1]),histtype=\"step\")\n",
    "ax[1].set_yscale(\"log\")\n",
    "ax[0].set_title(\"Hit map\");\n",
    "ax[1].set_ylabel(\"# of pixels\");\n",
    "fig.tight_layout()\n",
    "\n",
    "with tb.open_file(fev) as f:\n",
    "    hits=f.root.Hits[:]\n",
    "hist=ax[2].hist(hits[np.bitwise_and(hit['col']==col,hit['row']==row)]['tot']);\n"
   ]
  },
  {
   "cell_type": "code",
   "execution_count": 64,
   "metadata": {},
   "outputs": [],
   "source": [
    "import tjmonopix.analysis.clusterizer as clusterizer\n",
    "reload(clusterizer)\n",
    "fcl=fhit[:-6]+\"cl.h5\"\n",
    "clusterizer.clusterize_h5(fev,fcl)"
   ]
  },
  {
   "cell_type": "code",
   "execution_count": 62,
   "metadata": {},
   "outputs": [],
   "source": [
    "import pixel_clusterizer.clusterizer as clusterizer\n",
    "reload(clusterizer)\n",
    "frame_cluster_distance=3\n",
    "with tb.open_file(fev) as f:\n",
    "        hits=f.root.Hits[:]\n",
    "\n",
    "hits['col']=hits['col']+1\n",
    "hits['row']=hits['row']+1\n",
    "hits['tot']=hits['tot']+1\n",
    "\n",
    "hit_fields={'event_number': 'event_number',  \n",
    "                   'col': 'column',\n",
    "                   'row': 'row',\n",
    "                   'tot': 'charge',\n",
    "                   'frame': 'frame'}\n",
    "cl = clusterizer.HitClusterizer(hit_dtype=hits.dtype,\n",
    "                                hit_fields=hit_fields,\n",
    "                                column_cluster_distance=2,\n",
    "                                row_cluster_distance=2,\n",
    "                                frame_cluster_distance=3)\n",
    "# Main functions\n",
    "cluster_hits, clusters = cl.cluster_hits(hits)  # cluster hits\n",
    "with tb.open_file(fcl, \"w\") as f:\n",
    "        cluster_hits_table=f.create_table(f.root,name=\"Hits\",description=cluster_hits.dtype, title=\"Hits\")\n",
    "        cluster_hits_table.append(cluster_hits)\n",
    "        cluster_hits_table.flush()\n",
    "        \n",
    "        clusters_table=f.create_table(f.root,name=\"Clusters\",description=clusters.dtype, title=\"Clusters\")\n",
    "        clusters_table.append(cluster_hits)\n",
    "        clusters_table.flush()"
   ]
  },
  {
   "cell_type": "code",
   "execution_count": 8,
   "metadata": {},
   "outputs": [
    {
     "ename": "NameError",
     "evalue": "name 'fev' is not defined",
     "output_type": "error",
     "traceback": [
      "\u001b[0;31m---------------------------------------------------------------------------\u001b[0m",
      "\u001b[0;31mNameError\u001b[0m                                 Traceback (most recent call last)",
      "\u001b[0;32m<ipython-input-8-6cabf70f417c>\u001b[0m in \u001b[0;36m<module>\u001b[0;34m()\u001b[0m\n\u001b[0;32m----> 1\u001b[0;31m \u001b[0mfev\u001b[0m\u001b[0;34m\u001b[0m\u001b[0m\n\u001b[0m",
      "\u001b[0;31mNameError\u001b[0m: name 'fev' is not defined"
     ]
    }
   ],
   "source": []
  },
  {
   "cell_type": "code",
   "execution_count": null,
   "metadata": {},
   "outputs": [],
   "source": []
  }
 ],
 "metadata": {
  "kernelspec": {
   "display_name": "Python 2",
   "language": "python",
   "name": "python2"
  },
  "language_info": {
   "codemirror_mode": {
    "name": "ipython",
    "version": 2
   },
   "file_extension": ".py",
   "mimetype": "text/x-python",
   "name": "python",
   "nbconvert_exporter": "python",
   "pygments_lexer": "ipython2",
   "version": "2.7.16"
  }
 },
 "nbformat": 4,
 "nbformat_minor": 2
}
