{
 "cells": [
  {
   "cell_type": "code",
   "execution_count": 1,
   "metadata": {},
   "outputs": [
    {
     "name": "stderr",
     "output_type": "stream",
     "text": [
      "2019-11-25 20:30:58,698 [INFO ] (MainThread) GPAC: skipping power reset\n",
      "2019-11-25 20:31:00,116 [INFO ] (MainThread) Found adapter card: General Purpose Analog Card (GPAC) with ID 8\n",
      "2019-11-25 20:31:00,195 [INFO ] (MainThread) Found board 0 running firmware version 0.0\n",
      "2019-11-25 20:31:00,286 [INFO ] (MainThread) ibias = 45\n",
      "2019-11-25 20:31:00,287 [INFO ] (MainThread) ibias = 503.125nA\n",
      "2019-11-25 20:31:00,565 [INFO ] (MainThread) {'VPC [V]': 1.3002327889999996, 'VDDA_DAC [mA]': 2.0039990762671183, 'VDDP [V]': 1.7782266489468406, 'VDDP OC': False, 'VDDA [mA]': 27.550888239108147, 'VDDD [V]': 1.8014440960000002, 'VDDA_DAC OC': False, 'VDDD [mA]': 0.5009997250796382, 'VPCSWSF [V]': 0.5005069754368446, 'VDDP [mA]': 77.77742784697587, 'BiasSF [V]': 1.0745223724473683, 'VDDD OC': False, 'VPC [mA]': -0.12050046881117717, 'VPCSWSF [mA]': -0.041206141950520636, 'VDDA [V]': 1.7855088356713427, 'VDDA OC': False, 'VDDA_DAC [V]': 1.7977220453172207, 'BiasSF [mA]': 0.10088749999999999}\n"
     ]
    }
   ],
   "source": [
    "import sys,os,time\n",
    "\n",
    "import tables as tb\n",
    "import yaml\n",
    "import numpy as np\n",
    "import matplotlib.pyplot as plt\n",
    "import tjmonopix.tjmonopix\n",
    "import tjmonopix.scans.th_scan as th_scan\n",
    "import tjmonopix.scans.source_scan as source_scan\n",
    "\n",
    "#### how to power\n",
    "# PWELL/PSUB 0V/200uA, HV0V/100uA \n",
    "# PWELL/PSUB -6V/200uA --> MIO3 6V, GAPC 5V --> run this cell\n",
    "# HV 1.8V/100uA --> PWELL/PSUB 0V/200uA --> HV 20V\n",
    "\n",
    "DUtoe=33.\n",
    "chip=tjmonopix.tjmonopix.TJMonoPix(\n",
    "    conf=\"/home/user/workspace/tjmonopix/tjmonopix_30/tjmonopix/tjmonopix_mio3.yaml\",\n",
    "    no_power_reset=True)\n",
    "chip.init(\"EN_HV\")"
   ]
  },
  {
   "cell_type": "code",
   "execution_count": 7,
   "metadata": {},
   "outputs": [
    {
     "name": "stderr",
     "output_type": "stream",
     "text": [
      "2019-11-25 12:13:18,927 [INFO ] (MainThread) ibias = 45\n",
      "2019-11-25 12:13:18,929 [INFO ] (MainThread) ibias = 503.125nA\n"
     ]
    }
   ],
   "source": [
    "# reset configuration\n",
    "chip.default_conf()\n",
    "chip.reset_ibias()"
   ]
  },
  {
   "cell_type": "code",
   "execution_count": 2,
   "metadata": {
    "scrolled": true
   },
   "outputs": [
    {
     "name": "stderr",
     "output_type": "stream",
     "text": [
      "2019-11-25 20:31:09,107 [INFO ] (MainThread) vreset = 1.05106299213V\n",
      "2019-11-25 20:31:09,109 [INFO ] (MainThread) icasn = 0\n",
      "2019-11-25 20:31:09,110 [INFO ] (MainThread) icasn = 4.375nA\n",
      "2019-11-25 20:31:09,112 [INFO ] (MainThread) ireset = 2 high leakage mode\n",
      "2019-11-25 20:31:09,114 [INFO ] (MainThread) ireset = 0.1025390625nA, high leakage mode\n",
      "2019-11-25 20:31:09,115 [INFO ] (MainThread) ithr = 10\n",
      "2019-11-25 20:31:09,117 [INFO ] (MainThread) ithr = 1.50390625nA\n",
      "2019-11-25 20:31:09,118 [INFO ] (MainThread) idb = 40\n",
      "2019-11-25 20:31:09,120 [INFO ] (MainThread) idb = 717.5nA\n",
      "2019-11-25 20:31:09,121 [INFO ] (MainThread) ibias = 20\n",
      "2019-11-25 20:31:09,123 [INFO ] (MainThread) ibias = 229.6875nA\n"
     ]
    }
   ],
   "source": [
    "####### CONFIGURE THE FRONT END ######\n",
    "# INPUT baseline\n",
    "chip.reset_ibias()\n",
    "chip.set_vreset_dacunits(35,1) #1V\n",
    "# OUTPUT BASELINE\n",
    "chip.set_icasn_dacunits(0,1) #4.375nA # approx 1.084V at -3V backbias, 600mV at 0V backbias\n",
    "chip.set_vcasn_dac_dacunits(40)\n",
    "# INOUT RESET rate\n",
    "chip.set_ireset_dacunits(2,1,1) #270pA, HIGH LEAKAGE MODE, NORMAL SCALING, 0 = LOW LEAKAGE MODE, SCALING*0.01\n",
    "# OUTPUT RESET rate\n",
    "chip.set_ithr_dacunits(10,1)  #680pA\n",
    "# BIASING OF THE DISCRIMINATOR (AND THE THRESHOLD)\n",
    "chip.set_idb_dacunits(40,1)  #500nA\n",
    "# DC current of Amp, OUTPUT RISE TIME\n",
    "chip.set_ibias_dacunits(20,1) #500nA\n",
    "chip.write_conf()"
   ]
  },
  {
   "cell_type": "code",
   "execution_count": 9,
   "metadata": {},
   "outputs": [
    {
     "name": "stderr",
     "output_type": "stream",
     "text": [
      "2019-11-25 12:13:27,796 [INFO ] (MainThread) vl = 1.00862204724V\n",
      "2019-11-25 12:13:27,798 [INFO ] (MainThread) vh = 1.50468503937V\n"
     ]
    }
   ],
   "source": [
    "#### (optional) check analog output\n",
    "chip.enable_analog(col=\"all\")\n",
    "chip.set_inj_all(inj_n=0)  ## run this cell with inj_n=1 to stop injection\n",
    "chip.inject()"
   ]
  },
  {
   "cell_type": "code",
   "execution_count": 3,
   "metadata": {
    "scrolled": true
   },
   "outputs": [
    {
     "name": "stderr",
     "output_type": "stream",
     "text": [
      "2019-11-25 20:31:13,323 [INFO ] (MainThread) auto_mask th=2 step=10 exp=0.200000 fl=EN_HV\n",
      "2019-11-25 20:31:14,659 [INFO ] (MainThread) Enable MASKH 10 Noise data 974\n",
      "2019-11-25 20:31:14,660 [ERROR] (MainThread) Too many noisy pixels, try smaller step.\n"
     ]
    },
    {
     "data": {
      "image/png": "[encoded data removed]",
      "text/plain": [
       "<Figure size 432x288 with 1 Axes>"
      ]
     },
     "metadata": {
      "needs_background": "light"
     },
     "output_type": "display_data"
    }
   ],
   "source": [
    "#### enable pixels and mask noisy pixels\n",
    "chip.set_monoread()\n",
    "noisy=chip.auto_mask()\n",
    "\n",
    "mask=chip.get_pixel_status(mask=None,mode=\"all\")\n",
    "plt.imshow(chip.get_pixel_status(mask=mask,mode=\"preamp\")[3,:,:],\n",
    "           interpolation=\"none\",origin=\"bottomleft\")\n",
    "plt.title(\"Enabled pixel = yellow\");"
   ]
  },
  {
   "cell_type": "code",
   "execution_count": 8,
   "metadata": {},
   "outputs": [
    {
     "name": "stdout",
     "output_type": "stream",
     "text": [
      "preamp of [15,15]: True\n",
      "inj of [15,15]: True\n",
      "hitor of [15,15]: False\n"
     ]
    }
   ],
   "source": [
    "### select one pixel\n",
    "col=15\n",
    "row=15\n",
    "chip.enable_injection(chip.fl_n, col, row)\n",
    "#chip.enable_pixel(chip.fl_n,col,row) \n",
    "#chip.enable_hitor(chip.fl_n,col,row)\n",
    "mask=chip.get_pixel_status(mask=None,mode=\"all\")\n",
    "print \"preamp of [%d,%d]:\"%(col,row),chip.get_pixel_status(mask=mask,mode=\"preamp\")[chip.fl_n, col, row]\n",
    "print \"inj of [%d,%d]:\"%(col,row),chip.get_pixel_status(mask=mask,mode=\"inj\")[chip.fl_n, col, row]\n",
    "print \"hitor of [%d,%d]:\"%(col,row),chip.get_pixel_status(mask=mask,mode=\"mon\")[chip.fl_n, col, row]"
   ]
  },
  {
   "cell_type": "code",
   "execution_count": 9,
   "metadata": {},
   "outputs": [
    {
     "name": "stderr",
     "output_type": "stream",
     "text": [
      "2019-11-25 12:19:30,216 [INFO ] (MainThread) vl = 1.00862204724V\n",
      "2019-11-25 12:19:30,217 [INFO ] (MainThread) vh = 1.50468503937V\n"
     ]
    },
    {
     "name": "stdout",
     "output_type": "stream",
     "text": [
      "n of data 1018\n",
      "(15, 15) 1000\n",
      "(66, 73) 2\n",
      "(61, 150) 2\n",
      "(47, 76) 2\n",
      "(42, 37) 2\n",
      "(110, 187) 1\n",
      "(96, 20) 1\n",
      "(80, 167) 1\n",
      "(63, 179) 1\n",
      "(60, 190) 1\n",
      "(56, 157) 1\n",
      "(45, 109) 1\n",
      "(20, 168) 1\n",
      "(17, 100) 1\n",
      "(4, 185) 1\n"
     ]
    }
   ],
   "source": [
    "### (optional) inject 1 pixel. it is good idea to run this once/twice.\n",
    "chip.set_inj_all(inj_n=1000,inj_phase=0)\n",
    "#chip.reset_ibias()\n",
    "chip.set_monoread()\n",
    "chip.inject()\n",
    "time.sleep(1)\n",
    "dat=chip.interpret_data(chip['fifo'].get_data())\n",
    "print \"n of data\", len(dat)\n",
    "if len(dat)!=0:\n",
    "    uni,cnt=np.unique(dat[[\"col\",'row']], return_counts=True)\n",
    "    arg=np.argsort(cnt)\n",
    "    for a in arg[::-1]:\n",
    "        print uni[a],cnt[a]"
   ]
  },
  {
   "cell_type": "code",
   "execution_count": 12,
   "metadata": {},
   "outputs": [
    {
     "name": "stderr",
     "output_type": "stream",
     "text": [
      "2019-11-22 13:35:23,990 [INFO ] (MainThread) vl = 1.00862204724V\n",
      "2019-11-22 13:35:23,991 [INFO ] (MainThread) vh = 1.50468503937V\n",
      "2019-11-22 13:35:23,995 [INFO ] (MainThread) Initializing ThScan\n",
      "2019-11-22 13:35:24,262 [INFO ] (MainThread) Power status: {'VPC [V]': 1.3002327889999996, 'VDDA_DAC [mA]': 2.0039990762671183, 'VDDP [V]': 1.7772265476429288, 'VDDP OC': False, 'VDDA [mA]': 13.265242527115744, 'VDDD [V]': 1.800444155, 'VDDA_DAC OC': False, 'VDDD [mA]': 7.585704998729309e-08, 'VPCSWSF [V]': 0.5000079, 'VDDP [mA]': 87.3733442595446, 'BiasSF [V]': 1.0730224200526315, 'VDDD OC': False, 'VPC [mA]': 0.07150029692889069, 'VPCSWSF [mA]': -0.09899525938503313, 'VDDA [V]': 1.7945024418837676, 'VDDA OC': False, 'VDDA_DAC [V]': 1.7977220453172207, 'BiasSF [mA]': 0.10088749999999999}\n",
      "2019-11-22 13:35:29,657 [INFO ] (MainThread) Temperature: 31.3 C\n",
      "2019-11-22 13:35:29,686 [INFO ] (MainThread) Creating ZMQ context\n",
      "2019-11-22 13:35:29,688 [INFO ] (MainThread) Creating socket connection to server tcp://127.0.0.1:5500\n",
      "2019-11-22 13:35:29,690 [INFO ] (MainThread) ScanBase.start:data_send.data_send_init connected\n",
      "2019-11-22 13:35:29,691 [INFO ] (MainThread) Resetting SRAM FIFO: size = 1164\n",
      "2019-11-22 13:35:29,893 [WARNI] (MainThread) SRAM FIFO not empty after reset: size = 36\n",
      "2019-11-22 13:35:30,130 [INFO ] (MainThread) Set timestamp: src=inj\n",
      "2019-11-22 13:35:30,684 [INFO ] (MainThread) Starting FIFO readout\n",
      "2019-11-22 13:35:32,261 [INFO ] (MainThread) Stopped FIFO readout\n",
      "2019-11-22 13:35:32,265 [INFO ] (MainThread) g=None, dat=168768\n",
      "2019-11-22 13:35:32,267 [INFO ] (MainThread) Recived words: 168768\n",
      "2019-11-22 13:35:32,269 [INFO ] (MainThread) Data queue size: 0\n",
      "2019-11-22 13:35:32,270 [INFO ] (MainThread) SRAM FIFO size: 0\n",
      "2019-11-22 13:35:32,272 [INFO ] (MainThread) Channel:                     TDC | DATA_RX | TLU | TIMESTAMP\n",
      "2019-11-22 13:35:32,273 [INFO ] (MainThread) Discard counter:             None |       0 |   0 |         0\n",
      "2019-11-22 13:35:32,535 [INFO ] (MainThread) Power status: {'VPC [V]': 1.3002327889999996, 'VDDA_DAC [mA]': 2.0039990762671183, 'VDDP [V]': 1.7772265476429288, 'VDDP OC': False, 'VDDA [mA]': 13.265242527115744, 'VDDD [V]': 1.800444155, 'VDDA_DAC OC': False, 'VDDD [mA]': 0.5009997250796382, 'VPCSWSF [V]': 0.5005069754368446, 'VDDP [mA]': 87.3733442595446, 'BiasSF [V]': 1.0730224200526315, 'VDDD OC': False, 'VPC [mA]': -0.014500046058848042, 'VPCSWSF [mA]': -0.1743723690822233, 'VDDA [V]': 1.7945024418837676, 'VDDA OC': False, 'VDDA_DAC [V]': 1.7977220453172207, 'BiasSF [mA]': 0.10088749999999999}\n",
      "2019-11-22 13:35:32,731 [INFO ] (MainThread) Temperature: 31.3 C\n",
      "2019-11-22 13:35:32,758 [INFO ] (MainThread) Closing socket connection\n"
     ]
    },
    {
     "name": "stdout",
     "output_type": "stream",
     "text": [
      "0 168767 100.000% 2.203s 56256hits 0errs\n",
      "data (inj_n 1000,inj_loop 35): INJ=35000 MONO=21256 MON=0\n"
     ]
    },
    {
     "name": "stderr",
     "output_type": "stream",
     "text": [
      "/home/user/anaconda/envs/ngap/lib/python2.7/site-packages/numba/dataflow.py:390: RuntimeWarning: Python2 style print partially supported.  Please use Python3 style print.\n",
      "  \"Python3 style print.\", RuntimeWarning)\n",
      "/home/user/anaconda/envs/ngap/lib/python2.7/site-packages/numba/ir_utils.py:1959: NumbaPendingDeprecationWarning: \n",
      "Encountered the use of a type that is scheduled for deprecation: type 'reflected list' found for argument 'injlist' of function '_build_inj'.\n",
      "\n",
      "For more information visit http://numba.pydata.org/numba-doc/latest/reference/deprecation.html#deprecation-of-reflection-for-list-and-set-types\n",
      "\n",
      "File \"../tjmonopix/analysis/event_builder_inj.py\", line 24:\n",
      "@njit\n",
      "def _build_inj(dat, injlist, thlist, phaselist, rowlist, inj_period, inj_n, mode, buf, scan_param_id, pre_inj, inj_id, inj_cnt):\n",
      "^\n",
      "\n",
      "  warnings.warn(NumbaPendingDeprecationWarning(msg, loc=loc))\n",
      "/home/user/anaconda/envs/ngap/lib/python2.7/site-packages/numba/ir_utils.py:1959: NumbaPendingDeprecationWarning: \n",
      "Encountered the use of a type that is scheduled for deprecation: type 'reflected list' found for argument 'phaselist' of function '_build_inj'.\n",
      "\n",
      "For more information visit http://numba.pydata.org/numba-doc/latest/reference/deprecation.html#deprecation-of-reflection-for-list-and-set-types\n",
      "\n",
      "File \"../tjmonopix/analysis/event_builder_inj.py\", line 24:\n",
      "@njit\n",
      "def _build_inj(dat, injlist, thlist, phaselist, rowlist, inj_period, inj_n, mode, buf, scan_param_id, pre_inj, inj_id, inj_cnt):\n",
      "^\n",
      "\n",
      "  warnings.warn(NumbaPendingDeprecationWarning(msg, loc=loc))\n",
      "/home/user/anaconda/envs/ngap/lib/python2.7/site-packages/numba/ir_utils.py:1959: NumbaPendingDeprecationWarning: \n",
      "Encountered the use of a type that is scheduled for deprecation: type 'reflected list' found for argument 'thlist' of function '_build_inj'.\n",
      "\n",
      "For more information visit http://numba.pydata.org/numba-doc/latest/reference/deprecation.html#deprecation-of-reflection-for-list-and-set-types\n",
      "\n",
      "File \"../tjmonopix/analysis/event_builder_inj.py\", line 24:\n",
      "@njit\n",
      "def _build_inj(dat, injlist, thlist, phaselist, rowlist, inj_period, inj_n, mode, buf, scan_param_id, pre_inj, inj_id, inj_cnt):\n",
      "^\n",
      "\n",
      "  warnings.warn(NumbaPendingDeprecationWarning(msg, loc=loc))\n",
      "/home/user/anaconda/envs/ngap/lib/python2.7/site-packages/numba/ir_utils.py:1959: NumbaPendingDeprecationWarning: \n",
      "Encountered the use of a type that is scheduled for deprecation: type 'reflected list' found for argument 'rowlist' of function '_build_inj'.\n",
      "\n",
      "For more information visit http://numba.pydata.org/numba-doc/latest/reference/deprecation.html#deprecation-of-reflection-for-list-and-set-types\n",
      "\n",
      "File \"../tjmonopix/analysis/event_builder_inj.py\", line 24:\n",
      "@njit\n",
      "def _build_inj(dat, injlist, thlist, phaselist, rowlist, inj_period, inj_n, mode, buf, scan_param_id, pre_inj, inj_id, inj_cnt):\n",
      "^\n",
      "\n",
      "  warnings.warn(NumbaPendingDeprecationWarning(msg, loc=loc))\n"
     ]
    },
    {
     "name": "stdout",
     "output_type": "stream",
     "text": [
      "0 56256 100.000% 0.840s 21254hits 0errs\n",
      "delete_noninjected from 21254 to 21237 to 21237 99.920 percent\n",
      "delete_cetainvalue from 21237 to 21237 100.000 percent\n",
      "fit mu=4.377e+02(13.2635DU) sigma=1.760e+01(0.5332DU)\n"
     ]
    },
    {
     "data": {
      "image/png": "[encoded data removed]",
      "text/plain": [
       "<Figure size 432x288 with 2 Axes>"
      ]
     },
     "metadata": {
      "needs_background": "light"
     },
     "output_type": "display_data"
    }
   ],
   "source": [
    "### S-curve\n",
    "chip.set_inj_all(inj_n=1000,inj_phase=0)\n",
    "reload(th_scan)\n",
    "scan=th_scan.ThScan(chip)\n",
    "scan.start(rowlist=np.arange(row,row+1,1), ## list of rows\n",
    "           collist=np.arange(col,col+1,1), ## list of columns\n",
    "           n_mask_col=1,                   ## maximum number of columns which are injected at once\n",
    "           injlist=np.arange(0,35)         ## scan values of test pulse amplitude in DU\n",
    "           )                               ## do not change\n",
    "scan.analyze(scan.output_filename)\n",
    "scan.stop()\n",
    "fraw=scan.output_filename+'.h5'\n",
    "fev=fraw[:-7]+'ev.h5'\n",
    "\n",
    "with tb.open_file(fev) as f:\n",
    "    cnts=f.root.Cnts[:]\n",
    "    inj=f.root.ScurveFit.attrs.injlist\n",
    "    fit=f.root.ScurveFit[:]\n",
    "fig,ax=plt.subplots(ncols=1,nrows=1,sharey=True)\n",
    "ax=[ax]\n",
    "cnts=cnts[np.bitwise_and(cnts['col']==col,cnts['row']==row)]\n",
    "fit=fit[np.bitwise_and(fit['col']==col,fit['row']==row)][0]\n",
    "cnt=np.zeros(len(inj))\n",
    "for c in cnts:\n",
    "    cnt[np.argwhere(inj==c[\"inj\"])[0][0]]=c['cnt']\n",
    "x,y=tjmonopix.analysis.utils.scurve_from_fit(th=inj,n=500,\n",
    "        reverse=False,A_fit=fit[\"A\"],mu_fit=fit[\"mu\"],sigma_fit=fit['sigma'])\n",
    "ax[0].plot(inj,cnt,\"o\")\n",
    "ax[0].plot(x,y,\"-\")\n",
    "ax2=ax[0].twiny()\n",
    "ax[0].set_xbound(np.min(inj),np.max(inj))\n",
    "ax2.set_xbound(np.min(inj)*DUtoe,np.max(inj)*DUtoe)\n",
    "ax[0].set_xlabel(\"Injection [DU]\")\n",
    "ax2.set_xlabel(\"Signal [e]\")\n",
    "print \"fit mu=%.3e(%.4fDU)\"%(fit[\"mu\"]*DUtoe,fit[\"mu\"]),\n",
    "print \"sigma=%.3e(%.4fDU)\"%(fit[\"sigma\"]*DUtoe,fit[\"sigma\"])"
   ]
  },
  {
   "cell_type": "code",
   "execution_count": 14,
   "metadata": {
    "scrolled": true
   },
   "outputs": [
    {
     "name": "stderr",
     "output_type": "stream",
     "text": [
      "2019-11-22 13:36:20,459 [INFO ] (MainThread) vl = 1.00862204724V\n",
      "2019-11-22 13:36:20,461 [INFO ] (MainThread) vh = 1.50468503937V\n",
      "2019-11-22 13:36:20,465 [INFO ] (MainThread) Initializing ThScan\n",
      "2019-11-22 13:36:20,730 [INFO ] (MainThread) Power status: {'VPC [V]': 1.3002327889999996, 'VDDA_DAC [mA]': 2.0039990762671183, 'VDDP [V]': 1.7782266489468406, 'VDDP OC': False, 'VDDA [mA]': 13.265242527115744, 'VDDD [V]': 1.800444155, 'VDDA_DAC OC': False, 'VDDD [mA]': 7.585704998729309e-08, 'VPCSWSF [V]': 0.5000079, 'VDDP [mA]': 86.86829602730414, 'BiasSF [V]': 1.0730224200526315, 'VDDD OC': False, 'VPC [mA]': -0.055000207582143606, 'VPCSWSF [mA]': 0.10251288053878867, 'VDDA [V]': 1.7945024418837676, 'VDDA OC': False, 'VDDA_DAC [V]': 1.7977220453172207, 'BiasSF [mA]': 0.10088749999999999}\n",
      "2019-11-22 13:36:20,933 [INFO ] (MainThread) Temperature: 31.2 C\n",
      "2019-11-22 13:36:20,966 [INFO ] (MainThread) Creating ZMQ context\n",
      "2019-11-22 13:36:20,967 [INFO ] (MainThread) Creating socket connection to server tcp://127.0.0.1:5500\n",
      "2019-11-22 13:36:20,969 [INFO ] (MainThread) ScanBase.start:data_send.data_send_init connected\n",
      "2019-11-22 13:36:20,971 [INFO ] (MainThread) Resetting SRAM FIFO: size = 0\n",
      "2019-11-22 13:36:22,265 [INFO ] (MainThread) Set timestamp: src=inj\n",
      "2019-11-22 13:36:22,820 [INFO ] (MainThread) Starting FIFO readout\n",
      "2019-11-22 13:37:14,584 [INFO ] (MainThread) scan_param_id=0 dat=3691067: cols=[15]\n",
      "2019-11-22 13:37:15,090 [INFO ] (MainThread) Stopped FIFO readout\n",
      "2019-11-22 13:37:15,094 [INFO ] (MainThread) g=None, dat=247\n",
      "2019-11-22 13:37:15,096 [INFO ] (MainThread) Recived words: 3691314\n",
      "2019-11-22 13:37:15,097 [INFO ] (MainThread) Data queue size: 0\n",
      "2019-11-22 13:37:15,099 [INFO ] (MainThread) SRAM FIFO size: 0\n",
      "2019-11-22 13:37:15,100 [INFO ] (MainThread) Channel:                     TDC | DATA_RX | TLU | TIMESTAMP\n",
      "2019-11-22 13:37:15,102 [INFO ] (MainThread) Discard counter:             None |       0 |   0 |         0\n",
      "2019-11-22 13:37:15,364 [INFO ] (MainThread) Power status: {'VPC [V]': 1.3002327889999996, 'VDDA_DAC [mA]': 2.0039990762671183, 'VDDP [V]': 1.7772265476429288, 'VDDP OC': False, 'VDDA [mA]': 13.265242527115744, 'VDDD [V]': 1.800444155, 'VDDA_DAC OC': False, 'VDDD [mA]': 0.5009997250796382, 'VPCSWSF [V]': 0.5005069754368446, 'VDDP [mA]': 87.3733442595446, 'BiasSF [V]': 1.0730224200526315, 'VDDD OC': False, 'VPC [mA]': 0.09100037469936634, 'VPCSWSF [mA]': -0.030653346592914014, 'VDDA [V]': 1.7945024418837676, 'VDDA OC': False, 'VDDA_DAC [V]': 1.7977220453172207, 'BiasSF [mA]': 0.10088749999999999}\n",
      "2019-11-22 13:37:15,560 [INFO ] (MainThread) Temperature: 31.3 C\n",
      "2019-11-22 13:37:15,588 [INFO ] (MainThread) Closing socket connection\n"
     ]
    },
    {
     "name": "stdout",
     "output_type": "stream",
     "text": [
      "0 3691313 100.000% 0.049s 1230438hits 0errs\n",
      "data (inj_n 100,inj_loop 7840): INJ=784000 MONO=446438 MON=0\n",
      "0 1230438 100.000% 0.133s 446427hits 0errs\n",
      "delete_noninjected from 446427 to 445906 to 445902 99.882 percent\n",
      "delete_cetainvalue from 445902 to 445902 100.000 percent\n"
     ]
    },
    {
     "name": "stderr",
     "output_type": "stream",
     "text": [
      "/home/user/workspace/tjmonopix/tjmonopix_30/tjmonopix/analysis/utils.py:73: RuntimeWarning: invalid value encountered in sqrt\n",
      "  err=np.sqrt(np.diag(cov))\n"
     ]
    }
   ],
   "source": [
    "## Threshold scan 1col=~1.5min\n",
    "chip.set_inj_all(inj_n=100,inj_phase=0)\n",
    "reload(th_scan)\n",
    "scan=th_scan.ThScan(chip)\n",
    "scan.start(rowlist=np.arange(0,224,1), ## list of rows\n",
    "           collist=np.arange(col,col+1,1), ## list of columns change here (0,112,1) for full scan\n",
    "           n_mask_col=1,                   ## max number of columns to be injected\n",
    "           injlist=np.arange(0,35),        ## scan values of test pulse amplitude in DU\n",
    "           debug=4)                        \n",
    "scan.analyze(scan.output_filename)\n",
    "scan.stop()\n",
    "fraw=scan.output_filename+'.h5'\n",
    "fev=fraw[:-7]+'ev.h5'"
   ]
  },
  {
   "cell_type": "code",
   "execution_count": 15,
   "metadata": {},
   "outputs": [
    {
     "data": {
      "image/png": "[encoded data removed]",
      "text/plain": [
       "<Figure size 432x288 with 2 Axes>"
      ]
     },
     "metadata": {
      "needs_background": "light"
     },
     "output_type": "display_data"
    }
   ],
   "source": [
    "with tb.open_file(fev) as f:\n",
    "    fit=f.root.ScurveFit[:]\n",
    "fig,ax=plt.subplots(ncols=2,nrows=1,sharey=True)\n",
    "ax[0].hist(fit['mu']*DUtoe,bins=np.arange(0,30,0.5)*DUtoe,histtype=\"step\")\n",
    "ax[1].hist(fit['sigma']*DUtoe,bins=np.arange(0,3,0.05)*DUtoe,histtype=\"step\")\n",
    "ax[0].set_ylabel(\"# of pix\")\n",
    "ax[0].set_xlabel(\"Threshold [e]\")\n",
    "ax[1].set_xlabel(\"ENC [e]\");"
   ]
  },
  {
   "cell_type": "code",
   "execution_count": null,
   "metadata": {},
   "outputs": [],
   "source": [
    "#### plot 1pixel s-curve\n",
    "with tb.open_file(fev) as f:\n",
    "    cnts=f.root.Cnts[:]\n",
    "    inj=f.root.ScurveFit.attrs.injlist\n",
    "    fit=f.root.ScurveFit[:]\n",
    "fig,ax=plt.subplots(ncols=1,nrows=1,sharey=True)\n",
    "ax=[ax]\n",
    "cnts=cnts[np.bitwise_and(cnts['col']==col,cnts['row']==row)]\n",
    "fit=fit[np.bitwise_and(fit['col']==col,fit['row']==row)][0]\n",
    "cnt=np.zeros(len(inj))\n",
    "for c in cnts:\n",
    "    cnt[np.argwhere(inj==c[\"inj\"])[0][0]]=c['cnt']\n",
    "x,y=tjmonopix.analysis.utils.scurve_from_fit(th=inj,n=500,\n",
    "        reverse=False,A_fit=fit['A'],mu_fit=fit['mu'],sigma_fit=fit['sigma'])\n",
    "ax[0].plot(inj*DUtoe,cnt,\"o\")\n",
    "ax[0].plot(x*DUtoe,y,\"-\")\n",
    "ax[0].set_xlabel(\"Signal [e]\")\n",
    "print \"fit mu=%.4fDU\"%fit[1],\"sigma=%.4fDU\"%fit[2]\n",
    "#print \"Threshold=%.3fe\"%(fit[1]*DUtoe),\"ENC=%.3fe\"%(fit[2]*DUtoe)"
   ]
  },
  {
   "cell_type": "markdown",
   "metadata": {},
   "source": [
    "# Source scan"
   ]
  },
  {
   "cell_type": "code",
   "execution_count": 4,
   "metadata": {},
   "outputs": [
    {
     "name": "stderr",
     "output_type": "stream",
     "text": [
      "2019-11-25 20:31:28,328 [INFO ] (MainThread) ibias = 45\n",
      "2019-11-25 20:31:28,329 [INFO ] (MainThread) ibias = 503.125nA\n",
      "2019-11-25 20:31:28,349 [INFO ] (MainThread) vreset = 1.05106299213V\n",
      "2019-11-25 20:31:28,356 [INFO ] (MainThread) icasn = 0\n",
      "2019-11-25 20:31:28,360 [INFO ] (MainThread) icasn = 4.375nA\n",
      "2019-11-25 20:31:28,362 [INFO ] (MainThread) ireset = 2 high leakage mode\n",
      "2019-11-25 20:31:28,363 [INFO ] (MainThread) ireset = 0.1025390625nA, high leakage mode\n",
      "2019-11-25 20:31:28,365 [INFO ] (MainThread) ithr = 5\n",
      "2019-11-25 20:31:28,366 [INFO ] (MainThread) ithr = 0.8203125nA\n",
      "2019-11-25 20:31:28,368 [INFO ] (MainThread) idb = 40\n",
      "2019-11-25 20:31:28,369 [INFO ] (MainThread) idb = 717.5nA\n",
      "2019-11-25 20:31:28,371 [INFO ] (MainThread) ibias = 15\n",
      "2019-11-25 20:31:28,372 [INFO ] (MainThread) ibias = 175.0nA\n"
     ]
    }
   ],
   "source": [
    "### load setting from confiuration file\n",
    "with open(\"/home/user/workspace/tjmonopix/tjmonopix_30/tjmonopix/scans/NgapW4R2-HV.yaml\") as f:\n",
    "    conf=yaml.safe_load(f)\n",
    "#chip=tjmonopix.tjmonopix.TJMonoPix(\n",
    "#    conf=conf['dut']['file'],\n",
    "#    no_power_reset=False)\n",
    "#chip.init()    \n",
    "    \n",
    "chip.default_conf()\n",
    "chip.switch_flavor(conf[\"dut\"]['flavor'])\n",
    "chip.enable_pixel(chip.fl_n,col=-1,row=-1,mask=conf['mask'])\n",
    "chip.reset_ibias()\n",
    "\n",
    "chip.set_vreset_dacunits(conf['dut']['vreset_dacunits'],1) #\n",
    "chip.set_icasn_dacunits(conf['dut']['icasn_dacunits'],1) \n",
    "chip.set_ireset_dacunits(conf['dut']['ireset_dacunits']['value'],conf['dut']['ireset_dacunits']['mode'],1)\n",
    "chip.set_ithr_dacunits(conf['dut']['ithr_dacunits'],1)\n",
    "chip.set_idb_dacunits(conf['dut']['idb_dacunits'],1)\n",
    "chip.set_ibias_dacunits(conf['dut']['ibias_dacunits'],1)\n",
    "chip.reset_ibias()"
   ]
  },
  {
   "cell_type": "code",
   "execution_count": 9,
   "metadata": {
    "scrolled": true
   },
   "outputs": [
    {
     "name": "stderr",
     "output_type": "stream",
     "text": [
      "2019-11-25 18:20:31,137 [INFO ] (MainThread) Initializing SourceScan\n",
      "2019-11-25 18:20:31,409 [INFO ] (MainThread) Power status: {'VPC [V]': 1.3002327889999996, 'VDDA_DAC [mA]': 2.0039990762671183, 'VDDP [V]': 1.7782266489468406, 'VDDP OC': False, 'VDDA [mA]': 16.836653955113846, 'VDDD [V]': 1.800444155, 'VDDA_DAC OC': False, 'VDDD [mA]': 0.5009997250796382, 'VPCSWSF [V]': 0.5000079, 'VDDP [mA]': 86.86829602730414, 'BiasSF [V]': 1.0745223724473683, 'VDDD OC': False, 'VPC [mA]': -0.14850058048160375, 'VPCSWSF [mA]': -0.04221117007981651, 'VDDA [V]': 1.7945024418837676, 'VDDA OC': False, 'VDDA_DAC [V]': 1.7977220453172207, 'BiasSF [mA]': 0.10088749999999999}\n",
      "2019-11-25 18:20:31,607 [INFO ] (MainThread) Temperature: 32.3 C\n",
      "2019-11-25 18:20:31,635 [INFO ] (MainThread) Creating ZMQ context\n",
      "2019-11-25 18:20:31,637 [INFO ] (MainThread) Creating socket connection to server tcp://127.0.0.1:5500\n",
      "2019-11-25 18:20:31,639 [INFO ] (MainThread) ScanBase.start:data_send.data_send_init connected\n",
      "2019-11-25 18:20:31,641 [INFO ] (MainThread) Resetting SRAM FIFO: size = 0\n",
      "2019-11-25 18:20:32,386 [INFO ] (MainThread) Starting FIFO readout\n",
      "2019-11-25 18:20:32,389 [INFO ] (MainThread) *****SourceScan is running **** don't forget to start tlu ****\n",
      "2019-11-25 18:20:32,589 [INFO ] (MainThread) time=0s dat=0 rate=0.000k/s temp=32.23C\n",
      "2019-11-25 18:20:33,799 [INFO ] (MainThread) time=1s dat=30 rate=0.024k/s temp=32.30C\n",
      "2019-11-25 18:20:35,008 [INFO ] (MainThread) time=2s dat=42 rate=0.010k/s temp=32.21C\n",
      "2019-11-25 18:20:36,220 [INFO ] (MainThread) time=4s dat=57 rate=0.012k/s temp=32.30C\n",
      "2019-11-25 18:20:37,432 [INFO ] (MainThread) time=5s dat=72 rate=0.012k/s temp=32.26C\n",
      "2019-11-25 18:20:38,636 [INFO ] (MainThread) time=6s dat=84 rate=0.010k/s temp=32.30C\n",
      "2019-11-25 18:20:39,846 [INFO ] (MainThread) time=7s dat=120 rate=0.029k/s temp=32.29C\n",
      "2019-11-25 18:20:41,050 [INFO ] (MainThread) time=8s dat=138 rate=0.015k/s temp=32.25C\n",
      "2019-11-25 18:20:42,255 [INFO ] (MainThread) time=10s dat=165 rate=0.022k/s temp=32.30C\n",
      "2019-11-25 18:20:43,468 [INFO ] (MainThread) time=11s dat=180 rate=0.012k/s temp=32.28C\n",
      "2019-11-25 18:20:44,675 [INFO ] (MainThread) time=12s dat=192 rate=0.010k/s temp=32.30C\n",
      "2019-11-25 18:20:45,883 [INFO ] (MainThread) time=13s dat=198 rate=0.005k/s temp=32.26C\n",
      "2019-11-25 18:20:47,095 [INFO ] (MainThread) time=14s dat=216 rate=0.015k/s temp=32.33C\n",
      "2019-11-25 18:20:48,304 [INFO ] (MainThread) time=16s dat=231 rate=0.012k/s temp=32.23C\n",
      "2019-11-25 18:20:49,511 [INFO ] (MainThread) time=17s dat=255 rate=0.019k/s temp=32.30C\n",
      "2019-11-25 18:20:50,720 [INFO ] (MainThread) time=18s dat=294 rate=0.032k/s temp=32.23C\n",
      "2019-11-25 18:20:51,934 [INFO ] (MainThread) time=19s dat=327 rate=0.027k/s temp=32.31C\n",
      "2019-11-25 18:20:53,145 [INFO ] (MainThread) time=21s dat=345 rate=0.014k/s temp=32.27C\n",
      "2019-11-25 18:20:54,347 [INFO ] (MainThread) time=22s dat=369 rate=0.019k/s temp=32.31C\n",
      "2019-11-25 18:20:55,566 [INFO ] (MainThread) time=23s dat=390 rate=0.017k/s temp=32.29C\n",
      "2019-11-25 18:20:56,773 [INFO ] (MainThread) time=24s dat=396 rate=0.005k/s temp=32.28C\n",
      "2019-11-25 18:20:57,980 [INFO ] (MainThread) time=25s dat=423 rate=0.022k/s temp=32.27C\n",
      "2019-11-25 18:20:59,186 [INFO ] (MainThread) time=27s dat=447 rate=0.019k/s temp=32.26C\n",
      "2019-11-25 18:21:00,399 [INFO ] (MainThread) time=28s dat=474 rate=0.022k/s temp=32.31C\n",
      "2019-11-25 18:21:01,607 [INFO ] (MainThread) time=29s dat=516 rate=0.034k/s temp=32.31C\n",
      "2019-11-25 18:21:02,818 [INFO ] (MainThread) time=30s dat=555 rate=0.032k/s temp=32.31C\n",
      "2019-11-25 18:22:03,080 [INFO ] (MainThread) time=90s dat=2052 rate=0.024k/s temp=32.25C\n",
      "2019-11-25 18:22:04,291 [INFO ] (MainThread) time=92s dat=2076 rate=0.019k/s temp=32.26C\n",
      "2019-11-25 18:22:05,504 [INFO ] (MainThread) time=93s dat=2100 rate=0.019k/s temp=32.30C\n",
      "2019-11-25 18:22:06,713 [INFO ] (MainThread) time=94s dat=2118 rate=0.014k/s temp=32.33C\n",
      "2019-11-25 18:22:07,930 [INFO ] (MainThread) time=95s dat=2133 rate=0.012k/s temp=32.28C\n",
      "2019-11-25 18:22:09,132 [INFO ] (MainThread) time=97s dat=2142 rate=0.007k/s temp=32.27C\n",
      "2019-11-25 18:22:10,342 [INFO ] (MainThread) time=98s dat=2157 rate=0.012k/s temp=32.27C\n",
      "2019-11-25 18:22:11,563 [INFO ] (MainThread) time=99s dat=2181 rate=0.019k/s temp=32.31C\n",
      "2019-11-25 18:22:12,610 [WARNI] (MainThread) FIFO stopped due to timeout\n",
      "2019-11-25 18:22:12,636 [INFO ] (MainThread) Stopped FIFO readout\n",
      "2019-11-25 18:22:12,642 [INFO ] (MainThread) Recived words: 2202\n",
      "2019-11-25 18:22:12,643 [INFO ] (MainThread) Data queue size: 0\n",
      "2019-11-25 18:22:12,645 [INFO ] (MainThread) SRAM FIFO size: 12\n",
      "2019-11-25 18:22:12,646 [INFO ] (MainThread) Channel:                     TDC | DATA_RX | TLU | TIMESTAMP\n",
      "2019-11-25 18:22:12,648 [INFO ] (MainThread) Discard counter:             None |       0 |   0 |         0\n",
      "2019-11-25 18:22:12,915 [INFO ] (MainThread) Power status: {'VPC [V]': 1.3002327889999996, 'VDDA_DAC [mA]': 2.0039990762671183, 'VDDP [V]': 1.7782266489468406, 'VDDP OC': False, 'VDDA [mA]': 16.836653955113846, 'VDDD [V]': 1.800444155, 'VDDA_DAC OC': False, 'VDDD [mA]': 0.5009997250796382, 'VPCSWSF [V]': 0.5005069754368446, 'VDDP [mA]': 86.86829602730414, 'BiasSF [V]': 1.0745223724473683, 'VDDD OC': False, 'VPC [mA]': 0.010000051652775201, 'VPCSWSF [mA]': -0.04321619820911238, 'VDDA [V]': 1.7945024418837676, 'VDDA OC': False, 'VDDA_DAC [V]': 1.7977220453172207, 'BiasSF [mA]': 0.10088749999999999}\n",
      "2019-11-25 18:22:13,114 [INFO ] (MainThread) Temperature: 32.3 C\n",
      "2019-11-25 18:22:13,143 [INFO ] (MainThread) Closing socket connection\n"
     ]
    },
    {
     "name": "stdout",
     "output_type": "stream",
     "text": [
      "/home/user/workspace/tjmonopix/tjmonopix_30/examples/output_data/20191125_182031_source_scan.h5\n",
      "0 2201 100.000% 0.000s 734hits\n"
     ]
    },
    {
     "data": {
      "image/png": "[encoded data removed]",
      "text/plain": [
       "<Figure size 432x288 with 2 Axes>"
      ]
     },
     "metadata": {
      "needs_background": "light"
     },
     "output_type": "display_data"
    }
   ],
   "source": [
    "## noise occupancy\n",
    "reload(source_scan)\n",
    "scan=source_scan.SourceScan(dut=chip)\n",
    "scan.start(scan_time=100,                                ## scan time in seconds\n",
    "           with_mon=False,with_rx1=False,with_tlu=False) ## do not change\n",
    "fhit=scan.analyze(scan.output_filename,event=\"none\",clusterize=False)\n",
    "scan.stop()\n",
    "\n",
    "with tb.open_file(fhit) as f:\n",
    "    hits=f.root.Hits[:]\n",
    "fig,ax=plt.subplots(ncols=2,nrows=1)\n",
    "hist=ax[0].hist2d(hits['col'],hits['row'],bins=[np.arange(0,112),np.arange(0,224)]);\n",
    "ax[1].hist(np.reshape(hist[0],[-1]),histtype=\"step\")\n",
    "ax[1].set_yscale(\"log\")\n",
    "ax[0].set_title(\"Hit map\");\n",
    "ax[1].set_ylabel(\"# of pixels\");\n",
    "fig.tight_layout()"
   ]
  },
  {
   "cell_type": "code",
   "execution_count": 6,
   "metadata": {},
   "outputs": [
    {
     "name": "stderr",
     "output_type": "stream",
     "text": [
      "2019-11-25 20:38:30,119 [INFO ] (MainThread) Initializing SourceScan\n",
      "2019-11-25 20:38:30,445 [INFO ] (MainThread) Power status: {'VPC [V]': 1.3007325834999997, 'VDDA_DAC [mA]': 2.0039990762671183, 'VDDP [V]': 1.7782266489468406, 'VDDP OC': False, 'VDDA [mA]': 13.265242527115744, 'VDDD [V]': 1.800444155, 'VDDA_DAC OC': False, 'VDDD [mA]': 0.5009997250796382, 'VPCSWSF [V]': 0.5005069754368446, 'VDDP [mA]': 86.86829602730414, 'BiasSF [V]': 1.0750223565789472, 'VDDD OC': False, 'VPC [mA]': -0.06600025145266833, 'VPCSWSF [mA]': -0.026130720011082603, 'VDDA [V]': 1.7945024418837676, 'VDDA OC': False, 'VDDA_DAC [V]': 1.7987217764350454, 'BiasSF [mA]': 0.10139230319999999}\n",
      "2019-11-25 20:38:30,643 [INFO ] (MainThread) Temperature: 32.3 C\n",
      "2019-11-25 20:38:30,669 [INFO ] (MainThread) Creating ZMQ context\n",
      "2019-11-25 20:38:30,671 [INFO ] (MainThread) Creating socket connection to server tcp://127.0.0.1:5500\n",
      "2019-11-25 20:38:30,673 [INFO ] (MainThread) ScanBase.start:data_send.data_send_init connected\n",
      "2019-11-25 20:38:30,674 [INFO ] (MainThread) Resetting SRAM FIFO: size = 121608\n",
      "2019-11-25 20:38:31,421 [INFO ] (MainThread) Starting FIFO readout\n",
      "2019-11-25 20:38:31,422 [WARNI] (MainThread) SRAM FIFO not empty when starting FIFO readout: size = 11680\n",
      "2019-11-25 20:38:31,425 [INFO ] (MainThread) *****SourceScan is running **** don't forget to start tlu ****\n",
      "2019-11-25 20:38:31,642 [INFO ] (MainThread) time=0s dat=3650 rate=2160.150k/s temp=32.23C\n",
      "2019-11-25 20:38:32,874 [INFO ] (MainThread) time=1s dat=207320 rate=163.194k/s temp=32.26C\n",
      "2019-11-25 20:38:34,095 [INFO ] (MainThread) time=2s dat=411720 rate=162.028k/s temp=32.25C\n",
      "2019-11-25 20:38:35,318 [INFO ] (MainThread) time=4s dat=616120 rate=163.601k/s temp=32.29C\n",
      "2019-11-25 20:38:36,536 [INFO ] (MainThread) time=5s dat=820155 rate=162.891k/s temp=32.26C\n",
      "2019-11-25 20:38:37,751 [INFO ] (MainThread) time=6s dat=1023460 rate=163.050k/s temp=32.26C\n",
      "2019-11-25 20:38:38,974 [INFO ] (MainThread) time=7s dat=1227495 rate=163.860k/s temp=32.23C\n",
      "2019-11-25 20:38:40,194 [INFO ] (MainThread) time=9s dat=1431530 rate=163.083k/s temp=32.25C\n",
      "2019-11-25 20:38:41,420 [INFO ] (MainThread) time=10s dat=1635565 rate=163.172k/s temp=32.23C\n",
      "2019-11-25 20:38:42,642 [INFO ] (MainThread) time=11s dat=1838870 rate=162.003k/s temp=32.24C\n",
      "2019-11-25 20:38:43,866 [INFO ] (MainThread) time=12s dat=2078675 rate=191.714k/s temp=32.21C\n",
      "2019-11-25 20:38:45,090 [INFO ] (MainThread) time=13s dat=2281980 rate=162.071k/s temp=32.27C\n",
      "2019-11-25 20:38:46,316 [INFO ] (MainThread) time=15s dat=2486380 rate=163.211k/s temp=32.25C\n",
      "2019-11-25 20:38:47,539 [INFO ] (MainThread) time=16s dat=2690415 rate=162.526k/s temp=32.26C\n",
      "2019-11-25 20:38:48,763 [INFO ] (MainThread) time=17s dat=2895180 rate=163.482k/s temp=32.26C\n",
      "2019-11-25 20:38:49,987 [INFO ] (MainThread) time=18s dat=3098120 rate=161.895k/s temp=32.22C\n",
      "2019-11-25 20:38:51,204 [INFO ] (MainThread) time=20s dat=3301790 rate=162.426k/s temp=32.20C\n",
      "2019-11-25 20:38:52,432 [INFO ] (MainThread) time=21s dat=3505095 rate=162.980k/s temp=32.23C\n",
      "2019-11-25 20:38:53,653 [INFO ] (MainThread) time=22s dat=3709130 rate=162.260k/s temp=32.21C\n",
      "2019-11-25 20:38:54,875 [INFO ] (MainThread) time=23s dat=3947110 rate=190.627k/s temp=32.26C\n",
      "2019-11-25 20:38:56,100 [INFO ] (MainThread) time=24s dat=4150050 rate=162.097k/s temp=32.21C\n",
      "2019-11-25 20:38:57,326 [INFO ] (MainThread) time=26s dat=4352990 rate=161.737k/s temp=32.24C\n",
      "2019-11-25 20:38:58,549 [INFO ] (MainThread) time=27s dat=4556660 rate=162.296k/s temp=32.26C\n",
      "2019-11-25 20:38:59,781 [INFO ] (MainThread) time=28s dat=4758870 rate=161.437k/s temp=32.26C\n",
      "2019-11-25 20:39:01,005 [INFO ] (MainThread) time=29s dat=4962540 rate=161.511k/s temp=32.22C\n",
      "2019-11-25 20:39:02,230 [INFO ] (MainThread) time=31s dat=5165845 rate=162.111k/s temp=32.26C\n",
      "2019-11-25 20:40:02,516 [INFO ] (MainThread) time=91s dat=15405190 rate=165.874k/s temp=32.22C\n",
      "2019-11-25 20:41:02,801 [INFO ] (MainThread) time=151s dat=25602925 rate=165.193k/s temp=32.20C\n",
      "2019-11-25 20:42:03,068 [INFO ] (MainThread) time=211s dat=35826575 rate=165.653k/s temp=32.18C\n",
      "2019-11-25 20:43:03,355 [INFO ] (MainThread) time=272s dat=46046210 rate=165.557k/s temp=32.26C\n",
      "2019-11-25 20:44:03,588 [INFO ] (MainThread) time=332s dat=56267305 rate=165.692k/s temp=32.20C\n",
      "2019-11-25 20:45:03,866 [INFO ] (MainThread) time=392s dat=66473800 rate=165.354k/s temp=32.24C\n",
      "2019-11-25 20:46:04,146 [INFO ] (MainThread) time=453s dat=76719350 rate=165.988k/s temp=32.23C\n",
      "2019-11-25 20:47:04,409 [INFO ] (MainThread) time=513s dat=86925845 rate=165.405k/s temp=32.25C\n",
      "2019-11-25 20:48:04,655 [INFO ] (MainThread) time=573s dat=97143290 rate=165.606k/s temp=32.28C\n",
      "2019-11-25 20:49:04,926 [INFO ] (MainThread) time=633s dat=107364385 rate=165.629k/s temp=32.22C\n",
      "2019-11-25 20:50:05,205 [INFO ] (MainThread) time=694s dat=117585115 rate=165.577k/s temp=32.26C\n",
      "2019-11-25 20:51:05,488 [INFO ] (MainThread) time=754s dat=127809495 rate=165.652k/s temp=32.24C\n",
      "2019-11-25 20:52:05,730 [INFO ] (MainThread) time=814s dat=138035700 rate=165.750k/s temp=32.28C\n",
      "2019-11-25 20:53:05,997 [INFO ] (MainThread) time=874s dat=148261175 rate=165.682k/s temp=32.23C\n",
      "2019-11-25 20:54:06,257 [INFO ] (MainThread) time=935s dat=158505995 rate=166.028k/s temp=32.25C\n",
      "2019-11-25 20:55:06,536 [INFO ] (MainThread) time=995s dat=168710300 rate=165.354k/s temp=32.24C\n",
      "2019-11-25 20:56:06,821 [INFO ] (MainThread) time=1055s dat=178916430 rate=165.313k/s temp=32.28C\n",
      "2019-11-25 20:57:07,103 [INFO ] (MainThread) time=1115s dat=189145920 rate=165.723k/s temp=32.26C\n",
      "2019-11-25 20:58:07,344 [INFO ] (MainThread) time=1176s dat=199360445 rate=165.568k/s temp=32.28C\n",
      "2019-11-25 20:59:07,610 [INFO ] (MainThread) time=1236s dat=209583365 rate=165.647k/s temp=32.24C\n",
      "2019-11-25 21:00:07,891 [INFO ] (MainThread) time=1296s dat=219827455 rate=165.963k/s temp=32.27C\n",
      "2019-11-25 21:01:08,153 [INFO ] (MainThread) time=1357s dat=230048915 rate=165.651k/s temp=32.22C\n",
      "2019-11-25 21:02:08,418 [INFO ] (MainThread) time=1417s dat=240261615 rate=165.502k/s temp=32.23C\n",
      "2019-11-25 21:03:08,709 [INFO ] (MainThread) time=1477s dat=250491470 rate=165.705k/s temp=32.33C\n",
      "2019-11-25 21:04:08,988 [INFO ] (MainThread) time=1537s dat=260688110 rate=165.160k/s temp=32.31C\n",
      "2019-11-25 21:05:09,261 [INFO ] (MainThread) time=1598s dat=270907015 rate=165.582k/s temp=32.30C\n",
      "2019-11-25 21:06:09,545 [INFO ] (MainThread) time=1658s dat=281153295 rate=165.984k/s temp=32.25C\n",
      "2019-11-25 21:07:09,822 [INFO ] (MainThread) time=1718s dat=291370010 rate=165.525k/s temp=32.24C\n",
      "2019-11-25 21:08:10,100 [INFO ] (MainThread) time=1778s dat=301580520 rate=165.428k/s temp=32.32C\n",
      "2019-11-25 21:09:10,376 [INFO ] (MainThread) time=1839s dat=311793950 rate=165.448k/s temp=32.26C\n",
      "2019-11-25 21:10:10,643 [INFO ] (MainThread) time=1899s dat=321998620 rate=165.374k/s temp=32.27C\n",
      "2019-11-25 21:11:10,910 [INFO ] (MainThread) time=1959s dat=332247820 rate=166.059k/s temp=32.26C\n",
      "2019-11-25 21:12:11,156 [INFO ] (MainThread) time=2020s dat=342466360 rate=165.643k/s temp=32.24C\n",
      "2019-11-25 21:13:11,412 [INFO ] (MainThread) time=2080s dat=352673220 rate=165.416k/s temp=32.29C\n",
      "2019-11-25 21:14:11,695 [INFO ] (MainThread) time=2140s dat=362897965 rate=165.660k/s temp=32.25C\n",
      "2019-11-25 21:15:11,984 [INFO ] (MainThread) time=2200s dat=373108110 rate=165.389k/s temp=32.30C\n",
      "2019-11-25 21:16:12,274 [INFO ] (MainThread) time=2261s dat=383313875 rate=165.314k/s temp=32.26C\n",
      "2019-11-25 21:17:12,553 [INFO ] (MainThread) time=2321s dat=393565265 rate=166.067k/s temp=32.27C\n",
      "2019-11-25 21:18:12,824 [INFO ] (MainThread) time=2381s dat=403775410 rate=165.405k/s temp=32.30C\n",
      "2019-11-25 21:19:13,106 [INFO ] (MainThread) time=2441s dat=413989570 rate=165.488k/s temp=32.26C\n",
      "2019-11-25 21:20:13,389 [INFO ] (MainThread) time=2502s dat=424204825 rate=165.485k/s temp=32.26C\n",
      "2019-11-25 21:21:13,658 [INFO ] (MainThread) time=2562s dat=434425920 rate=165.594k/s temp=32.32C\n",
      "2019-11-25 21:22:13,918 [INFO ] (MainThread) time=2622s dat=444632415 rate=165.415k/s temp=32.24C\n",
      "2019-11-25 21:23:14,201 [INFO ] (MainThread) time=2683s dat=454876140 rate=165.963k/s temp=32.26C\n",
      "2019-11-25 21:24:14,478 [INFO ] (MainThread) time=2743s dat=465078620 rate=165.280k/s temp=32.33C\n",
      "2019-11-25 21:25:14,736 [INFO ] (MainThread) time=2803s dat=475285480 rate=165.416k/s temp=32.29C\n"
     ]
    },
    {
     "name": "stderr",
     "output_type": "stream",
     "text": [
      "2019-11-25 21:26:15,019 [INFO ] (MainThread) time=2863s dat=485493435 rate=165.385k/s temp=32.33C\n",
      "2019-11-25 21:27:15,306 [INFO ] (MainThread) time=2924s dat=495695550 rate=165.260k/s temp=32.29C\n",
      "2019-11-25 21:28:15,586 [INFO ] (MainThread) time=2984s dat=505950225 rate=166.107k/s temp=32.32C\n",
      "2019-11-25 21:29:15,863 [INFO ] (MainThread) time=3044s dat=516148690 rate=165.230k/s temp=32.29C\n",
      "2019-11-25 21:30:16,137 [INFO ] (MainThread) time=3104s dat=526362485 rate=165.477k/s temp=32.31C\n",
      "2019-11-25 21:31:16,409 [INFO ] (MainThread) time=3165s dat=536590515 rate=165.754k/s temp=32.33C\n",
      "2019-11-25 21:32:16,668 [INFO ] (MainThread) time=3225s dat=546812340 rate=165.628k/s temp=32.33C\n",
      "2019-11-25 21:33:16,901 [INFO ] (MainThread) time=3285s dat=557020295 rate=165.504k/s temp=32.32C\n",
      "2019-11-25 21:34:17,183 [INFO ] (MainThread) time=3346s dat=567220950 rate=165.257k/s temp=32.32C\n",
      "2019-11-25 21:35:17,471 [INFO ] (MainThread) time=3406s dat=577476720 rate=166.139k/s temp=32.32C\n",
      "2019-11-25 21:36:17,760 [INFO ] (MainThread) time=3466s dat=587694895 rate=165.524k/s temp=32.29C\n",
      "2019-11-25 21:37:18,008 [INFO ] (MainThread) time=3526s dat=597919275 rate=165.703k/s temp=32.33C\n",
      "2019-11-25 21:38:18,283 [INFO ] (MainThread) time=3587s dat=608134165 rate=165.491k/s temp=32.31C\n",
      "2019-11-25 21:38:19,509 [INFO ] (MainThread) time=3588s dat=608337470 rate=162.701k/s temp=32.33C\n",
      "2019-11-25 21:38:20,732 [INFO ] (MainThread) time=3589s dat=608539680 rate=161.085k/s temp=32.31C\n",
      "2019-11-25 21:38:21,958 [INFO ] (MainThread) time=3590s dat=608742985 rate=162.495k/s temp=32.31C\n",
      "2019-11-25 21:38:23,184 [INFO ] (MainThread) time=3592s dat=608980235 rate=188.935k/s temp=32.34C\n",
      "2019-11-25 21:38:24,408 [INFO ] (MainThread) time=3593s dat=609182810 rate=161.311k/s temp=32.26C\n",
      "2019-11-25 21:38:25,629 [INFO ] (MainThread) time=3594s dat=609386480 rate=162.409k/s temp=32.32C\n",
      "2019-11-25 21:38:26,853 [INFO ] (MainThread) time=3595s dat=609591245 rate=163.907k/s temp=32.31C\n",
      "2019-11-25 21:38:28,078 [INFO ] (MainThread) time=3596s dat=609793090 rate=161.078k/s temp=32.36C\n",
      "2019-11-25 21:38:29,310 [INFO ] (MainThread) time=3598s dat=609997855 rate=163.065k/s temp=32.32C\n",
      "2019-11-25 21:38:30,533 [INFO ] (MainThread) time=3599s dat=610201525 rate=161.511k/s temp=32.34C\n",
      "2019-11-25 21:38:31,647 [WARNI] (MainThread) FIFO stopped due to timeout\n",
      "2019-11-25 21:38:31,670 [INFO ] (MainThread) Stopped FIFO readout\n",
      "2019-11-25 21:38:31,675 [INFO ] (MainThread) Recived words: 610438045\n",
      "2019-11-25 21:38:31,676 [INFO ] (MainThread) Data queue size: 0\n",
      "2019-11-25 21:38:31,678 [INFO ] (MainThread) SRAM FIFO size: 81412\n",
      "2019-11-25 21:38:31,679 [INFO ] (MainThread) Channel:                     TDC | DATA_RX | TLU | TIMESTAMP\n",
      "2019-11-25 21:38:31,681 [INFO ] (MainThread) Discard counter:             None |       0 |   0 |         0\n",
      "2019-11-25 21:38:31,957 [INFO ] (MainThread) Power status: {'VPC [V]': 1.3007325834999997, 'VDDA_DAC [mA]': 2.0039990762671183, 'VDDP [V]': 1.7782266489468406, 'VDDP OC': False, 'VDDA [mA]': 13.265242527115744, 'VDDD [V]': 1.800444155, 'VDDA_DAC OC': False, 'VDDD [mA]': 7.585704998729309e-08, 'VPCSWSF [V]': 0.5005069754368446, 'VDDP [mA]': 86.86829602730414, 'BiasSF [V]': 1.0750223565789472, 'VDDD OC': False, 'VPC [mA]': 0.23100093305149916, 'VPCSWSF [mA]': 0.006532694191033151, 'VDDA [V]': 1.795501731462926, 'VDDA OC': False, 'VDDA_DAC [V]': 1.7977220453172207, 'BiasSF [mA]': 0.10038269679999999}\n",
      "2019-11-25 21:38:32,158 [INFO ] (MainThread) Temperature: 32.4 C\n",
      "2019-11-25 21:38:32,187 [INFO ] (MainThread) Closing socket connection\n"
     ]
    },
    {
     "name": "stdout",
     "output_type": "stream",
     "text": [
      "/home/user/workspace/tjmonopix/tjmonopix_30/examples/output_data/20191125_203830_source_scan.h5\n",
      "('ERROR TJMONO', 0, 0, 331372084)\n",
      "\n",
      "('ERR TJMONO2', 1, 0, 536870979)\n",
      "\n",
      "0 99999999 16.382% 1.023s 33333332hits\n",
      "100000000 99999999 32.763% 3.642s 66666666hits\n",
      "200000000 99999999 49.145% 5.098s 99999999hits\n",
      "300000000 99999999 65.527% 6.636s 133333332hits\n",
      "400000000 99999999 81.908% 8.220s 166666666hits\n",
      "500000000 99999999 98.290% 9.804s 199999999hits\n",
      "600000000 10438044 100.000% 10.679s 203479347hits\n",
      "event_builder_token.build_h5() fin: /home/user/workspace/tjmonopix/tjmonopix_30/examples/output_data/20191125_203830_source_hit.h5\n",
      "event_builder.build_h5() # of data:total=203479347 TLU=0 TS1=0 TS2=0 TS3=0 TJ=203478845\n",
      "event_builder.build_h5() check timestamp: increase only True\n",
      "event_builder.build_h5() # of event=166740066\n"
     ]
    },
    {
     "name": "stderr",
     "output_type": "stream",
     "text": [
      "Exception in thread TcpReadoutThread:\n",
      "Traceback (most recent call last):\n",
      "  File \"/home/user/anaconda/envs/ngap/lib/python2.7/threading.py\", line 801, in __bootstrap_inner\n",
      "    self.run()\n",
      "  File \"/home/user/anaconda/envs/ngap/lib/python2.7/threading.py\", line 754, in run\n",
      "    self.__target(*self.__args, **self.__kwargs)\n",
      "  File \"/home/user/workspace/basil/basil_30/basil/TL/SiTcp.py\", line 406, in _tcp_readout\n",
      "    data = bytearray(self._sock_tcp.recv(1024 * 8))\n",
      "error: [Errno 104] Connection reset by peer\n",
      "\n"
     ]
    },
    {
     "ename": "ImportError",
     "evalue": "No module named event_builder2",
     "output_type": "error",
     "traceback": [
      "\u001b[0;31m---------------------------------------------------------------------------\u001b[0m",
      "\u001b[0;31mImportError\u001b[0m                               Traceback (most recent call last)",
      "\u001b[0;32m<ipython-input-6-1bcdd5001319>\u001b[0m in \u001b[0;36m<module>\u001b[0;34m()\u001b[0m\n\u001b[1;32m      4\u001b[0m scan.start(scan_time=3600,                                ## scan time in seconds\n\u001b[1;32m      5\u001b[0m            with_mon=False,with_rx1=False,with_tlu=False) ## do not change\n\u001b[0;32m----> 6\u001b[0;31m \u001b[0mfhit\u001b[0m\u001b[0;34m=\u001b[0m\u001b[0mscan\u001b[0m\u001b[0;34m.\u001b[0m\u001b[0manalyze\u001b[0m\u001b[0;34m(\u001b[0m\u001b[0mscan\u001b[0m\u001b[0;34m.\u001b[0m\u001b[0moutput_filename\u001b[0m\u001b[0;34m,\u001b[0m\u001b[0mevent_build\u001b[0m\u001b[0;34m=\u001b[0m\u001b[0;34m\"token\"\u001b[0m\u001b[0;34m,\u001b[0m\u001b[0mclusterize\u001b[0m\u001b[0;34m=\u001b[0m\u001b[0mTrue\u001b[0m\u001b[0;34m)\u001b[0m\u001b[0;34m\u001b[0m\u001b[0m\n\u001b[0m\u001b[1;32m      7\u001b[0m \u001b[0mscan\u001b[0m\u001b[0;34m.\u001b[0m\u001b[0mstop\u001b[0m\u001b[0;34m(\u001b[0m\u001b[0;34m)\u001b[0m\u001b[0;34m\u001b[0m\u001b[0m\n",
      "\u001b[0;32m/home/user/workspace/tjmonopix/tjmonopix_30/tjmonopix/scans/source_scan.py\u001b[0m in \u001b[0;36manalyze\u001b[0;34m(self, data_file, event_build, clusterize)\u001b[0m\n\u001b[1;32m     98\u001b[0m            \u001b[0mfev\u001b[0m\u001b[0;34m=\u001b[0m\u001b[0manalyzed_data_file\u001b[0m\u001b[0;34m\u001b[0m\u001b[0m\n\u001b[1;32m     99\u001b[0m            \u001b[0manalyzed_data_file\u001b[0m\u001b[0;34m=\u001b[0m\u001b[0mfraw\u001b[0m\u001b[0;34m[\u001b[0m\u001b[0;34m:\u001b[0m\u001b[0;34m-\u001b[0m\u001b[0;36m7\u001b[0m\u001b[0;34m]\u001b[0m\u001b[0;34m+\u001b[0m\u001b[0;34m\"cl.h5\"\u001b[0m\u001b[0;34m\u001b[0m\u001b[0m\n\u001b[0;32m--> 100\u001b[0;31m            \u001b[0;32mimport\u001b[0m \u001b[0mtjmonopix\u001b[0m\u001b[0;34m.\u001b[0m\u001b[0manalysis\u001b[0m\u001b[0;34m.\u001b[0m\u001b[0mevent_builder2\u001b[0m \u001b[0;32mas\u001b[0m \u001b[0mclusterizer\u001b[0m\u001b[0;34m\u001b[0m\u001b[0m\n\u001b[0m\u001b[1;32m    101\u001b[0m            \u001b[0mclusterizer\u001b[0m\u001b[0;34m.\u001b[0m\u001b[0mclusterize_h5\u001b[0m\u001b[0;34m(\u001b[0m\u001b[0mfev\u001b[0m\u001b[0;34m,\u001b[0m\u001b[0manalyzed_data_file\u001b[0m\u001b[0;34m,\u001b[0m\u001b[0mcol\u001b[0m\u001b[0;34m=\u001b[0m\u001b[0;36m3\u001b[0m\u001b[0;34m,\u001b[0m\u001b[0mrow\u001b[0m\u001b[0;34m=\u001b[0m\u001b[0;36m3\u001b[0m\u001b[0;34m,\u001b[0m\u001b[0mframe\u001b[0m\u001b[0;34m=\u001b[0m\u001b[0;36m3\u001b[0m\u001b[0;34m)\u001b[0m\u001b[0;34m\u001b[0m\u001b[0m\n\u001b[1;32m    102\u001b[0m \u001b[0;34m\u001b[0m\u001b[0m\n",
      "\u001b[0;31mImportError\u001b[0m: No module named event_builder2"
     ]
    },
    {
     "data": {
      "image/png": "[encoded data removed]",
      "text/plain": [
       "<Figure size 432x288 with 1 Axes>"
      ]
     },
     "metadata": {
      "needs_background": "light"
     },
     "output_type": "display_data"
    }
   ],
   "source": [
    "## Fe\n",
    "reload(source_scan)\n",
    "scan=source_scan.SourceScan(dut=chip)\n",
    "scan.start(scan_time=3600,                                ## scan time in seconds\n",
    "           with_mon=False,with_rx1=False,with_tlu=False) ## do not change\n",
    "fhit=scan.analyze(scan.output_filename,event_build=\"token\",clusterize=True)\n",
    "scan.stop()"
   ]
  },
  {
   "cell_type": "code",
   "execution_count": 7,
   "metadata": {},
   "outputs": [
    {
     "name": "stdout",
     "output_type": "stream",
     "text": [
      "/home/user/workspace/tjmonopix/tjmonopix_30/examples/output_data/20191125_203830_source_scan.h5\n",
      "('ERROR TJMONO', 0, 0, 331372084)\n",
      "\n",
      "('ERR TJMONO2', 1, 0, 536870979)\n",
      "\n",
      "0 99999999 16.382% 1.037s 33333332hits\n",
      "100000000 99999999 32.763% 2.645s 66666666hits\n",
      "200000000 99999999 49.145% 4.254s 99999999hits\n",
      "300000000 99999999 65.527% 6.362s 133333332hits\n",
      "400000000 99999999 81.908% 9.051s 166666666hits\n",
      "500000000 99999999 98.290% 11.726s 199999999hits\n",
      "600000000 10438044 100.000% 17.336s 203479347hits\n",
      "event_builder_token.build_h5() fin: /home/user/workspace/tjmonopix/tjmonopix_30/examples/output_data/20191125_203830_source_hit.h5\n",
      "event_builder.build_h5() # of data:total=203479347 TLU=0 TS1=0 TS2=0 TS3=0 TJ=203478845\n",
      "event_builder.build_h5() check timestamp: increase only True\n",
      "event_builder.build_h5() # of event=166740066\n"
     ]
    },
    {
     "ename": "ImportError",
     "evalue": "No module named event_builder2",
     "output_type": "error",
     "traceback": [
      "\u001b[0;31m---------------------------------------------------------------------------\u001b[0m",
      "\u001b[0;31mImportError\u001b[0m                               Traceback (most recent call last)",
      "\u001b[0;32m<ipython-input-7-8d5e739358a0>\u001b[0m in \u001b[0;36m<module>\u001b[0;34m()\u001b[0m\n\u001b[1;32m      1\u001b[0m \u001b[0mreload\u001b[0m\u001b[0;34m(\u001b[0m\u001b[0msource_scan\u001b[0m\u001b[0;34m)\u001b[0m\u001b[0;34m\u001b[0m\u001b[0m\n\u001b[0;32m----> 2\u001b[0;31m \u001b[0mfhit\u001b[0m\u001b[0;34m=\u001b[0m\u001b[0mscan\u001b[0m\u001b[0;34m.\u001b[0m\u001b[0manalyze\u001b[0m\u001b[0;34m(\u001b[0m\u001b[0mscan\u001b[0m\u001b[0;34m.\u001b[0m\u001b[0moutput_filename\u001b[0m\u001b[0;34m,\u001b[0m\u001b[0mevent_build\u001b[0m\u001b[0;34m=\u001b[0m\u001b[0;34m\"token\"\u001b[0m\u001b[0;34m,\u001b[0m\u001b[0mclusterize\u001b[0m\u001b[0;34m=\u001b[0m\u001b[0mTrue\u001b[0m\u001b[0;34m)\u001b[0m\u001b[0;34m\u001b[0m\u001b[0m\n\u001b[0m",
      "\u001b[0;32m/home/user/workspace/tjmonopix/tjmonopix_30/tjmonopix/scans/source_scan.py\u001b[0m in \u001b[0;36manalyze\u001b[0;34m(self, data_file, event_build, clusterize)\u001b[0m\n\u001b[1;32m     98\u001b[0m            \u001b[0mfev\u001b[0m\u001b[0;34m=\u001b[0m\u001b[0manalyzed_data_file\u001b[0m\u001b[0;34m\u001b[0m\u001b[0m\n\u001b[1;32m     99\u001b[0m            \u001b[0manalyzed_data_file\u001b[0m\u001b[0;34m=\u001b[0m\u001b[0mfraw\u001b[0m\u001b[0;34m[\u001b[0m\u001b[0;34m:\u001b[0m\u001b[0;34m-\u001b[0m\u001b[0;36m7\u001b[0m\u001b[0;34m]\u001b[0m\u001b[0;34m+\u001b[0m\u001b[0;34m\"cl.h5\"\u001b[0m\u001b[0;34m\u001b[0m\u001b[0m\n\u001b[0;32m--> 100\u001b[0;31m            \u001b[0;32mimport\u001b[0m \u001b[0mtjmonopix\u001b[0m\u001b[0;34m.\u001b[0m\u001b[0manalysis\u001b[0m\u001b[0;34m.\u001b[0m\u001b[0mclusterizer\u001b[0m \u001b[0;32mas\u001b[0m \u001b[0mclusterizer\u001b[0m\u001b[0;34m\u001b[0m\u001b[0m\n\u001b[0m\u001b[1;32m    101\u001b[0m            \u001b[0mclusterizer\u001b[0m\u001b[0;34m.\u001b[0m\u001b[0mclusterize_h5\u001b[0m\u001b[0;34m(\u001b[0m\u001b[0mfev\u001b[0m\u001b[0;34m,\u001b[0m\u001b[0manalyzed_data_file\u001b[0m\u001b[0;34m,\u001b[0m\u001b[0mcol\u001b[0m\u001b[0;34m=\u001b[0m\u001b[0;36m3\u001b[0m\u001b[0;34m,\u001b[0m\u001b[0mrow\u001b[0m\u001b[0;34m=\u001b[0m\u001b[0;36m3\u001b[0m\u001b[0;34m,\u001b[0m\u001b[0mframe\u001b[0m\u001b[0;34m=\u001b[0m\u001b[0;36m3\u001b[0m\u001b[0;34m)\u001b[0m\u001b[0;34m\u001b[0m\u001b[0m\n\u001b[1;32m    102\u001b[0m \u001b[0;34m\u001b[0m\u001b[0m\n",
      "\u001b[0;31mImportError\u001b[0m: No module named event_builder2"
     ]
    },
    {
     "data": {
      "image/png": "[encoded data removed]",
      "text/plain": [
       "<Figure size 432x288 with 1 Axes>"
      ]
     },
     "metadata": {
      "needs_background": "light"
     },
     "output_type": "display_data"
    }
   ],
   "source": [
    "reload(source_scan)\n",
    "fhit=scan.analyze(scan.output_filename,event_build=\"token\",clusterize=True)"
   ]
  },
  {
   "cell_type": "code",
   "execution_count": 31,
   "metadata": {},
   "outputs": [
    {
     "name": "stdout",
     "output_type": "stream",
     "text": [
      "event_builder_token.build_h5() fin: /home/user/workspace/tjmonopix/tjmonopix_30/examples/output_data/20191125_182803_source_hit.h5\n",
      "event_builder.build_h5() # of data:total=5736218 TLU=0 TS1=0 TS2=0 TS3=0 TJ=5736201\n",
      "event_builder.build_h5() check timestamp: increase only True\n",
      "event_builder.build_h5() # of event=4699519\n"
     ]
    },
    {
     "data": {
      "image/png": "[encoded data removed]",
      "text/plain": [
       "<Figure size 432x288 with 1 Axes>"
      ]
     },
     "metadata": {
      "needs_background": "light"
     },
     "output_type": "display_data"
    }
   ],
   "source": [
    "fraw=scan.output_filename+\".h5\"\n",
    "fhit=fraw[:-7]+\"hit.h5\"\n",
    "fev=fhit[:-6]+\"ev.h5\"\n",
    "fig,ax=plt.subplots(ncols=2,nrows=2)\n",
    "ax=np.reshape(ax,[-1])\n",
    "\n",
    "with tb.open_file(fhit) as f:\n",
    "    hits=f.root.Hits[:]\n",
    "\n",
    "hist=ax[0].hist2d(hits['col'],hits['row'],bins=[np.arange(0,112),np.arange(0,224)]);\n",
    "ax[1].hist(np.reshape(hist[0],[-1]),histtype=\"step\")\n",
    "ax[1].set_yscale(\"log\")\n",
    "ax[0].set_title(\"Hit map\");\n",
    "ax[1].set_ylabel(\"# of pixels\");\n",
    "fig.tight_layout()\n",
    "\n",
    "with tb.open_file(fev) as f:\n",
    "    hits=f.root.Hits[:]\n",
    "hist=ax[2].hist(hits[np.bitwise_and(hit['col']==col,hit['row']==row)]['tot']);\n"
   ]
  },
  {
   "cell_type": "code",
   "execution_count": 64,
   "metadata": {},
   "outputs": [],
   "source": [
    "import tjmonopix.analysis.clusterizer as clusterizer\n",
    "reload(clusterizer)\n",
    "fcl=fhit[:-6]+\"cl.h5\"\n",
    "clusterizer.clusterize_h5(fev,fcl)"
   ]
  },
  {
   "cell_type": "code",
   "execution_count": 62,
   "metadata": {},
   "outputs": [],
   "source": [
    "import pixel_clusterizer.clusterizer as clusterizer\n",
    "reload(clusterizer)\n",
    "frame_cluster_distance=3\n",
    "with tb.open_file(fev) as f:\n",
    "        hits=f.root.Hits[:]\n",
    "\n",
    "hits['col']=hits['col']+1\n",
    "hits['row']=hits['row']+1\n",
    "hits['tot']=hits['tot']+1\n",
    "\n",
    "hit_fields={'event_number': 'event_number',  \n",
    "                   'col': 'column',\n",
    "                   'row': 'row',\n",
    "                   'tot': 'charge',\n",
    "                   'frame': 'frame'}\n",
    "cl = clusterizer.HitClusterizer(hit_dtype=hits.dtype,\n",
    "                                hit_fields=hit_fields,\n",
    "                                column_cluster_distance=2,\n",
    "                                row_cluster_distance=2,\n",
    "                                frame_cluster_distance=3)\n",
    "# Main functions\n",
    "cluster_hits, clusters = cl.cluster_hits(hits)  # cluster hits\n",
    "with tb.open_file(fcl, \"w\") as f:\n",
    "        cluster_hits_table=f.create_table(f.root,name=\"Hits\",description=cluster_hits.dtype, title=\"Hits\")\n",
    "        cluster_hits_table.append(cluster_hits)\n",
    "        cluster_hits_table.flush()\n",
    "        \n",
    "        clusters_table=f.create_table(f.root,name=\"Clusters\",description=clusters.dtype, title=\"Clusters\")\n",
    "        clusters_table.append(cluster_hits)\n",
    "        clusters_table.flush()"
   ]
  },
  {
   "cell_type": "code",
   "execution_count": 8,
   "metadata": {},
   "outputs": [
    {
     "ename": "NameError",
     "evalue": "name 'fev' is not defined",
     "output_type": "error",
     "traceback": [
      "\u001b[0;31m---------------------------------------------------------------------------\u001b[0m",
      "\u001b[0;31mNameError\u001b[0m                                 Traceback (most recent call last)",
      "\u001b[0;32m<ipython-input-8-6cabf70f417c>\u001b[0m in \u001b[0;36m<module>\u001b[0;34m()\u001b[0m\n\u001b[0;32m----> 1\u001b[0;31m \u001b[0mfev\u001b[0m\u001b[0;34m\u001b[0m\u001b[0m\n\u001b[0m",
      "\u001b[0;31mNameError\u001b[0m: name 'fev' is not defined"
     ]
    }
   ],
   "source": []
  },
  {
   "cell_type": "code",
   "execution_count": null,
   "metadata": {},
   "outputs": [],
   "source": []
  }
 ],
 "metadata": {
  "kernelspec": {
   "display_name": "Python 2",
   "language": "python",
   "name": "python2"
  },
  "language_info": {
   "codemirror_mode": {
    "name": "ipython",
    "version": 2
   },
   "file_extension": ".py",
   "mimetype": "text/x-python",
   "name": "python",
   "nbconvert_exporter": "python",
   "pygments_lexer": "ipython2",
   "version": "2.7.16"
  }
 },
 "nbformat": 4,
 "nbformat_minor": 2
}
