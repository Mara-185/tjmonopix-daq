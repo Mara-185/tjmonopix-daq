{
 "cells": [
  {
   "cell_type": "code",
   "execution_count": 1,
   "metadata": {},
   "outputs": [
    {
     "name": "stderr",
     "output_type": "stream",
     "text": [
      "2022-03-14 18:16:35,071 [INFO ] (MainThread) GPAC: power reset\n",
      "2022-03-14 18:16:36,831 [INFO ] (MainThread) Found adapter card: General Purpose Analog Card (GPAC) with ID 3\n",
      "2022-03-14 18:16:37,061 [INFO ] (MainThread) Found board 0 running firmware version 0.0\n",
      "2022-03-14 18:16:37,321 [INFO ] (MainThread) ibias = 45\n",
      "2022-03-14 18:16:37,341 [INFO ] (MainThread) ibias = 503.125 nA\n",
      "2022-03-14 18:16:37,970 [INFO ] (MainThread) {'VPC [V]': 1.2998506463536463, 'VDDA_DAC [mA]': 2.502471747485684, 'VDDP [V]': 1.8049802771084336, 'VDDP OC': False, 'VDDA [mA]': 50.151368865825674, 'VDDD [V]': 1.8025130343434344, 'VDDA_DAC OC': False, 'VDDD [mA]': 2.820288999038665e-08, 'VPCSWSF [V]': 0.5001542395802099, 'VDDP [mA]': 128.39714805315754, 'BiasSF [V]': 1.0622801785996314, 'VDDD OC': False, 'VPC [mA]': -0.31249861803761275, 'VPCSWSF [mA]': 0.18809333715255658, 'VDDA [V]': 1.8068556096096098, 'VDDA OC': False, 'VDDA_DAC [V]': 1.8055460239760242, 'BiasSF [mA]': 0.10109892318840588}\n"
     ]
    }
   ],
   "source": [
    "import sys,os,time\n",
    "\n",
    "import tables as tb\n",
    "import yaml\n",
    "import numpy as np\n",
    "import matplotlib.pyplot as plt\n",
    "import tjmonopix.tjmonopix\n",
    "import tjmonopix.scans.th_scan as th_scan\n",
    "import tjmonopix.scans.source_scan as source_scan\n",
    "\n",
    "#### how to power\n",
    "# PWELL/PSUB 0V/200uA, HV0V/100uA \n",
    "# PWELL/PSUB -6V/200uA --> MIO3 6V, GAPC 5V --> run this cell\n",
    "# HV 1.8V/100uA --> PWELL/PSUB 0V/200uA --> HV 20V\n",
    "\n",
    "#HV 2V/, Psub/Pwell -6V 14/03/22\n",
    "\n",
    "DUtoe=33.\n",
    "chip=tjmonopix.tjmonopix.TJMonoPix(conf=\"../tjmonopix/tjmonopix_mio3.yaml\",no_power_reset=False) #con la configurazione settata da errore. Controllare se le configurazioni sono le stesse\n",
    "#vecchia conf: /home/user/workspace/tjmonopix/tjmonopix_30/tjmonopix/tjmonopix_mio3.yaml\"\n",
    "chip.init(\"EN_HV\")"
   ]
  },
  {
   "cell_type": "code",
   "execution_count": 2,
   "metadata": {},
   "outputs": [
    {
     "name": "stderr",
     "output_type": "stream",
     "text": [
      "2022-03-14 18:16:43,710 [INFO ] (MainThread) ibias = 45\n",
      "2022-03-14 18:16:43,730 [INFO ] (MainThread) ibias = 503.125 nA\n"
     ]
    }
   ],
   "source": [
    "# reset configuration\n",
    "chip.default_conf()\n",
    "chip.reset_ibias()"
   ]
  },
  {
   "cell_type": "code",
   "execution_count": 3,
   "metadata": {},
   "outputs": [
    {
     "name": "stderr",
     "output_type": "stream",
     "text": [
      "2022-03-14 18:16:46,950 [INFO ] (MainThread) vreset = 1.05106299213V\n",
      "2022-03-14 18:16:46,970 [INFO ] (MainThread) icasn = 0\n",
      "2022-03-14 18:16:46,990 [INFO ] (MainThread) icasn = 4.375 nA\n",
      "2022-03-14 18:16:47,010 [INFO ] (MainThread) ireset = 2 high leakage mode\n",
      "2022-03-14 18:16:47,030 [INFO ] (MainThread) ireset = 0.1025390625nA, high leakage mode\n",
      "2022-03-14 18:16:47,051 [INFO ] (MainThread) ithr = 10\n",
      "2022-03-14 18:16:47,071 [INFO ] (MainThread) ithr = 1.50390625 nA\n",
      "2022-03-14 18:16:47,091 [INFO ] (MainThread) idb = 40\n",
      "2022-03-14 18:16:47,111 [INFO ] (MainThread) idb = 717.5 nA\n",
      "2022-03-14 18:16:47,131 [INFO ] (MainThread) ibias = 20\n",
      "2022-03-14 18:16:47,151 [INFO ] (MainThread) ibias = 229.6875 nA\n"
     ]
    }
   ],
   "source": [
    "####### CONFIGURE THE FRONT END ######\n",
    "# INPUT baseline\n",
    "chip.reset_ibias()\n",
    "chip.set_vreset_dacunits(35,1) #1V\n",
    "# OUTPUT BASELINE\n",
    "chip.set_icasn_dacunits(0,1) #4.375nA # approx 1.084V at -3V backbias, 600mV at 0V backbias\n",
    "chip.set_vcasn_dac_dacunits(40)\n",
    "# INOUT RESET rate\n",
    "chip.set_ireset_dacunits(2,1,1) #270pA, HIGH LEAKAGE MODE, NORMAL SCALING, 0 = LOW LEAKAGE MODE, SCALING*0.01\n",
    "# OUTPUT RESET rate\n",
    "chip.set_ithr_dacunits(10,1)  #680pA\n",
    "# BIASING OF THE DISCRIMINATOR (AND THE THRESHOLD)\n",
    "chip.set_idb_dacunits(40,1)  #500nA\n",
    "# DC current of Amp, OUTPUT RISE TIME\n",
    "chip.set_ibias_dacunits(20,1) #500nA\n",
    "chip.write_conf()"
   ]
  },
  {
   "cell_type": "code",
   "execution_count": 6,
   "metadata": {},
   "outputs": [
    {
     "name": "stdout",
     "output_type": "stream",
     "text": [
      "Enable MASKH 50\n",
      "Got 13018 hits, total noisy pixels: 53\n",
      "Enable MASKH 100\n",
      "Got 28348 hits, total noisy pixels: 128\n",
      "Enable MASKH 150\n",
      "Got 21900 hits, total noisy pixels: 188\n",
      "Enable MASKH 200\n",
      "Got 33580 hits, total noisy pixels: 267\n",
      "Enable MASKH 223\n",
      "Got 25794 hits, total noisy pixels: 301\n",
      "Enable MASKV 50\n",
      "Got 5 hits, total noisy pixels: 301\n",
      "Enable MASKV 100\n",
      "Got 10 hits, total noisy pixels: 303\n",
      "Enable MASKV 111\n",
      "Got 16 hits, total noisy pixels: 306\n",
      "Enable MASKD 50\n",
      "Got 12 hits, total noisy pixels: 307\n",
      "Enable MASKD 100\n",
      "Got 5 hits, total noisy pixels: 307\n",
      "Enable MASKD 150\n",
      "Got 8 hits, total noisy pixels: 307\n",
      "Enable MASKD 200\n",
      "Got 10 hits, total noisy pixels: 308\n",
      "Enable MASKD 250\n",
      "Got 10 hits, total noisy pixels: 311\n",
      "Enable MASKD 300\n",
      "Got 5 hits, total noisy pixels: 311\n",
      "Enable MASKD 350\n",
      "Got 15 hits, total noisy pixels: 312\n",
      "Enable MASKD 400\n",
      "Got 18 hits, total noisy pixels: 316\n",
      "Enable MASKD 447\n",
      "Got 27 hits, total noisy pixels: 320\n",
      "Checking again after masking\n",
      "Got 21 hits, total noisy pixels: 323\n",
      "Noisy pixels: 323\n",
      "Enabled pixels: 11534\n",
      "Disabled pixels (noisy + unintentionally masked): 13554\n"
     ]
    },
    {
     "data": {
      "image/png": "[encoded data removed]",
      "text/plain": [
       "<Figure size 432x288 with 1 Axes>"
      ]
     },
     "metadata": {
      "needs_background": "light"
     },
     "output_type": "display_data"
    }
   ],
   "source": [
    "#### enable pixels and mask noisy pixels\n",
    "#P0 V, HV 10 V\n",
    "chip.set_monoread()\n",
    "noisy=chip.auto_mask(dt=0.002)\n",
    "\n",
    "mask=chip.get_pixel_status(mask=None,mode=\"all\")\n",
    "plt.imshow(chip.get_pixel_status(mask=mask,mode=\"preamp\")[3,:,:],\n",
    "           interpolation=\"none\",origin=\"bottomleft\")\n",
    "plt.title(\"Enabled pixel = yellow\");"
   ]
  },
  {
   "cell_type": "code",
   "execution_count": 5,
   "metadata": {},
   "outputs": [
    {
     "name": "stdout",
     "output_type": "stream",
     "text": [
      "Enable MASKH 50\n",
      "Got 105850 hits, total noisy pixels: 79\n",
      "Enable MASKH 100\n",
      "Got 169968 hits, total noisy pixels: 173\n",
      "Enable MASKH 150\n",
      "Got 126290 hits, total noisy pixels: 263\n",
      "Enable MASKH 200\n",
      "Got 178607 hits, total noisy pixels: 367\n",
      "Enable MASKH 223\n",
      "Got 174714 hits, total noisy pixels: 411\n",
      "Enable MASKV 50\n",
      "Got 13 hits, total noisy pixels: 414\n",
      "Enable MASKV 100\n",
      "Got 11 hits, total noisy pixels: 417\n",
      "Enable MASKV 111\n",
      "Got 7 hits, total noisy pixels: 417\n",
      "Enable MASKD 50\n",
      "Got 1 hits, total noisy pixels: 417\n",
      "Enable MASKD 100\n",
      "Got 6 hits, total noisy pixels: 417\n",
      "Enable MASKD 150\n",
      "Got 3 hits, total noisy pixels: 417\n",
      "Enable MASKD 200\n",
      "Got 7 hits, total noisy pixels: 417\n",
      "Enable MASKD 250\n",
      "Got 9 hits, total noisy pixels: 419\n",
      "Enable MASKD 300\n",
      "Got 22 hits, total noisy pixels: 422\n",
      "Enable MASKD 350\n",
      "Got 6 hits, total noisy pixels: 422\n",
      "Enable MASKD 400\n",
      "Got 16 hits, total noisy pixels: 425\n",
      "Enable MASKD 447\n",
      "Got 27 hits, total noisy pixels: 431\n",
      "Checking again after masking\n",
      "Got 8 hits, total noisy pixels: 431\n",
      "Noisy pixels: 431\n",
      "Enabled pixels: 7752\n",
      "Disabled pixels (noisy + unintentionally masked): 17336\n"
     ]
    },
    {
     "data": {
      "image/png": "[encoded data removed]",
      "text/plain": [
       "<Figure size 432x288 with 1 Axes>"
      ]
     },
     "metadata": {
      "needs_background": "light"
     },
     "output_type": "display_data"
    }
   ],
   "source": [
    "#### enable pixels and mask noisy pixels\n",
    "#Pwell, psub 0 V, HV 15 V\n",
    "\n",
    "chip.set_monoread()\n",
    "noisy=chip.auto_mask()\n",
    "\n",
    "mask=chip.get_pixel_status(mask=None,mode=\"all\")\n",
    "plt.imshow(chip.get_pixel_status(mask=mask,mode=\"preamp\")[3,:,:],\n",
    "           interpolation=\"none\",origin=\"bottomleft\")\n",
    "plt.title(\"Enabled pixel = yellow\");"
   ]
  },
  {
   "cell_type": "code",
   "execution_count": null,
   "metadata": {},
   "outputs": [],
   "source": [
    "#### enable pixels and mask noisy pixels\n",
    "#Pwell, psub 0 V, HV  20 V\n",
    "\n",
    "chip.set_monoread()\n",
    "noisy=chip.auto_mask()\n",
    "\n",
    "mask=chip.get_pixel_status(mask=None,mode=\"all\")\n",
    "plt.imshow(chip.get_pixel_status(mask=mask,mode=\"preamp\")[3,:,:],\n",
    "           interpolation=\"none\",origin=\"bottomleft\")\n",
    "plt.title(\"Enabled pixel = yellow\");"
   ]
  }
 ],
 "metadata": {
  "kernelspec": {
   "display_name": "Python 2",
   "language": "python",
   "name": "python2"
  },
  "language_info": {
   "codemirror_mode": {
    "name": "ipython",
    "version": 2
   },
   "file_extension": ".py",
   "mimetype": "text/x-python",
   "name": "python",
   "nbconvert_exporter": "python",
   "pygments_lexer": "ipython2",
   "version": "2.7.18"
  }
 },
 "nbformat": 4,
 "nbformat_minor": 2
}
