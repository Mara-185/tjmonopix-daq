{
 "cells": [
  {
   "cell_type": "code",
   "execution_count": 1,
   "metadata": {},
   "outputs": [],
   "source": [
    "import sys,os,time\n",
    "\n",
    "import tables as tb\n",
    "import yaml\n",
    "import numpy as np\n",
    "import matplotlib.pyplot as plt\n",
    "import tjmonopix.tjmonopix\n",
    "import tjmonopix.scans.source_scan as source_scan\n",
    "import tjmonopix.scans.th_scan as th_scan\n",
    "\n",
    "DUtoe=20\n",
    "COL=112\n",
    "ROW=224"
   ]
  },
  {
   "cell_type": "code",
   "execution_count": 2,
   "metadata": {},
   "outputs": [
    {
     "name": "stderr",
     "output_type": "stream",
     "text": [
      "2019-12-02 14:32:39,644 [INFO ] (MainThread) GPAC: power reset\n",
      "2019-12-02 14:32:41,056 [INFO ] (MainThread) Found adapter card: General Purpose Analog Card (GPAC) with ID 8\n",
      "2019-12-02 14:32:41,132 [INFO ] (MainThread) Found board 0 running firmware version 0.0\n",
      "2019-12-02 14:32:41,224 [INFO ] (MainThread) ibias = 45\n",
      "2019-12-02 14:32:41,225 [INFO ] (MainThread) ibias = 503.125nA\n",
      "2019-12-02 14:32:41,495 [INFO ] (MainThread) {'VPC [V]': 1.3002327889999996, 'VDDA_DAC [mA]': 2.0039990762671183, 'VDDP [V]': 1.7782266489468406, 'VDDP OC': False, 'VDDA [mA]': 30.612098034535094, 'VDDD [V]': 1.7994442140000002, 'VDDA_DAC OC': False, 'VDDD [mA]': 0.5009997250796382, 'VPCSWSF [V]': 0.5005069754368446, 'VDDP [mA]': 79.29257254369725, 'BiasSF [V]': 1.058522880236842, 'VDDD OC': False, 'VPC [mA]': -0.30600120862775315, 'VPCSWSF [mA]': -0.11206062506587944, 'VDDA [V]': 1.7855088356713427, 'VDDA OC': False, 'VDDA_DAC [V]': 1.7977220453172207, 'BiasSF [mA]': 0.10088749999999999}\n"
     ]
    }
   ],
   "source": [
    "chip=tjmonopix.tjmonopix.TJMonoPix(\n",
    "    conf=\"../tjmonopix/tjmonopix_mio3.yaml\",\n",
    "    no_power_reset=False)\n",
    "chip.init(\"EN_PMOS\")"
   ]
  },
  {
   "cell_type": "code",
   "execution_count": 22,
   "metadata": {},
   "outputs": [
    {
     "name": "stderr",
     "output_type": "stream",
     "text": [
      "2019-12-02 14:38:24,148 [INFO ] (MainThread) ibias = 45\n",
      "2019-12-02 14:38:24,150 [INFO ] (MainThread) ibias = 503.125nA\n"
     ]
    }
   ],
   "source": [
    "## (optional) reset configuration\n",
    "chip.default_conf()\n",
    "chip.write_conf()"
   ]
  },
  {
   "cell_type": "markdown",
   "metadata": {},
   "source": [
    "# Electrical tests"
   ]
  },
  {
   "cell_type": "code",
   "execution_count": 23,
   "metadata": {},
   "outputs": [
    {
     "name": "stderr",
     "output_type": "stream",
     "text": [
      "2019-12-02 14:38:28,774 [INFO ] (MainThread) vreset = 0.909330708661V\n",
      "2019-12-02 14:38:28,775 [INFO ] (MainThread) icasn = 0\n",
      "2019-12-02 14:38:28,777 [INFO ] (MainThread) icasn = 4.375nA\n",
      "2019-12-02 14:38:28,779 [INFO ] (MainThread) ireset = 60 low leakage mode\n",
      "2019-12-02 14:38:28,780 [INFO ] (MainThread) ireset = 20.849609375pA, low leakage mode\n",
      "2019-12-02 14:38:28,782 [INFO ] (MainThread) ithr = 15\n",
      "2019-12-02 14:38:28,783 [INFO ] (MainThread) ithr = 2.1875nA\n",
      "2019-12-02 14:38:28,785 [INFO ] (MainThread) idb = 15\n",
      "2019-12-02 14:38:28,786 [INFO ] (MainThread) idb = 280.0nA\n",
      "2019-12-02 14:38:28,788 [INFO ] (MainThread) ibias = 15\n",
      "2019-12-02 14:38:28,789 [INFO ] (MainThread) ibias = 175.0nA\n"
     ]
    }
   ],
   "source": [
    "####### CONFIGURE THE FRONT END ######\n",
    "# INPUT baseline\n",
    "chip.set_vreset_dacunits(35,1) #1V\n",
    "# OUTPUT BASELINE\n",
    "chip.set_icasn_dacunits(0,1) #4.375nA # approx 1.084V at -3V backbias, 600mV at 0V backbias\n",
    "# INOUT RESET rate\n",
    "chip.set_ireset_dacunits(2,1,1) #270pA, HIGH LEAKAGE MODE, NORMAL SCALING, 0 = LOW LEAKAGE MODE, SCALING*0.01\n",
    "# OUTPUT RESET rate\n",
    "chip.set_ithr_dacunits(5,1) #680pA\n",
    "# BIASING OF THE DISCRIMINATOR (AND THE THRESHOLD)\n",
    "chip.set_idb_dacunits(20,1) #500nA\n",
    "# DC current of Amp, OUTPUT RISE TIME\n",
    "chip.set_ibias_dacunits(20,1) #500nA\n",
    "chip.write_conf()"
   ]
  },
  {
   "cell_type": "code",
   "execution_count": 5,
   "metadata": {},
   "outputs": [
    {
     "name": "stderr",
     "output_type": "stream",
     "text": [
      "2019-11-29 18:00:05,424 [INFO ] (MainThread) vl = 1.00862204724V\n",
      "2019-11-29 18:00:05,426 [INFO ] (MainThread) vh = 1.50468503937V\n"
     ]
    }
   ],
   "source": [
    "#### (optional) check analog output\n",
    "chip.enable_analog()\n",
    "chip.set_inj_all(inj_n=0)\n",
    "chip.inject()"
   ]
  },
  {
   "cell_type": "code",
   "execution_count": 18,
   "metadata": {
    "scrolled": true
   },
   "outputs": [
    {
     "name": "stderr",
     "output_type": "stream",
     "text": [
      "2019-12-02 14:36:54,375 [INFO ] (MainThread) vl = 1.00862204724V\n",
      "2019-12-02 14:36:54,377 [INFO ] (MainThread) vh = 1.50468503937V\n",
      "2019-12-02 14:36:54,609 [INFO ] (MainThread) auto_mask th=2 step=10 exp=0.200000 fl=EN_HV\n",
      "2019-12-02 14:36:55,944 [INFO ] (MainThread) Enable MASKH 10 Noise data 5354\n",
      "2019-12-02 14:36:55,945 [INFO ] (MainThread) Number of noisy pixels: 6\n",
      "2019-12-02 14:36:56,175 [INFO ] (MainThread) Enable MASKH 20 Noise data 9125\n",
      "2019-12-02 14:36:56,177 [INFO ] (MainThread) Number of noisy pixels: 8\n",
      "2019-12-02 14:36:56,402 [INFO ] (MainThread) Enable MASKH 30 Noise data 2555\n",
      "2019-12-02 14:36:56,403 [INFO ] (MainThread) Number of noisy pixels: 13\n",
      "2019-12-02 14:36:56,628 [INFO ] (MainThread) Enable MASKH 40 Noise data 2068\n",
      "2019-12-02 14:36:56,630 [INFO ] (MainThread) Number of noisy pixels: 16\n",
      "2019-12-02 14:36:56,861 [INFO ] (MainThread) Enable MASKH 50 Noise data 13870\n",
      "2019-12-02 14:36:56,863 [INFO ] (MainThread) Number of noisy pixels: 22\n",
      "2019-12-02 14:36:57,097 [INFO ] (MainThread) Enable MASKH 60 Noise data 16303\n",
      "2019-12-02 14:36:57,098 [INFO ] (MainThread) Number of noisy pixels: 26\n",
      "2019-12-02 14:36:57,321 [INFO ] (MainThread) Enable MASKH 70 Noise data 11\n",
      "2019-12-02 14:36:57,322 [INFO ] (MainThread) Number of noisy pixels: 28\n",
      "2019-12-02 14:36:57,547 [INFO ] (MainThread) Enable MASKH 80 Noise data 304\n",
      "2019-12-02 14:36:57,548 [INFO ] (MainThread) Number of noisy pixels: 33\n",
      "2019-12-02 14:36:57,774 [INFO ] (MainThread) Enable MASKH 90 Noise data 96\n",
      "2019-12-02 14:36:57,775 [INFO ] (MainThread) Number of noisy pixels: 36\n",
      "2019-12-02 14:36:58,001 [INFO ] (MainThread) Enable MASKH 100 Noise data 13\n",
      "2019-12-02 14:36:58,002 [INFO ] (MainThread) Number of noisy pixels: 39\n",
      "2019-12-02 14:36:58,257 [INFO ] (MainThread) Enable MASKH 110 Noise data 41610\n",
      "2019-12-02 14:36:58,264 [INFO ] (MainThread) Number of noisy pixels: 44\n",
      "2019-12-02 14:36:58,489 [INFO ] (MainThread) Enable MASKH 120 Noise data 93\n",
      "2019-12-02 14:36:58,490 [INFO ] (MainThread) Number of noisy pixels: 48\n",
      "2019-12-02 14:36:58,715 [INFO ] (MainThread) Enable MASKH 130 Noise data 852\n",
      "2019-12-02 14:36:58,716 [INFO ] (MainThread) Number of noisy pixels: 51\n",
      "2019-12-02 14:36:58,943 [INFO ] (MainThread) Enable MASKH 140 Noise data 22\n",
      "2019-12-02 14:36:58,945 [INFO ] (MainThread) Number of noisy pixels: 52\n",
      "2019-12-02 14:36:59,171 [INFO ] (MainThread) Enable MASKH 150 Noise data 37\n",
      "2019-12-02 14:36:59,173 [INFO ] (MainThread) Number of noisy pixels: 53\n",
      "2019-12-02 14:36:59,406 [INFO ] (MainThread) Enable MASKH 160 Noise data 11193\n",
      "2019-12-02 14:36:59,407 [INFO ] (MainThread) Number of noisy pixels: 58\n",
      "2019-12-02 14:36:59,638 [INFO ] (MainThread) Enable MASKH 170 Noise data 7057\n",
      "2019-12-02 14:36:59,640 [INFO ] (MainThread) Number of noisy pixels: 60\n",
      "2019-12-02 14:36:59,868 [INFO ] (MainThread) Enable MASKH 180 Noise data 3285\n",
      "2019-12-02 14:36:59,870 [INFO ] (MainThread) Number of noisy pixels: 67\n",
      "2019-12-02 14:37:00,098 [INFO ] (MainThread) Enable MASKH 190 Noise data 2677\n",
      "2019-12-02 14:37:00,099 [INFO ] (MainThread) Number of noisy pixels: 74\n",
      "2019-12-02 14:37:00,326 [INFO ] (MainThread) Enable MASKH 200 Noise data 6\n",
      "2019-12-02 14:37:00,328 [INFO ] (MainThread) Number of noisy pixels: 75\n",
      "2019-12-02 14:37:00,556 [INFO ] (MainThread) Enable MASKH 210 Noise data 58\n",
      "2019-12-02 14:37:00,557 [INFO ] (MainThread) Number of noisy pixels: 78\n",
      "2019-12-02 14:37:00,784 [INFO ] (MainThread) Enable MASKH 220 Noise data 79\n",
      "2019-12-02 14:37:00,785 [INFO ] (MainThread) Number of noisy pixels: 81\n",
      "2019-12-02 14:37:01,012 [INFO ] (MainThread) Enable MASKH 223 Noise data 5\n",
      "2019-12-02 14:37:01,014 [INFO ] (MainThread) Number of noisy pixels: 82\n",
      "2019-12-02 14:37:01,242 [INFO ] (MainThread) Enable MASKV 10 Noise data 3\n",
      "2019-12-02 14:37:01,243 [INFO ] (MainThread) Number of noisy pixels: 82\n",
      "2019-12-02 14:37:01,470 [INFO ] (MainThread) Enable MASKV 20 Noise data 2\n",
      "2019-12-02 14:37:01,471 [INFO ] (MainThread) Number of noisy pixels: 82\n",
      "2019-12-02 14:37:01,700 [INFO ] (MainThread) Enable MASKV 30 Noise data 2\n",
      "2019-12-02 14:37:01,701 [INFO ] (MainThread) Number of noisy pixels: 82\n",
      "2019-12-02 14:37:01,929 [INFO ] (MainThread) Enable MASKV 40 Noise data 3\n",
      "2019-12-02 14:37:01,931 [INFO ] (MainThread) Number of noisy pixels: 82\n",
      "2019-12-02 14:37:02,158 [INFO ] (MainThread) Enable MASKV 50 Noise data 4\n",
      "2019-12-02 14:37:02,160 [INFO ] (MainThread) Number of noisy pixels: 82\n",
      "2019-12-02 14:37:02,387 [INFO ] (MainThread) Enable MASKV 60 Noise data 3\n",
      "2019-12-02 14:37:02,389 [INFO ] (MainThread) Number of noisy pixels: 82\n",
      "2019-12-02 14:37:02,615 [INFO ] (MainThread) Enable MASKV 70 Noise data 3\n",
      "2019-12-02 14:37:02,617 [INFO ] (MainThread) Number of noisy pixels: 82\n",
      "2019-12-02 14:37:02,844 [INFO ] (MainThread) Enable MASKV 80 Noise data 2\n",
      "2019-12-02 14:37:02,846 [INFO ] (MainThread) Number of noisy pixels: 82\n",
      "2019-12-02 14:37:03,073 [INFO ] (MainThread) Enable MASKV 90 Noise data 2\n",
      "2019-12-02 14:37:03,074 [INFO ] (MainThread) Number of noisy pixels: 82\n",
      "2019-12-02 14:37:03,302 [INFO ] (MainThread) Enable MASKV 100 Noise data 3\n",
      "2019-12-02 14:37:03,304 [INFO ] (MainThread) Number of noisy pixels: 82\n",
      "2019-12-02 14:37:03,532 [INFO ] (MainThread) Enable MASKV 110 Noise data 4\n",
      "2019-12-02 14:37:03,533 [INFO ] (MainThread) Number of noisy pixels: 83\n",
      "2019-12-02 14:37:03,760 [INFO ] (MainThread) Enable MASKV 111 Noise data 4\n",
      "2019-12-02 14:37:03,762 [INFO ] (MainThread) Number of noisy pixels: 84\n",
      "2019-12-02 14:37:03,990 [INFO ] (MainThread) Enable MASKD 10 Noise data 2\n",
      "2019-12-02 14:37:03,991 [INFO ] (MainThread) Number of noisy pixels: 84\n",
      "2019-12-02 14:37:04,219 [INFO ] (MainThread) Enable MASKD 20 Noise data 3\n",
      "2019-12-02 14:37:04,220 [INFO ] (MainThread) Number of noisy pixels: 85\n",
      "2019-12-02 14:37:04,447 [INFO ] (MainThread) Enable MASKD 30 Noise data 2\n",
      "2019-12-02 14:37:04,448 [INFO ] (MainThread) Number of noisy pixels: 85\n",
      "2019-12-02 14:37:04,676 [INFO ] (MainThread) Enable MASKD 40 Noise data 1\n",
      "2019-12-02 14:37:04,678 [INFO ] (MainThread) Number of noisy pixels: 85\n",
      "2019-12-02 14:37:04,905 [INFO ] (MainThread) Enable MASKD 50 Noise data 2\n",
      "2019-12-02 14:37:04,907 [INFO ] (MainThread) Number of noisy pixels: 85\n",
      "2019-12-02 14:37:05,134 [INFO ] (MainThread) Enable MASKD 60 Noise data 2\n",
      "2019-12-02 14:37:05,136 [INFO ] (MainThread) Number of noisy pixels: 85\n",
      "2019-12-02 14:37:05,363 [INFO ] (MainThread) Enable MASKD 70 Noise data 0\n",
      "2019-12-02 14:37:05,365 [INFO ] (MainThread) Number of noisy pixels: 85\n",
      "2019-12-02 14:37:05,593 [INFO ] (MainThread) Enable MASKD 80 Noise data 1\n",
      "2019-12-02 14:37:05,595 [INFO ] (MainThread) Number of noisy pixels: 85\n",
      "2019-12-02 14:37:05,822 [INFO ] (MainThread) Enable MASKD 90 Noise data 0\n",
      "2019-12-02 14:37:05,824 [INFO ] (MainThread) Number of noisy pixels: 85\n",
      "2019-12-02 14:37:06,052 [INFO ] (MainThread) Enable MASKD 100 Noise data 3\n",
      "2019-12-02 14:37:06,054 [INFO ] (MainThread) Number of noisy pixels: 85\n",
      "2019-12-02 14:37:06,282 [INFO ] (MainThread) Enable MASKD 110 Noise data 4\n",
      "2019-12-02 14:37:06,284 [INFO ] (MainThread) Number of noisy pixels: 85\n",
      "2019-12-02 14:37:06,511 [INFO ] (MainThread) Enable MASKD 120 Noise data 2\n",
      "2019-12-02 14:37:06,513 [INFO ] (MainThread) Number of noisy pixels: 85\n",
      "2019-12-02 14:37:06,740 [INFO ] (MainThread) Enable MASKD 130 Noise data 0\n",
      "2019-12-02 14:37:06,741 [INFO ] (MainThread) Number of noisy pixels: 85\n",
      "2019-12-02 14:37:06,969 [INFO ] (MainThread) Enable MASKD 140 Noise data 3\n",
      "2019-12-02 14:37:06,971 [INFO ] (MainThread) Number of noisy pixels: 85\n",
      "2019-12-02 14:37:07,200 [INFO ] (MainThread) Enable MASKD 150 Noise data 6\n",
      "2019-12-02 14:37:07,201 [INFO ] (MainThread) Number of noisy pixels: 85\n",
      "2019-12-02 14:37:07,428 [INFO ] (MainThread) Enable MASKD 160 Noise data 0\n",
      "2019-12-02 14:37:07,430 [INFO ] (MainThread) Number of noisy pixels: 85\n",
      "2019-12-02 14:37:07,658 [INFO ] (MainThread) Enable MASKD 170 Noise data 4\n",
      "2019-12-02 14:37:07,659 [INFO ] (MainThread) Number of noisy pixels: 85\n",
      "2019-12-02 14:37:07,886 [INFO ] (MainThread) Enable MASKD 180 Noise data 5\n",
      "2019-12-02 14:37:07,888 [INFO ] (MainThread) Number of noisy pixels: 85\n",
      "2019-12-02 14:37:08,114 [INFO ] (MainThread) Enable MASKD 190 Noise data 2\n",
      "2019-12-02 14:37:08,115 [INFO ] (MainThread) Number of noisy pixels: 85\n",
      "2019-12-02 14:37:08,343 [INFO ] (MainThread) Enable MASKD 200 Noise data 6\n"
     ]
    },
    {
     "name": "stderr",
     "output_type": "stream",
     "text": [
      "2019-12-02 14:37:08,345 [INFO ] (MainThread) Number of noisy pixels: 85\n",
      "2019-12-02 14:37:08,573 [INFO ] (MainThread) Enable MASKD 210 Noise data 4\n",
      "2019-12-02 14:37:08,575 [INFO ] (MainThread) Number of noisy pixels: 85\n",
      "2019-12-02 14:37:08,803 [INFO ] (MainThread) Enable MASKD 220 Noise data 2\n",
      "2019-12-02 14:37:08,804 [INFO ] (MainThread) Number of noisy pixels: 85\n",
      "2019-12-02 14:37:09,032 [INFO ] (MainThread) Enable MASKD 230 Noise data 4\n",
      "2019-12-02 14:37:09,034 [INFO ] (MainThread) Number of noisy pixels: 86\n",
      "2019-12-02 14:37:09,262 [INFO ] (MainThread) Enable MASKD 240 Noise data 3\n",
      "2019-12-02 14:37:09,263 [INFO ] (MainThread) Number of noisy pixels: 87\n",
      "2019-12-02 14:37:09,491 [INFO ] (MainThread) Enable MASKD 250 Noise data 3\n",
      "2019-12-02 14:37:09,493 [INFO ] (MainThread) Number of noisy pixels: 87\n",
      "2019-12-02 14:37:09,720 [INFO ] (MainThread) Enable MASKD 260 Noise data 2\n",
      "2019-12-02 14:37:09,722 [INFO ] (MainThread) Number of noisy pixels: 87\n",
      "2019-12-02 14:37:09,948 [INFO ] (MainThread) Enable MASKD 270 Noise data 0\n",
      "2019-12-02 14:37:09,950 [INFO ] (MainThread) Number of noisy pixels: 87\n",
      "2019-12-02 14:37:10,178 [INFO ] (MainThread) Enable MASKD 280 Noise data 4\n",
      "2019-12-02 14:37:10,179 [INFO ] (MainThread) Number of noisy pixels: 88\n",
      "2019-12-02 14:37:10,407 [INFO ] (MainThread) Enable MASKD 290 Noise data 4\n",
      "2019-12-02 14:37:10,409 [INFO ] (MainThread) Number of noisy pixels: 89\n",
      "2019-12-02 14:37:10,637 [INFO ] (MainThread) Enable MASKD 300 Noise data 5\n",
      "2019-12-02 14:37:10,638 [INFO ] (MainThread) Number of noisy pixels: 90\n",
      "2019-12-02 14:37:10,865 [INFO ] (MainThread) Enable MASKD 310 Noise data 4\n",
      "2019-12-02 14:37:10,867 [INFO ] (MainThread) Number of noisy pixels: 90\n",
      "2019-12-02 14:37:11,094 [INFO ] (MainThread) Enable MASKD 320 Noise data 0\n",
      "2019-12-02 14:37:11,096 [INFO ] (MainThread) Number of noisy pixels: 90\n",
      "2019-12-02 14:37:11,323 [INFO ] (MainThread) Enable MASKD 330 Noise data 4\n",
      "2019-12-02 14:37:11,325 [INFO ] (MainThread) Number of noisy pixels: 91\n",
      "2019-12-02 14:37:11,553 [INFO ] (MainThread) Enable MASKD 340 Noise data 1\n",
      "2019-12-02 14:37:11,554 [INFO ] (MainThread) Number of noisy pixels: 91\n",
      "2019-12-02 14:37:11,783 [INFO ] (MainThread) Enable MASKD 350 Noise data 3\n",
      "2019-12-02 14:37:11,785 [INFO ] (MainThread) Number of noisy pixels: 91\n",
      "2019-12-02 14:37:12,013 [INFO ] (MainThread) Enable MASKD 360 Noise data 1\n",
      "2019-12-02 14:37:12,015 [INFO ] (MainThread) Number of noisy pixels: 91\n",
      "2019-12-02 14:37:12,242 [INFO ] (MainThread) Enable MASKD 370 Noise data 2\n",
      "2019-12-02 14:37:12,244 [INFO ] (MainThread) Number of noisy pixels: 91\n",
      "2019-12-02 14:37:12,471 [INFO ] (MainThread) Enable MASKD 380 Noise data 2\n",
      "2019-12-02 14:37:12,473 [INFO ] (MainThread) Number of noisy pixels: 91\n",
      "2019-12-02 14:37:12,702 [INFO ] (MainThread) Enable MASKD 390 Noise data 1\n",
      "2019-12-02 14:37:12,703 [INFO ] (MainThread) Number of noisy pixels: 91\n",
      "2019-12-02 14:37:12,932 [INFO ] (MainThread) Enable MASKD 400 Noise data 5\n",
      "2019-12-02 14:37:12,933 [INFO ] (MainThread) Number of noisy pixels: 91\n",
      "2019-12-02 14:37:13,160 [INFO ] (MainThread) Enable MASKD 410 Noise data 0\n",
      "2019-12-02 14:37:13,162 [INFO ] (MainThread) Number of noisy pixels: 91\n",
      "2019-12-02 14:37:13,389 [INFO ] (MainThread) Enable MASKD 420 Noise data 1\n",
      "2019-12-02 14:37:13,391 [INFO ] (MainThread) Number of noisy pixels: 91\n",
      "2019-12-02 14:37:13,619 [INFO ] (MainThread) Enable MASKD 430 Noise data 2\n",
      "2019-12-02 14:37:13,621 [INFO ] (MainThread) Number of noisy pixels: 91\n",
      "2019-12-02 14:37:13,848 [INFO ] (MainThread) Enable MASKD 440 Noise data 0\n",
      "2019-12-02 14:37:13,850 [INFO ] (MainThread) Number of noisy pixels: 91\n",
      "2019-12-02 14:37:14,076 [INFO ] (MainThread) Enable MASKD 447 Noise data 2\n",
      "2019-12-02 14:37:14,078 [INFO ] (MainThread) Number of noisy pixels: 91\n",
      "2019-12-02 14:37:14,305 [INFO ] (MainThread) Checking noisy pixels after masking...\n",
      "2019-12-02 14:37:14,307 [INFO ] (MainThread) Data size: 0\n",
      "2019-12-02 14:37:14,309 [INFO ] (MainThread) Number of noisy pixels: 91\n",
      "2019-12-02 14:37:14,627 [INFO ] (MainThread) Noisy pixels: [(3,   0,   5) (3,   0,  54) (3,   0,  67) (3,   1,  25) (3,   3,  18)\n",
      " (3,   3, 207) (3,   4,  68) (3,   5, 105) (3,   6,  77) (3,   8, 103)\n",
      " (3,   8, 125) (3,   9,  36) (3,  12, 176) (3,  12, 177) (3,  12, 190)\n",
      " (3,  14,   4) (3,  14,  54) (3,  14, 128) (3,  15,  17) (3,  16, 138)\n",
      " (3,  17,  22) (3,  18,  21) (3,  19, 222) (3,  21,  77) (3,  21, 111)\n",
      " (3,  22,  63) (3,  22,  66) (3,  25,  93) (3,  26,   3) (3,  26,  47)\n",
      " (3,  29,  90) (3,  33,  59) (3,  34,  44) (3,  36,   4) (3,  37,  77)\n",
      " (3,  38, 189) (3,  40,  60) (3,  41, 115) (3,  44, 155) (3,  44, 180)\n",
      " (3,  46, 215) (3,  49,  37) (3,  49,  55) (3,  50,   4) (3,  50,  53)\n",
      " (3,  55,  56) (3,  57,  28) (3,  57, 109) (3,  61,  43) (3,  63,  68)\n",
      " (3,  65, 214) (3,  66,  89) (3,  67, 182) (3,  68, 191) (3,  69, 101)\n",
      " (3,  70,   4) (3,  71,  23) (3,  71,  40) (3,  74, 119) (3,  74, 167)\n",
      " (3,  75,  83) (3,  76,  11) (3,  77,  94) (3,  81, 137) (3,  82, 201)\n",
      " (3,  83,  25) (3,  83,  87) (3,  83,  88) (3,  85,   9) (3,  88, 184)\n",
      " (3,  89, 173) (3,  90,  30) (3,  90, 176) (3,  92,  83) (3,  93,   1)\n",
      " (3,  95,  12) (3,  97,  45) (3,  97,  73) (3, 100,  41) (3, 101,  25)\n",
      " (3, 101,  32) (3, 103, 213) (3, 104, 173) (3, 107, 146) (3, 107, 152)\n",
      " (3, 110, 160) (3, 110, 165)]\n",
      "2019-12-02 14:37:14,629 [INFO ] (MainThread) Total number of noisy pixels: 87\n",
      "2019-12-02 14:37:15,162 [INFO ] (MainThread) Number of enabled pixels: 23678\n",
      "2019-12-02 14:37:15,164 [INFO ] (MainThread) Number of disabled pixels (noisy plus unintentionally masked): 1410\n"
     ]
    },
    {
     "data": {
      "text/plain": [
       "array([(3,   0,   5), (3,   0,  54), (3,   0,  67), (3,   1,  25),\n",
       "       (3,   3,  18), (3,   3, 207), (3,   4,  68), (3,   5, 105),\n",
       "       (3,   6,  77), (3,   8, 103), (3,   8, 125), (3,   9,  36),\n",
       "       (3,  12, 176), (3,  12, 177), (3,  12, 190), (3,  14,   4),\n",
       "       (3,  14,  54), (3,  14, 128), (3,  15,  17), (3,  16, 138),\n",
       "       (3,  17,  22), (3,  18,  21), (3,  19, 222), (3,  21,  77),\n",
       "       (3,  21, 111), (3,  22,  63), (3,  22,  66), (3,  25,  93),\n",
       "       (3,  26,   3), (3,  26,  47), (3,  29,  90), (3,  33,  59),\n",
       "       (3,  34,  44), (3,  36,   4), (3,  37,  77), (3,  38, 189),\n",
       "       (3,  40,  60), (3,  41, 115), (3,  44, 155), (3,  44, 180),\n",
       "       (3,  46, 215), (3,  49,  37), (3,  49,  55), (3,  50,   4),\n",
       "       (3,  50,  53), (3,  55,  56), (3,  57,  28), (3,  57, 109),\n",
       "       (3,  61,  43), (3,  63,  68), (3,  65, 214), (3,  66,  89),\n",
       "       (3,  67, 182), (3,  68, 191), (3,  69, 101), (3,  70,   4),\n",
       "       (3,  71,  23), (3,  71,  40), (3,  74, 119), (3,  74, 167),\n",
       "       (3,  75,  83), (3,  76,  11), (3,  77,  94), (3,  81, 137),\n",
       "       (3,  82, 201), (3,  83,  25), (3,  83,  87), (3,  83,  88),\n",
       "       (3,  85,   9), (3,  88, 184), (3,  89, 173), (3,  90,  30),\n",
       "       (3,  90, 176), (3,  92,  83), (3,  93,   1), (3,  95,  12),\n",
       "       (3,  97,  45), (3,  97,  73), (3, 100,  41), (3, 101,  25),\n",
       "       (3, 101,  32), (3, 103, 213), (3, 104, 173), (3, 107, 146),\n",
       "       (3, 107, 152), (3, 110, 160), (3, 110, 165)],\n",
       "      dtype=[('flavor', 'u1'), ('col', 'u1'), ('row', '<u2')])"
      ]
     },
     "execution_count": 18,
     "metadata": {},
     "output_type": "execute_result"
    }
   ],
   "source": [
    "#### enable pixels and mask noisy pixels\n",
    "chip.set_inj_all(inj_n=1)\n",
    "chip.set_monoread()\n",
    "chip.auto_mask()"
   ]
  },
  {
   "cell_type": "code",
   "execution_count": 11,
   "metadata": {},
   "outputs": [
    {
     "data": {
      "text/plain": [
       "{'BiasSF [V]': 1.0635227215526315,\n",
       " 'BiasSF [mA]': 0.10038269679999999,\n",
       " 'VDDA OC': False,\n",
       " 'VDDA [V]': 1.7945024418837676,\n",
       " 'VDDA [mA]': 13.265242527115744,\n",
       " 'VDDA_DAC OC': False,\n",
       " 'VDDA_DAC [V]': 1.7977220453172207,\n",
       " 'VDDA_DAC [mA]': 2.0039990762671183,\n",
       " 'VDDD OC': False,\n",
       " 'VDDD [V]': 1.7994442140000002,\n",
       " 'VDDD [mA]': 0.5009997250796382,\n",
       " 'VDDP OC': False,\n",
       " 'VDDP [V]': 1.7782266489468406,\n",
       " 'VDDP [mA]': 79.29257254369725,\n",
       " 'VPC [V]': 1.3002327889999996,\n",
       " 'VPC [mA]': 0.09600039464051395,\n",
       " 'VPCSWSF [V]': 0.5005069754368446,\n",
       " 'VPCSWSF [mA]': 0.033165939617373685}"
      ]
     },
     "execution_count": 11,
     "metadata": {},
     "output_type": "execute_result"
    }
   ],
   "source": [
    "### check power status (VDDD < several mA, VDDP roughly 80mA)\n",
    "chip.get_power_status()"
   ]
  },
  {
   "cell_type": "code",
   "execution_count": 24,
   "metadata": {},
   "outputs": [
    {
     "name": "stdout",
     "output_type": "stream",
     "text": [
      "preamp True\n",
      "inj True\n"
     ]
    },
    {
     "data": {
      "image/png": "[encoded data removed]",
      "text/plain": [
       "<Figure size 432x288 with 1 Axes>"
      ]
     },
     "metadata": {
      "needs_background": "light"
     },
     "output_type": "display_data"
    }
   ],
   "source": [
    "### check \n",
    "### select one pixel\n",
    "col=50\n",
    "row=50\n",
    "chip.enable_injection(chip.fl_n, col, row)\n",
    "#chip.enable_pixel(chip.fl_n,col,row) \n",
    "#chip.enable_hitor(chip.fl_n,col,row)\n",
    "mask=chip.get_pixel_status(mask=None,mode=\"all\")\n",
    "print \"preamp of [%d,%d]:\"%(col,row),\n",
    "print chip.get_pixel_status(mask=mask,mode=\"preamp\")[chip.fl_n, col, row]\n",
    "print \"inj of [%d,%d]:\"%(col,row),\n",
    "print chip.get_pixel_status(mask=mask,mode=\"inj\")[chip.fl_n, col, row]\n",
    "print \"hitor of [%d,%d]:\"%(col,row),\n",
    "print chip.get_pixel_status(mask=mask,mode=\"mon\")[chip.fl_n, col, row]\n",
    "\n",
    "plt.imshow(chip.get_pixel_status(mask=mask,mode=\"preamp\")[chip.fl_n,:,:],\n",
    "           interpolation=\"none\",origin=\"bottomleft\")\n",
    "plt.title(\"Enabled pixel = yellow\");"
   ]
  },
  {
   "cell_type": "code",
   "execution_count": 27,
   "metadata": {},
   "outputs": [
    {
     "name": "stderr",
     "output_type": "stream",
     "text": [
      "2019-12-02 14:38:43,450 [INFO ] (MainThread) vl = 1.00862204724V\n",
      "2019-12-02 14:38:43,452 [INFO ] (MainThread) vh = 1.50468503937V\n"
     ]
    },
    {
     "name": "stdout",
     "output_type": "stream",
     "text": [
      "1000\n",
      "(10, 10) 1000\n"
     ]
    }
   ],
   "source": [
    "### (optional) inject 1 pixel. it is good idea to run this once/twice.\n",
    "chip.set_inj_all(inj_n=1000,inj_phase=0)\n",
    "#chip.reset_ibias()\n",
    "chip.set_monoread()\n",
    "chip.inject()\n",
    "time.sleep(1)\n",
    "dat=chip.interpret_data(chip['fifo'].get_data())\n",
    "print \"n of data\", len(dat)\n",
    "if len(dat)!=0:\n",
    "    uni,cnt=np.unique(dat[[\"col\",'row']], return_counts=True)\n",
    "    arg=np.argsort(cnt)\n",
    "    for a in arg[::-1]:\n",
    "        print uni[a],cnt[a]"
   ]
  },
  {
   "cell_type": "code",
   "execution_count": 28,
   "metadata": {},
   "outputs": [
    {
     "name": "stderr",
     "output_type": "stream",
     "text": [
      "2019-12-02 14:38:46,011 [INFO ] (MainThread) vl = 1.00862204724V\n",
      "2019-12-02 14:38:46,013 [INFO ] (MainThread) vh = 1.50468503937V\n",
      "2019-12-02 14:38:46,017 [INFO ] (MainThread) Initializing ThScan\n",
      "2019-12-02 14:38:46,294 [INFO ] (MainThread) Power status: {'VPC [V]': 1.3002327889999996, 'VDDA_DAC [mA]': 2.0039990762671183, 'VDDP [V]': 1.7782266489468406, 'VDDP OC': False, 'VDDA [mA]': 13.265242527115744, 'VDDD [V]': 1.8014440960000002, 'VDDA_DAC OC': False, 'VDDD [mA]': 7.585704998729309e-08, 'VPCSWSF [V]': 0.5000079, 'VDDP [mA]': 79.29257254369725, 'BiasSF [V]': 1.0645226898157893, 'VDDD OC': False, 'VPC [mA]': -0.062000235499750256, 'VPCSWSF [mA]': 0.13668383693484826, 'VDDA [V]': 1.7945024418837676, 'VDDA OC': False, 'VDDA_DAC [V]': 1.7977220453172207, 'BiasSF [mA]': 0.10038269679999999}\n",
      "2019-12-02 14:38:46,492 [INFO ] (MainThread) Temperature: 30.2 C\n",
      "2019-12-02 14:38:46,524 [INFO ] (MainThread) Creating ZMQ context\n",
      "2019-12-02 14:38:46,525 [INFO ] (MainThread) Creating socket connection to server tcp://127.0.0.1:5500\n",
      "2019-12-02 14:38:46,527 [INFO ] (MainThread) ScanBase.start:data_send.data_send_init connected\n",
      "2019-12-02 14:38:46,529 [INFO ] (MainThread) Resetting SRAM FIFO: size = 0\n",
      "2019-12-02 14:38:46,964 [INFO ] (MainThread) Set timestamp: src=inj\n",
      "2019-12-02 14:38:47,519 [INFO ] (MainThread) Starting FIFO readout\n",
      "2019-12-02 14:38:49,113 [INFO ] (MainThread) Stopped FIFO readout\n",
      "2019-12-02 14:38:49,117 [INFO ] (MainThread) g=None, dat=139227\n",
      "2019-12-02 14:38:49,119 [INFO ] (MainThread) Recived words: 139227\n",
      "2019-12-02 14:38:49,120 [INFO ] (MainThread) Data queue size: 0\n",
      "2019-12-02 14:38:49,122 [INFO ] (MainThread) SRAM FIFO size: 0\n",
      "2019-12-02 14:38:49,123 [INFO ] (MainThread) Channel:                     TDC | DATA_RX | TLU | TIMESTAMP\n",
      "2019-12-02 14:38:49,125 [INFO ] (MainThread) Discard counter:             None |       0 |   0 |         0\n",
      "2019-12-02 14:38:49,400 [INFO ] (MainThread) Power status: {'VPC [V]': 1.3002327889999996, 'VDDA_DAC [mA]': 2.0039990762671183, 'VDDP [V]': 1.7782266489468406, 'VDDP OC': False, 'VDDA [mA]': 13.265242527115744, 'VDDD [V]': 1.8014440960000002, 'VDDA_DAC OC': False, 'VDDD [mA]': 7.585704998729309e-08, 'VPCSWSF [V]': 0.5000079, 'VDDP [mA]': 79.29257254369725, 'BiasSF [V]': 1.0650226739473683, 'VDDD OC': False, 'VPC [mA]': -0.10100039104070153, 'VPCSWSF [mA]': -0.1130656531951753, 'VDDA [V]': 1.7945024418837676, 'VDDA OC': False, 'VDDA_DAC [V]': 1.7977220453172207, 'BiasSF [mA]': 0.10088749999999999}\n",
      "2019-12-02 14:38:49,607 [INFO ] (MainThread) Temperature: 30.2 C\n",
      "2019-12-02 14:38:49,638 [INFO ] (MainThread) Closing socket connection\n"
     ]
    },
    {
     "name": "stdout",
     "output_type": "stream",
     "text": [
      "0 139226 100.000% 0.002s 46409hits 0errs\n",
      "data (inj_n 1000,inj_loop 35): INJ=35000 MONO=11409 MON=0\n",
      "0 46409 100.000% 0.003s 11409hits 0errs\n",
      "delete_noninjected from 11409 to 11409 to 11409 100.000 percent\n",
      "delete_cetainvalue from 11409 to 11409 100.000 percent\n",
      "fit mu=7.625e+02(23.1054DU) sigma=2.612e+01(0.7916DU)\n"
     ]
    },
    {
     "data": {
      "image/png": "[encoded data removed]",
      "text/plain": [
       "<Figure size 432x288 with 2 Axes>"
      ]
     },
     "metadata": {
      "needs_background": "light"
     },
     "output_type": "display_data"
    }
   ],
   "source": [
    "### S-curve\n",
    "chip.set_inj_all(inj_n=1000,inj_phase=0)\n",
    "reload(th_scan)\n",
    "scan=th_scan.ThScan(chip)\n",
    "scan.start(rowlist=np.arange(row,row+1,1), ## list of rows\n",
    "           collist=np.arange(col,col+1,1), ## list of columns\n",
    "           n_mask_col=1,                   ## maximum number of columns which are injected at once\n",
    "           injlist=np.arange(0,35)         ## scan values of test pulse amplitude in DU\n",
    "           )                               ## do not change\n",
    "scan.analyze(scan.output_filename)\n",
    "scan.stop()\n",
    "fraw=scan.output_filename+'.h5'\n",
    "fev=fraw[:-7]+'ev.h5'\n",
    "\n",
    "with tb.open_file(fev) as f:\n",
    "    cnts=f.root.Cnts[:]\n",
    "    inj=f.root.ScurveFit.attrs.injlist\n",
    "    fit=f.root.ScurveFit[:]\n",
    "fig,ax=plt.subplots(ncols=1,nrows=1,sharey=True)\n",
    "ax=[ax]\n",
    "cnts=cnts[np.bitwise_and(cnts['col']==col,cnts['row']==row)]\n",
    "fit=fit[np.bitwise_and(fit['col']==col,fit['row']==row)][0]\n",
    "cnt=np.zeros(len(inj))\n",
    "for c in cnts:\n",
    "    cnt[np.argwhere(inj==c[\"inj\"])[0][0]]=c['cnt']\n",
    "x,y=tjmonopix.analysis.utils.scurve_from_fit(th=inj,n=500,\n",
    "        reverse=False,A_fit=fit[\"A\"],mu_fit=fit[\"mu\"],sigma_fit=fit['sigma'])\n",
    "ax[0].plot(inj,cnt,\"o\")\n",
    "ax[0].plot(x,y,\"-\")\n",
    "ax2=ax[0].twiny()\n",
    "ax[0].set_xbound(np.min(inj),np.max(inj))\n",
    "ax2.set_xbound(np.min(inj)*DUtoe,np.max(inj)*DUtoe)\n",
    "ax[0].set_xlabel(\"Injection [DU]\")\n",
    "ax2.set_xlabel(\"Signal [e]\")\n",
    "print \"fit mu=%.3e(%.4fDU)\"%(fit[\"mu\"]*DUtoe,fit[\"mu\"]),\n",
    "print \"sigma=%.3e(%.4fDU)\"%(fit[\"sigma\"]*DUtoe,fit[\"sigma\"])"
   ]
  },
  {
   "cell_type": "code",
   "execution_count": 15,
   "metadata": {},
   "outputs": [
    {
     "name": "stderr",
     "output_type": "stream",
     "text": [
      "2019-11-29 18:04:15,634 [INFO ] (MainThread) vl = 1.00862204724V\n",
      "2019-11-29 18:04:15,636 [INFO ] (MainThread) vh = 1.50468503937V\n",
      "2019-11-29 18:04:15,640 [INFO ] (MainThread) Initializing ThScan\n",
      "2019-11-29 18:04:15,911 [INFO ] (MainThread) Power status: {'VPC [V]': 1.3002327889999996, 'VDDA_DAC [mA]': 2.0039990762671183, 'VDDP [V]': 1.7772265476429288, 'VDDP OC': False, 'VDDA [mA]': 13.7754441596869, 'VDDD [V]': 1.800444155, 'VDDA_DAC OC': False, 'VDDD [mA]': 7.585704998729309e-08, 'VPCSWSF [V]': 0.5005069754368446, 'VDDP [mA]': 88.38344072402552, 'BiasSF [V]': 1.0650226739473683, 'VDDD OC': False, 'VPC [mA]': -0.1580006183697842, 'VPCSWSF [mA]': 0.04623130529821999, 'VDDA [V]': 1.7935031523046094, 'VDDA OC': False, 'VDDA_DAC [V]': 1.7977220453172207, 'BiasSF [mA]': 0.10088749999999999}\n",
      "2019-11-29 18:04:16,112 [INFO ] (MainThread) Temperature: 30.2 C\n",
      "2019-11-29 18:04:16,147 [INFO ] (MainThread) Creating ZMQ context\n",
      "2019-11-29 18:04:16,149 [INFO ] (MainThread) Creating socket connection to server tcp://127.0.0.1:5500\n",
      "2019-11-29 18:04:16,150 [INFO ] (MainThread) ScanBase.start:data_send.data_send_init connected\n",
      "2019-11-29 18:04:16,152 [INFO ] (MainThread) Resetting SRAM FIFO: size = 0\n",
      "2019-11-29 18:04:17,488 [INFO ] (MainThread) Set timestamp: src=inj\n",
      "2019-11-29 18:04:18,043 [INFO ] (MainThread) Starting FIFO readout\n",
      "2019-11-29 18:05:15,636 [INFO ] (MainThread) scan_param_id=0 dat=3741272: cols=[0]\n",
      "2019-11-29 18:05:16,142 [INFO ] (MainThread) Stopped FIFO readout\n",
      "2019-11-29 18:05:16,144 [INFO ] (MainThread) Starting FIFO readout\n",
      "2019-11-29 18:06:14,038 [INFO ] (MainThread) scan_param_id=1 dat=30838: cols=[10]\n",
      "2019-11-29 18:06:14,544 [INFO ] (MainThread) Stopped FIFO readout\n",
      "2019-11-29 18:06:14,547 [INFO ] (MainThread) Starting FIFO readout\n",
      "2019-11-29 18:07:11,718 [INFO ] (MainThread) scan_param_id=2 dat=20348: cols=[20]\n",
      "2019-11-29 18:07:12,221 [INFO ] (MainThread) Stopped FIFO readout\n",
      "2019-11-29 18:07:12,223 [INFO ] (MainThread) Starting FIFO readout\n",
      "2019-11-29 18:08:09,772 [INFO ] (MainThread) scan_param_id=3 dat=-17076: cols=[30]\n",
      "2019-11-29 18:08:10,279 [INFO ] (MainThread) Stopped FIFO readout\n",
      "2019-11-29 18:08:10,281 [INFO ] (MainThread) Starting FIFO readout\n",
      "2019-11-29 18:09:07,567 [INFO ] (MainThread) scan_param_id=4 dat=-5787: cols=[40]\n",
      "2019-11-29 18:09:08,075 [INFO ] (MainThread) Stopped FIFO readout\n",
      "2019-11-29 18:09:08,077 [INFO ] (MainThread) Starting FIFO readout\n",
      "2019-11-29 18:10:05,957 [INFO ] (MainThread) scan_param_id=5 dat=-52959: cols=[50]\n",
      "2019-11-29 18:10:06,462 [INFO ] (MainThread) Stopped FIFO readout\n",
      "2019-11-29 18:10:06,464 [INFO ] (MainThread) Starting FIFO readout\n",
      "2019-11-29 18:11:04,315 [INFO ] (MainThread) scan_param_id=6 dat=61857: cols=[60]\n",
      "2019-11-29 18:11:04,823 [INFO ] (MainThread) Stopped FIFO readout\n",
      "2019-11-29 18:11:04,826 [INFO ] (MainThread) Starting FIFO readout\n",
      "2019-11-29 18:12:02,389 [INFO ] (MainThread) scan_param_id=7 dat=-9162: cols=[70]\n",
      "2019-11-29 18:12:02,893 [INFO ] (MainThread) Stopped FIFO readout\n",
      "2019-11-29 18:12:02,895 [INFO ] (MainThread) Starting FIFO readout\n",
      "2019-11-29 18:13:00,764 [INFO ] (MainThread) scan_param_id=8 dat=40516: cols=[80]\n",
      "2019-11-29 18:13:01,268 [INFO ] (MainThread) Stopped FIFO readout\n",
      "2019-11-29 18:13:01,271 [INFO ] (MainThread) Starting FIFO readout\n",
      "2019-11-29 18:13:59,032 [INFO ] (MainThread) scan_param_id=9 dat=-22231: cols=[90]\n",
      "2019-11-29 18:13:59,536 [INFO ] (MainThread) Stopped FIFO readout\n",
      "2019-11-29 18:13:59,537 [INFO ] (MainThread) Starting FIFO readout\n",
      "2019-11-29 18:14:57,008 [INFO ] (MainThread) scan_param_id=10 dat=-12068: cols=[100]\n",
      "2019-11-29 18:14:57,512 [INFO ] (MainThread) Stopped FIFO readout\n",
      "2019-11-29 18:14:57,516 [INFO ] (MainThread) Starting FIFO readout\n",
      "2019-11-29 18:15:54,693 [INFO ] (MainThread) scan_param_id=11 dat=-28792: cols=[110]\n",
      "2019-11-29 18:15:55,199 [INFO ] (MainThread) Stopped FIFO readout\n",
      "2019-11-29 18:15:55,204 [INFO ] (MainThread) g=None, dat=235\n",
      "2019-11-29 18:15:55,206 [INFO ] (MainThread) Recived words: 3746991\n",
      "2019-11-29 18:15:55,208 [INFO ] (MainThread) Data queue size: 0\n",
      "2019-11-29 18:15:55,210 [INFO ] (MainThread) SRAM FIFO size: 0\n",
      "2019-11-29 18:15:55,211 [INFO ] (MainThread) Channel:                     TDC | DATA_RX | TLU | TIMESTAMP\n",
      "2019-11-29 18:15:55,213 [INFO ] (MainThread) Discard counter:             None |       0 |   0 |         0\n",
      "2019-11-29 18:15:55,494 [INFO ] (MainThread) Power status: {'VPC [V]': 1.3002327889999996, 'VDDA_DAC [mA]': 2.0039990762671183, 'VDDP [V]': 1.7772265476429288, 'VDDP OC': False, 'VDDA [mA]': 13.7754441596869, 'VDDD [V]': 1.800444155, 'VDDA_DAC OC': False, 'VDDD [mA]': 7.585704998729309e-08, 'VPCSWSF [V]': 0.5005069754368446, 'VDDP [mA]': 88.38344072402552, 'BiasSF [V]': 1.0660226422105261, 'VDDD OC': False, 'VPC [mA]': 0.07800032285238258, 'VPCSWSF [mA]': 0.16582965268442845, 'VDDA [V]': 1.7945024418837676, 'VDDA OC': False, 'VDDA_DAC [V]': 1.7977220453172207, 'BiasSF [mA]': 0.10088749999999999}\n",
      "2019-11-29 18:15:55,707 [INFO ] (MainThread) Temperature: 31.0 C\n",
      "2019-11-29 18:15:55,737 [INFO ] (MainThread) Closing socket connection\n"
     ]
    },
    {
     "name": "stdout",
     "output_type": "stream",
     "text": [
      "0 45238535 100.000% 0.470s 15079512hits 0errs\n",
      "data (inj_n 100,inj_loop 7840): INJ=6247657 MONO=3752343 MON=0\n"
     ]
    },
    {
     "ename": "HDF5ExtError",
     "evalue": "HDF5 error back trace\n\n  File \"H5Dio.c\", line 336, in H5Dwrite\n    can't write data\n  File \"H5Dio.c\", line 828, in H5D__write\n    can't write data\n  File \"H5Dchunk.c\", line 2363, in H5D__chunk_write\n    unable to read raw data chunk\n  File \"H5Dchunk.c\", line 3686, in H5D__chunk_lock\n    unable to preempt chunk(s) from cache\n  File \"H5Dchunk.c\", line 3352, in H5D__chunk_cache_prune\n    unable to preempt one or more raw data cache entry\n  File \"H5Dchunk.c\", line 3203, in H5D__chunk_cache_evict\n    cannot flush indexed storage buffer\n  File \"H5Dchunk.c\", line 3123, in H5D__chunk_flush_entry\n    unable to write raw data to file\n  File \"H5Fio.c\", line 165, in H5F_block_write\n    write through page buffer failed\n  File \"H5PB.c\", line 1028, in H5PB_write\n    write through metadata accumulator failed\n  File \"H5Faccum.c\", line 826, in H5F__accum_write\n    file write failed\n  File \"H5FDint.c\", line 258, in H5FD_write\n    driver write request failed\n  File \"H5FDsec2.c\", line 811, in H5FD_sec2_write\n    file write failed: time = Fri Nov 29 18:15:59 2019\n, filename = '/home/user/workspace/tjmonopix/tjmonopix_30/examples/output_data/20191129_180415_th_ev.h5', file descriptor = 4, errno = 28, error message = 'No space left on device', buf = 0x556958dfd432, total write size = 63759, bytes this sub-write = 63759, bytes actually written = 18446744073709551615, offset = 133582848\n\nEnd of HDF5 error back trace\n\nProblems appending the records.",
     "output_type": "error",
     "traceback": [
      "\u001b[0;31m---------------------------------------------------------------------------\u001b[0m",
      "\u001b[0;31mHDF5ExtError\u001b[0m                              Traceback (most recent call last)",
      "\u001b[0;32m<ipython-input-15-58929b10b7cc>\u001b[0m in \u001b[0;36m<module>\u001b[0;34m()\u001b[0m\n\u001b[1;32m      8\u001b[0m            \u001b[0minjlist\u001b[0m\u001b[0;34m=\u001b[0m\u001b[0mnp\u001b[0m\u001b[0;34m.\u001b[0m\u001b[0marange\u001b[0m\u001b[0;34m(\u001b[0m\u001b[0;36m0\u001b[0m\u001b[0;34m,\u001b[0m\u001b[0;36m35\u001b[0m\u001b[0;34m)\u001b[0m\u001b[0;34m,\u001b[0m        \u001b[0;31m## scan values of test pulse amplitude in DU\u001b[0m\u001b[0;34m\u001b[0m\u001b[0m\n\u001b[1;32m      9\u001b[0m            debug=4)                        \n\u001b[0;32m---> 10\u001b[0;31m \u001b[0mscan\u001b[0m\u001b[0;34m.\u001b[0m\u001b[0manalyze\u001b[0m\u001b[0;34m(\u001b[0m\u001b[0mscan\u001b[0m\u001b[0;34m.\u001b[0m\u001b[0moutput_filename\u001b[0m\u001b[0;34m)\u001b[0m\u001b[0;34m\u001b[0m\u001b[0m\n\u001b[0m\u001b[1;32m     11\u001b[0m \u001b[0mscan\u001b[0m\u001b[0;34m.\u001b[0m\u001b[0mstop\u001b[0m\u001b[0;34m(\u001b[0m\u001b[0;34m)\u001b[0m\u001b[0;34m\u001b[0m\u001b[0m\n\u001b[1;32m     12\u001b[0m \u001b[0mfraw\u001b[0m\u001b[0;34m=\u001b[0m\u001b[0mscan\u001b[0m\u001b[0;34m.\u001b[0m\u001b[0moutput_filename\u001b[0m\u001b[0;34m+\u001b[0m\u001b[0;34m'.h5'\u001b[0m\u001b[0;34m\u001b[0m\u001b[0m\n",
      "\u001b[0;32m/home/user/workspace/tjmonopix/tjmonopix_30/tjmonopix/scans/th_scan.pyc\u001b[0m in \u001b[0;36manalyze\u001b[0;34m(self, data_file)\u001b[0m\n\u001b[1;32m     46\u001b[0m         \u001b[0mfev\u001b[0m\u001b[0;34m=\u001b[0m\u001b[0mfraw\u001b[0m\u001b[0;34m[\u001b[0m\u001b[0;34m:\u001b[0m\u001b[0;34m-\u001b[0m\u001b[0;36m7\u001b[0m\u001b[0;34m]\u001b[0m\u001b[0;34m+\u001b[0m\u001b[0;34m'ev.h5'\u001b[0m\u001b[0;34m\u001b[0m\u001b[0m\n\u001b[1;32m     47\u001b[0m \u001b[0;34m\u001b[0m\u001b[0m\n\u001b[0;32m---> 48\u001b[0;31m         \u001b[0msuper\u001b[0m\u001b[0;34m(\u001b[0m\u001b[0mThScan\u001b[0m\u001b[0;34m,\u001b[0m \u001b[0mself\u001b[0m\u001b[0;34m)\u001b[0m\u001b[0;34m.\u001b[0m\u001b[0manalyze\u001b[0m\u001b[0;34m(\u001b[0m\u001b[0mfraw\u001b[0m\u001b[0;34m)\u001b[0m\u001b[0;34m\u001b[0m\u001b[0m\n\u001b[0m\u001b[1;32m     49\u001b[0m \u001b[0;34m\u001b[0m\u001b[0m\n\u001b[1;32m     50\u001b[0m         \u001b[0;32mimport\u001b[0m \u001b[0mtjmonopix\u001b[0m\u001b[0;34m.\u001b[0m\u001b[0manalysis\u001b[0m\u001b[0;34m.\u001b[0m\u001b[0manalyze_hits\u001b[0m \u001b[0;32mas\u001b[0m \u001b[0manalyze_hits\u001b[0m\u001b[0;34m\u001b[0m\u001b[0m\n",
      "\u001b[0;32m/home/user/workspace/tjmonopix/tjmonopix_30/tjmonopix/scans/injection_scan.pyc\u001b[0m in \u001b[0;36manalyze\u001b[0;34m(self, data_file)\u001b[0m\n\u001b[1;32m    187\u001b[0m         \u001b[0;31m#self.logger.info('interpreted %s'%(fhit))\u001b[0m\u001b[0;34m\u001b[0m\u001b[0;34m\u001b[0m\u001b[0m\n\u001b[1;32m    188\u001b[0m         \u001b[0;32mimport\u001b[0m \u001b[0mtjmonopix\u001b[0m\u001b[0;34m.\u001b[0m\u001b[0manalysis\u001b[0m\u001b[0;34m.\u001b[0m\u001b[0mevent_builder_inj\u001b[0m \u001b[0;32mas\u001b[0m \u001b[0mevent_builder_inj\u001b[0m\u001b[0;34m\u001b[0m\u001b[0m\n\u001b[0;32m--> 189\u001b[0;31m         \u001b[0mevent_builder_inj\u001b[0m\u001b[0;34m.\u001b[0m\u001b[0mbuild_inj_h5\u001b[0m\u001b[0;34m(\u001b[0m\u001b[0mfhit\u001b[0m\u001b[0;34m,\u001b[0m\u001b[0mfraw\u001b[0m\u001b[0;34m,\u001b[0m\u001b[0mfev\u001b[0m\u001b[0;34m,\u001b[0m\u001b[0mn\u001b[0m\u001b[0;34m=\u001b[0m\u001b[0;36m10000000\u001b[0m\u001b[0;34m)\u001b[0m\u001b[0;34m\u001b[0m\u001b[0m\n\u001b[0m\u001b[1;32m    190\u001b[0m         \u001b[0;31m#self.logger.info('timestamp assigned %s'%(fev))\u001b[0m\u001b[0;34m\u001b[0m\u001b[0;34m\u001b[0m\u001b[0m\n\u001b[1;32m    191\u001b[0m \u001b[0;34m\u001b[0m\u001b[0m\n",
      "\u001b[0;32m/home/user/workspace/tjmonopix/tjmonopix_30/tjmonopix/analysis/event_builder_inj.pyc\u001b[0m in \u001b[0;36mbuild_inj_h5\u001b[0;34m(fhit, fraw, fout, n, debug)\u001b[0m\n\u001b[1;32m    151\u001b[0m                     \u001b[0minj_period\u001b[0m\u001b[0;34m,\u001b[0m \u001b[0minj_n\u001b[0m\u001b[0;34m,\u001b[0m \u001b[0mmode\u001b[0m\u001b[0;34m,\u001b[0m \u001b[0mbuf\u001b[0m\u001b[0;34m,\u001b[0m\u001b[0;34m\u001b[0m\u001b[0m\n\u001b[1;32m    152\u001b[0m                     sid, pre_inj, inj_id, inj_cnt)\n\u001b[0;32m--> 153\u001b[0;31m                 \u001b[0mhit_table\u001b[0m\u001b[0;34m.\u001b[0m\u001b[0mappend\u001b[0m\u001b[0;34m(\u001b[0m\u001b[0mhit_dat\u001b[0m\u001b[0;34m)\u001b[0m\u001b[0;34m\u001b[0m\u001b[0m\n\u001b[0m\u001b[1;32m    154\u001b[0m                 \u001b[0mhit_table\u001b[0m\u001b[0;34m.\u001b[0m\u001b[0mflush\u001b[0m\u001b[0;34m(\u001b[0m\u001b[0;34m)\u001b[0m\u001b[0;34m\u001b[0m\u001b[0m\n\u001b[1;32m    155\u001b[0m                 \u001b[0;32mprint\u001b[0m \u001b[0;34m\"%d %d %.3f%% %.3fs %dhits %derrs\"\u001b[0m \u001b[0;34m%\u001b[0m \u001b[0;34m(\u001b[0m\u001b[0mstart\u001b[0m\u001b[0;34m,\u001b[0m \u001b[0md_i\u001b[0m\u001b[0;34m,\u001b[0m \u001b[0;36m100.0\u001b[0m \u001b[0;34m*\u001b[0m \u001b[0;34m(\u001b[0m\u001b[0mstart\u001b[0m \u001b[0;34m+\u001b[0m \u001b[0md_i\u001b[0m\u001b[0;34m)\u001b[0m \u001b[0;34m/\u001b[0m \u001b[0mend\u001b[0m\u001b[0;34m,\u001b[0m \u001b[0mtime\u001b[0m\u001b[0;34m.\u001b[0m\u001b[0mtime\u001b[0m\u001b[0;34m(\u001b[0m\u001b[0;34m)\u001b[0m \u001b[0;34m-\u001b[0m \u001b[0mt0\u001b[0m\u001b[0;34m,\u001b[0m \u001b[0mlen\u001b[0m\u001b[0;34m(\u001b[0m\u001b[0mhit_dat\u001b[0m\u001b[0;34m)\u001b[0m\u001b[0;34m,\u001b[0m \u001b[0merr\u001b[0m\u001b[0;34m)\u001b[0m\u001b[0;34m\u001b[0m\u001b[0m\n",
      "\u001b[0;32m/home/user/anaconda/envs/ngap/lib/python2.7/site-packages/tables/table.pyc\u001b[0m in \u001b[0;36mappend\u001b[0;34m(self, rows)\u001b[0m\n\u001b[1;32m   2233\u001b[0m         \u001b[0;32mif\u001b[0m \u001b[0mlenrows\u001b[0m \u001b[0;34m>\u001b[0m \u001b[0;36m0\u001b[0m\u001b[0;34m:\u001b[0m\u001b[0;34m\u001b[0m\u001b[0m\n\u001b[1;32m   2234\u001b[0m             \u001b[0;31m# Save write buffer to disk\u001b[0m\u001b[0;34m\u001b[0m\u001b[0;34m\u001b[0m\u001b[0m\n\u001b[0;32m-> 2235\u001b[0;31m             \u001b[0mself\u001b[0m\u001b[0;34m.\u001b[0m\u001b[0m_save_buffered_rows\u001b[0m\u001b[0;34m(\u001b[0m\u001b[0mwbufRA\u001b[0m\u001b[0;34m,\u001b[0m \u001b[0mlenrows\u001b[0m\u001b[0;34m)\u001b[0m\u001b[0;34m\u001b[0m\u001b[0m\n\u001b[0m\u001b[1;32m   2236\u001b[0m \u001b[0;34m\u001b[0m\u001b[0m\n\u001b[1;32m   2237\u001b[0m     \u001b[0;32mdef\u001b[0m \u001b[0m_conv_to_recarr\u001b[0m\u001b[0;34m(\u001b[0m\u001b[0mself\u001b[0m\u001b[0;34m,\u001b[0m \u001b[0mobj\u001b[0m\u001b[0;34m)\u001b[0m\u001b[0;34m:\u001b[0m\u001b[0;34m\u001b[0m\u001b[0m\n",
      "\u001b[0;32m/home/user/anaconda/envs/ngap/lib/python2.7/site-packages/tables/table.pyc\u001b[0m in \u001b[0;36m_save_buffered_rows\u001b[0;34m(self, wbufRA, lenrows)\u001b[0m\n\u001b[1;32m   2162\u001b[0m \u001b[0;34m\u001b[0m\u001b[0m\n\u001b[1;32m   2163\u001b[0m         \u001b[0mself\u001b[0m\u001b[0;34m.\u001b[0m\u001b[0m_open_append\u001b[0m\u001b[0;34m(\u001b[0m\u001b[0mwbufRA\u001b[0m\u001b[0;34m)\u001b[0m\u001b[0;34m\u001b[0m\u001b[0m\n\u001b[0;32m-> 2164\u001b[0;31m         \u001b[0mself\u001b[0m\u001b[0;34m.\u001b[0m\u001b[0m_append_records\u001b[0m\u001b[0;34m(\u001b[0m\u001b[0mlenrows\u001b[0m\u001b[0;34m)\u001b[0m\u001b[0;34m\u001b[0m\u001b[0m\n\u001b[0m\u001b[1;32m   2165\u001b[0m         \u001b[0mself\u001b[0m\u001b[0;34m.\u001b[0m\u001b[0m_close_append\u001b[0m\u001b[0;34m(\u001b[0m\u001b[0;34m)\u001b[0m\u001b[0;34m\u001b[0m\u001b[0m\n\u001b[1;32m   2166\u001b[0m         \u001b[0;32mif\u001b[0m \u001b[0mself\u001b[0m\u001b[0;34m.\u001b[0m\u001b[0mindexed\u001b[0m\u001b[0;34m:\u001b[0m\u001b[0;34m\u001b[0m\u001b[0m\n",
      "\u001b[0;32mtables/tableextension.pyx\u001b[0m in \u001b[0;36mtables.tableextension.Table._append_records\u001b[0;34m()\u001b[0m\n",
      "\u001b[0;31mHDF5ExtError\u001b[0m: HDF5 error back trace\n\n  File \"H5Dio.c\", line 336, in H5Dwrite\n    can't write data\n  File \"H5Dio.c\", line 828, in H5D__write\n    can't write data\n  File \"H5Dchunk.c\", line 2363, in H5D__chunk_write\n    unable to read raw data chunk\n  File \"H5Dchunk.c\", line 3686, in H5D__chunk_lock\n    unable to preempt chunk(s) from cache\n  File \"H5Dchunk.c\", line 3352, in H5D__chunk_cache_prune\n    unable to preempt one or more raw data cache entry\n  File \"H5Dchunk.c\", line 3203, in H5D__chunk_cache_evict\n    cannot flush indexed storage buffer\n  File \"H5Dchunk.c\", line 3123, in H5D__chunk_flush_entry\n    unable to write raw data to file\n  File \"H5Fio.c\", line 165, in H5F_block_write\n    write through page buffer failed\n  File \"H5PB.c\", line 1028, in H5PB_write\n    write through metadata accumulator failed\n  File \"H5Faccum.c\", line 826, in H5F__accum_write\n    file write failed\n  File \"H5FDint.c\", line 258, in H5FD_write\n    driver write request failed\n  File \"H5FDsec2.c\", line 811, in H5FD_sec2_write\n    file write failed: time = Fri Nov 29 18:15:59 2019\n, filename = '/home/user/workspace/tjmonopix/tjmonopix_30/examples/output_data/20191129_180415_th_ev.h5', file descriptor = 4, errno = 28, error message = 'No space left on device', buf = 0x556958dfd432, total write size = 63759, bytes this sub-write = 63759, bytes actually written = 18446744073709551615, offset = 133582848\n\nEnd of HDF5 error back trace\n\nProblems appending the records."
     ]
    }
   ],
   "source": [
    "## Threshold scan 1col=~1.5min\n",
    "chip.set_inj_all(inj_n=100,inj_phase=0)\n",
    "reload(th_scan)\n",
    "scan=th_scan.ThScan(chip)\n",
    "scan.start(rowlist=np.arange(0,224,1), ## list of rows\n",
    "           collist=np.arange(0,112,10), ## list of columns change here (0,112,1) for full scan\n",
    "           n_mask_col=1,                   ## max number of columns to be injected\n",
    "           injlist=np.arange(0,35),        ## scan values of test pulse amplitude in DU\n",
    "           debug=4)                        \n",
    "scan.analyze(scan.output_filename)\n",
    "scan.stop()\n",
    "fraw=scan.output_filename+'.h5'\n",
    "fev=fraw[:-7]+'ev.h5'"
   ]
  },
  {
   "cell_type": "code",
   "execution_count": 24,
   "metadata": {
    "scrolled": true
   },
   "outputs": [
    {
     "data": {
      "image/png": "[encoded data removed]",
      "text/plain": [
       "<Figure size 432x288 with 2 Axes>"
      ]
     },
     "metadata": {
      "needs_background": "light"
     },
     "output_type": "display_data"
    }
   ],
   "source": [
    "# threshold, noise distribution\n",
    "with tb.open_file(fev) as f:\n",
    "    fit=f.root.ScurveFit[:]\n",
    "fig,ax=plt.subplots(ncols=2,nrows=1,sharey=True)\n",
    "ax[0].hist(fit['mu']*DUtoe,bins=np.arange(0,30,0.5)*DUtoe,histtype=\"step\")\n",
    "ax[1].hist(fit['sigma']*DUtoe,bins=np.arange(0,3,0.05)*DUtoe,histtype=\"step\")\n",
    "ax[0].set_ylabel(\"# of pix\")\n",
    "ax[0].set_xlabel(\"Threshold [e]\")\n",
    "ax[1].set_xlabel(\"ENC [e]\");"
   ]
  },
  {
   "cell_type": "code",
   "execution_count": 25,
   "metadata": {},
   "outputs": [
    {
     "name": "stderr",
     "output_type": "stream",
     "text": [
      "2019-11-29 18:37:43,188 [INFO ] (MainThread) Initializing SourceScan\n",
      "2019-11-29 18:37:43,501 [INFO ] (MainThread) Power status: {'VPC [V]': 1.3002327889999996, 'VDDA_DAC [mA]': 2.0039990762671183, 'VDDP [V]': 1.7772265476429288, 'VDDP OC': False, 'VDDA [mA]': 13.7754441596869, 'VDDD [V]': 1.800444155, 'VDDA_DAC OC': False, 'VDDD [mA]': 7.585704998729309e-08, 'VPCSWSF [V]': 0.5005069754368446, 'VDDP [mA]': 88.38344072402552, 'BiasSF [V]': 1.0665226263421053, 'VDDD OC': False, 'VPC [mA]': -0.3620014319686063, 'VPCSWSF [mA]': -0.16733717217715224, 'VDDA [V]': 1.7935031523046094, 'VDDA OC': False, 'VDDA_DAC [V]': 1.7977220453172207, 'BiasSF [mA]': 0.10088749999999999}\n",
      "2019-11-29 18:37:43,692 [INFO ] (MainThread) Temperature: 31.1 C\n",
      "2019-11-29 18:37:43,720 [INFO ] (MainThread) Creating ZMQ context\n",
      "2019-11-29 18:37:43,721 [INFO ] (MainThread) Creating socket connection to server tcp://127.0.0.1:5500\n",
      "2019-11-29 18:37:43,724 [INFO ] (MainThread) ScanBase.start:data_send.data_send_init connected\n",
      "2019-11-29 18:37:43,726 [INFO ] (MainThread) Resetting SRAM FIFO: size = 0\n",
      "2019-11-29 18:37:44,470 [INFO ] (MainThread) Starting FIFO readout\n",
      "2019-11-29 18:37:44,665 [INFO ] (MainThread) time=0s dat=0 rate=0.000k/s temp=31.06C\n",
      "2019-11-29 18:37:45,861 [INFO ] (MainThread) time=1s dat=27 rate=0.022k/s temp=31.04C\n",
      "2019-11-29 18:37:47,070 [INFO ] (MainThread) time=2s dat=36 rate=0.007k/s temp=31.07C\n",
      "2019-11-29 18:37:48,277 [INFO ] (MainThread) time=4s dat=60 rate=0.019k/s temp=31.10C\n",
      "2019-11-29 18:37:49,474 [INFO ] (MainThread) time=5s dat=72 rate=0.010k/s temp=31.08C\n",
      "2019-11-29 18:37:50,670 [INFO ] (MainThread) time=6s dat=84 rate=0.010k/s temp=31.08C\n",
      "2019-11-29 18:37:51,878 [INFO ] (MainThread) time=7s dat=96 rate=0.010k/s temp=31.05C\n",
      "2019-11-29 18:37:53,073 [INFO ] (MainThread) time=8s dat=123 rate=0.022k/s temp=31.07C\n",
      "2019-11-29 18:37:54,277 [INFO ] (MainThread) time=10s dat=129 rate=0.005k/s temp=31.10C\n",
      "2019-11-29 18:37:55,474 [INFO ] (MainThread) time=11s dat=144 rate=0.012k/s temp=31.02C\n",
      "2019-11-29 18:37:56,677 [INFO ] (MainThread) time=12s dat=156 rate=0.010k/s temp=31.02C\n",
      "2019-11-29 18:37:57,878 [INFO ] (MainThread) time=13s dat=162 rate=0.005k/s temp=31.09C\n",
      "2019-11-29 18:37:59,082 [INFO ] (MainThread) time=14s dat=180 rate=0.015k/s temp=31.03C\n",
      "2019-11-29 18:38:00,278 [INFO ] (MainThread) time=16s dat=189 rate=0.007k/s temp=31.06C\n",
      "2019-11-29 18:38:01,477 [INFO ] (MainThread) time=17s dat=201 rate=0.010k/s temp=31.09C\n",
      "2019-11-29 18:38:02,672 [INFO ] (MainThread) time=18s dat=216 rate=0.012k/s temp=31.05C\n",
      "2019-11-29 18:38:03,877 [INFO ] (MainThread) time=19s dat=228 rate=0.010k/s temp=31.04C\n",
      "2019-11-29 18:38:05,075 [INFO ] (MainThread) time=20s dat=237 rate=0.007k/s temp=31.02C\n",
      "2019-11-29 18:38:06,271 [INFO ] (MainThread) time=22s dat=240 rate=0.002k/s temp=31.04C\n",
      "2019-11-29 18:38:07,469 [INFO ] (MainThread) time=23s dat=243 rate=0.002k/s temp=31.08C\n",
      "2019-11-29 18:38:08,680 [INFO ] (MainThread) time=24s dat=264 rate=0.017k/s temp=31.08C\n",
      "2019-11-29 18:38:09,895 [INFO ] (MainThread) time=25s dat=279 rate=0.012k/s temp=31.06C\n",
      "2019-11-29 18:38:11,104 [INFO ] (MainThread) time=26s dat=300 rate=0.017k/s temp=31.07C\n",
      "2019-11-29 18:38:12,312 [INFO ] (MainThread) time=28s dat=315 rate=0.012k/s temp=31.06C\n",
      "2019-11-29 18:38:13,512 [INFO ] (MainThread) time=29s dat=324 rate=0.007k/s temp=31.03C\n",
      "2019-11-29 18:38:14,720 [INFO ] (MainThread) time=30s dat=342 rate=0.015k/s temp=31.07C\n",
      "2019-11-29 18:39:14,959 [INFO ] (MainThread) time=90s dat=948 rate=0.010k/s temp=31.04C\n",
      "2019-11-29 18:39:16,158 [INFO ] (MainThread) time=91s dat=969 rate=0.017k/s temp=31.07C\n",
      "2019-11-29 18:39:17,365 [INFO ] (MainThread) time=93s dat=993 rate=0.020k/s temp=31.07C\n",
      "2019-11-29 18:39:18,576 [INFO ] (MainThread) time=94s dat=1005 rate=0.010k/s temp=31.10C\n",
      "2019-11-29 18:39:19,785 [INFO ] (MainThread) time=95s dat=1020 rate=0.012k/s temp=31.10C\n",
      "2019-11-29 18:39:20,988 [INFO ] (MainThread) time=96s dat=1035 rate=0.012k/s temp=31.08C\n",
      "2019-11-29 18:39:22,196 [INFO ] (MainThread) time=98s dat=1047 rate=0.010k/s temp=31.12C\n",
      "2019-11-29 18:39:23,404 [INFO ] (MainThread) time=99s dat=1062 rate=0.012k/s temp=31.11C\n",
      "2019-11-29 18:39:24,683 [WARNI] (MainThread) FIFO stopped due to timeout\n",
      "2019-11-29 18:39:24,722 [INFO ] (MainThread) Stopped FIFO readout\n",
      "2019-11-29 18:39:24,727 [INFO ] (MainThread) Recived words: 1077\n",
      "2019-11-29 18:39:24,729 [INFO ] (MainThread) Data queue size: 0\n",
      "2019-11-29 18:39:24,731 [INFO ] (MainThread) SRAM FIFO size: 12\n",
      "2019-11-29 18:39:24,732 [INFO ] (MainThread) Channel:                     TDC | DATA_RX | TLU | TIMESTAMP\n",
      "2019-11-29 18:39:24,733 [INFO ] (MainThread) Discard counter:             None |       0 |   0 |         0\n",
      "2019-11-29 18:39:25,004 [INFO ] (MainThread) Power status: {'VPC [V]': 1.3002327889999996, 'VDDA_DAC [mA]': 2.0039990762671183, 'VDDP [V]': 1.7772265476429288, 'VDDP OC': False, 'VDDA [mA]': 13.7754441596869, 'VDDD [V]': 1.800444155, 'VDDA_DAC OC': False, 'VDDD [mA]': 7.585704998729309e-08, 'VPCSWSF [V]': 0.5005069754368446, 'VDDP [mA]': 88.38344072402552, 'BiasSF [V]': 1.0665226263421053, 'VDDD OC': False, 'VPC [mA]': -0.4380017350740499, 'VPCSWSF [mA]': 0.045728791233572055, 'VDDA [V]': 1.7945024418837676, 'VDDA OC': False, 'VDDA_DAC [V]': 1.7977220453172207, 'BiasSF [mA]': 0.10088749999999999}\n",
      "2019-11-29 18:39:25,202 [INFO ] (MainThread) Temperature: 31.1 C\n",
      "2019-11-29 18:39:25,231 [INFO ] (MainThread) Closing socket connection\n"
     ]
    },
    {
     "name": "stdout",
     "output_type": "stream",
     "text": [
      "/home/user/workspace/tjmonopix/tjmonopix_30/examples/output_data/20191129_183743_source_scan.h5\n",
      "0 1076 100.000% 1.253s 359hits\n"
     ]
    },
    {
     "data": {
      "image/png": "[encoded data removed]",
      "text/plain": [
       "<Figure size 432x288 with 3 Axes>"
      ]
     },
     "metadata": {
      "needs_background": "light"
     },
     "output_type": "display_data"
    }
   ],
   "source": [
    "## noise occupancy\n",
    "reload(source_scan)\n",
    "scan=source_scan.SourceScan(dut=chip)\n",
    "scan.start(scan_time=100,                               \n",
    "           with_mon=False,with_rx1=False,with_tlu=False)\n",
    "fhit=scan.analyze(scan.output_filename,event_build=\"none\",clusterize=False)\n",
    "scan.stop()\n",
    "with tb.open_file(fhit) as f:\n",
    "    hits=f.root.Hits[:]\n",
    "fig,ax=plt.subplots(ncols=2,nrows=1)\n",
    "hist=ax[0].hist2d(hits['col'],hits['row'],bins=[np.arange(0,112),np.arange(0,224)]);\n",
    "fig.colorbar(hist[3],ax=ax[0])\n",
    "ax[1].hist(np.reshape(hist[0],[-1]),histtype=\"step\",bins=20)\n",
    "ax[1].set_yscale(\"log\")\n",
    "ax[0].set_title(\"Hit map\");\n",
    "ax[1].set_ylabel(\"# of pixels\");\n",
    "fig.tight_layout()"
   ]
  },
  {
   "cell_type": "markdown",
   "metadata": {},
   "source": [
    "# Source scan"
   ]
  },
  {
   "cell_type": "code",
   "execution_count": 88,
   "metadata": {
    "scrolled": true
   },
   "outputs": [
    {
     "name": "stderr",
     "output_type": "stream",
     "text": [
      "2019-11-29 19:51:19,072 [INFO ] (MainThread) Initializing SourceScan\n",
      "2019-11-29 19:51:19,349 [INFO ] (MainThread) Power status: {'VPC [V]': 1.3007325834999997, 'VDDA_DAC [mA]': 2.0039990762671183, 'VDDP [V]': 1.8772366780341023, 'VDDP OC': False, 'VDDA [mA]': 13.7754441596869, 'VDDD [V]': 1.9004382550000003, 'VDDA_DAC OC': False, 'VDDD [mA]': 0.5009997250796382, 'VPCSWSF [V]': 0.5005069754368446, 'VDDP [mA]': 89.39353718850643, 'BiasSF [V]': 1.0670226104736842, 'VDDD OC': False, 'VPC [mA]': -0.20350079983422736, 'VPCSWSF [mA]': -0.015577924653475973, 'VDDA [V]': 1.7945024418837676, 'VDDA OC': False, 'VDDA_DAC [V]': 1.7977220453172207, 'BiasSF [mA]': 0.10038269679999999}\n",
      "2019-11-29 19:51:19,546 [INFO ] (MainThread) Temperature: 31.4 C\n",
      "2019-11-29 19:51:19,574 [INFO ] (MainThread) Creating ZMQ context\n",
      "2019-11-29 19:51:19,576 [INFO ] (MainThread) Creating socket connection to server tcp://127.0.0.1:5500\n",
      "2019-11-29 19:51:19,578 [INFO ] (MainThread) ScanBase.start:data_send.data_send_init connected\n",
      "2019-11-29 19:51:19,579 [INFO ] (MainThread) Resetting SRAM FIFO: size = 48\n",
      "2019-11-29 19:51:20,326 [INFO ] (MainThread) Starting FIFO readout\n",
      "2019-11-29 19:51:20,532 [INFO ] (MainThread) time=0s dat=0 rate=0.000k/s temp=31.31C\n",
      "2019-11-29 19:51:21,738 [INFO ] (MainThread) time=1s dat=3 rate=0.002k/s temp=31.33C\n",
      "2019-11-29 19:51:22,938 [INFO ] (MainThread) time=2s dat=27 rate=0.019k/s temp=31.37C\n",
      "2019-11-29 19:51:24,148 [INFO ] (MainThread) time=4s dat=33 rate=0.005k/s temp=31.38C\n",
      "2019-11-29 19:51:25,355 [INFO ] (MainThread) time=5s dat=51 rate=0.015k/s temp=31.32C\n",
      "2019-11-29 19:51:26,568 [INFO ] (MainThread) time=6s dat=60 rate=0.007k/s temp=31.34C\n",
      "2019-11-29 19:51:27,782 [INFO ] (MainThread) time=7s dat=324 rate=0.213k/s temp=31.36C\n",
      "2019-11-29 19:51:28,994 [INFO ] (MainThread) time=8s dat=657 rate=0.268k/s temp=31.30C\n",
      "2019-11-29 19:51:30,209 [INFO ] (MainThread) time=10s dat=786 rate=0.104k/s temp=31.39C\n",
      "2019-11-29 19:51:31,422 [INFO ] (MainThread) time=11s dat=798 rate=0.010k/s temp=31.39C\n",
      "2019-11-29 19:51:32,628 [INFO ] (MainThread) time=12s dat=816 rate=0.014k/s temp=31.41C\n",
      "2019-11-29 19:51:33,832 [INFO ] (MainThread) time=13s dat=846 rate=0.024k/s temp=31.38C\n",
      "2019-11-29 19:51:35,039 [INFO ] (MainThread) time=15s dat=864 rate=0.015k/s temp=31.42C\n",
      "2019-11-29 19:51:36,255 [INFO ] (MainThread) time=16s dat=1011 rate=0.119k/s temp=31.38C\n",
      "2019-11-29 19:51:37,463 [INFO ] (MainThread) time=17s dat=1344 rate=0.267k/s temp=31.37C\n",
      "2019-11-29 19:51:38,682 [INFO ] (MainThread) time=18s dat=1581 rate=0.191k/s temp=31.34C\n",
      "2019-11-29 19:51:39,893 [INFO ] (MainThread) time=19s dat=1842 rate=0.209k/s temp=31.31C\n",
      "2019-11-29 19:51:41,108 [INFO ] (MainThread) time=21s dat=2094 rate=0.203k/s temp=31.44C\n",
      "2019-11-29 19:51:42,314 [INFO ] (MainThread) time=22s dat=2406 rate=0.251k/s temp=31.39C\n",
      "2019-11-29 19:51:43,531 [INFO ] (MainThread) time=23s dat=2709 rate=0.245k/s temp=31.42C\n",
      "2019-11-29 19:51:44,746 [INFO ] (MainThread) time=24s dat=2958 rate=0.200k/s temp=31.38C\n",
      "2019-11-29 19:51:45,956 [INFO ] (MainThread) time=25s dat=3225 rate=0.215k/s temp=31.40C\n",
      "2019-11-29 19:51:47,170 [INFO ] (MainThread) time=27s dat=3456 rate=0.186k/s temp=31.37C\n",
      "2019-11-29 19:51:48,384 [INFO ] (MainThread) time=28s dat=3645 rate=0.152k/s temp=31.36C\n",
      "2019-11-29 19:51:49,591 [INFO ] (MainThread) time=29s dat=3765 rate=0.097k/s temp=31.39C\n",
      "2019-11-29 19:51:50,801 [INFO ] (MainThread) time=30s dat=3867 rate=0.083k/s temp=31.39C\n",
      "2019-11-29 19:52:51,052 [INFO ] (MainThread) time=91s dat=8199 rate=0.070k/s temp=31.42C\n",
      "2019-11-29 19:53:51,318 [INFO ] (MainThread) time=151s dat=12447 rate=0.069k/s temp=31.44C\n",
      "2019-11-29 19:54:51,585 [INFO ] (MainThread) time=211s dat=16500 rate=0.066k/s temp=31.45C\n",
      "2019-11-29 19:55:51,850 [INFO ] (MainThread) time=271s dat=20913 rate=0.072k/s temp=31.49C\n",
      "2019-11-29 19:56:52,122 [INFO ] (MainThread) time=332s dat=25017 rate=0.067k/s temp=31.49C\n",
      "2019-11-29 19:57:52,378 [INFO ] (MainThread) time=392s dat=29307 rate=0.070k/s temp=31.51C\n",
      "2019-11-29 19:58:52,625 [INFO ] (MainThread) time=452s dat=33786 rate=0.073k/s temp=31.56C\n",
      "2019-11-29 19:59:52,894 [INFO ] (MainThread) time=512s dat=38004 rate=0.068k/s temp=31.51C\n",
      "2019-11-29 20:00:53,162 [INFO ] (MainThread) time=573s dat=42192 rate=0.068k/s temp=31.59C\n",
      "2019-11-29 20:01:53,420 [INFO ] (MainThread) time=633s dat=46356 rate=0.067k/s temp=31.58C\n",
      "2019-11-29 20:02:53,693 [INFO ] (MainThread) time=693s dat=50649 rate=0.070k/s temp=31.61C\n",
      "2019-11-29 20:03:53,958 [INFO ] (MainThread) time=753s dat=54918 rate=0.069k/s temp=31.62C\n",
      "2019-11-29 20:04:54,226 [INFO ] (MainThread) time=814s dat=59067 rate=0.067k/s temp=31.61C\n",
      "2019-11-29 20:05:54,464 [INFO ] (MainThread) time=874s dat=63318 rate=0.069k/s temp=31.62C\n",
      "2019-11-29 20:06:54,714 [INFO ] (MainThread) time=934s dat=67485 rate=0.068k/s temp=31.61C\n",
      "2019-11-29 20:07:54,983 [INFO ] (MainThread) time=994s dat=71757 rate=0.069k/s temp=31.69C\n",
      "2019-11-29 20:07:56,200 [INFO ] (MainThread) time=996s dat=71823 rate=0.053k/s temp=31.62C\n",
      "2019-11-29 20:07:57,415 [INFO ] (MainThread) time=997s dat=71895 rate=0.058k/s temp=31.64C\n",
      "2019-11-29 20:07:58,626 [INFO ] (MainThread) time=998s dat=71952 rate=0.046k/s temp=31.60C\n",
      "2019-11-29 20:08:00,541 [WARNI] (MainThread) FIFO stopped due to timeout\n",
      "2019-11-29 20:08:00,573 [INFO ] (MainThread) Stopped FIFO readout\n",
      "2019-11-29 20:08:00,579 [INFO ] (MainThread) Recived words: 72108\n",
      "2019-11-29 20:08:00,580 [INFO ] (MainThread) Data queue size: 0\n",
      "2019-11-29 20:08:00,582 [INFO ] (MainThread) SRAM FIFO size: 36\n",
      "2019-11-29 20:08:00,583 [INFO ] (MainThread) Channel:                     TDC | DATA_RX | TLU | TIMESTAMP\n",
      "2019-11-29 20:08:00,585 [INFO ] (MainThread) Discard counter:             None |       0 |   0 |         0\n",
      "2019-11-29 20:08:00,856 [INFO ] (MainThread) Power status: {'VPC [V]': 1.3007325834999997, 'VDDA_DAC [mA]': 2.0039990762671183, 'VDDP [V]': 1.8762365767301905, 'VDDP OC': False, 'VDDA [mA]': 13.7754441596869, 'VDDD [V]': 1.9004382550000003, 'VDDA_DAC OC': False, 'VDDD [mA]': 7.585704998729309e-08, 'VPCSWSF [V]': 0.5000079, 'VDDP [mA]': 89.39353718850643, 'BiasSF [V]': 1.0670226104736842, 'VDDD OC': False, 'VPC [mA]': 0.06650027698774309, 'VPCSWSF [mA]': 0.06783941007808117, 'VDDA [V]': 1.7945024418837676, 'VDDA OC': False, 'VDDA_DAC [V]': 1.7977220453172207, 'BiasSF [mA]': 0.10088749999999999}\n",
      "2019-11-29 20:08:01,053 [INFO ] (MainThread) Temperature: 31.6 C\n",
      "2019-11-29 20:08:01,082 [INFO ] (MainThread) Closing socket connection\n"
     ]
    },
    {
     "name": "stdout",
     "output_type": "stream",
     "text": [
      "/home/user/workspace/tjmonopix/tjmonopix_30/examples/output_data/20191129_195119_source_scan.h5\n",
      "0 72107 100.000% 0.001s 24036hits\n",
      "event_builder_token.build_h5() fin: /home/user/workspace/tjmonopix/tjmonopix_30/examples/output_data/20191129_195119_source_hit.h5\n",
      "event_builder.build_h5() # of data:total=24036 ERR=0 TLU=0 TS1=0 TS2=0 TS3=0 TJ=24036\n",
      "without flg1=24035\n",
      "event_builder.build_h5() check timestamp: increase only True\n",
      "event_builder.build_h5() check flg: no strange value\n",
      "event_builder.build_h5() 0.001s te_offset=54\n",
      "event_builder.build_h5() calculation done 0.005s\n",
      "event_builder.build_h5() 0.008s DONE\n",
      "clusterize_h5() 0.01s # of clusters 24035\n",
      "clusterize_h5() 0.01s cluster_hits 100.00% saved\n",
      "clusterize_h5() 0.01s clusters 100.00% saved\n",
      "clusterize_h5() 0.01s DONE\n"
     ]
    }
   ],
   "source": [
    "### Fe\n",
    "scan=source_scan.SourceScan(dut=chip)\n",
    "scan.start(with_mon=False,with_rx1=False,with_tlu=False) ## do not change\n",
    "fcl=scan.analyze(scan.output_filename,event_build=\"token\",clusterize=True)\n",
    "scan.stop()\n",
    "fhit=scan.output_filename[:-4]+'hit.h5'"
   ]
  },
  {
   "cell_type": "code",
   "execution_count": 104,
   "metadata": {},
   "outputs": [
    {
     "data": {
      "image/png": "[encoded data removed]",
      "text/plain": [
       "<Figure size 432x288 with 1 Axes>"
      ]
     },
     "metadata": {
      "needs_background": "light"
     },
     "output_type": "display_data"
    }
   ],
   "source": [
    "with tb.open_file(fcl) as f:\n",
    "    dat=f.root.Clusters[:]\n",
    "tmp=dat[np.bitwise_and(dat['seed_column']==col,dat['seed_row']==row)]\n",
    "bins=np.arange(0,0x41)\n",
    "plt.hist(tmp['charge'],bins=bins);\n",
    "plt.hist(tmp['charge'][tmp['n_hits']==1],bins=bins);"
   ]
  },
  {
   "cell_type": "code",
   "execution_count": 15,
   "metadata": {},
   "outputs": [
    {
     "name": "stderr",
     "output_type": "stream",
     "text": [
      "2019-12-02 14:21:11,978 [INFO ] (MainThread) Initializing SourceScan\n",
      "2019-12-02 14:21:12,248 [INFO ] (MainThread) Power status: {'VPC [V]': 1.3007325834999997, 'VDDA_DAC [mA]': 2.0039990762671183, 'VDDP [V]': 1.7782266489468406, 'VDDP OC': False, 'VDDA [mA]': 13.7754441596869, 'VDDD [V]': 1.8014440960000002, 'VDDA_DAC OC': False, 'VDDD [mA]': 0.5009997250796382, 'VPCSWSF [V]': 0.5005069754368446, 'VDDP [mA]': 88.38344072402552, 'BiasSF [V]': 1.0670226104736842, 'VDDD OC': False, 'VPC [mA]': -0.05150019362334029, 'VPCSWSF [mA]': 0.23216150921795584, 'VDDA [V]': 1.7945024418837676, 'VDDA OC': False, 'VDDA_DAC [V]': 1.7977220453172207, 'BiasSF [mA]': 0.10088749999999999}\n",
      "2019-12-02 14:21:17,571 [INFO ] (MainThread) Temperature: 31.0 C\n",
      "2019-12-02 14:21:17,600 [INFO ] (MainThread) Creating ZMQ context\n",
      "2019-12-02 14:21:17,602 [INFO ] (MainThread) Creating socket connection to server tcp://127.0.0.1:5500\n",
      "2019-12-02 14:21:17,604 [INFO ] (MainThread) ScanBase.start:data_send.data_send_init connected\n",
      "2019-12-02 14:21:17,606 [INFO ] (MainThread) Resetting SRAM FIFO: size = 1913372\n",
      "2019-12-02 14:21:17,808 [WARNI] (MainThread) SRAM FIFO not empty after reset: size = 17520\n",
      "2019-12-02 14:21:18,352 [INFO ] (MainThread) set_tlu: tlu_delay=8\n",
      "2019-12-02 14:21:18,359 [INFO ] (MainThread) Starting FIFO readout\n",
      "2019-12-02 14:21:18,361 [WARNI] (MainThread) SRAM FIFO not empty when starting FIFO readout: size = 1460\n",
      "2019-12-02 14:21:18,363 [INFO ] (MainThread) *****SourceScan is running **** don't forget to start tlu ****\n",
      "2019-12-02 14:21:18,573 [INFO ] (MainThread) time=0s dat=730 rate=353.772k/s temp=31.01C\n",
      "2019-12-02 14:21:19,801 [INFO ] (MainThread) time=1s dat=28470 rate=22.374k/s temp=30.98C\n",
      "2019-12-02 14:21:21,013 [INFO ] (MainThread) time=2s dat=55480 rate=21.493k/s temp=30.96C\n",
      "2019-12-02 14:21:22,227 [INFO ] (MainThread) time=4s dat=82125 rate=21.496k/s temp=30.93C\n",
      "2019-12-02 14:21:23,440 [INFO ] (MainThread) time=5s dat=109500 rate=21.985k/s temp=30.98C\n",
      "2019-12-02 14:21:24,653 [INFO ] (MainThread) time=6s dat=136510 rate=21.749k/s temp=30.98C\n",
      "2019-12-02 14:21:25,868 [INFO ] (MainThread) time=7s dat=164250 rate=22.347k/s temp=31.00C\n",
      "2019-12-02 14:21:27,086 [INFO ] (MainThread) time=9s dat=190895 rate=21.398k/s temp=30.97C\n",
      "2019-12-02 14:21:28,301 [INFO ] (MainThread) time=10s dat=218635 rate=22.256k/s temp=31.03C\n",
      "2019-12-02 14:21:29,516 [INFO ] (MainThread) time=11s dat=245280 rate=21.420k/s temp=31.03C\n",
      "2019-12-02 14:21:30,740 [INFO ] (MainThread) time=12s dat=271925 rate=21.393k/s temp=30.98C\n",
      "2019-12-02 14:21:31,957 [INFO ] (MainThread) time=13s dat=299665 rate=22.155k/s temp=30.97C\n",
      "2019-12-02 14:21:33,175 [INFO ] (MainThread) time=15s dat=327040 rate=21.967k/s temp=30.98C\n",
      "2019-12-02 14:21:34,392 [INFO ] (MainThread) time=16s dat=359525 rate=26.025k/s temp=31.00C\n",
      "2019-12-02 14:21:35,603 [INFO ] (MainThread) time=17s dat=387630 rate=22.560k/s temp=31.02C\n",
      "2019-12-02 14:21:36,813 [INFO ] (MainThread) time=18s dat=415735 rate=22.664k/s temp=30.99C\n",
      "2019-12-02 14:21:38,025 [INFO ] (MainThread) time=19s dat=442745 rate=21.799k/s temp=30.99C\n",
      "2019-12-02 14:21:39,242 [INFO ] (MainThread) time=21s dat=469390 rate=21.473k/s temp=31.02C\n",
      "2019-12-02 14:21:40,458 [INFO ] (MainThread) time=22s dat=497130 rate=22.255k/s temp=31.02C\n",
      "2019-12-02 14:21:41,676 [INFO ] (MainThread) time=23s dat=524140 rate=21.695k/s temp=31.06C\n",
      "2019-12-02 14:21:42,892 [INFO ] (MainThread) time=24s dat=552245 rate=22.539k/s temp=30.99C\n",
      "2019-12-02 14:21:44,114 [INFO ] (MainThread) time=26s dat=579255 rate=21.678k/s temp=30.98C\n",
      "2019-12-02 14:21:45,328 [INFO ] (MainThread) time=27s dat=605535 rate=21.006k/s temp=31.00C\n",
      "2019-12-02 14:21:46,541 [INFO ] (MainThread) time=28s dat=632910 rate=22.022k/s temp=31.02C\n",
      "2019-12-02 14:21:47,754 [INFO ] (MainThread) time=29s dat=659555 rate=21.451k/s temp=30.98C\n",
      "2019-12-02 14:21:48,965 [INFO ] (MainThread) time=30s dat=687295 rate=22.336k/s temp=30.98C\n",
      "2019-12-02 14:22:49,239 [INFO ] (MainThread) time=91s dat=2067360 rate=22.361k/s temp=31.03C\n",
      "2019-12-02 14:22:50,457 [INFO ] (MainThread) time=92s dat=2095465 rate=22.589k/s temp=30.98C\n",
      "2019-12-02 14:22:51,673 [INFO ] (MainThread) time=93s dat=2123935 rate=22.822k/s temp=30.98C\n",
      "2019-12-02 14:22:52,888 [INFO ] (MainThread) time=94s dat=2150945 rate=21.687k/s temp=31.02C\n",
      "2019-12-02 14:22:54,103 [INFO ] (MainThread) time=96s dat=2177955 rate=21.729k/s temp=31.05C\n",
      "2019-12-02 14:22:55,320 [INFO ] (MainThread) time=97s dat=2205695 rate=22.297k/s temp=31.08C\n",
      "2019-12-02 14:22:56,545 [INFO ] (MainThread) time=98s dat=2233435 rate=22.260k/s temp=31.05C\n",
      "2019-12-02 14:22:57,766 [INFO ] (MainThread) time=99s dat=2260445 rate=21.534k/s temp=31.03C\n",
      "2019-12-02 14:22:58,585 [WARNI] (MainThread) FIFO stopped due to timeout\n",
      "2019-12-02 14:22:58,616 [INFO ] (MainThread) Stopped FIFO readout\n",
      "2019-12-02 14:22:58,628 [INFO ] (MainThread) Recived words: 2283440\n",
      "2019-12-02 14:22:58,629 [INFO ] (MainThread) Data queue size: 0\n",
      "2019-12-02 14:22:58,631 [INFO ] (MainThread) SRAM FIFO size: 18936\n",
      "2019-12-02 14:22:58,633 [INFO ] (MainThread) Channel:                     TDC | DATA_RX | TLU | TIMESTAMP\n",
      "2019-12-02 14:22:58,634 [INFO ] (MainThread) Discard counter:             None |       0 |   0 |         0\n",
      "2019-12-02 14:22:58,908 [INFO ] (MainThread) Power status: {'VPC [V]': 1.3002327889999996, 'VDDA_DAC [mA]': 2.0039990762671183, 'VDDP [V]': 1.7782266489468406, 'VDDP OC': False, 'VDDA [mA]': 13.7754441596869, 'VDDD [V]': 1.8014440960000002, 'VDDA_DAC OC': False, 'VDDD [mA]': 0.5009997250796382, 'VPCSWSF [V]': 0.5000079, 'VDDP [mA]': 88.38344072402552, 'BiasSF [V]': 1.0670226104736842, 'VDDD OC': False, 'VPC [mA]': -0.3020011926748351, 'VPCSWSF [mA]': 0.1668346808137243, 'VDDA [V]': 1.7945024418837676, 'VDDA OC': False, 'VDDA_DAC [V]': 1.7977220453172207, 'BiasSF [mA]': 0.10088749999999999}\n",
      "2019-12-02 14:22:59,108 [INFO ] (MainThread) Temperature: 31.0 C\n",
      "2019-12-02 14:22:59,138 [INFO ] (MainThread) Closing socket connection\n"
     ]
    },
    {
     "name": "stdout",
     "output_type": "stream",
     "text": [
      "/home/user/workspace/tjmonopix/tjmonopix_30/examples/output_data/20191202_142111_source_scan.h5\n"
     ]
    },
    {
     "name": "stderr",
     "output_type": "stream",
     "text": [
      "/home/user/anaconda/envs/ngap/lib/python2.7/site-packages/numba/dataflow.py:390: RuntimeWarning: Python2 style print partially supported.  Please use Python3 style print.\n",
      "  \"Python3 style print.\", RuntimeWarning)\n"
     ]
    },
    {
     "name": "stdout",
     "output_type": "stream",
     "text": [
      "('ERR TJMONO2', 0, 0, 587202609)\n",
      "\n",
      "0 2283439 100.000% 1.337s 764173hits\n",
      "event_builder_token.build_h5() fin: /home/user/workspace/tjmonopix/tjmonopix_30/examples/output_data/20191202_142111_source_hit.h5\n",
      "event_builder.build_h5() # of data:total=764173 ERR=0 TLU=4540 TS1=0 TS2=0 TS3=4551 TJ=755082\n",
      "without flg1=747237\n",
      "event_builder.build_h5() check timestamp: increase only True\n",
      "event_builder.build_h5() check flg: no strange value\n",
      "event_builder.build_h5() 0.025s te_offset=54\n",
      "event_builder.build_h5() calculation done 0.719s\n",
      "event_builder.build_h5() 0.736s DONE\n",
      "clusterize_h5() 1.92s # of clusters 747237\n",
      "clusterize_h5() 1.94s cluster_hits 100.00% saved\n",
      "clusterize_h5() 1.97s clusters 100.00% saved\n",
      "clusterize_h5() 1.97s DONE\n"
     ]
    }
   ],
   "source": [
    "### Sr with TLU\n",
    "## tlu\n",
    "## % pytlu -ie CH0 -io CH0 -th 30 -t 0 --timeout 0 -b 15 \n",
    "reload(source_scan)\n",
    "scan=source_scan.SourceScan(dut=chip)\n",
    "scan.start(scan_time=100,\n",
    "    with_mon=False,with_rx1=False,with_tlu=True) ## do not change\n",
    "fcl=scan.analyze(scan.output_filename,event_build=\"token\",clusterize=True)\n",
    "scan.stop()\n",
    "fhit=scan.output_filename[:-4]+'hit.h5'"
   ]
  },
  {
   "cell_type": "code",
   "execution_count": null,
   "metadata": {},
   "outputs": [],
   "source": []
  }
 ],
 "metadata": {
  "kernelspec": {
   "display_name": "Python 2",
   "language": "python",
   "name": "python2"
  },
  "language_info": {
   "codemirror_mode": {
    "name": "ipython",
    "version": 2
   },
   "file_extension": ".py",
   "mimetype": "text/x-python",
   "name": "python",
   "nbconvert_exporter": "python",
   "pygments_lexer": "ipython2",
   "version": "2.7.16"
  }
 },
 "nbformat": 4,
 "nbformat_minor": 2
}
