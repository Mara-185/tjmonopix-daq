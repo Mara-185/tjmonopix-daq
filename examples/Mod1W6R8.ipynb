{
 "cells": [
  {
   "cell_type": "code",
   "execution_count": null,
   "metadata": {},
   "outputs": [],
   "source": [
    "import sys,os,time\n",
    "\n",
    "import tables as tb\n",
    "import yaml\n",
    "import numpy as np\n",
    "import matplotlib.pyplot as plt\n",
    "import tjmonopix.tjmonopix\n",
    "import tjmonopix.scans.source_scan as source_scan\n",
    "import tjmonopix.scans.th_scan as th_scan\n",
    "\n",
    "DUtoe=20\n",
    "COL=112\n",
    "ROW=224"
   ]
  },
  {
   "cell_type": "code",
   "execution_count": null,
   "metadata": {},
   "outputs": [],
   "source": [
    "chip=tjmonopix.tjmonopix.TJMonoPix(\n",
    "    conf=\"../tjmonopix/tjmonopix_mio3.yaml\",\n",
    "    no_power_reset=False)\n",
    "chip.init(\"EN_PMOS\")"
   ]
  },
  {
   "cell_type": "code",
   "execution_count": null,
   "metadata": {},
   "outputs": [],
   "source": [
    "## (optional) reset configuration\n",
    "chip.default_conf()\n",
    "chip.write_conf()"
   ]
  },
  {
   "cell_type": "markdown",
   "metadata": {},
   "source": [
    "# Electrical tests"
   ]
  },
  {
   "cell_type": "code",
   "execution_count": null,
   "metadata": {},
   "outputs": [],
   "source": [
    "####### CONFIGURE THE FRONT END ######\n",
    "# INPUT baseline\n",
    "chip.set_vreset_dacunits(35,1) #1V\n",
    "# OUTPUT BASELINE\n",
    "chip.set_icasn_dacunits(0,1) #4.375nA # approx 1.084V at -3V backbias, 600mV at 0V backbias\n",
    "# INOUT RESET rate\n",
    "chip.set_ireset_dacunits(2,1,1) #270pA, HIGH LEAKAGE MODE, NORMAL SCALING, 0 = LOW LEAKAGE MODE, SCALING*0.01\n",
    "# OUTPUT RESET rate\n",
    "chip.set_ithr_dacunits(5,1) #680pA\n",
    "# BIASING OF THE DISCRIMINATOR (AND THE THRESHOLD)\n",
    "chip.set_idb_dacunits(20,1) #500nA\n",
    "# DC current of Amp, OUTPUT RISE TIME\n",
    "chip.set_ibias_dacunits(20,1) #500nA\n",
    "chip.write_conf()"
   ]
  },
  {
   "cell_type": "code",
   "execution_count": null,
   "metadata": {},
   "outputs": [],
   "source": [
    "#### (optional) check analog output\n",
    "chip.enable_analog()\n",
    "chip.set_inj_all(inj_n=0)\n",
    "chip.inject()"
   ]
  },
  {
   "cell_type": "code",
   "execution_count": null,
   "metadata": {
    "scrolled": true
   },
   "outputs": [],
   "source": [
    "#### enable pixels and mask noisy pixels\n",
    "chip.set_inj_all(inj_n=1)\n",
    "chip.set_monoread()\n",
    "chip.auto_mask()"
   ]
  },
  {
   "cell_type": "code",
   "execution_count": null,
   "metadata": {},
   "outputs": [],
   "source": [
    "### check power status (VDDD < several mA, VDDP roughly 80mA)\n",
    "chip.get_power_status()"
   ]
  },
  {
   "cell_type": "code",
   "execution_count": null,
   "metadata": {},
   "outputs": [],
   "source": [
    "### check \n",
    "### select one pixel\n",
    "col=50\n",
    "row=50\n",
    "chip.enable_injection(chip.fl_n, col, row)\n",
    "#chip.enable_pixel(chip.fl_n,col,row) \n",
    "#chip.enable_hitor(chip.fl_n,col,row)\n",
    "mask=chip.get_pixel_status(mask=None,mode=\"all\")\n",
    "print \"preamp of [%d,%d]:\"%(col,row),\n",
    "print chip.get_pixel_status(mask=mask,mode=\"preamp\")[chip.fl_n, col, row]\n",
    "print \"inj of [%d,%d]:\"%(col,row),\n",
    "print chip.get_pixel_status(mask=mask,mode=\"inj\")[chip.fl_n, col, row]\n",
    "print \"hitor of [%d,%d]:\"%(col,row),\n",
    "print chip.get_pixel_status(mask=mask,mode=\"mon\")[chip.fl_n, col, row]\n",
    "\n",
    "plt.imshow(chip.get_pixel_status(mask=mask,mode=\"preamp\")[chip.fl_n,:,:],\n",
    "           interpolation=\"none\",origin=\"bottomleft\")\n",
    "plt.title(\"Enabled pixel = yellow\");"
   ]
  },
  {
   "cell_type": "code",
   "execution_count": null,
   "metadata": {},
   "outputs": [],
   "source": [
    "### (optional) inject 1 pixel. it is good idea to run this once/twice.\n",
    "chip.set_inj_all(inj_n=1000,inj_phase=0)\n",
    "#chip.reset_ibias()\n",
    "chip.set_monoread()\n",
    "chip.inject()\n",
    "time.sleep(1)\n",
    "dat=chip.interpret_data(chip['fifo'].get_data())\n",
    "print \"n of data\", len(dat)\n",
    "if len(dat)!=0:\n",
    "    uni,cnt=np.unique(dat[[\"col\",'row']], return_counts=True)\n",
    "    arg=np.argsort(cnt)\n",
    "    for a in arg[::-1]:\n",
    "        print uni[a],cnt[a]"
   ]
  },
  {
   "cell_type": "code",
   "execution_count": null,
   "metadata": {},
   "outputs": [],
   "source": [
    "### S-curve\n",
    "chip.set_inj_all(inj_n=1000,inj_phase=0)\n",
    "reload(th_scan)\n",
    "scan=th_scan.ThScan(chip)\n",
    "scan.start(rowlist=np.arange(row,row+1,1), ## list of rows\n",
    "           collist=np.arange(col,col+1,1), ## list of columns\n",
    "           n_mask_col=1,                   ## maximum number of columns which are injected at once\n",
    "           injlist=np.arange(0,35)         ## scan values of test pulse amplitude in DU\n",
    "           )                               ## do not change\n",
    "scan.analyze(scan.output_filename)\n",
    "scan.stop()\n",
    "fraw=scan.output_filename+'.h5'\n",
    "fev=fraw[:-7]+'ev.h5'\n",
    "\n",
    "with tb.open_file(fev) as f:\n",
    "    cnts=f.root.Cnts[:]\n",
    "    inj=f.root.ScurveFit.attrs.injlist\n",
    "    fit=f.root.ScurveFit[:]\n",
    "fig,ax=plt.subplots(ncols=1,nrows=1,sharey=True)\n",
    "ax=[ax]\n",
    "cnts=cnts[np.bitwise_and(cnts['col']==col,cnts['row']==row)]\n",
    "fit=fit[np.bitwise_and(fit['col']==col,fit['row']==row)][0]\n",
    "cnt=np.zeros(len(inj))\n",
    "for c in cnts:\n",
    "    cnt[np.argwhere(inj==c[\"inj\"])[0][0]]=c['cnt']\n",
    "x,y=tjmonopix.analysis.utils.scurve_from_fit(th=inj,n=500,\n",
    "        reverse=False,A_fit=fit[\"A\"],mu_fit=fit[\"mu\"],sigma_fit=fit['sigma'])\n",
    "ax[0].plot(inj,cnt,\"o\")\n",
    "ax[0].plot(x,y,\"-\")\n",
    "ax2=ax[0].twiny()\n",
    "ax[0].set_xbound(np.min(inj),np.max(inj))\n",
    "ax2.set_xbound(np.min(inj)*DUtoe,np.max(inj)*DUtoe)\n",
    "ax[0].set_xlabel(\"Injection [DU]\")\n",
    "ax2.set_xlabel(\"Signal [e]\")\n",
    "print \"fit mu=%.3e(%.4fDU)\"%(fit[\"mu\"]*DUtoe,fit[\"mu\"]),\n",
    "print \"sigma=%.3e(%.4fDU)\"%(fit[\"sigma\"]*DUtoe,fit[\"sigma\"])"
   ]
  },
  {
   "cell_type": "code",
   "execution_count": null,
   "metadata": {},
   "outputs": [],
   "source": [
    "## Threshold scan 1col=~1.5min\n",
    "chip.set_inj_all(inj_n=100,inj_phase=0)\n",
    "reload(th_scan)\n",
    "scan=th_scan.ThScan(chip)\n",
    "scan.start(rowlist=np.arange(0,224,1), ## list of rows\n",
    "           collist=np.arange(0,112,10), ## list of columns change here (0,112,1) for full scan\n",
    "           n_mask_col=1,                   ## max number of columns to be injected\n",
    "           injlist=np.arange(0,35),        ## scan values of test pulse amplitude in DU\n",
    "           debug=4)                        \n",
    "scan.analyze(scan.output_filename)\n",
    "scan.stop()\n",
    "fraw=scan.output_filename+'.h5'\n",
    "fev=fraw[:-7]+'ev.h5'"
   ]
  },
  {
   "cell_type": "code",
   "execution_count": null,
   "metadata": {
    "scrolled": true
   },
   "outputs": [],
   "source": [
    "# threshold, noise distribution\n",
    "with tb.open_file(fev) as f:\n",
    "    fit=f.root.ScurveFit[:]\n",
    "fig,ax=plt.subplots(ncols=2,nrows=1,sharey=True)\n",
    "ax[0].hist(fit['mu']*DUtoe,bins=np.arange(0,30,0.5)*DUtoe,histtype=\"step\")\n",
    "ax[1].hist(fit['sigma']*DUtoe,bins=np.arange(0,3,0.05)*DUtoe,histtype=\"step\")\n",
    "ax[0].set_ylabel(\"# of pix\")\n",
    "ax[0].set_xlabel(\"Threshold [e]\")\n",
    "ax[1].set_xlabel(\"ENC [e]\");"
   ]
  },
  {
   "cell_type": "code",
   "execution_count": null,
   "metadata": {},
   "outputs": [],
   "source": [
    "## noise occupancy\n",
    "reload(source_scan)\n",
    "scan=source_scan.SourceScan(dut=chip)\n",
    "scan.start(scan_time=100,                               \n",
    "           with_mon=False,with_rx1=False,with_tlu=False)\n",
    "fhit=scan.analyze(scan.output_filename,event_build=\"none\",clusterize=False)\n",
    "scan.stop()\n",
    "with tb.open_file(fhit) as f:\n",
    "    hits=f.root.Hits[:]\n",
    "fig,ax=plt.subplots(ncols=2,nrows=1)\n",
    "hist=ax[0].hist2d(hits['col'],hits['row'],bins=[np.arange(0,112),np.arange(0,224)]);\n",
    "fig.colorbar(hist[3],ax=ax[0])\n",
    "ax[1].hist(np.reshape(hist[0],[-1]),histtype=\"step\",bins=20)\n",
    "ax[1].set_yscale(\"log\")\n",
    "ax[0].set_title(\"Hit map\");\n",
    "ax[1].set_ylabel(\"# of pixels\");\n",
    "fig.tight_layout()"
   ]
  },
  {
   "cell_type": "markdown",
   "metadata": {},
   "source": [
    "# Source scan"
   ]
  },
  {
   "cell_type": "code",
   "execution_count": null,
   "metadata": {
    "scrolled": true
   },
   "outputs": [],
   "source": [
    "### Fe\n",
    "scan=source_scan.SourceScan(dut=chip)\n",
    "scan.start(with_mon=False,with_rx1=False,with_tlu=False) ## do not change\n",
    "fcl=scan.analyze(scan.output_filename,event_build=\"token\",clusterize=True)\n",
    "scan.stop()\n",
    "fhit=scan.output_filename[:-4]+'hit.h5'"
   ]
  },
  {
   "cell_type": "code",
   "execution_count": null,
   "metadata": {},
   "outputs": [],
   "source": [
    "with tb.open_file(fcl) as f:\n",
    "    dat=f.root.Clusters[:]\n",
    "tmp=dat[np.bitwise_and(dat['seed_column']==col,dat['seed_row']==row)]\n",
    "bins=np.arange(0,0x41)\n",
    "plt.hist(tmp['charge'],bins=bins);\n",
    "plt.hist(tmp['charge'][tmp['n_hits']==1],bins=bins);"
   ]
  },
  {
   "cell_type": "code",
   "execution_count": null,
   "metadata": {},
   "outputs": [],
   "source": [
    "### Sr with TLU\n",
    "## tlu\n",
    "## % pytlu -ie CH0 -io CH0 -th 30 -t 0 --timeout 0 -b 15 \n",
    "reload(source_scan)\n",
    "scan=source_scan.SourceScan(dut=chip)\n",
    "scan.start(scan_time=100,\n",
    "    with_mon=False,with_rx1=False,with_tlu=True) ## do not change\n",
    "fcl=scan.analyze(scan.output_filename,event_build=\"token\",clusterize=True)\n",
    "scan.stop()\n",
    "fhit=scan.output_filename[:-4]+'hit.h5'"
   ]
  },
  {
   "cell_type": "code",
   "execution_count": null,
   "metadata": {},
   "outputs": [],
   "source": []
  }
 ],
 "metadata": {
  "kernelspec": {
   "display_name": "Python 2",
   "language": "python",
   "name": "python2"
  },
  "language_info": {
   "codemirror_mode": {
    "name": "ipython",
    "version": 2
   },
   "file_extension": ".py",
   "mimetype": "text/x-python",
   "name": "python",
   "nbconvert_exporter": "python",
   "pygments_lexer": "ipython2",
   "version": "2.7.16"
  }
 },
 "nbformat": 4,
 "nbformat_minor": 2
}
