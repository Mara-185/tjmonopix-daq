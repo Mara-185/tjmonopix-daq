{
 "cells": [
  {
   "cell_type": "markdown",
   "metadata": {},
   "source": [
    "**************************************************INITIALIZATION*********************************************************"
   ]
  },
  {
   "cell_type": "code",
   "execution_count": 3,
   "metadata": {
    "scrolled": true
   },
   "outputs": [
    {
     "name": "stderr",
     "output_type": "stream",
     "text": [
      "2019-03-20 23:48:01,852 [ERROR] (MainThread) argument must be an int, or have a fileno() method\n"
     ]
    },
    {
     "name": "stdout",
     "output_type": "stream",
     "text": [
      "IP address 192.168.10.19 port 24\n"
     ]
    },
    {
     "name": "stderr",
     "output_type": "stream",
     "text": [
      "2019-03-20 23:48:04,869 [INFO ] (MainThread) ########GPAC            ##########\n",
      "2019-03-20 23:48:04,871 [INFO ] (MainThread) ########POWER RESET!!!!!##########\n",
      "2019-03-20 23:48:06,330 [INFO ] (MainThread) Found adapter card: General Purpose Analog Card with ID 12\n",
      "2019-03-20 23:48:06,420 [INFO ] (MainThread) Found board 0 running firmware version 0.0\n"
     ]
    },
    {
     "name": "stdout",
     "output_type": "stream",
     "text": [
      "FPGA module basil.HL.pulse_gen does not satisfy version requirements (read: 1, require: ==3)\n",
      "FPGA module tjmonopix.tjmono_data_rx does not satisfy version requirements (read: 3, require: ==2)\n",
      "FPGA module basil.HL.tlu does not satisfy version requirements (read: 10, require: ==11)\n",
      "FPGA module monopix_daq.timestamp640 does not satisfy version requirements (read: 0, require: ==3)\n",
      "FPGA module monopix_daq.timestamp640 does not satisfy version requirements (read: 0, require: ==3)\n"
     ]
    },
    {
     "name": "stderr",
     "output_type": "stream",
     "text": [
      "2019-03-20 23:48:06,784 [INFO ] (MainThread) {'VPC [mA]': -0.23068125828163002, 'VDDP [V]': 1.7892880359999999, 'VPCset': 1.3, 'BiasSFset': 100, 'BiasSF [V]': 1.0537973608729951, 'VDDA_DAC [V]': 1.7971312196819085, 'BiasSF [mA]': 0.10026885347326334, 'INJ_LOset': 0.2, 'VDDA [mA]': 122.46274035929804, 'VDDA_DACset': 1.8, 'VPCSWSF [V]': 0.4999735, 'VPCSWSFset': 0.5, 'VPCSWSF [mA]': 0.047210222438026896, 'VDDD [V]': 1.7908954271457085, 'VDDA_DAC [mA]': 3.513856326790666, 'VDDD [mA]': 42.12397344225815, 'VDDP [mA]': 146.84477600836658, 'VDDPset': 1.8, 'VDDAset': 1.8, 'VDDDset': 1.8, 'INJ_HIset': 3.6, 'VPC [V]': 1.3006487843921961, 'VDDA [V]': 1.780544985957874}\n"
     ]
    }
   ],
   "source": [
    "import  tjmonopix.tjmonopix\n",
    "#from tjmonopix.analysis.plotting import plotting\n",
    "import time,os,sys\n",
    "\n",
    "#plot=plotting()\n",
    "chip = tjmonopix.tjmonopix.TJMonoPix(conf=\"../tjmonopix_mio3.yaml\")\n",
    "\n",
    "chip['CONF']['DEF_CONF_N'] = 0\n",
    "chip['CONF']['AB_SELECT'] = 1\n",
    "chip['CONF'].write()\n",
    "chip.init()\n",
    "\n",
    "# chip['data_rx'].CONF_START_FREEZE = 15 #default 3\n",
    "# chip['data_rx'].CONF_STOP_FREEZE = 100 #default 40\n",
    "# #chip['data_rx'].CONF_STOP_FREEZE = 250 #default 40\n",
    "# chip['data_rx'].CONF_START_READ = 35 #default 6\n",
    "# chip['data_rx'].CONF_STOP_READ = 37 #default 7\n",
    "# chip['data_rx'].CONF_STOP = 105 #default 45\n",
    "# #chip['data_rx'].CONF_STOP = 255 #default 45\n",
    "\n",
    "chip['data_rx'].CONF_START_FREEZE = 64 #default 3\n",
    "chip['data_rx'].CONF_STOP_FREEZE = 100 #default 40\n",
    "chip['data_rx'].CONF_START_READ = 66 #default 6\n",
    "chip['data_rx'].CONF_STOP_READ = 68 #default 7\n",
    "chip['data_rx'].CONF_STOP = 105 #default 45\n",
    "\n",
    "chip.power_on()\n",
    "\n",
    "chip['CONF']['RESET_BCID'] = 1\n",
    "chip['CONF']['RESET'] = 1\n",
    "chip['CONF'].write()\n",
    "\n",
    "chip['CONF']['EN_BX_CLK'] = 1\n",
    "chip['CONF']['EN_OUT_CLK'] = 1\n",
    "chip['CONF'].write()\n",
    " \n",
    "chip['CONF']['RESET_BCID'] = 0\n",
    "chip['CONF']['RESET'] = 0\n",
    "chip['CONF'].write()\n",
    "\n",
    "chip.default_conf()\n",
    "\n",
    "#-------------------------------------------------#\n",
    "chip.set_icasn_dacunits(0,0)\n",
    "chip.set_vreset_dacunits(35,0)\n",
    "chip.set_ireset_dacunits(2,1,0)\n",
    "chip.set_ithr_dacunits(5,0)\n",
    "chip.set_idb_dacunits(50,0)\n",
    "\n",
    "chip['CONF_SR']['EN_HV'].setall(False)\n",
    "chip['CONF_SR']['EN_COMP'].setall(False)\n",
    "chip['CONF_SR']['EN_PMOS'].setall(False)\n",
    "chip['CONF_SR']['EN_PMOS_NOSF'].setall(False)\n",
    "chip['CONF_SR']['EN_TEST_PATTERN'].setall(False)\n",
    "\n",
    "chip['CONF_SR']['MASKD'].setall(False)\n",
    "chip['CONF_SR']['MASKH'].setall(False)\n",
    "chip['CONF_SR']['MASKV'].setall(False)\n",
    "\n",
    "chip.write_conf()\n",
    "\n",
    "chip['CONF']['DEF_CONF_N'] = 1\n",
    "chip['CONF'].write()"
   ]
  },
  {
   "cell_type": "markdown",
   "metadata": {},
   "source": [
    "****************************************************POWER_STATUS*********************************************************"
   ]
  },
  {
   "cell_type": "code",
   "execution_count": 4,
   "metadata": {
    "scrolled": true
   },
   "outputs": [
    {
     "data": {
      "text/plain": [
       "{'BiasSF [V]': 1.0577939591375232,\n",
       " 'BiasSF [mA]': 0.09976428665667163,\n",
       " 'BiasSFset': 100,\n",
       " 'INJ_HIset': 3.6,\n",
       " 'INJ_LOset': 0.2,\n",
       " 'VDDA [V]': 1.7815434413239721,\n",
       " 'VDDA [mA]': 122.96878474219443,\n",
       " 'VDDA_DAC [V]': 1.7971312196819085,\n",
       " 'VDDA_DAC [mA]': 3.513856326790666,\n",
       " 'VDDA_DACset': 1.8,\n",
       " 'VDDAset': 1.8,\n",
       " 'VDDD [V]': 1.7938903193612774,\n",
       " 'VDDD [mA]': 41.12102168638139,\n",
       " 'VDDDset': 1.8,\n",
       " 'VDDP [V]': 1.788289688,\n",
       " 'VDDP [mA]': 146.84477600836658,\n",
       " 'VDDPset': 1.8,\n",
       " 'VPC [V]': 1.3001489597298648,\n",
       " 'VPC [mA]': -0.07722808671106002,\n",
       " 'VPCSWSF [V]': 0.4999735,\n",
       " 'VPCSWSF [mA]': -0.11350549755134126,\n",
       " 'VPCSWSFset': 0.5,\n",
       " 'VPCset': 1.3}"
      ]
     },
     "execution_count": 4,
     "metadata": {},
     "output_type": "execute_result"
    }
   ],
   "source": [
    "#chip['BiasSF'].set_current(100, unit='uA') # SET THE SOURCE FOLLOWER READOUT CURRENT\n",
    "chip.get_power_status()"
   ]
  },
  {
   "cell_type": "markdown",
   "metadata": {},
   "source": [
    "****************************ENABLE_COLUMS, SET MASKS, SELECT WHICH COLUMN AND ROW TO INJECT******************************"
   ]
  },
  {
   "cell_type": "code",
   "execution_count": 5,
   "metadata": {},
   "outputs": [],
   "source": [
    "# SELECT WHICH DOUBLE COLUMNS TO ENABLE\n",
    "chip['CONF_SR']['EN_PMOS_NOSF'].setall(False)\n",
    "chip['CONF_SR']['EN_PMOS'].setall(False)\n",
    "chip['CONF_SR']['EN_COMP'].setall(False)\n",
    "chip['CONF_SR']['EN_HV'].setall(False)\n",
    "chip['CONF_SR']['EN_OUT'].setall(False) #ENABLES OR DISABLES THE NORMAL OUTPUT PADS, ACTIVE LOW\n",
    "chip['CONF_SR']['nEN_OUT'].setall(True) #ENABLES OR DISABLES THE COMPLEMENTARY OUTPUT PADS, ACTIVE LOW\n",
    "chip['CONF_SR']['EN_HITOR_OUT'].setall(True) #ENABLES OR DISABLES THE NORMAL HITOR PADS, HITOR0-3 =  1-4 flavor, ACTIVE LOW\n",
    "chip['CONF_SR']['nEN_HITOR_OUT'].setall(True) #ENABLES OR DISABLES THE COMPLEMENTARY HITOR PADS, ACTIVE LOW\n",
    "\n",
    "#chip['CONF_SR']['EN_PMOS'][9] = 1\n",
    "chip['CONF_SR']['EN_PMOS'].setall(True)\n",
    "chip['CONF_SR']['EN_HITOR_OUT'][1] = False\n",
    "\n",
    "# SELECT WHICH PHYSICAL COLUMNS, ROWS, DIAGONALS TO MASK\n",
    "# TO MASK ONE PIXEL, MASKV, MASKH and MASKD OF THIS PIXEL SHOULD BE 0 (FALSE)\n",
    "# THE MASKD NUMBER OF THE PIXEL WE WANT TO MASK (or UNMASK), IS GIVEN BY: MASKD = PHYSCOL- PHYSROW\n",
    "# IF PHYSCOL-PHYSROW<0, then MASKD = 448+PHYSCOL-PHYSROW\n",
    "chip['CONF_SR']['MASKD'].setall(True)\n",
    "chip['CONF_SR']['MASKH'].setall(True)\n",
    "chip['CONF_SR']['MASKV'].setall(True)\n",
    "\n",
    "# TO USE THE MASK FUNCTION YOU MUST INPUT THE FLAVOR, COLUMN AND ROW\n",
    "# THE FLAVOR NUMERS IS: 0 FOR PMOS_NOSF, 1 FOR PMOS, 2 FOR COMP, 3 FOR HV\n",
    "\n",
    "#chip['CONF_SR']['MASKD'][31] = True\n",
    "#chip['CONF_SR']['MASKH'][99] = False\n",
    "\n",
    "# SELECT WHICH PHYSICAL COLUMS TO INJECT\n",
    "# INJ_IN_MON_L AND INJ_IN_MON_L SELECT THE LEFT AND RIGHT SPECIAL ANALOG MONITORING PIXELS\n",
    "chip['CONF_SR']['COL_PULSE_SEL'].setall(False)\n",
    "#chip['CONF_SR']['COL_PULSE_SEL'][130]=True\n",
    "\n",
    "chip['CONF_SR']['INJ_IN_MON_L'] = 1 # ENABLE INJECTION FOR THE ANALOG MONITORING PIXELS LEFT SIDE\n",
    "chip['CONF_SR']['INJ_IN_MON_R'] = 1 # ENABLE INJECTION FOR THE ANALOG MONITORING PIXELS RIGHT SIDE\n",
    "\n",
    "# SELECT WHICH PHYSICAL ROWS TO INJECT\n",
    "# THE SPEXIAL PIXELS OUTA_MON3 to OUTA_MON0 CORRESPONT TO ROWS 223 to 220 FOR INJECTION\n",
    "chip['CONF_SR']['INJ_ROW'].setall(False)\n",
    "chip['CONF_SR']['INJ_ROW'][223:220] = True # FOR THE ANALOG MONITORING TOP PIXEL\n",
    "\n",
    "# SELECT PHYSICAL COLUMNS AND ROWS FOR INJECTION WITH FUNCTION\n",
    "chip.enable_injection(1,18,99)\n",
    "\n",
    "# SELECT PHYSICAL COLUMN(S) FOR HITOR OUTPUT\n",
    "# nMASKH (SO SETTING MASKH TO FALSE) ENABLES HITOR FOR THE SPECIFIC ROW\n",
    "chip['CONF_SR']['DIG_MON_SEL'].setall(False)\n",
    "#chip.enable_column_hitor(1,18)\n",
    "\n",
    "chip.write_conf()"
   ]
  },
  {
   "cell_type": "markdown",
   "metadata": {},
   "source": [
    "************CONFIGURE THE FRONT END CURRENT AND VOLTAGE BIASES, CONFIGURE THE HEIGHT OF THE INJECTION PULSE**************"
   ]
  },
  {
   "cell_type": "code",
   "execution_count": 6,
   "metadata": {},
   "outputs": [
    {
     "name": "stderr",
     "output_type": "stream",
     "text": [
      "2019-03-20 23:48:19,055 [INFO ] (MainThread) vl = 1.00862204724V\n",
      "2019-03-20 23:48:19,057 [INFO ] (MainThread) vh = 1.50468503937V\n",
      "2019-03-20 23:48:19,059 [INFO ] (MainThread) vreset = 1.05106299213V\n",
      "2019-03-20 23:48:19,060 [INFO ] (MainThread) icasn = 4.375nA\n",
      "2019-03-20 23:48:19,062 [INFO ] (MainThread) ireset = 0.1025390625nA, high leakage mode\n",
      "2019-03-20 23:48:19,064 [INFO ] (MainThread) ithr = 0.8203125nA\n",
      "2019-03-20 23:48:19,065 [INFO ] (MainThread) idb = 280.0nA\n",
      "2019-03-20 23:48:19,067 [INFO ] (MainThread) ibias = 557.8125nA\n"
     ]
    }
   ],
   "source": [
    "## SET THE INJECTION PULSE AMPLITUDE\n",
    "## 128-bit DAC (7-bit binary equivalent)\n",
    "## SET THE VOLTAGES IN ONE HOT ENCODING, ONLY ONE BIT ACTIVE AT A TIME.\n",
    "## V = (127/1.8)*#BIT\n",
    "# The default values are VL=44, VH=79, VH-VL=35\n",
    "# VDAC LSB=14.17mV, Cinj=230aF, 1.43e-/mV, ~710e-\n",
    "chip.set_vl_dacunits(44,1)\n",
    "chip.set_vh_dacunits(79,1)\n",
    "\n",
    "####### CONFIGURE THE FRONT END ######\n",
    "\n",
    "# SET VRESET_P, THIS IS THE BASELINE OF THE FRONT END INPUT, ONE HOT ENCODING\n",
    "chip.set_vreset_dacunits(35,1) #1V\n",
    "\n",
    "## 128-bit DAC (7-bit binary equivalent)\n",
    "## SET THE CURRENTS USING THERMOMETER ENCODING, I = #BITS_ACTIVE*140nA*SCALING, SCALING IS DIFFERENT FOR EACH CURRENT\n",
    "## SCALING: IBIAS=10, IDB=16, ITHR=0.125, ICASN=4, IRESET=0.03125\n",
    "## ACTIVE BITS SHOULD BE SET STARTING FROM THE MIDDLE e.g. for 15 active bits, (128-15)/2=56,5 so 56zeros,15ones,57zeros\n",
    "## Thus, Ix[71:57] = True\n",
    "\n",
    "# SET ICASN, THIS CURRENT CONTROLS THE OUTPUT BASELINE, BE CAREFUL NOT TO SET IT TO HIGH\n",
    "# ALWAYS MONITOR THE POWER AFTER SETTING ICASN. IF VDDD IS SEVERAL mA, REDUCE IT UNTIL IT RETURNS TO 0\n",
    "# ICASN MAINLY CONTROLS THE THRESHOLD\n",
    "chip.set_icasn_dacunits(0,1) #4.375nA # approx 1.084V at -3V backbias, 600mV at 0V backbias\n",
    "\n",
    "# SET IRESET, THIS CURRENT CONTROLS THE RESET RATE OF THE FRONT END INPUT (ALSO THE THRESHOLD)\n",
    "chip.set_ireset_dacunits(2,1,1) #270pA, HIGH LEAKAGE MODE, NORMAL SCALING, 0 = LOW LEAKAGE MODE, SCALING*0.01\n",
    "\n",
    "# SET ITHR, THIS CURRENT CONTROLS THE RESET RATE OF THE OUTPUT (AND THE THRESHOLD)\n",
    "chip.set_ithr_dacunits(5,1) #680pA\n",
    "\n",
    "# SET ITHR, THIS CURRENT CONTROLS THE BIASING OF THE DISCRIMINATOR (AND THE THRESHOLD)\n",
    "chip.set_idb_dacunits(15,1) #500nA\n",
    "\n",
    "# SET IBIAS, THIS CURRENT IS THE DC CURRENT OF THE MAIN BRANCH OF THE FRONT END THAT PROVIDES AMPLIFICATION\n",
    "# IT CONTROLS MAINLY THE RISE TIME\n",
    "chip.set_ibias_dacunits(50,1) #500nA\n",
    "\n",
    "############ ENABLE THE DAC CURRENT MONITORING ###########\n",
    "# chip['CONF_SR']['SWCNTL_DACMONI'] = 0\n",
    "\n",
    "########## SET THE BIAS CURRENTS OF THE TWO STAGE SOURCE FOLLOWER THAT BUFFERS THE ANALOG MONITORING VOLTAGES #########\n",
    "# CONTROLS THE RESPONSE TIME AND THE LEVEL SHIFT OF THE BUFFER\n",
    "# chip['CONF_SR']['SET_IBUFN_L'] = 0b1001\n",
    "# chip['CONF_SR']['SET_IBUFP_L'] = 0b0101\n",
    "\n",
    "chip.write_conf()"
   ]
  },
  {
   "cell_type": "code",
   "execution_count": 26,
   "metadata": {
    "scrolled": true
   },
   "outputs": [
    {
     "name": "stdout",
     "output_type": "stream",
     "text": [
      "0.6s,VDDP=0.936V 2 True True False\n",
      "0.9s,VDDP=0.936V 3 True True False\n",
      "1.1s,VDDP=0.936V 4 True True False\n",
      "1.4s,VDDP=0.935V 5 True True False\n",
      "1.7s,VDDP=0.936V 6 True True False\n",
      "2.0s,VDDP=0.935V 7 True True False\n",
      "2.2s,VDDP=0.936V 7 True True True\n",
      "53.4s,VDDP=0.935V 2 True True False\n",
      "53.6s,VDDP=0.935V 3 True True False\n",
      "53.9s,VDDP=0.935V 4 True True False\n",
      "54.1s,VDDP=0.935V 5 True True False\n",
      "54.4s,VDDP=0.935V 6 True True False\n",
      "54.7s,VDDP=0.935V 7 True True False\n",
      "55.0s,VDDP=0.935V 7 True True True\n",
      "102.9s,VDDP=0.935V 2 True True False\n",
      "103.2s,VDDP=0.935V 3 True True False\n",
      "103.4s,VDDP=0.935V 4 True True False\n",
      "103.7s,VDDP=0.934V 5 True True False\n",
      "104.0s,VDDP=0.934V 6 True True False\n",
      "104.2s,VDDP=0.934V 7 True True False\n",
      "104.5s,VDDP=0.935V 7 True True True\n",
      "154.2s,VDDP=0.934V 2 False False False\n",
      "154.5s,VDDP=0.934V 3 False False False\n",
      "154.8s,VDDP=0.934V 4 False False False\n",
      "155.0s,VDDP=0.934V 5 False False False\n",
      "155.3s,VDDP=0.934V 6 True True False\n",
      "155.6s,VDDP=0.934V 7 False False False\n",
      "155.9s,VDDP=0.934V 7 True True True\n",
      "207.9s,VDDP=0.934V 2 False False False\n",
      "208.1s,VDDP=0.934V 3 False False False\n",
      "208.4s,VDDP=0.934V 4 False False False\n",
      "208.7s,VDDP=0.934V 5 False False False\n",
      "208.9s,VDDP=0.934V 6 False False False\n",
      "209.2s,VDDP=0.934V 7 False False False\n",
      "209.4s,VDDP=0.933V 7 False False False\n",
      "254.2s,VDDP=0.933V 2 False False False\n",
      "254.5s,VDDP=0.933V 3 False False False\n",
      "254.8s,VDDP=0.933V 4 False False False\n",
      "255.0s,VDDP=0.933V 5 False False False\n",
      "255.3s,VDDP=0.933V 6 False False False\n",
      "255.6s,VDDP=0.933V 7 False False False\n",
      "255.8s,VDDP=0.933V 7 False False False\n",
      "307.2s,VDDP=0.932V 2 False False False\n",
      "307.4s,VDDP=0.932V 3 False False False\n",
      "307.7s,VDDP=0.932V 4 False False False\n",
      "308.0s,VDDP=0.932V 5 False False False\n",
      "308.2s,VDDP=0.932V 6 False False False\n",
      "308.5s,VDDP=0.932V 7 False False False\n",
      "308.8s,VDDP=0.933V 7 False False False\n",
      "358.6s,VDDP=0.932V 2 False False False\n",
      "358.9s,VDDP=0.932V 3 False False False\n",
      "359.1s,VDDP=0.932V 4 False False False\n",
      "359.4s,VDDP=0.932V 5 False False False\n",
      "359.7s,VDDP=0.932V 6 False False False\n",
      "359.9s,VDDP=0.932V 7 False False False\n",
      "360.2s,VDDP=0.932V 7 False False False\n",
      "405.2s,VDDP=0.932V 2 False False False\n",
      "405.5s,VDDP=0.932V 3 False False False\n",
      "405.8s,VDDP=0.932V 4 False False False\n",
      "406.1s,VDDP=0.932V 5 False False False\n",
      "406.3s,VDDP=0.932V 6 False False False\n",
      "406.6s,VDDP=0.932V 7 False False False\n",
      "406.8s,VDDP=0.931V 7 False False False\n",
      "458.4s,VDDP=0.931V 2 False False False\n",
      "458.6s,VDDP=0.931V 3 False False False\n",
      "458.9s,VDDP=0.931V 4 False False False\n",
      "459.1s,VDDP=0.931V 5 False False False\n",
      "459.4s,VDDP=0.931V 6 False False False\n",
      "459.7s,VDDP=0.931V 7 False False False\n",
      "459.9s,VDDP=0.931V 7 False False False\n",
      "503.3s,VDDP=0.931V 2 False False False\n",
      "503.5s,VDDP=0.931V 3 False False False\n",
      "503.8s,VDDP=0.931V 4 False False False\n",
      "504.1s,VDDP=0.931V 5 False False False\n",
      "504.4s,VDDP=0.931V 6 False False False\n",
      "504.6s,VDDP=0.931V 7 False False False\n",
      "504.9s,VDDP=0.931V 7 False False False\n"
     ]
    }
   ],
   "source": [
    "%matplotlib inline\n",
    "import matplotlib.pyplot as plt\n",
    "import numpy as np\n",
    "import time\n",
    "\n",
    "fname=time.strftime(\"%Y%m%d-%H%M%S_\")+\"conf_sr.npy\"\n",
    "\n",
    "t0=time.time()\n",
    "VDDPlist=np.arange(0.945,0.94,-0.0005)\n",
    "ret=np.empty([8000-1,len(VDDPlist)])\n",
    "with open(\"fname\",\"w\") as f:\n",
    "  for vddp_i,VDDP in enumerate(VDDPlist):\n",
    "    chip.power_on(VDDP=VDDP)\n",
    "    data=None\n",
    "    for jj in range(1000):\n",
    "      for j_i,j in enumerate([1,2,3,4,5,6,7,7]):\n",
    "        for i in range(len(chip['CONF_SR']['INJ_ROW'])):\n",
    "            chip['CONF_SR']['INJ_ROW'][i]= ((i%2**j)>=(2**j-1))\n",
    "        chip.write_conf()\n",
    "        pre=data\n",
    "        data=chip.get_conf_sr(\"mwr\")\n",
    "        if pre is not None:\n",
    "            ret[jj*8+j_i-1,vddp_i]= np.any(data[\"read_reg\"]==pre[\"write_reg\"])\n",
    "        if jj==0:\n",
    "            power=chip.get_power_status()\n",
    "            if pre is not None:\n",
    "                print \"%.1fs,VDDP=%.3fV\"%(time.time()-t0,power[\"VDDP [V]\"]), j, \n",
    "                print data[\"read_reg\"]==pre[\"write_reg\"],data[\"read_reg\"]==pre[\"memory\"],\n",
    "                print data[\"read_reg\"]==data[\"write_reg\"]\n",
    "            data.update(power)\n",
    "        np.save(f,data)\n",
    "chip.power_off()\n",
    "chip.power_on()\n",
    "chip['CONF_SR']['INJ_ROW'].setall(False)\n",
    "chip.write_conf()\n",
    "\n",
    "\n",
    "plt.plot(vddp_list,100.*np.sum(ret[:,:],axis=0)/7999.,\"o\")\n",
    "print np.sum(ret[:,:4],axis=0)\n",
    "plt.xlabel(\"VDDP [V]\")\n",
    "plt.ylabel(\"No error[%]\")"
   ]
  },
  {
   "cell_type": "markdown",
   "metadata": {},
   "source": [
    "******************INITIALIZE COMMUNICATION, RECEIVE DATA (CHECK IF DATA ARE SENT WITH EACH EXCECUTION)*******************"
   ]
  },
  {
   "cell_type": "code",
   "execution_count": null,
   "metadata": {},
   "outputs": [],
   "source": [
    "# chip['data_rx'].CONF_START_FREEZE = 15 #default 3\n",
    "# chip['data_rx'].CONF_STOP_FREEZE = 100 #default 40\n",
    "# chip['data_rx'].CONF_START_READ = 35 #default 6\n",
    "# chip['data_rx'].CONF_STOP_READ = 37 #default 7\n",
    "# chip['data_rx'].CONF_STOP = 105 #default 45\n",
    "\n",
    "#chip['data_rx'].reset()\n",
    "#chip['CONF']['AB_SELECT'] = 1\n",
    "#chip['CONF'].write()\n",
    "\n",
    "chip['data_rx'].set_en(True)\n",
    "\n",
    "x = chip['fifo'].get_data()\n",
    "\n",
    "ix = chip.interprete_data(x)\n",
    "print(len(ix))\n",
    "print(ix)"
   ]
  },
  {
   "cell_type": "markdown",
   "metadata": {},
   "source": [
    "****************************SET THE INJECTION PULSE PARAMETERS, INJECT x times and get the data**************************"
   ]
  },
  {
   "cell_type": "code",
   "execution_count": null,
   "metadata": {},
   "outputs": [],
   "source": [
    "chip['CONF_SR']['COL_PULSE_SEL'].setall(False)\n",
    "chip['CONF_SR']['INJ_ROW'].setall(False)\n",
    "chip['CONF_SR']['INJ_ROW'][223:220]=True\n",
    "for row in range(80,100):\n",
    "    chip.enable_injection(1,18,row)\n",
    "\n",
    "chip.write_conf()"
   ]
  },
  {
   "cell_type": "code",
   "execution_count": null,
   "metadata": {
    "scrolled": true
   },
   "outputs": [],
   "source": [
    "import numpy as np\n",
    "\n",
    "#chip['inj'].reset()\n",
    "\n",
    "repeat=1000\n",
    "sleeptime=repeat*0.00003\n",
    "delay=800\n",
    "width=250\n",
    "noise_en=0\n",
    "col=18\n",
    "row=99\n",
    "\n",
    "chip['inj'].set_delay(delay)\n",
    "chip['inj'].set_width(width)\n",
    "chip['inj'].set_repeat(repeat)\n",
    "chip['inj'].set_en(0)\n",
    "\n",
    "while not chip['inj'].is_ready:\n",
    "    time.sleep(0.001)\n",
    "\n",
    "for _ in range(10):\n",
    "    chip['inj'].is_ready\n",
    "\n",
    "chip[\"inj\"].start()\n",
    "time.sleep(sleeptime)\n",
    "\n",
    "x = chip['fifo'].get_data()\n",
    "ix = chip.interprete_data(x)\n",
    "\n",
    "print(len(ix))\n",
    "#print(ix)\n",
    "\n",
    "ixd=np.delete(ix, np.where((ix['col']!=col)|(ix['row']!=row))[0])\n",
    "uniquerow, countrow = np.unique(ixd['row'], return_counts=True)\n",
    "\n",
    "if countrow.size !=0:\n",
    "    print col, uniquerow[0], countrow[0]"
   ]
  },
  {
   "cell_type": "markdown",
   "metadata": {},
   "source": [
    "******************************************INJECTION SCANS -  S-CURVE*****************************************************"
   ]
  },
  {
   "cell_type": "code",
   "execution_count": null,
   "metadata": {
    "scrolled": false
   },
   "outputs": [],
   "source": [
    "%matplotlib inline\n",
    "import numpy as np\n",
    "\n",
    "flavor=1\n",
    "col=18\n",
    "startrow=90\n",
    "rownumber=1\n",
    "VL=40\n",
    "VHLrange=40\n",
    "start_dif=0\n",
    "repeat=500\n",
    "delay=500\n",
    "width=250\n",
    "noise_en=0\n",
    "analog_en=1\n",
    "sleeptime=repeat*0.00002\n",
    "DUtoe=20.18\n",
    "#DUtoe=23\n",
    "\n",
    "xhits = range(start_dif,VHLrange+start_dif+1)\n",
    "\n",
    "hits =chip.inj_scan_row(flavor, col, startrow, rownumber, VL, VHLrange, start_dif, delay, width, repeat, noise_en, analog_en, sleeptime)\n",
    "print hits\n",
    "plot.plot_scurve(col, startrow, xhits, hits[0], repeat, VHLrange/2+start_dif, 0.5, 10.0, DUtoe)"
   ]
  },
  {
   "cell_type": "code",
   "execution_count": null,
   "metadata": {},
   "outputs": [],
   "source": [
    "flavor=1\n",
    "partname='bot'\n",
    "col_high = 111\n",
    "col_low = 0\n",
    "row_high = None\n",
    "row_low = None\n",
    "rowstep=20\n",
    "\n",
    "VL=40\n",
    "VHLrange=40\n",
    "start_dif=0\n",
    "delay=1500\n",
    "width=350\n",
    "repeat=500\n",
    "noise_en=0\n",
    "analog_en=1\n",
    "sleeptime=repeat*0.00005\n",
    "sleeptime_step=0.01\n",
    "\n",
    "chip.inj_scan(flavor, col_high, col_low, row_high, row_low, rowstep, VL, VHLrange, start_dif, delay, width, repeat, noise_en, analog_en, sleeptime, sleeptime_step, partname)"
   ]
  }
 ],
 "metadata": {
  "kernelspec": {
   "display_name": "Python 2",
   "language": "python",
   "name": "python2"
  },
  "language_info": {
   "codemirror_mode": {
    "name": "ipython",
    "version": 2
   },
   "file_extension": ".py",
   "mimetype": "text/x-python",
   "name": "python",
   "nbconvert_exporter": "python",
   "pygments_lexer": "ipython2",
   "version": "2.7.15"
  }
 },
 "nbformat": 4,
 "nbformat_minor": 2
}
