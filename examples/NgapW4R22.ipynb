{
 "cells": [
  {
   "cell_type": "code",
   "execution_count": 1,
   "metadata": {},
   "outputs": [],
   "source": [
    "import sys,os,time\n",
    "\n",
    "import tables as tb\n",
    "import yaml\n",
    "import numpy as np\n",
    "from matplotlib import colors\n",
    "norm = colors.LogNorm()\n",
    "import matplotlib.pyplot as plt\n",
    "\n",
    "import tjmonopix.tjmonopix\n",
    "import tjmonopix.scans.source_scan as source_scan\n",
    "import tjmonopix.scans.th_scan as th_scan\n",
    "\n",
    "DUtoe=20"
   ]
  },
  {
   "cell_type": "markdown",
   "metadata": {},
   "source": [
    "# Electrical tests"
   ]
  },
  {
   "cell_type": "code",
   "execution_count": 2,
   "metadata": {},
   "outputs": [
    {
     "name": "stderr",
     "output_type": "stream",
     "text": [
      "2019-11-29 13:03:47,060 [INFO ] (MainThread) GPAC: power reset\n",
      "2019-11-29 13:03:48,477 [INFO ] (MainThread) Found adapter card: General Purpose Analog Card (GPAC) with ID 8\n",
      "2019-11-29 13:03:48,555 [INFO ] (MainThread) Found board 0 running firmware version 0.0\n",
      "2019-11-29 13:03:48,644 [INFO ] (MainThread) ibias = 45\n",
      "2019-11-29 13:03:48,646 [INFO ] (MainThread) ibias = 503.125nA\n",
      "2019-11-29 13:03:48,913 [INFO ] (MainThread) {'VPC [V]': 1.3002327889999996, 'VDDA_DAC [mA]': 2.0039990762671183, 'VDDP [V]': 1.7782266489468406, 'VDDP OC': False, 'VDDA [mA]': 28.571291504250468, 'VDDD [V]': 1.800444155, 'VDDA_DAC OC': False, 'VDDD [mA]': 0.5009997250796382, 'VPCSWSF [V]': 0.5005069754368446, 'VDDP [mA]': 77.77742784697587, 'BiasSF [V]': 1.0715224676578945, 'VDDD OC': False, 'VPC [mA]': 0.0915003766934811, 'VPCSWSF [mA]': -0.07738715460517194, 'VDDA [V]': 1.7855088356713427, 'VDDA OC': False, 'VDDA_DAC [V]': 1.7977220453172207, 'BiasSF [mA]': 0.10088749999999999}\n"
     ]
    }
   ],
   "source": [
    "chip=tjmonopix.tjmonopix.TJMonoPix(\n",
    "    conf=\"/home/user/workspace/tjmonopix/tjmonopix_30/tjmonopix/tjmonopix_mio3.yaml\",\n",
    "    no_power_reset=False)\n",
    "chip.init()"
   ]
  },
  {
   "cell_type": "code",
   "execution_count": 5,
   "metadata": {},
   "outputs": [
    {
     "name": "stderr",
     "output_type": "stream",
     "text": [
      "2019-11-29 12:21:02,237 [INFO ] (MainThread) ibias = 45\n",
      "2019-11-29 12:21:02,239 [INFO ] (MainThread) ibias = 503.125nA\n"
     ]
    }
   ],
   "source": [
    "# reset configuration\n",
    "chip.default_conf()\n",
    "chip.reset_ibias()"
   ]
  },
  {
   "cell_type": "code",
   "execution_count": 3,
   "metadata": {},
   "outputs": [
    {
     "name": "stderr",
     "output_type": "stream",
     "text": [
      "2019-11-29 13:03:58,900 [INFO ] (MainThread) vreset = 1.1644488189V\n",
      "2019-11-29 13:03:58,902 [INFO ] (MainThread) icasn = 0\n",
      "2019-11-29 13:03:58,903 [INFO ] (MainThread) icasn = 4.375nA\n",
      "2019-11-29 13:03:58,905 [INFO ] (MainThread) ireset = 10 low leakage mode\n",
      "2019-11-29 13:03:58,906 [INFO ] (MainThread) ireset = 3.759765625pA, low leakage mode\n",
      "2019-11-29 13:03:58,908 [INFO ] (MainThread) ithr = 10\n",
      "2019-11-29 13:03:58,909 [INFO ] (MainThread) ithr = 1.50390625nA\n",
      "2019-11-29 13:03:58,911 [INFO ] (MainThread) idb = 28\n",
      "2019-11-29 13:03:58,912 [INFO ] (MainThread) idb = 507.5nA\n",
      "2019-11-29 13:03:58,914 [INFO ] (MainThread) ibias = 45\n",
      "2019-11-29 13:03:58,915 [INFO ] (MainThread) ibias = 503.125nA\n"
     ]
    }
   ],
   "source": [
    "####### CONFIGURE THE FRONT END ######\n",
    "# INPUT baseline\n",
    "chip.set_vreset_dacunits(43,1) #1V\n",
    "# OUTPUT BASELINE\n",
    "chip.set_icasn_dacunits(0,1) #4.375nA # approx 1.084V at -3V backbias, 600mV at 0V backbias\n",
    "# INOUT RESET rate\n",
    "chip.set_ireset_dacunits(10,0,1) #270pA, HIGH LEAKAGE MODE, NORMAL SCALING, 0 = LOW LEAKAGE MODE, SCALING*0.01\n",
    "# OUTPUT RESET rate\n",
    "chip.set_ithr_dacunits(10,1) #680pA\n",
    "# BIASING OF THE DISCRIMINATOR (AND THE THRESHOLD)\n",
    "chip.set_idb_dacunits(28,1) #500nA\n",
    "# DC current of Amp, OUTPUT RISE TIME\n",
    "chip.set_ibias_dacunits(45,1) #500nA\n",
    "chip.write_conf()"
   ]
  },
  {
   "cell_type": "code",
   "execution_count": 4,
   "metadata": {},
   "outputs": [
    {
     "name": "stderr",
     "output_type": "stream",
     "text": [
      "2019-11-29 12:20:32,279 [INFO ] (MainThread) vl = 1.00862204724V\n",
      "2019-11-29 12:20:32,281 [INFO ] (MainThread) vh = 1.50468503937V\n"
     ]
    }
   ],
   "source": [
    "#### (optional) check analog output\n",
    "chip.enable_analog(col=\"all\")\n",
    "chip.set_inj_all(inj_n=0)  ## run this cell with inj_n=1 to stop injection\n",
    "chip.inject()"
   ]
  },
  {
   "cell_type": "code",
   "execution_count": 4,
   "metadata": {
    "scrolled": true
   },
   "outputs": [
    {
     "name": "stderr",
     "output_type": "stream",
     "text": [
      "2019-11-29 13:04:01,829 [INFO ] (MainThread) auto_mask th=2 step=10 exp=0.200000 fl=EN_PMOS\n",
      "2019-11-29 13:04:03,175 [INFO ] (MainThread) Enable MASKH 10 Noise data 5\n",
      "2019-11-29 13:04:03,176 [INFO ] (MainThread) Number of noisy pixels: 2\n",
      "2019-11-29 13:04:03,400 [INFO ] (MainThread) Enable MASKH 20 Noise data 1\n",
      "2019-11-29 13:04:03,402 [INFO ] (MainThread) Number of noisy pixels: 2\n",
      "2019-11-29 13:04:03,625 [INFO ] (MainThread) Enable MASKH 30 Noise data 0\n",
      "2019-11-29 13:04:03,627 [INFO ] (MainThread) Number of noisy pixels: 2\n",
      "2019-11-29 13:04:03,850 [INFO ] (MainThread) Enable MASKH 40 Noise data 86\n",
      "2019-11-29 13:04:03,852 [INFO ] (MainThread) Number of noisy pixels: 3\n",
      "2019-11-29 13:04:04,076 [INFO ] (MainThread) Enable MASKH 50 Noise data 74\n",
      "2019-11-29 13:04:04,078 [INFO ] (MainThread) Number of noisy pixels: 12\n",
      "2019-11-29 13:04:04,302 [INFO ] (MainThread) Enable MASKH 60 Noise data 365\n",
      "2019-11-29 13:04:04,303 [INFO ] (MainThread) Number of noisy pixels: 14\n",
      "2019-11-29 13:04:04,528 [INFO ] (MainThread) Enable MASKH 70 Noise data 2\n",
      "2019-11-29 13:04:04,529 [INFO ] (MainThread) Number of noisy pixels: 14\n",
      "2019-11-29 13:04:04,760 [INFO ] (MainThread) Enable MASKH 80 Noise data 9490\n",
      "2019-11-29 13:04:04,761 [INFO ] (MainThread) Number of noisy pixels: 24\n",
      "2019-11-29 13:04:04,986 [INFO ] (MainThread) Enable MASKH 90 Noise data 25\n",
      "2019-11-29 13:04:04,987 [INFO ] (MainThread) Number of noisy pixels: 28\n",
      "2019-11-29 13:04:05,212 [INFO ] (MainThread) Enable MASKH 100 Noise data 25\n",
      "2019-11-29 13:04:05,213 [INFO ] (MainThread) Number of noisy pixels: 35\n",
      "2019-11-29 13:04:05,464 [INFO ] (MainThread) Enable MASKH 110 Noise data 34796\n",
      "2019-11-29 13:04:05,466 [INFO ] (MainThread) Number of noisy pixels: 40\n",
      "2019-11-29 13:04:05,692 [INFO ] (MainThread) Enable MASKH 120 Noise data 3041\n",
      "2019-11-29 13:04:05,694 [INFO ] (MainThread) Number of noisy pixels: 47\n",
      "2019-11-29 13:04:05,917 [INFO ] (MainThread) Enable MASKH 130 Noise data 69\n",
      "2019-11-29 13:04:05,918 [INFO ] (MainThread) Number of noisy pixels: 58\n",
      "2019-11-29 13:04:06,146 [INFO ] (MainThread) Enable MASKH 140 Noise data 23\n",
      "2019-11-29 13:04:06,148 [INFO ] (MainThread) Number of noisy pixels: 60\n",
      "2019-11-29 13:04:06,413 [INFO ] (MainThread) Enable MASKH 150 Noise data 45382\n",
      "2019-11-29 13:04:06,415 [INFO ] (MainThread) Number of noisy pixels: 62\n",
      "2019-11-29 13:04:06,686 [INFO ] (MainThread) Enable MASKH 160 Noise data 60590\n",
      "2019-11-29 13:04:06,693 [INFO ] (MainThread) Number of noisy pixels: 63\n",
      "2019-11-29 13:04:06,928 [INFO ] (MainThread) Enable MASKH 170 Noise data 23\n",
      "2019-11-29 13:04:06,929 [INFO ] (MainThread) Number of noisy pixels: 67\n",
      "2019-11-29 13:04:07,158 [INFO ] (MainThread) Enable MASKH 180 Noise data 4380\n",
      "2019-11-29 13:04:07,160 [INFO ] (MainThread) Number of noisy pixels: 70\n",
      "2019-11-29 13:04:07,385 [INFO ] (MainThread) Enable MASKH 190 Noise data 196\n",
      "2019-11-29 13:04:07,387 [INFO ] (MainThread) Number of noisy pixels: 84\n",
      "2019-11-29 13:04:07,615 [INFO ] (MainThread) Enable MASKH 200 Noise data 1095\n",
      "2019-11-29 13:04:07,616 [INFO ] (MainThread) Number of noisy pixels: 92\n",
      "2019-11-29 13:04:07,844 [INFO ] (MainThread) Enable MASKH 210 Noise data 0\n",
      "2019-11-29 13:04:07,845 [INFO ] (MainThread) Number of noisy pixels: 92\n",
      "2019-11-29 13:04:08,072 [INFO ] (MainThread) Enable MASKH 220 Noise data 92\n",
      "2019-11-29 13:04:08,073 [INFO ] (MainThread) Number of noisy pixels: 98\n",
      "2019-11-29 13:04:08,305 [INFO ] (MainThread) Enable MASKH 223 Noise data 5597\n",
      "2019-11-29 13:04:08,306 [INFO ] (MainThread) Number of noisy pixels: 100\n",
      "2019-11-29 13:04:08,534 [INFO ] (MainThread) Enable MASKV 10 Noise data 9\n",
      "2019-11-29 13:04:08,536 [INFO ] (MainThread) Number of noisy pixels: 100\n",
      "2019-11-29 13:04:08,764 [INFO ] (MainThread) Enable MASKV 20 Noise data 12\n",
      "2019-11-29 13:04:08,765 [INFO ] (MainThread) Number of noisy pixels: 101\n",
      "2019-11-29 13:04:08,993 [INFO ] (MainThread) Enable MASKV 30 Noise data 1\n",
      "2019-11-29 13:04:08,994 [INFO ] (MainThread) Number of noisy pixels: 101\n",
      "2019-11-29 13:04:09,221 [INFO ] (MainThread) Enable MASKV 40 Noise data 10\n",
      "2019-11-29 13:04:09,222 [INFO ] (MainThread) Number of noisy pixels: 101\n",
      "2019-11-29 13:04:09,450 [INFO ] (MainThread) Enable MASKV 50 Noise data 2\n",
      "2019-11-29 13:04:09,451 [INFO ] (MainThread) Number of noisy pixels: 101\n",
      "2019-11-29 13:04:09,678 [INFO ] (MainThread) Enable MASKV 60 Noise data 18\n",
      "2019-11-29 13:04:09,680 [INFO ] (MainThread) Number of noisy pixels: 103\n",
      "2019-11-29 13:04:09,909 [INFO ] (MainThread) Enable MASKV 70 Noise data 1\n",
      "2019-11-29 13:04:09,911 [INFO ] (MainThread) Number of noisy pixels: 103\n",
      "2019-11-29 13:04:10,140 [INFO ] (MainThread) Enable MASKV 80 Noise data 2\n",
      "2019-11-29 13:04:10,141 [INFO ] (MainThread) Number of noisy pixels: 104\n",
      "2019-11-29 13:04:10,369 [INFO ] (MainThread) Enable MASKV 90 Noise data 3\n",
      "2019-11-29 13:04:10,370 [INFO ] (MainThread) Number of noisy pixels: 105\n",
      "2019-11-29 13:04:10,599 [INFO ] (MainThread) Enable MASKV 100 Noise data 1\n",
      "2019-11-29 13:04:10,601 [INFO ] (MainThread) Number of noisy pixels: 105\n",
      "2019-11-29 13:04:10,829 [INFO ] (MainThread) Enable MASKV 110 Noise data 8\n",
      "2019-11-29 13:04:10,830 [INFO ] (MainThread) Number of noisy pixels: 105\n",
      "2019-11-29 13:04:11,058 [INFO ] (MainThread) Enable MASKV 111 Noise data 0\n",
      "2019-11-29 13:04:11,059 [INFO ] (MainThread) Number of noisy pixels: 105\n",
      "2019-11-29 13:04:11,288 [INFO ] (MainThread) Enable MASKD 10 Noise data 1\n",
      "2019-11-29 13:04:11,290 [INFO ] (MainThread) Number of noisy pixels: 105\n",
      "2019-11-29 13:04:11,519 [INFO ] (MainThread) Enable MASKD 20 Noise data 15\n",
      "2019-11-29 13:04:11,520 [INFO ] (MainThread) Number of noisy pixels: 105\n",
      "2019-11-29 13:04:11,748 [INFO ] (MainThread) Enable MASKD 30 Noise data 0\n",
      "2019-11-29 13:04:11,750 [INFO ] (MainThread) Number of noisy pixels: 105\n",
      "2019-11-29 13:04:11,977 [INFO ] (MainThread) Enable MASKD 40 Noise data 0\n",
      "2019-11-29 13:04:11,979 [INFO ] (MainThread) Number of noisy pixels: 105\n",
      "2019-11-29 13:04:12,208 [INFO ] (MainThread) Enable MASKD 50 Noise data 0\n",
      "2019-11-29 13:04:12,209 [INFO ] (MainThread) Number of noisy pixels: 105\n",
      "2019-11-29 13:04:12,438 [INFO ] (MainThread) Enable MASKD 60 Noise data 2\n",
      "2019-11-29 13:04:12,440 [INFO ] (MainThread) Number of noisy pixels: 105\n",
      "2019-11-29 13:04:12,669 [INFO ] (MainThread) Enable MASKD 70 Noise data 2\n",
      "2019-11-29 13:04:12,670 [INFO ] (MainThread) Number of noisy pixels: 105\n",
      "2019-11-29 13:04:12,898 [INFO ] (MainThread) Enable MASKD 80 Noise data 15\n",
      "2019-11-29 13:04:12,899 [INFO ] (MainThread) Number of noisy pixels: 107\n",
      "2019-11-29 13:04:13,126 [INFO ] (MainThread) Enable MASKD 90 Noise data 2\n",
      "2019-11-29 13:04:13,128 [INFO ] (MainThread) Number of noisy pixels: 107\n",
      "2019-11-29 13:04:13,355 [INFO ] (MainThread) Enable MASKD 100 Noise data 16\n",
      "2019-11-29 13:04:13,357 [INFO ] (MainThread) Number of noisy pixels: 108\n",
      "2019-11-29 13:04:13,586 [INFO ] (MainThread) Enable MASKD 110 Noise data 10\n",
      "2019-11-29 13:04:13,587 [INFO ] (MainThread) Number of noisy pixels: 109\n",
      "2019-11-29 13:04:13,816 [INFO ] (MainThread) Enable MASKD 120 Noise data 15\n",
      "2019-11-29 13:04:13,818 [INFO ] (MainThread) Number of noisy pixels: 111\n",
      "2019-11-29 13:04:14,047 [INFO ] (MainThread) Enable MASKD 130 Noise data 1\n",
      "2019-11-29 13:04:14,049 [INFO ] (MainThread) Number of noisy pixels: 111\n",
      "2019-11-29 13:04:14,276 [INFO ] (MainThread) Enable MASKD 140 Noise data 11\n",
      "2019-11-29 13:04:14,277 [INFO ] (MainThread) Number of noisy pixels: 111\n",
      "2019-11-29 13:04:14,507 [INFO ] (MainThread) Enable MASKD 150 Noise data 1\n",
      "2019-11-29 13:04:14,508 [INFO ] (MainThread) Number of noisy pixels: 111\n",
      "2019-11-29 13:04:14,737 [INFO ] (MainThread) Enable MASKD 160 Noise data 14\n",
      "2019-11-29 13:04:14,739 [INFO ] (MainThread) Number of noisy pixels: 112\n",
      "2019-11-29 13:04:14,966 [INFO ] (MainThread) Enable MASKD 170 Noise data 14\n",
      "2019-11-29 13:04:14,967 [INFO ] (MainThread) Number of noisy pixels: 113\n",
      "2019-11-29 13:04:15,196 [INFO ] (MainThread) Enable MASKD 180 Noise data 0\n",
      "2019-11-29 13:04:15,197 [INFO ] (MainThread) Number of noisy pixels: 113\n",
      "2019-11-29 13:04:15,426 [INFO ] (MainThread) Enable MASKD 190 Noise data 0\n",
      "2019-11-29 13:04:15,428 [INFO ] (MainThread) Number of noisy pixels: 113\n",
      "2019-11-29 13:04:15,657 [INFO ] (MainThread) Enable MASKD 200 Noise data 2\n",
      "2019-11-29 13:04:15,658 [INFO ] (MainThread) Number of noisy pixels: 113\n"
     ]
    },
    {
     "name": "stderr",
     "output_type": "stream",
     "text": [
      "2019-11-29 13:04:15,887 [INFO ] (MainThread) Enable MASKD 210 Noise data 3\n",
      "2019-11-29 13:04:15,889 [INFO ] (MainThread) Number of noisy pixels: 113\n",
      "2019-11-29 13:04:16,117 [INFO ] (MainThread) Enable MASKD 220 Noise data 1\n",
      "2019-11-29 13:04:16,119 [INFO ] (MainThread) Number of noisy pixels: 113\n",
      "2019-11-29 13:04:16,349 [INFO ] (MainThread) Enable MASKD 230 Noise data 1\n",
      "2019-11-29 13:04:16,350 [INFO ] (MainThread) Number of noisy pixels: 113\n",
      "2019-11-29 13:04:16,579 [INFO ] (MainThread) Enable MASKD 240 Noise data 2\n",
      "2019-11-29 13:04:16,581 [INFO ] (MainThread) Number of noisy pixels: 113\n",
      "2019-11-29 13:04:16,810 [INFO ] (MainThread) Enable MASKD 250 Noise data 0\n",
      "2019-11-29 13:04:16,812 [INFO ] (MainThread) Number of noisy pixels: 113\n",
      "2019-11-29 13:04:17,041 [INFO ] (MainThread) Enable MASKD 260 Noise data 0\n",
      "2019-11-29 13:04:17,043 [INFO ] (MainThread) Number of noisy pixels: 113\n",
      "2019-11-29 13:04:17,270 [INFO ] (MainThread) Enable MASKD 270 Noise data 13\n",
      "2019-11-29 13:04:17,272 [INFO ] (MainThread) Number of noisy pixels: 113\n",
      "2019-11-29 13:04:17,501 [INFO ] (MainThread) Enable MASKD 280 Noise data 1\n",
      "2019-11-29 13:04:17,502 [INFO ] (MainThread) Number of noisy pixels: 113\n",
      "2019-11-29 13:04:17,731 [INFO ] (MainThread) Enable MASKD 290 Noise data 0\n",
      "2019-11-29 13:04:17,732 [INFO ] (MainThread) Number of noisy pixels: 113\n",
      "2019-11-29 13:04:17,960 [INFO ] (MainThread) Enable MASKD 300 Noise data 1\n",
      "2019-11-29 13:04:17,962 [INFO ] (MainThread) Number of noisy pixels: 113\n",
      "2019-11-29 13:04:18,191 [INFO ] (MainThread) Enable MASKD 310 Noise data 1\n",
      "2019-11-29 13:04:18,193 [INFO ] (MainThread) Number of noisy pixels: 113\n",
      "2019-11-29 13:04:18,422 [INFO ] (MainThread) Enable MASKD 320 Noise data 0\n",
      "2019-11-29 13:04:18,423 [INFO ] (MainThread) Number of noisy pixels: 113\n",
      "2019-11-29 13:04:18,651 [INFO ] (MainThread) Enable MASKD 330 Noise data 1\n",
      "2019-11-29 13:04:18,653 [INFO ] (MainThread) Number of noisy pixels: 113\n",
      "2019-11-29 13:04:18,880 [INFO ] (MainThread) Enable MASKD 340 Noise data 12\n",
      "2019-11-29 13:04:18,882 [INFO ] (MainThread) Number of noisy pixels: 113\n",
      "2019-11-29 13:04:19,111 [INFO ] (MainThread) Enable MASKD 350 Noise data 0\n",
      "2019-11-29 13:04:19,113 [INFO ] (MainThread) Number of noisy pixels: 113\n",
      "2019-11-29 13:04:19,342 [INFO ] (MainThread) Enable MASKD 360 Noise data 15\n",
      "2019-11-29 13:04:19,343 [INFO ] (MainThread) Number of noisy pixels: 114\n",
      "2019-11-29 13:04:19,571 [INFO ] (MainThread) Enable MASKD 370 Noise data 11\n",
      "2019-11-29 13:04:19,573 [INFO ] (MainThread) Number of noisy pixels: 115\n",
      "2019-11-29 13:04:19,802 [INFO ] (MainThread) Enable MASKD 380 Noise data 1\n",
      "2019-11-29 13:04:19,804 [INFO ] (MainThread) Number of noisy pixels: 115\n",
      "2019-11-29 13:04:20,033 [INFO ] (MainThread) Enable MASKD 390 Noise data 1\n",
      "2019-11-29 13:04:20,034 [INFO ] (MainThread) Number of noisy pixels: 115\n",
      "2019-11-29 13:04:20,263 [INFO ] (MainThread) Enable MASKD 400 Noise data 2\n",
      "2019-11-29 13:04:20,264 [INFO ] (MainThread) Number of noisy pixels: 115\n",
      "2019-11-29 13:04:20,493 [INFO ] (MainThread) Enable MASKD 410 Noise data 1\n",
      "2019-11-29 13:04:20,495 [INFO ] (MainThread) Number of noisy pixels: 115\n",
      "2019-11-29 13:04:20,723 [INFO ] (MainThread) Enable MASKD 420 Noise data 3\n",
      "2019-11-29 13:04:20,724 [INFO ] (MainThread) Number of noisy pixels: 116\n",
      "2019-11-29 13:04:20,954 [INFO ] (MainThread) Enable MASKD 430 Noise data 0\n",
      "2019-11-29 13:04:20,956 [INFO ] (MainThread) Number of noisy pixels: 116\n",
      "2019-11-29 13:04:21,184 [INFO ] (MainThread) Enable MASKD 440 Noise data 0\n",
      "2019-11-29 13:04:21,186 [INFO ] (MainThread) Number of noisy pixels: 116\n",
      "2019-11-29 13:04:21,414 [INFO ] (MainThread) Enable MASKD 447 Noise data 2\n",
      "2019-11-29 13:04:21,416 [INFO ] (MainThread) Number of noisy pixels: 116\n",
      "2019-11-29 13:04:21,643 [INFO ] (MainThread) Checking noisy pixels after masking...\n",
      "2019-11-29 13:04:21,645 [INFO ] (MainThread) Data size: 12\n",
      "2019-11-29 13:04:21,646 [INFO ] (MainThread) Number of noisy pixels: 119\n",
      "2019-11-29 13:04:21,966 [INFO ] (MainThread) Noisy pixels: [(1,   0, 142) (1,   1, 129) (1,   1, 141) (1,   3,  53) (1,   3, 116)\n",
      " (1,   4, 213) (1,   5,  95) (1,   5, 158) (1,   6, 171) (1,   8, 145)\n",
      " (1,   8, 221) (1,   9, 108) (1,   9, 204) (1,  10,   6) (1,  14,  22)\n",
      " (1,  16,   7) (1,  16, 209) (1,  17,  85) (1,  18, 178) (1,  19, 213)\n",
      " (1,  22,   0) (1,  23,  74) (1,  23, 106) (1,  24,  13) (1,  24,  17)\n",
      " (1,  26,  45) (1,  26, 139) (1,  27, 137) (1,  27, 186) (1,  27, 206)\n",
      " (1,  28,  97) (1,  29,  91) (1,  29, 116) (1,  32, 120) (1,  33,  26)\n",
      " (1,  34,  91) (1,  35,   6) (1,  35, 206) (1,  36, 168) (1,  39,  90)\n",
      " (1,  40, 104) (1,  41,  75) (1,  41, 115) (1,  42,  44) (1,  43,  57)\n",
      " (1,  43,  69) (1,  44,  30) (1,  44,  85) (1,  44, 148) (1,  44, 216)\n",
      " (1,  45,  71) (1,  45, 104) (1,  46, 112) (1,  46, 120) (1,  46, 151)\n",
      " (1,  47,  55) (1,  47, 121) (1,  47, 179) (1,  48, 101) (1,  49, 146)\n",
      " (1,  50,   4) (1,  50,  68) (1,  50, 153) (1,  51,  31) (1,  51, 144)\n",
      " (1,  52, 141) (1,  53, 167) (1,  54,  73) (1,  54, 134) (1,  54, 219)\n",
      " (1,  57,  24) (1,  57,  99) (1,  59,  58) (1,  59, 197) (1,  60, 211)\n",
      " (1,  60, 218) (1,  61, 216) (1,  62, 146) (1,  63, 164) (1,  63, 197)\n",
      " (1,  65,  39) (1,  66,  93) (1,  67, 172) (1,  69,  72) (1,  69, 130)\n",
      " (1,  70,  84) (1,  72, 160) (1,  73,  25) (1,  73, 122) (1,  73, 156)\n",
      " (1,  73, 189) (1,  74, 180) (1,  74, 218) (1,  79,  73) (1,  79,  94)\n",
      " (1,  80, 168) (1,  80, 181) (1,  81,  60) (1,  82,  71) (1,  83,  18)\n",
      " (1,  84, 126) (1,  86,  28) (1,  86,  45) (1,  87, 177) (1,  88, 155)\n",
      " (1,  89,  44) (1,  90,   1) (1,  92, 112) (1,  95, 200) (1,  96, 177)\n",
      " (1,  99,  49) (1,  99,  88) (1,  99, 173) (1, 100,  56) (1, 100, 169)\n",
      " (1, 108, 130) (1, 110,  90)]\n",
      "2019-11-29 13:04:21,968 [INFO ] (MainThread) Total number of noisy pixels: 117\n",
      "2019-11-29 13:04:22,499 [INFO ] (MainThread) Number of enabled pixels: 22624\n",
      "2019-11-29 13:04:22,500 [INFO ] (MainThread) Number of disabled pixels (noisy plus unintentionally masked): 2464\n"
     ]
    },
    {
     "data": {
      "image/png": "[encoded data removed]",
      "text/plain": [
       "<Figure size 432x288 with 1 Axes>"
      ]
     },
     "metadata": {
      "needs_background": "light"
     },
     "output_type": "display_data"
    }
   ],
   "source": [
    "#### enable pixels and mask noisy pixels\n",
    "chip.set_monoread()\n",
    "noisy=chip.auto_mask()\n",
    "\n",
    "mask=chip.get_pixel_status(mask=None,mode=\"all\")\n",
    "plt.imshow(chip.get_pixel_status(mask=mask,mode=\"preamp\")[3,:,:],\n",
    "           interpolation=\"none\",origin=\"bottomleft\")\n",
    "plt.title(\"Enabled pixel = yellow\");"
   ]
  },
  {
   "cell_type": "code",
   "execution_count": null,
   "metadata": {},
   "outputs": [],
   "source": [
    "### check power status (VDDD < several mA, VDDP roughly 80mA)\n",
    "chip.get_power_status()"
   ]
  },
  {
   "cell_type": "code",
   "execution_count": null,
   "metadata": {},
   "outputs": [],
   "source": [
    "### select one pixel\n",
    "col=20\n",
    "row=20\n",
    "chip.enable_injection(chip.fl_n, col, row)\n",
    "#chip.enable_pixel(chip.fl_n,col,row) \n",
    "#chip.enable_hitor(chip.fl_n,col,row)\n",
    "mask=chip.get_pixel_status(mask=None,mode=\"all\")\n",
    "print \"preamp of [%d,%d]:\"%(col,row),chip.get_pixel_status(mask=mask,mode=\"preamp\")[chip.fl_n, col, row]\n",
    "print \"inj of [%d,%d]:\"%(col,row),chip.get_pixel_status(mask=mask,mode=\"inj\")[chip.fl_n, col, row]\n",
    "print \"hitor of [%d,%d]:\"%(col,row),chip.get_pixel_status(mask=mask,mode=\"mon\")[chip.fl_n, col, row]"
   ]
  },
  {
   "cell_type": "code",
   "execution_count": null,
   "metadata": {},
   "outputs": [],
   "source": [
    "### (optional) inject 1 pixel. it is good idea to run this once/twice.\n",
    "chip.set_inj_all(inj_n=1000,inj_phase=0)\n",
    "#chip.reset_ibias()\n",
    "chip.set_monoread()\n",
    "chip.inject()\n",
    "time.sleep(1)\n",
    "dat=chip.interpret_data(chip['fifo'].get_data())\n",
    "print \"n of data\", len(dat)\n",
    "if len(dat)!=0:\n",
    "    uni,cnt=np.unique(dat[[\"col\",'row']], return_counts=True)\n",
    "    arg=np.argsort(cnt)\n",
    "    for a in arg[::-1]:\n",
    "        print uni[a],cnt[a]"
   ]
  },
  {
   "cell_type": "code",
   "execution_count": 18,
   "metadata": {},
   "outputs": [
    {
     "name": "stderr",
     "output_type": "stream",
     "text": [
      "2019-11-29 12:28:50,162 [INFO ] (MainThread) vl = 1.00862204724V\n",
      "2019-11-29 12:28:50,164 [INFO ] (MainThread) vh = 1.50468503937V\n",
      "2019-11-29 12:28:50,168 [INFO ] (MainThread) Initializing ThScan\n",
      "2019-11-29 12:28:50,448 [INFO ] (MainThread) Power status: {'VPC [V]': 1.3007325834999997, 'VDDA_DAC [mA]': 2.0039990762671183, 'VDDP [V]': 1.7772265476429288, 'VDDP OC': False, 'VDDA [mA]': 24.489678443681203, 'VDDD [V]': 1.800444155, 'VDDA_DAC OC': False, 'VDDD [mA]': 0.5009997250796382, 'VPCSWSF [V]': 0.5000079, 'VDDP [mA]': 86.86829602730414, 'BiasSF [V]': 1.0730224200526315, 'VDDD OC': False, 'VPC [mA]': -0.15200059444040706, 'VPCSWSF [mA]': -0.004522615231221412, 'VDDA [V]': 1.792503862725451, 'VDDA OC': False, 'VDDA_DAC [V]': 1.7977220453172207, 'BiasSF [mA]': 0.10088749999999999}\n",
      "2019-11-29 12:28:50,648 [INFO ] (MainThread) Temperature: 30.4 C\n",
      "2019-11-29 12:28:50,679 [INFO ] (MainThread) Creating ZMQ context\n",
      "2019-11-29 12:28:50,680 [INFO ] (MainThread) Creating socket connection to server tcp://127.0.0.1:5500\n",
      "2019-11-29 12:28:50,682 [INFO ] (MainThread) ScanBase.start:data_send.data_send_init connected\n",
      "2019-11-29 12:28:50,684 [INFO ] (MainThread) Resetting SRAM FIFO: size = 4380\n",
      "2019-11-29 12:28:51,118 [INFO ] (MainThread) Set timestamp: src=inj\n",
      "2019-11-29 12:28:51,673 [INFO ] (MainThread) Starting FIFO readout\n",
      "2019-11-29 12:28:53,269 [INFO ] (MainThread) Stopped FIFO readout\n",
      "2019-11-29 12:28:53,272 [INFO ] (MainThread) g=None, dat=149133\n",
      "2019-11-29 12:28:53,275 [INFO ] (MainThread) Recived words: 149133\n",
      "2019-11-29 12:28:53,276 [INFO ] (MainThread) Data queue size: 0\n",
      "2019-11-29 12:28:53,278 [INFO ] (MainThread) SRAM FIFO size: 0\n",
      "2019-11-29 12:28:53,279 [INFO ] (MainThread) Channel:                     TDC | DATA_RX | TLU | TIMESTAMP\n",
      "2019-11-29 12:28:53,281 [INFO ] (MainThread) Discard counter:             None |       0 |   0 |         0\n",
      "2019-11-29 12:28:53,553 [INFO ] (MainThread) Power status: {'VPC [V]': 1.3007325834999997, 'VDDA_DAC [mA]': 2.0039990762671183, 'VDDP [V]': 1.7772265476429288, 'VDDP OC': False, 'VDDA [mA]': 24.489678443681203, 'VDDD [V]': 1.800444155, 'VDDA_DAC OC': False, 'VDDD [mA]': 0.5009997250796382, 'VPCSWSF [V]': 0.5005069754368446, 'VDDP [mA]': 86.86829602730414, 'BiasSF [V]': 1.0725224359210523, 'VDDD OC': False, 'VPC [mA]': -0.5190020581206409, 'VPCSWSF [mA]': -0.010050269942348691, 'VDDA [V]': 1.792503862725451, 'VDDA OC': False, 'VDDA_DAC [V]': 1.7977220453172207, 'BiasSF [mA]': 0.10088749999999999}\n",
      "2019-11-29 12:28:53,763 [INFO ] (MainThread) Temperature: 30.4 C\n",
      "2019-11-29 12:28:53,794 [INFO ] (MainThread) Closing socket connection\n"
     ]
    },
    {
     "name": "stdout",
     "output_type": "stream",
     "text": [
      "0 149132 100.000% 0.002s 49711hits 0errs\n",
      "data (inj_n 1000,inj_loop 35): INJ=35000 MONO=14711 MON=0\n",
      "0 49711 100.000% 0.003s 14711hits 0errs\n",
      "delete_noninjected from 14711 to 14705 to 14705 99.959 percent\n",
      "delete_cetainvalue from 14705 to 14705 100.000 percent\n",
      "fit mu=3.960e+02(19.8003DU) sigma=1.020e+01(0.5101DU)\n"
     ]
    },
    {
     "data": {
      "image/png": "[encoded data removed]",
      "text/plain": [
       "<Figure size 432x288 with 2 Axes>"
      ]
     },
     "metadata": {
      "needs_background": "light"
     },
     "output_type": "display_data"
    }
   ],
   "source": [
    "### S-curve\n",
    "chip.set_inj_all(inj_n=1000,inj_phase=0)\n",
    "reload(th_scan)\n",
    "scan=th_scan.ThScan(chip)\n",
    "scan.start(rowlist=np.arange(row,row+1,1), ## list of rows\n",
    "           collist=np.arange(col,col+1,1), ## list of columns\n",
    "           n_mask_col=1,                   ## maximum number of columns which are injected at once\n",
    "           injlist=np.arange(0,35)         ## scan values of test pulse amplitude in DU\n",
    "           )                               ## do not change\n",
    "scan.analyze(scan.output_filename)\n",
    "scan.stop()\n",
    "fraw=scan.output_filename+'.h5'\n",
    "fev=fraw[:-7]+'ev.h5'\n",
    "\n",
    "with tb.open_file(fev) as f:\n",
    "    cnts=f.root.Cnts[:]\n",
    "    inj=f.root.ScurveFit.attrs.injlist\n",
    "    fit=f.root.ScurveFit[:]\n",
    "fig,ax=plt.subplots(ncols=1,nrows=1,sharey=True)\n",
    "ax=[ax]\n",
    "cnts=cnts[np.bitwise_and(cnts['col']==col,cnts['row']==row)]\n",
    "fit=fit[np.bitwise_and(fit['col']==col,fit['row']==row)][0]\n",
    "cnt=np.zeros(len(inj))\n",
    "for c in cnts:\n",
    "    cnt[np.argwhere(inj==c[\"inj\"])[0][0]]=c['cnt']\n",
    "x,y=tjmonopix.analysis.utils.scurve_from_fit(th=inj,n=500,\n",
    "        reverse=False,A_fit=fit[\"A\"],mu_fit=fit[\"mu\"],sigma_fit=fit['sigma'])\n",
    "ax[0].plot(inj,cnt,\"o\")\n",
    "ax[0].plot(x,y,\"-\")\n",
    "ax2=ax[0].twiny()\n",
    "ax[0].set_xbound(np.min(inj),np.max(inj))\n",
    "ax2.set_xbound(np.min(inj)*DUtoe,np.max(inj)*DUtoe)\n",
    "ax[0].set_xlabel(\"Injection [DU]\")\n",
    "ax2.set_xlabel(\"Signal [e]\")\n",
    "print \"fit mu=%.3e(%.4fDU)\"%(fit[\"mu\"]*DUtoe,fit[\"mu\"]),\n",
    "print \"sigma=%.3e(%.4fDU)\"%(fit[\"sigma\"]*DUtoe,fit[\"sigma\"])"
   ]
  },
  {
   "cell_type": "code",
   "execution_count": 19,
   "metadata": {},
   "outputs": [
    {
     "name": "stderr",
     "output_type": "stream",
     "text": [
      "2019-11-29 12:30:03,212 [INFO ] (MainThread) vl = 1.00862204724V\n",
      "2019-11-29 12:30:03,214 [INFO ] (MainThread) vh = 1.50468503937V\n",
      "2019-11-29 12:30:03,218 [INFO ] (MainThread) Initializing ThScan\n",
      "2019-11-29 12:30:03,488 [INFO ] (MainThread) Power status: {'VPC [V]': 1.3002327889999996, 'VDDA_DAC [mA]': 2.0039990762671183, 'VDDP [V]': 1.7772265476429288, 'VDDP OC': False, 'VDDA [mA]': 24.489678443681203, 'VDDD [V]': 1.800444155, 'VDDA_DAC OC': False, 'VDDD [mA]': 7.585704998729309e-08, 'VPCSWSF [V]': 0.5000079, 'VDDP [mA]': 86.86829602730414, 'BiasSF [V]': 1.0725224359210523, 'VDDD OC': False, 'VPC [mA]': 0.2775011185041718, 'VPCSWSF [mA]': -0.017587980912067713, 'VDDA [V]': 1.792503862725451, 'VDDA OC': False, 'VDDA_DAC [V]': 1.7977220453172207, 'BiasSF [mA]': 0.10088749999999999}\n",
      "2019-11-29 12:30:03,687 [INFO ] (MainThread) Temperature: 30.5 C\n",
      "2019-11-29 12:30:03,723 [INFO ] (MainThread) Creating ZMQ context\n",
      "2019-11-29 12:30:03,725 [INFO ] (MainThread) Creating socket connection to server tcp://127.0.0.1:5500\n",
      "2019-11-29 12:30:03,727 [INFO ] (MainThread) ScanBase.start:data_send.data_send_init connected\n",
      "2019-11-29 12:30:03,728 [INFO ] (MainThread) Resetting SRAM FIFO: size = 0\n",
      "2019-11-29 12:30:04,996 [INFO ] (MainThread) Set timestamp: src=inj\n",
      "2019-11-29 12:30:05,550 [INFO ] (MainThread) Starting FIFO readout\n",
      "2019-11-29 12:31:02,007 [INFO ] (MainThread) scan_param_id=0 dat=3364623: cols=[0]\n",
      "2019-11-29 12:31:02,519 [INFO ] (MainThread) Stopped FIFO readout\n",
      "2019-11-29 12:31:02,522 [INFO ] (MainThread) Starting FIFO readout\n",
      "2019-11-29 12:31:58,741 [INFO ] (MainThread) scan_param_id=1 dat=-39442: cols=[10]\n",
      "2019-11-29 12:31:59,248 [INFO ] (MainThread) Stopped FIFO readout\n",
      "2019-11-29 12:31:59,250 [INFO ] (MainThread) Starting FIFO readout\n",
      "2019-11-29 12:32:55,496 [INFO ] (MainThread) scan_param_id=2 dat=34848: cols=[20]\n",
      "2019-11-29 12:32:56,002 [INFO ] (MainThread) Stopped FIFO readout\n",
      "2019-11-29 12:32:56,005 [INFO ] (MainThread) Starting FIFO readout\n",
      "2019-11-29 12:33:53,607 [INFO ] (MainThread) scan_param_id=3 dat=182449: cols=[30]\n",
      "2019-11-29 12:33:54,110 [INFO ] (MainThread) Stopped FIFO readout\n",
      "2019-11-29 12:33:54,112 [INFO ] (MainThread) Starting FIFO readout\n",
      "2019-11-29 12:34:51,023 [INFO ] (MainThread) scan_param_id=4 dat=-228160: cols=[40]\n",
      "2019-11-29 12:34:51,527 [INFO ] (MainThread) Stopped FIFO readout\n",
      "2019-11-29 12:34:51,529 [INFO ] (MainThread) Starting FIFO readout\n",
      "2019-11-29 12:35:48,186 [INFO ] (MainThread) scan_param_id=5 dat=61203: cols=[50]\n",
      "2019-11-29 12:35:48,690 [INFO ] (MainThread) Stopped FIFO readout\n",
      "2019-11-29 12:35:48,692 [INFO ] (MainThread) Starting FIFO readout\n",
      "2019-11-29 12:36:45,066 [INFO ] (MainThread) scan_param_id=6 dat=-63933: cols=[60]\n",
      "2019-11-29 12:36:45,571 [INFO ] (MainThread) Stopped FIFO readout\n",
      "2019-11-29 12:36:45,574 [INFO ] (MainThread) Starting FIFO readout\n",
      "2019-11-29 12:37:41,948 [INFO ] (MainThread) scan_param_id=7 dat=-26418: cols=[70]\n",
      "2019-11-29 12:37:42,454 [INFO ] (MainThread) Stopped FIFO readout\n",
      "2019-11-29 12:37:42,456 [INFO ] (MainThread) Starting FIFO readout\n",
      "2019-11-29 12:38:38,863 [INFO ] (MainThread) scan_param_id=8 dat=5265: cols=[80]\n",
      "2019-11-29 12:38:39,366 [INFO ] (MainThread) Stopped FIFO readout\n",
      "2019-11-29 12:38:39,368 [INFO ] (MainThread) Starting FIFO readout\n",
      "2019-11-29 12:39:35,475 [INFO ] (MainThread) scan_param_id=9 dat=23325: cols=[90]\n",
      "2019-11-29 12:39:35,982 [INFO ] (MainThread) Stopped FIFO readout\n",
      "2019-11-29 12:39:35,984 [INFO ] (MainThread) Starting FIFO readout\n",
      "2019-11-29 12:40:32,558 [INFO ] (MainThread) scan_param_id=10 dat=14334: cols=[100]\n",
      "2019-11-29 12:40:33,065 [INFO ] (MainThread) Stopped FIFO readout\n",
      "2019-11-29 12:40:33,067 [INFO ] (MainThread) Starting FIFO readout\n",
      "2019-11-29 12:41:29,406 [INFO ] (MainThread) scan_param_id=11 dat=-4533: cols=[110]\n",
      "2019-11-29 12:41:29,909 [INFO ] (MainThread) Stopped FIFO readout\n",
      "2019-11-29 12:41:29,913 [INFO ] (MainThread) g=None, dat=238\n",
      "2019-11-29 12:41:29,915 [INFO ] (MainThread) Recived words: 3323799\n",
      "2019-11-29 12:41:29,916 [INFO ] (MainThread) Data queue size: 0\n",
      "2019-11-29 12:41:29,920 [INFO ] (MainThread) SRAM FIFO size: 0\n",
      "2019-11-29 12:41:29,922 [INFO ] (MainThread) Channel:                     TDC | DATA_RX | TLU | TIMESTAMP\n",
      "2019-11-29 12:41:29,923 [INFO ] (MainThread) Discard counter:             None |       0 |   0 |         0\n",
      "2019-11-29 12:41:30,201 [INFO ] (MainThread) Power status: {'VPC [V]': 1.3007325834999997, 'VDDA_DAC [mA]': 2.0039990762671183, 'VDDP [V]': 1.7772265476429288, 'VDDP OC': False, 'VDDA [mA]': 24.489678443681203, 'VDDD [V]': 1.800444155, 'VDDA_DAC OC': False, 'VDDD [mA]': 0.5009997250796382, 'VPCSWSF [V]': 0.5005069754368446, 'VDDP [mA]': 86.36324779506369, 'BiasSF [V]': 1.0730224200526315, 'VDDD OC': False, 'VPC [mA]': 0.38300153926238617, 'VPCSWSF [mA]': -0.13819135642757202, 'VDDA [V]': 1.792503862725451, 'VDDA OC': False, 'VDDA_DAC [V]': 1.7977220453172207, 'BiasSF [mA]': 0.10088749999999999}\n",
      "2019-11-29 12:41:30,413 [INFO ] (MainThread) Temperature: 30.7 C\n",
      "2019-11-29 12:41:30,445 [INFO ] (MainThread) Closing socket connection\n"
     ]
    },
    {
     "name": "stdout",
     "output_type": "stream",
     "text": [
      "0 40138361 100.000% 0.453s 13379454hits 0errs\n",
      "data (inj_n 100,inj_loop 7840): INJ=7016489 MONO=2983511 MON=0\n",
      "0 9999999 74.741% 0.545s 2983487hits 0errs\n",
      "data (inj_n 100,inj_loop 7840): INJ=2391512 MONO=987943 MON=0\n",
      "9999999 3379455 100.000% 0.789s 987933hits 0errs\n",
      "delete_noninjected from 3971420 to 3967942 to 3967929 99.912 percent\n",
      "delete_cetainvalue from 3967929 to 3967929 100.000 percent\n"
     ]
    },
    {
     "name": "stderr",
     "output_type": "stream",
     "text": [
      "/home/user/workspace/tjmonopix/tjmonopix_30/tjmonopix/analysis/utils.py:73: RuntimeWarning: invalid value encountered in sqrt\n",
      "  err=np.sqrt(np.diag(cov))\n"
     ]
    }
   ],
   "source": [
    "## Threshold scan 1col=~1.5min\n",
    "chip.set_inj_all(inj_n=100,inj_phase=0)\n",
    "reload(th_scan)\n",
    "scan=th_scan.ThScan(chip)\n",
    "scan.start(rowlist=np.arange(0,224,1), ## list of rows\n",
    "           collist=np.arange(0,112,10), ## list of columns change here (0,112,1) for full scan\n",
    "           n_mask_col=1,                   ## max number of columns to be injected\n",
    "           injlist=np.arange(0,35),        ## scan values of test pulse amplitude in DU\n",
    "           debug=4)                        \n",
    "scan.analyze(scan.output_filename)\n",
    "scan.stop()\n",
    "fraw=scan.output_filename+'.h5'\n",
    "fev=fraw[:-7]+'ev.h5'"
   ]
  },
  {
   "cell_type": "code",
   "execution_count": 11,
   "metadata": {},
   "outputs": [
    {
     "data": {
      "image/png": "[encoded data removed]",
      "text/plain": [
       "<Figure size 432x288 with 2 Axes>"
      ]
     },
     "metadata": {
      "needs_background": "light"
     },
     "output_type": "display_data"
    }
   ],
   "source": [
    "with tb.open_file(fev) as f:\n",
    "    cnts=f.root.Cnts[:]\n",
    "    inj=f.root.ScurveFit.attrs.injlist\n",
    "\n",
    "fig,ax=plt.subplots(ncols=1,nrows=1,sharey=True)\n",
    "hist=ax.hist2d(cnts['inj']*DUtoe,cnts['cnt'], bins=[inj*DUtoe,np.arange(100)],norm=norm)\n",
    "cb=fig.colorbar(hist[3], ax=ax)\n",
    "cb.set_label(\"# of pixels\")\n",
    "ax.set_ylabel(\"Count\")\n",
    "ax.set_xlabel(\"Signal [e]\");\n"
   ]
  },
  {
   "cell_type": "code",
   "execution_count": 13,
   "metadata": {},
   "outputs": [
    {
     "data": {
      "image/png": "[encoded data removed]",
      "text/plain": [
       "<Figure size 432x288 with 2 Axes>"
      ]
     },
     "metadata": {
      "needs_background": "light"
     },
     "output_type": "display_data"
    }
   ],
   "source": [
    "with tb.open_file(fev) as f:\n",
    "    fit=f.root.ScurveFit[:]\n",
    "DUtoe=1\n",
    "fig,ax=plt.subplots(ncols=2,nrows=1,sharey=True)\n",
    "ax[0].hist(fit['mu']*DUtoe,bins=np.arange(0,30,0.5)*DUtoe,histtype=\"step\")\n",
    "ax[1].hist(fit['sigma']*DUtoe,bins=np.arange(0,3,0.05)*DUtoe,histtype=\"step\")\n",
    "ax[0].set_ylabel(\"# of pix\")\n",
    "ax[0].set_xlabel(\"Threshold [e]\")\n",
    "ax[1].set_xlabel(\"ENC [e]\");"
   ]
  },
  {
   "cell_type": "code",
   "execution_count": 14,
   "metadata": {},
   "outputs": [
    {
     "name": "stderr",
     "output_type": "stream",
     "text": [
      "2019-11-29 13:16:02,222 [INFO ] (MainThread) Initializing SourceScan\n",
      "2019-11-29 13:16:02,489 [INFO ] (MainThread) Power status: {'VPC [V]': 1.3002327889999996, 'VDDA_DAC [mA]': 2.0039990762671183, 'VDDP [V]': 1.7782266489468406, 'VDDP OC': False, 'VDDA [mA]': 24.999880076252367, 'VDDD [V]': 1.800444155, 'VDDA_DAC OC': False, 'VDDD [mA]': 0.5009997250796382, 'VPCSWSF [V]': 0.5005069754368446, 'VDDP [mA]': 86.36324779506369, 'BiasSF [V]': 1.0730224200526315, 'VDDD OC': False, 'VPC [mA]': -0.16100063033447276, 'VPCSWSF [mA]': -0.0010050167786858693, 'VDDA [V]': 1.792503862725451, 'VDDA OC': False, 'VDDA_DAC [V]': 1.7977220453172207, 'BiasSF [mA]': 0.10088749999999999}\n",
      "2019-11-29 13:16:02,687 [INFO ] (MainThread) Temperature: 30.7 C\n",
      "2019-11-29 13:16:02,715 [INFO ] (MainThread) Creating ZMQ context\n",
      "2019-11-29 13:16:02,717 [INFO ] (MainThread) Creating socket connection to server tcp://127.0.0.1:5500\n",
      "2019-11-29 13:16:02,719 [INFO ] (MainThread) ScanBase.start:data_send.data_send_init connected\n",
      "2019-11-29 13:16:02,720 [INFO ] (MainThread) Resetting SRAM FIFO: size = 12\n",
      "2019-11-29 13:16:03,464 [INFO ] (MainThread) Starting FIFO readout\n",
      "2019-11-29 13:16:03,466 [WARNI] (MainThread) SRAM FIFO not empty when starting FIFO readout: size = 216\n",
      "2019-11-29 13:16:03,469 [INFO ] (MainThread) *****SourceScan is running **** don't forget to start tlu ****\n",
      "2019-11-29 13:16:03,667 [INFO ] (MainThread) time=0s dat=54 rate=34.223k/s temp=30.68C\n",
      "2019-11-29 13:16:04,879 [INFO ] (MainThread) time=1s dat=72 rate=0.015k/s temp=30.67C\n",
      "2019-11-29 13:16:06,083 [INFO ] (MainThread) time=2s dat=87 rate=0.012k/s temp=30.68C\n",
      "2019-11-29 13:16:07,294 [INFO ] (MainThread) time=4s dat=111 rate=0.019k/s temp=30.67C\n",
      "2019-11-29 13:16:08,501 [INFO ] (MainThread) time=5s dat=129 rate=0.015k/s temp=30.70C\n",
      "2019-11-29 13:16:09,701 [INFO ] (MainThread) time=6s dat=132 rate=0.002k/s temp=30.69C\n",
      "2019-11-29 13:16:10,911 [INFO ] (MainThread) time=7s dat=156 rate=0.020k/s temp=30.70C\n",
      "2019-11-29 13:16:12,124 [INFO ] (MainThread) time=8s dat=177 rate=0.017k/s temp=30.74C\n",
      "2019-11-29 13:16:13,328 [INFO ] (MainThread) time=10s dat=201 rate=0.019k/s temp=30.71C\n",
      "2019-11-29 13:16:14,537 [INFO ] (MainThread) time=11s dat=225 rate=0.019k/s temp=30.70C\n",
      "2019-11-29 13:16:15,751 [INFO ] (MainThread) time=12s dat=240 rate=0.012k/s temp=30.66C\n",
      "2019-11-29 13:16:16,952 [INFO ] (MainThread) time=13s dat=261 rate=0.017k/s temp=30.67C\n",
      "2019-11-29 13:16:18,154 [INFO ] (MainThread) time=14s dat=279 rate=0.015k/s temp=30.70C\n",
      "2019-11-29 13:16:19,361 [INFO ] (MainThread) time=16s dat=294 rate=0.012k/s temp=30.73C\n",
      "2019-11-29 13:16:20,574 [INFO ] (MainThread) time=17s dat=321 rate=0.022k/s temp=30.69C\n",
      "2019-11-29 13:16:21,785 [INFO ] (MainThread) time=18s dat=339 rate=0.014k/s temp=30.70C\n",
      "2019-11-29 13:16:22,991 [INFO ] (MainThread) time=19s dat=363 rate=0.019k/s temp=30.67C\n",
      "2019-11-29 13:16:24,203 [INFO ] (MainThread) time=21s dat=375 rate=0.010k/s temp=30.70C\n",
      "2019-11-29 13:16:25,414 [INFO ] (MainThread) time=22s dat=381 rate=0.005k/s temp=30.65C\n",
      "2019-11-29 13:16:26,622 [INFO ] (MainThread) time=23s dat=402 rate=0.017k/s temp=30.71C\n",
      "2019-11-29 13:16:27,829 [INFO ] (MainThread) time=24s dat=435 rate=0.027k/s temp=30.69C\n",
      "2019-11-29 13:16:29,030 [INFO ] (MainThread) time=25s dat=444 rate=0.007k/s temp=30.71C\n",
      "2019-11-29 13:16:30,234 [INFO ] (MainThread) time=27s dat=462 rate=0.015k/s temp=30.68C\n",
      "2019-11-29 13:16:31,433 [INFO ] (MainThread) time=28s dat=477 rate=0.012k/s temp=30.74C\n",
      "2019-11-29 13:16:32,639 [INFO ] (MainThread) time=29s dat=486 rate=0.007k/s temp=30.75C\n",
      "2019-11-29 13:16:33,848 [INFO ] (MainThread) time=30s dat=510 rate=0.019k/s temp=30.74C\n",
      "2019-11-29 13:17:34,110 [INFO ] (MainThread) time=90s dat=1260 rate=0.012k/s temp=30.69C\n",
      "2019-11-29 13:17:35,325 [INFO ] (MainThread) time=92s dat=1278 rate=0.015k/s temp=30.67C\n",
      "2019-11-29 13:17:36,524 [INFO ] (MainThread) time=93s dat=1290 rate=0.010k/s temp=30.73C\n",
      "2019-11-29 13:17:37,736 [INFO ] (MainThread) time=94s dat=1311 rate=0.017k/s temp=30.73C\n",
      "2019-11-29 13:17:38,939 [INFO ] (MainThread) time=95s dat=1326 rate=0.012k/s temp=30.70C\n",
      "2019-11-29 13:17:40,146 [INFO ] (MainThread) time=96s dat=1341 rate=0.012k/s temp=30.73C\n",
      "2019-11-29 13:17:41,358 [INFO ] (MainThread) time=98s dat=1371 rate=0.024k/s temp=30.76C\n",
      "2019-11-29 13:17:42,567 [INFO ] (MainThread) time=99s dat=1401 rate=0.024k/s temp=30.72C\n",
      "2019-11-29 13:17:43,678 [WARNI] (MainThread) FIFO stopped due to timeout\n",
      "2019-11-29 13:17:43,703 [INFO ] (MainThread) Stopped FIFO readout\n",
      "2019-11-29 13:17:43,708 [INFO ] (MainThread) Recived words: 1419\n",
      "2019-11-29 13:17:43,710 [INFO ] (MainThread) Data queue size: 0\n",
      "2019-11-29 13:17:43,711 [INFO ] (MainThread) SRAM FIFO size: 0\n",
      "2019-11-29 13:17:43,712 [INFO ] (MainThread) Channel:                     TDC | DATA_RX | TLU | TIMESTAMP\n",
      "2019-11-29 13:17:43,714 [INFO ] (MainThread) Discard counter:             None |       0 |   0 |         0\n",
      "2019-11-29 13:17:43,982 [INFO ] (MainThread) Power status: {'VPC [V]': 1.3002327889999996, 'VDDA_DAC [mA]': 2.0039990762671183, 'VDDP [V]': 1.7782266489468406, 'VDDP OC': False, 'VDDA [mA]': 24.489678443681203, 'VDDD [V]': 1.800444155, 'VDDA_DAC OC': False, 'VDDD [mA]': 0.5009997250796382, 'VPCSWSF [V]': 0.5005069754368446, 'VDDP [mA]': 86.36324779506369, 'BiasSF [V]': 1.0730224200526315, 'VDDD OC': False, 'VPC [mA]': -0.4020015914977871, 'VPCSWSF [mA]': 0.046733819362867926, 'VDDA [V]': 1.792503862725451, 'VDDA OC': False, 'VDDA_DAC [V]': 1.7977220453172207, 'BiasSF [mA]': 0.10088749999999999}\n",
      "2019-11-29 13:17:44,179 [INFO ] (MainThread) Temperature: 30.7 C\n",
      "2019-11-29 13:17:44,209 [INFO ] (MainThread) Closing socket connection\n"
     ]
    },
    {
     "name": "stdout",
     "output_type": "stream",
     "text": [
      "/home/user/workspace/tjmonopix/tjmonopix_30/examples/output_data/20191129_131602_source_scan.h5\n",
      "0 1418 100.000% 0.000s 473hits\n"
     ]
    },
    {
     "data": {
      "image/png": "[encoded data removed]",
      "text/plain": [
       "<Figure size 432x288 with 3 Axes>"
      ]
     },
     "metadata": {
      "needs_background": "light"
     },
     "output_type": "display_data"
    }
   ],
   "source": [
    "## noise occupancy\n",
    "reload(source_scan)\n",
    "scan=source_scan.SourceScan(dut=chip)\n",
    "scan.start(scan_time=100,                                ## scan time in seconds\n",
    "           with_mon=False,with_rx1=False,with_tlu=False) ## do not change\n",
    "fhit=scan.analyze(scan.output_filename,event_build=\"none\",clusterize=False)\n",
    "scan.stop()\n",
    "with tb.open_file(fhit) as f:\n",
    "    hits=f.root.Hits[:]\n",
    "fig,ax=plt.subplots(ncols=2,nrows=1)\n",
    "hist=ax[0].hist2d(hits['col'],hits['row'],bins=[np.arange(0,112),np.arange(0,224)]);\n",
    "fig.colorbar(hist[3],ax=ax[0])\n",
    "ax[1].hist(np.reshape(hist[0],[-1]),histtype=\"step\",bins=20)\n",
    "ax[1].set_yscale(\"log\")\n",
    "ax[0].set_title(\"Hit map\");\n",
    "ax[1].set_ylabel(\"# of pixels\");\n",
    "fig.tight_layout()"
   ]
  },
  {
   "cell_type": "markdown",
   "metadata": {},
   "source": [
    "# Source scan"
   ]
  },
  {
   "cell_type": "code",
   "execution_count": null,
   "metadata": {},
   "outputs": [],
   "source": [
    "### (optional) load setting from confiuration file\n",
    "with open(\"NgapW4R22.yaml\") as f:\n",
    "    conf=yaml.safe_load(f)\n",
    "#chip=tjmonopix.tjmonopix.TJMonoPix(\n",
    "#    conf=conf['dut']['file'],\n",
    "#    no_power_reset=True)\n",
    "#chip.init()    \n",
    "    \n",
    "chip.default_conf()\n",
    "chip.switch_flavor(conf[\"dut\"]['flavor'])\n",
    "chip.enable_pixel(chip.fl_n,col=-1,row=-1,mask=conf['mask'])\n",
    "chip.reset_ibias()\n",
    "\n",
    "chip.set_vreset_dacunits(conf['dut']['vreset_dacunits'],1) #\n",
    "chip.set_icasn_dacunits(conf['dut']['icasn_dacunits'],1) \n",
    "chip.set_ireset_dacunits(conf['dut']['ireset_dacunits']['value'],conf['dut']['ireset_dacunits']['mode'],1)\n",
    "chip.set_ithr_dacunits(conf['dut']['ithr_dacunits'],1)\n",
    "chip.set_idb_dacunits(conf['dut']['idb_dacunits'],1)\n",
    "chip.set_ibias_dacunits(conf['dut']['ibias_dacunits'],1)\n",
    "chip.reset_ibias()"
   ]
  },
  {
   "cell_type": "code",
   "execution_count": null,
   "metadata": {},
   "outputs": [],
   "source": [
    "## Fe\n",
    "## online monitor\n",
    "## % start_online_monitor ../tjmonopix/online_monitor.yaml\n",
    "\n",
    "reload(source_scan)\n",
    "scan=source_scan.SourceScan(dut=chip)\n",
    "scan.start(scan_time=1000,                                ## scan time in seconds\n",
    "           with_mon=False,with_rx1=False,with_tlu=False) ## do not change\n",
    "fhit=scan.analyze(scan.output_filename,event_build=\"token\",clusterize=True)\n",
    "scan.stop()"
   ]
  }
 ],
 "metadata": {
  "kernelspec": {
   "display_name": "Python 2",
   "language": "python",
   "name": "python2"
  },
  "language_info": {
   "codemirror_mode": {
    "name": "ipython",
    "version": 2
   },
   "file_extension": ".py",
   "mimetype": "text/x-python",
   "name": "python",
   "nbconvert_exporter": "python",
   "pygments_lexer": "ipython2",
   "version": "2.7.16"
  }
 },
 "nbformat": 4,
 "nbformat_minor": 2
}
