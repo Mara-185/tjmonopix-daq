{
 "cells": [
  {
   "cell_type": "markdown",
   "metadata": {},
   "source": [
    "## INITIALIZATION"
   ]
  },
  {
   "cell_type": "code",
   "execution_count": 1,
   "metadata": {
    "scrolled": true
   },
   "outputs": [
    {
     "name": "stderr",
     "output_type": "stream",
     "text": [
      "2022-03-03 16:08:38,584 [INFO ] (MainThread) GPAC: power reset\n",
      "2022-03-03 16:08:40,358 [INFO ] (MainThread) Found adapter card: General Purpose Analog Card (GPAC) with ID 3\n",
      "2022-03-03 16:08:40,589 [INFO ] (MainThread) Found board 0 running firmware version 0.0\n",
      "2022-03-03 16:08:40,838 [INFO ] (MainThread) ibias = 45\n",
      "2022-03-03 16:08:40,839 [INFO ] (MainThread) ibias = 503.125 nA\n",
      "2022-03-03 16:08:41,413 [INFO ] (MainThread) {'VPC [V]': 1.2998506463536463, 'VDDA_DAC [mA]': 2.502471747485684, 'VDDP [V]': 1.8049802771084336, 'VDDP OC': False, 'VDDA [mA]': 50.151368865825674, 'VDDD [V]': 1.8015140363636364, 'VDDA_DAC OC': False, 'VDDD [mA]': 2.820288999038665e-08, 'VPCSWSF [V]': 0.5001542395802099, 'VDDP [mA]': 128.39714805315754, 'BiasSF [V]': 1.0612799558568045, 'VDDD OC': False, 'VPC [mA]': -0.0104999484396249, 'VPCSWSF [mA]': -0.03101538368982188, 'VDDA [V]': 1.8058565495495498, 'VDDA OC': False, 'VDDA_DAC [V]': 1.8035484515484517, 'BiasSF [mA]': 0.10059447096451782}\n"
     ]
    }
   ],
   "source": [
    "%matplotlib notebook\n",
    "import numpy as np\n",
    "import time\n",
    "import tables as tb\n",
    "import matplotlib.pyplot as plt\n",
    "\n",
    "from tjmonopix.tjmonopix import TJMonoPix\n",
    "from tjmonopix.online_monitor import noise_monitor, plots\n",
    "from tjmonopix.analysis import analysis_functions\n",
    "\n",
    "import tjmonopix.scans.injection_scan\n",
    "\n",
    "chip = TJMonoPix(conf=\"../tjmonopix/tjmonopix_mio3.yaml\", no_power_reset=False)\n",
    "chip.init(fl=\"EN_HV\")\n",
    "\n",
    "chip['data_rx'].CONF_START_FREEZE = 64 #default 3\n",
    "chip['data_rx'].CONF_STOP_FREEZE = 100 #default 40\n",
    "chip['data_rx'].CONF_START_READ = 66 #default 6\n",
    "chip['data_rx'].CONF_STOP_READ = 68 #default 7\n",
    "chip['data_rx'].CONF_STOP = 105 #default 45\n"
   ]
  },
  {
   "cell_type": "markdown",
   "metadata": {},
   "source": [
    "## POWER STATUS"
   ]
  },
  {
   "cell_type": "code",
   "execution_count": 2,
   "metadata": {
    "scrolled": false
   },
   "outputs": [
    {
     "data": {
      "text/plain": [
       "{'BiasSF [V]': 1.0622801785996314,\n",
       " 'BiasSF [mA]': 0.10059447096451782,\n",
       " 'VDDA OC': False,\n",
       " 'VDDA [V]': 1.8058565495495498,\n",
       " 'VDDA [mA]': 50.151368865825674,\n",
       " 'VDDA_DAC OC': False,\n",
       " 'VDDA_DAC [V]': 1.8045472377622378,\n",
       " 'VDDA_DAC [mA]': 3.002966091804109,\n",
       " 'VDDD OC': False,\n",
       " 'VDDD [V]': 1.8015140363636364,\n",
       " 'VDDD [mA]': 2.820288999038665e-08,\n",
       " 'VDDP OC': False,\n",
       " 'VDDP [V]': 1.8059798142570278,\n",
       " 'VDDP [mA]': 128.39714805315754,\n",
       " 'VPC [V]': 1.2998506463536463,\n",
       " 'VPC [mA]': -0.16399927222535715,\n",
       " 'VPCSWSF [V]': 0.5001542395802099,\n",
       " 'VPCSWSF [mA]': -0.09004467377977772}"
      ]
     },
     "execution_count": 2,
     "metadata": {},
     "output_type": "execute_result"
    }
   ],
   "source": [
    "#chip['BiasSF'].set_current(100, unit='uA') # SET THE SOURCE FOLLOWER READOUT CURRENT\n",
    "chip.get_power_status()"
   ]
  },
  {
   "cell_type": "markdown",
   "metadata": {},
   "source": [
    "## ANALOG FRONT END CONFIGURATION"
   ]
  },
  {
   "cell_type": "code",
   "execution_count": 3,
   "metadata": {},
   "outputs": [
    {
     "name": "stderr",
     "output_type": "stream",
     "text": [
      "2022-03-03 16:09:50,868 [INFO ] (MainThread) vl = 0.951929133858V\n",
      "2022-03-03 16:09:50,884 [INFO ] (MainThread) vh = 1.51885826772V\n",
      "2022-03-03 16:09:50,898 [INFO ] (MainThread) vreset = 1.05106299213V\n",
      "2022-03-03 16:09:50,904 [INFO ] (MainThread) icasn = 0\n",
      "2022-03-03 16:09:50,907 [INFO ] (MainThread) icasn = 4.375 nA\n",
      "2022-03-03 16:09:50,910 [INFO ] (MainThread) ireset = 2 high leakage mode\n",
      "2022-03-03 16:09:50,914 [INFO ] (MainThread) ireset = 0.1025390625nA, high leakage mode\n",
      "2022-03-03 16:09:50,915 [INFO ] (MainThread) ithr = 5\n",
      "2022-03-03 16:09:50,918 [INFO ] (MainThread) ithr = 0.8203125 nA\n",
      "2022-03-03 16:09:50,937 [INFO ] (MainThread) idb = 50\n",
      "2022-03-03 16:09:50,951 [INFO ] (MainThread) idb = 892.5 nA\n",
      "2022-03-03 16:09:50,967 [INFO ] (MainThread) ibias = 100\n",
      "2022-03-03 16:09:50,983 [INFO ] (MainThread) ibias = 1104.6875 nA\n"
     ]
    }
   ],
   "source": [
    "vl_dac = 40\n",
    "vh_dac = 80\n",
    "vreset_dac = 35\n",
    "icasn_dac = 0  # This sets the baseline voltage of the discriminator input\n",
    "ireset_dac = 2\n",
    "ithr_dac = 5  # Also this sets the baseline voltage of the discriminator input\n",
    "idb_dac = 50  # This sets the threshold of the discriminator. It is changed later.\n",
    "ibias_dac = 100\n",
    "\n",
    "## SET THE INJECTION PULSE AMPLITUDE\n",
    "## 128-bit DAC (7-bit binary equivalent)\n",
    "## SET THE VOLTAGES IN ONE HOT ENCODING, ONLY ONE BIT ACTIVE AT A TIME.\n",
    "## V = (127/1.8)*#BIT\n",
    "# The default values are VL=44, VH=79, VH-VL=35\n",
    "# VDAC LSB=14.17mV, Cinj=230aF, 1.43e-/mV, ~710e-  \n",
    "CAPCAL=20.3439450687\n",
    "vl = chip.set_vl_dacunits(vl_dac,1)\n",
    "vh = chip.set_vh_dacunits(vh_dac,1)\n",
    "\n",
    "chip.write_conf()\n",
    "\n",
    "# SET VRESET_P, THIS IS THE BASELINE OF THE FRONT END INPUT, ONE HOT ENCODING\n",
    "vreset = chip.set_vreset_dacunits(vreset_dac, 1) #1V\n",
    "\n",
    "## 128-bit DAC (7-bit binary equivalent)\n",
    "## SET THE CURRENTS USING THERMOMETER ENCODING, I = #BITS_ACTIVE*140nA*SCALING, SCALING IS DIFFERENT FOR EACH CURRENT\n",
    "## SCALING: IBIAS=10, IDB=16, ITHR=0.125, ICASN=4, IRESET=0.03125\n",
    "## ACTIVE BITS SHOULD BE SET STARTING FROM THE MIDDLE e.g. for 15 active bits, (128-15)/2=56,5 so 56zeros,15ones,57zeros\n",
    "## Thus, Ix[71:57] = True\n",
    "\n",
    "# SET ICASN, THIS CURRENT CONTROLS THE OUTPUT BASELINE, BE CAREFUL NOT TO SET IT TO HIGH\n",
    "# ALWAYS MONITOR THE POWER AFTER SETTING ICASN. IF VDDD IS SEVERAL mA, REDUCE IT UNTIL IT RETURNS TO 0\n",
    "# ICASN MAINLY CONTROLS THE THRESHOLD\n",
    "icasn = chip.set_icasn_dacunits(icasn_dac,1) #4.375nA # approx 1.084V at -3V backbias, 600mV at 0V backbias\n",
    "\n",
    "# SET IRESET, THIS CURRENT CONTROLS THE RESET RATE OF THE FRONT END INPUT (ALSO THE THRESHOLD)\n",
    "ireset = chip.set_ireset_dacunits(ireset_dac,1,1) #270pA, HIGH LEAKAGE MODE, NORMAL SCALING, 0 = LOW LEAKAGE MODE, SCALING*0.01\n",
    "\n",
    "# SET ITHR, THIS CURRENT CONTROLS THE RESET RATE OF THE OUTPUT (AND THE THRESHOLD)\n",
    "ithr = chip.set_ithr_dacunits(ithr_dac,1) #680pA ## default=5\n",
    "\n",
    "# SET ITHR, THIS CURRENT CONTROLS THE BIASING OF THE DISCRIMINATOR (AND THE THRESHOLD)\n",
    "idb = chip.set_idb_dacunits(idb_dac,1) #500nA  \n",
    "\n",
    "# SET IBIAS, THIS CURRENT IS THE DC CURRENT OF THE MAIN BRANCH OF THE FRONT END THAT PROVIDES AMPLIFICATION\n",
    "# IT CONTROLS MAINLY THE RISE TIME\n",
    "ibias = chip.set_ibias_dacunits(ibias_dac,1) #500nA default=50\n",
    "\n",
    "############ ENABLE THE DAC CURRENT MONITORING ###########\n",
    "# chip['CONF_SR']['SWCNTL_DACMONI'] = 0\n",
    "\n",
    "########## SET THE BIAS CURRENTS OF THE TWO STAGE SOURCE FOLLOWER THAT BUFFERS THE ANALOG MONITORING VOLTAGES #########\n",
    "# CONTROLS THE RESPONSE TIME AND THE LEVEL SHIFT OF THE BUFFER\n",
    "# chip['CONF_SR']['SET_IBUFN_L'] = 0b1001\n",
    "# chip['CONF_SR']['SET_IBUFP_L'] = 0b0101\n",
    "\n",
    "chip.write_conf()\n",
    "\n",
    "\n",
    "setted_param_dac = np.array([vl_dac, vh_dac, vreset_dac, icasn_dac, ireset_dac, ithr_dac, idb_dac, ibias_dac])\n",
    "setted_param = np.array([vl, vh, vreset, icasn, ireset, ithr, idb, ibias])"
   ]
  },
  {
   "cell_type": "markdown",
   "metadata": {},
   "source": [
    "## ENABLE MASK AND GET OCCUPANCY"
   ]
  },
  {
   "cell_type": "code",
   "execution_count": 4,
   "metadata": {},
   "outputs": [
    {
     "name": "stdout",
     "output_type": "stream",
     "text": [
      "Enable MASKH 50\n",
      "Got 48424 hits, total noisy pixels: 32\n",
      "Enable MASKH 100\n",
      "Got 106094 hits, total noisy pixels: 85\n",
      "Enable MASKH 150\n",
      "Got 26523 hits, total noisy pixels: 129\n",
      "Enable MASKH 200\n",
      "Got 171550 hits, total noisy pixels: 203\n",
      "Enable MASKH 223\n",
      "Got 36865 hits, total noisy pixels: 223\n",
      "Enable MASKV 50\n",
      "Got 65 hits, total noisy pixels: 225\n",
      "Enable MASKV 100\n",
      "Got 43 hits, total noisy pixels: 227\n",
      "Enable MASKV 111\n",
      "Got 87 hits, total noisy pixels: 228\n",
      "Enable MASKD 50\n",
      "Got 129 hits, total noisy pixels: 231\n",
      "Enable MASKD 100\n",
      "Got 6 hits, total noisy pixels: 231\n",
      "Enable MASKD 150\n",
      "Got 7 hits, total noisy pixels: 231\n",
      "Enable MASKD 200\n",
      "Got 63 hits, total noisy pixels: 236\n",
      "Enable MASKD 250\n",
      "Got 123 hits, total noisy pixels: 239\n",
      "Enable MASKD 300\n",
      "Got 69 hits, total noisy pixels: 243\n",
      "Enable MASKD 350\n",
      "Got 17 hits, total noisy pixels: 246\n",
      "Enable MASKD 400\n",
      "Got 138 hits, total noisy pixels: 250\n",
      "Enable MASKD 447\n",
      "Got 17 hits, total noisy pixels: 252\n",
      "Checking again after masking\n",
      "Got 66 hits, total noisy pixels: 254\n",
      "Noisy pixels: 254\n",
      "Enabled pixels: 15553\n",
      "Disabled pixels (noisy + unintentionally masked): 9535\n",
      "========= Getting residual occupancy =============\n",
      "Number of pixels counted: 7\n",
      "column, row) hits \n",
      "\n",
      "(109, 4) 1\n",
      "(87, 40) 1\n",
      "(61, 184) 1\n",
      "(54, 214) 1\n",
      "(25, 10) 1\n",
      "(3, 209) 1\n",
      "(1, 205) 1\n"
     ]
    }
   ],
   "source": [
    "th = 2\n",
    "step = 50\n",
    "dt = 0.2\n",
    "\n",
    "noisy_pixels, n_disabled_pixels, mask = chip.auto_mask(th=th, step=step, dt=dt)\n",
    "print(\"========= Getting residual occupancy =============\")\n",
    "pix_tmp, cnt = chip.get_occupancy(dt);"
   ]
  },
  {
   "cell_type": "markdown",
   "metadata": {},
   "source": [
    "# Configure injection and Select 1pixel "
   ]
  },
  {
   "cell_type": "code",
   "execution_count": null,
   "metadata": {},
   "outputs": [],
   "source": [
    "%%time\n",
    "import tjmonopix.scans.injection_scan\n",
    "reload(tjmonopix.scans.injection_scan)\n",
    "\n",
    "delay = 800 #in clock units (640 MHz)\n",
    "width = 250\n",
    "repeat = 100 #number of pulse injected\n",
    "chip['inj'].set_delay(delay)\n",
    "chip['inj'].set_width(width)\n",
    "chip['inj'].set_repeat(repeat)\n",
    "chip['inj'].set_phase(0)\n",
    "chip['inj'].set_en(0)\n",
    "\n",
    "idb = chip.set_idb_dacunits(50,1) #### threshold; SOPRA LA METTE CON 50 DAC\n",
    "vh = chip.set_vh_dacunits(100,1) #### injection; SOPRA LA METTE CON 80 DAC\n",
    "chip.write_conf()\n",
    "\n",
    "col_to_inject = 66\n",
    "row_to_inject = 10\n",
    "chip.select_injection(col_to_inject, row_to_inject)\n",
    "\n",
    "_, pixels, hits_per_pixel = plots.tj_plot(chip, wait_inj=True)\n",
    "chip['data_rx'].set_en(False)\n",
    "\n",
    "chip.set_monoread()\n",
    "for _ in range(5):\n",
    "    chip['fifo'].reset()\n",
    "    time.sleep(0.002)\n",
    "chip[\"inj\"].start()\n",
    "while not chip['inj'].is_ready:\n",
    "    time.sleep(0.001)\n",
    "time.sleep(0.2)\n",
    "\n",
    "print \"fifo size\", chip['fifo'].get_fifo_size()\n",
    "ix = chip.interpret_data(chip['fifo'].get_data())\n",
    "uni, cnt = np.unique(ix[[\"col\",\"row\"]], return_counts = True)\n",
    "arg = np.argsort(cnt)\n",
    "for a_i, a in enumerate(arg[::-1]):\n",
    "    print a_i, uni[a], cnt[a]\n",
    "    "
   ]
  },
  {
   "cell_type": "markdown",
   "metadata": {},
   "source": [
    "## run parameter space scan using injection_scan"
   ]
  },
  {
   "cell_type": "code",
   "execution_count": null,
   "metadata": {},
   "outputs": [],
   "source": [
    "%%time\n",
    "delay = 800 #in clock units (640 MHz)\n",
    "width = 250\n",
    "repeat = 100 #number of pulse injected\n",
    "chip['inj'].set_delay(delay)\n",
    "chip['inj'].set_width(width)\n",
    "chip['inj'].set_repeat(repeat)\n",
    "chip['inj'].set_phase(0)\n",
    "chip['inj'].set_en(0)\n",
    "\n",
    "idb = chip.set_idb_dacunits(20,1) \n",
    "vh = chip.set_vh_dacunits(80,1) # The functions below change vl w.r.t. vh\n",
    "chip.write_conf()\n",
    "\n",
    "scans = tjmonopix.scans.injection_scan.InjectionScan(dut=chip)\n",
    "\n",
    "collist = list(range(95,112))\n",
    "rowlist = list(range(224))\n",
    "injlist = np.arange(40, 0, -1)\n",
    "thlist = [20] #list(range(20, 30))\n",
    "\n",
    "output_filename = scans.start(\n",
    "    collist = collist, rowlist = rowlist,\n",
    "    injlist = injlist, thlist = thlist, phaselist = None,\n",
    "    with_mon = False, n_mask_col = 5, debug = 4)\n"
   ]
  },
  {
   "cell_type": "code",
   "execution_count": null,
   "metadata": {},
   "outputs": [],
   "source": [
    "%%time\n",
    "scans.analyze(output_filename)"
   ]
  },
  {
   "cell_type": "code",
   "execution_count": null,
   "metadata": {},
   "outputs": [],
   "source": [
    "import tables\n",
    "import matplotlib.colors\n",
    "with tables.open_file(output_filename[:-len(\"scan.h5\")]+\"hit.h5\") as f:\n",
    "    plt.figure()\n",
    "    plt.hist2d(f.root.Hits[:][\"col\"], f.root.Hits[:][\"row\"],\n",
    "               bins=[112,224], range=[[0,112],[0,224]],\n",
    "               norm=matplotlib.colors.LogNorm())\n",
    "    plt.colorbar()\n",
    "    plt.show()"
   ]
  },
  {
   "cell_type": "code",
   "execution_count": null,
   "metadata": {},
   "outputs": [],
   "source": []
  }
 ],
 "metadata": {
  "kernelspec": {
   "display_name": "Python 2",
   "language": "python",
   "name": "python2"
  },
  "language_info": {
   "codemirror_mode": {
    "name": "ipython",
    "version": 2
   },
   "file_extension": ".py",
   "mimetype": "text/x-python",
   "name": "python",
   "nbconvert_exporter": "python",
   "pygments_lexer": "ipython2",
   "version": "2.7.18"
  }
 },
 "nbformat": 4,
 "nbformat_minor": 2
}
