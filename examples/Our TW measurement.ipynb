{
 "cells": [
  {
   "cell_type": "markdown",
   "metadata": {},
   "source": [
    "## INITIALIZATION"
   ]
  },
  {
   "cell_type": "code",
   "execution_count": 1,
   "metadata": {
    "scrolled": true
   },
   "outputs": [
    {
     "name": "stderr",
     "output_type": "stream",
     "text": [
      "2022-02-09 12:28:07,996 [INFO ] (MainThread) GPAC: power reset\n",
      "2022-02-09 12:28:09,730 [INFO ] (MainThread) Found adapter card: General Purpose Analog Card (GPAC) with ID 3\n",
      "2022-02-09 12:28:09,963 [INFO ] (MainThread) Found board 0 running firmware version 0.0\n",
      "2022-02-09 12:28:10,200 [INFO ] (MainThread) ibias = 45\n",
      "2022-02-09 12:28:10,217 [INFO ] (MainThread) ibias = 503.125 nA\n",
      "2022-02-09 12:28:10,786 [INFO ] (MainThread) {'VPC [V]': 1.2998506463536463, 'VDDA_DAC [mA]': 2.502471747485684, 'VDDP [V]': 1.8049802771084336, 'VDDP OC': False, 'VDDA [mA]': 50.151368865825674, 'VDDD [V]': 1.8015140363636364, 'VDDA_DAC OC': False, 'VDDD [mA]': 2.820288999038665e-08, 'VPCSWSF [V]': 0.5001542395802099, 'VDDP [mA]': 128.39714805315754, 'BiasSF [V]': 1.062780289971045, 'VDDD OC': False, 'VPC [mA]': 0.1364994039805877, 'VPCSWSF [mA]': 0.19709780513238037, 'VDDA [V]': 1.8058565495495498, 'VDDA OC': False, 'VDDA_DAC [V]': 1.8035484515484517, 'BiasSF [mA]': 0.10059447096451782}\n"
     ]
    }
   ],
   "source": [
    "%matplotlib notebook\n",
    "import numpy as np\n",
    "import time\n",
    "import tables as tb\n",
    "import matplotlib.pyplot as plt\n",
    "\n",
    "from tjmonopix.tjmonopix import TJMonoPix\n",
    "from tjmonopix.online_monitor import noise_monitor, plots\n",
    "from tjmonopix.analysis import analysis_functions\n",
    "\n",
    "import tjmonopix.scans.injection_scan\n",
    "\n",
    "chip = TJMonoPix(conf=\"../tjmonopix/tjmonopix_mio3.yaml\", no_power_reset=False)\n",
    "chip.init(fl=\"EN_HV\")\n",
    "\n",
    "chip['data_rx'].CONF_START_FREEZE = 64 #default 3\n",
    "chip['data_rx'].CONF_STOP_FREEZE = 100 #default 40\n",
    "chip['data_rx'].CONF_START_READ = 66 #default 6\n",
    "chip['data_rx'].CONF_STOP_READ = 68 #default 7\n",
    "chip['data_rx'].CONF_STOP = 105 #default 45\n"
   ]
  },
  {
   "cell_type": "markdown",
   "metadata": {},
   "source": [
    "## POWER STATUS"
   ]
  },
  {
   "cell_type": "code",
   "execution_count": 2,
   "metadata": {
    "scrolled": false
   },
   "outputs": [
    {
     "data": {
      "text/plain": [
       "{'BiasSF [V]': 1.0632804013424586,\n",
       " 'BiasSF [mA]': 0.10059447096451782,\n",
       " 'VDDA OC': False,\n",
       " 'VDDA [V]': 1.8058565495495498,\n",
       " 'VDDA [mA]': 50.151368865825674,\n",
       " 'VDDA_DAC OC': False,\n",
       " 'VDDA_DAC [V]': 1.8045472377622378,\n",
       " 'VDDA_DAC [mA]': 3.002966091804109,\n",
       " 'VDDD OC': False,\n",
       " 'VDDD [V]': 1.8015140363636364,\n",
       " 'VDDD [mA]': 2.820288999038665e-08,\n",
       " 'VDDP OC': False,\n",
       " 'VDDP [V]': 1.8049802771084336,\n",
       " 'VDDP [mA]': 128.39714805315754,\n",
       " 'VPC [V]': 1.2993515804695306,\n",
       " 'VPC [mA]': -0.2749987832365381,\n",
       " 'VPCSWSF [V]': 0.5001542395802099,\n",
       " 'VPCSWSF [mA]': -0.11455683661374243}"
      ]
     },
     "execution_count": 2,
     "metadata": {},
     "output_type": "execute_result"
    }
   ],
   "source": [
    "#chip['BiasSF'].set_current(100, unit='uA') # SET THE SOURCE FOLLOWER READOUT CURRENT\n",
    "chip.get_power_status()"
   ]
  },
  {
   "cell_type": "code",
   "execution_count": null,
   "metadata": {},
   "outputs": [],
   "source": [
    "\"\"\"\n",
    "# SELECT WHICH DOUBLE COLUMNS (PIXEL \"FLAVOURS\") TO ENABLE\n",
    "chip['CONF_SR']['EN_PMOS_NOSF'].setall(False)\n",
    "chip['CONF_SR']['EN_PMOS'].setall(False)\n",
    "chip['CONF_SR']['EN_COMP'].setall(False)\n",
    "chip['CONF_SR']['EN_HV'].setall(True)\n",
    "chip['CONF_SR']['EN_OUT'].setall(False) #ENABLES OR DISABLES THE NORMAL OUTPUT PADS, ACTIVE LOW\n",
    "chip['CONF_SR']['nEN_OUT'].setall(True) #ENABLES OR DISABLES THE COMPLEMENTARY OUTPUT PADS, ACTIVE LOW\n",
    "chip['CONF_SR']['EN_HITOR_OUT'].setall(True) #ENABLES OR DISABLES THE NORMAL HITOR PADS, HITOR0-3 =  1-4 flavor, ACTIVE LOW\n",
    "chip['CONF_SR']['nEN_HITOR_OUT'].setall(True) #ENABLES OR DISABLES THE COMPLEMENTARY HITOR PADS, ACTIVE LOW\n",
    "chip.write_conf()\n",
    "\n",
    "# SELECT WHICH PHYSICAL COLUMS TO INJECT\n",
    "# INJ_IN_MON_L AND INJ_IN_MON_L SELECT THE LEFT AND RIGHT SPECIAL ANALOG MONITORING PIXELS\n",
    "chip['CONF_SR']['COL_PULSE_SEL'].setall(False)\n",
    "\n",
    "chip['CONF_SR']['INJ_IN_MON_L'] = 1 # ENABLE INJECTION FOR THE ANALOG MONITORING PIXELS LEFT SIDE\n",
    "chip['CONF_SR']['INJ_IN_MON_R'] = 1 # ENABLE INJECTION FOR THE ANALOG MONITORING PIXELS RIGHT SIDE\n",
    "\n",
    "# SELECT WHICH PHYSICAL ROWS TO INJECT\n",
    "# THE SPEXIAL PIXELS OUTA_MON3 to OUTA_MON0 CORRESPONT TO ROWS 223 to 220 FOR INJECTION\n",
    "chip['CONF_SR']['INJ_ROW'].setall(False)\n",
    "chip['CONF_SR']['INJ_ROW'][223:220] = True # FOR THE ANALOG MONITORING TOP PIXEL\n",
    "\n",
    "# SELECT PHYSICAL COLUMNS AND ROWS FOR INJECTION WITH FUNCTION\n",
    "#chip.enable_injection(3,18,99)\n",
    "chip.write_conf()\n",
    "\n",
    "\n",
    "# SELECT PHYSICAL COLUMN(S) FOR HITOR OUTPUT\n",
    "# nMASKH (SO SETTING MASKH TO FALSE) ENABLES HITOR FOR THE SPECIFIC ROW\n",
    "chip['CONF_SR']['DIG_MON_SEL'].setall(False)\n",
    "#chip.enable_column_hitor(1,18)\n",
    "\n",
    "chip.write_conf()\n",
    "\"\"\""
   ]
  },
  {
   "cell_type": "markdown",
   "metadata": {},
   "source": [
    "## ANALOG FRONT END CONFIGURATION"
   ]
  },
  {
   "cell_type": "code",
   "execution_count": 3,
   "metadata": {},
   "outputs": [
    {
     "name": "stderr",
     "output_type": "stream",
     "text": [
      "2022-02-09 12:28:22,671 [INFO ] (MainThread) vl = 0.951929133858V\n",
      "2022-02-09 12:28:22,686 [INFO ] (MainThread) vh = 1.51885826772V\n",
      "2022-02-09 12:28:22,701 [INFO ] (MainThread) vreset = 1.05106299213V\n",
      "2022-02-09 12:28:22,717 [INFO ] (MainThread) icasn = 0\n",
      "2022-02-09 12:28:22,733 [INFO ] (MainThread) icasn = 4.375 nA\n",
      "2022-02-09 12:28:22,739 [INFO ] (MainThread) ireset = 2 high leakage mode\n",
      "2022-02-09 12:28:22,755 [INFO ] (MainThread) ireset = 0.1025390625nA, high leakage mode\n",
      "2022-02-09 12:28:22,770 [INFO ] (MainThread) ithr = 5\n",
      "2022-02-09 12:28:22,786 [INFO ] (MainThread) ithr = 0.8203125 nA\n",
      "2022-02-09 12:28:22,802 [INFO ] (MainThread) idb = 50\n",
      "2022-02-09 12:28:22,818 [INFO ] (MainThread) idb = 892.5 nA\n",
      "2022-02-09 12:28:22,832 [INFO ] (MainThread) ibias = 100\n",
      "2022-02-09 12:28:22,855 [INFO ] (MainThread) ibias = 1104.6875 nA\n"
     ]
    }
   ],
   "source": [
    "vl_dac = 40\n",
    "vh_dac = 80\n",
    "vreset_dac = 35\n",
    "icasn_dac = 0  # This sets the baseline voltage of the discriminator input\n",
    "ireset_dac = 2\n",
    "ithr_dac = 5  # Also this sets the baseline voltage of the discriminator input\n",
    "idb_dac = 50  # This sets the threshold of the discriminator. It is changed later.\n",
    "ibias_dac = 100\n",
    "\n",
    "## SET THE INJECTION PULSE AMPLITUDE\n",
    "## 128-bit DAC (7-bit binary equivalent)\n",
    "## SET THE VOLTAGES IN ONE HOT ENCODING, ONLY ONE BIT ACTIVE AT A TIME.\n",
    "## V = (127/1.8)*#BIT\n",
    "# The default values are VL=44, VH=79, VH-VL=35\n",
    "# VDAC LSB=14.17mV, Cinj=230aF, 1.43e-/mV, ~710e-  \n",
    "CAPCAL=20.3439450687\n",
    "vl = chip.set_vl_dacunits(vl_dac,1)\n",
    "vh = chip.set_vh_dacunits(vh_dac,1)\n",
    "\n",
    "chip.write_conf()\n",
    "\n",
    "# SET VRESET_P, THIS IS THE BASELINE OF THE FRONT END INPUT, ONE HOT ENCODING\n",
    "vreset = chip.set_vreset_dacunits(vreset_dac, 1) #1V\n",
    "\n",
    "## 128-bit DAC (7-bit binary equivalent)\n",
    "## SET THE CURRENTS USING THERMOMETER ENCODING, I = #BITS_ACTIVE*140nA*SCALING, SCALING IS DIFFERENT FOR EACH CURRENT\n",
    "## SCALING: IBIAS=10, IDB=16, ITHR=0.125, ICASN=4, IRESET=0.03125\n",
    "## ACTIVE BITS SHOULD BE SET STARTING FROM THE MIDDLE e.g. for 15 active bits, (128-15)/2=56,5 so 56zeros,15ones,57zeros\n",
    "## Thus, Ix[71:57] = True\n",
    "\n",
    "# SET ICASN, THIS CURRENT CONTROLS THE OUTPUT BASELINE, BE CAREFUL NOT TO SET IT TO HIGH\n",
    "# ALWAYS MONITOR THE POWER AFTER SETTING ICASN. IF VDDD IS SEVERAL mA, REDUCE IT UNTIL IT RETURNS TO 0\n",
    "# ICASN MAINLY CONTROLS THE THRESHOLD\n",
    "icasn = chip.set_icasn_dacunits(icasn_dac,1) #4.375nA # approx 1.084V at -3V backbias, 600mV at 0V backbias\n",
    "\n",
    "# SET IRESET, THIS CURRENT CONTROLS THE RESET RATE OF THE FRONT END INPUT (ALSO THE THRESHOLD)\n",
    "ireset = chip.set_ireset_dacunits(ireset_dac,1,1) #270pA, HIGH LEAKAGE MODE, NORMAL SCALING, 0 = LOW LEAKAGE MODE, SCALING*0.01\n",
    "\n",
    "# SET ITHR, THIS CURRENT CONTROLS THE RESET RATE OF THE OUTPUT (AND THE THRESHOLD)\n",
    "ithr = chip.set_ithr_dacunits(ithr_dac,1) #680pA ## default=5\n",
    "\n",
    "# SET ITHR, THIS CURRENT CONTROLS THE BIASING OF THE DISCRIMINATOR (AND THE THRESHOLD)\n",
    "idb = chip.set_idb_dacunits(idb_dac,1) #500nA  \n",
    "\n",
    "# SET IBIAS, THIS CURRENT IS THE DC CURRENT OF THE MAIN BRANCH OF THE FRONT END THAT PROVIDES AMPLIFICATION\n",
    "# IT CONTROLS MAINLY THE RISE TIME\n",
    "ibias = chip.set_ibias_dacunits(ibias_dac,1) #500nA default=50\n",
    "\n",
    "############ ENABLE THE DAC CURRENT MONITORING ###########\n",
    "# chip['CONF_SR']['SWCNTL_DACMONI'] = 0\n",
    "\n",
    "########## SET THE BIAS CURRENTS OF THE TWO STAGE SOURCE FOLLOWER THAT BUFFERS THE ANALOG MONITORING VOLTAGES #########\n",
    "# CONTROLS THE RESPONSE TIME AND THE LEVEL SHIFT OF THE BUFFER\n",
    "# chip['CONF_SR']['SET_IBUFN_L'] = 0b1001\n",
    "# chip['CONF_SR']['SET_IBUFP_L'] = 0b0101\n",
    "\n",
    "chip.write_conf()\n",
    "\n",
    "\n",
    "setted_param_dac = np.array([vl_dac, vh_dac, vreset_dac, icasn_dac, ireset_dac, ithr_dac, idb_dac, ibias_dac])\n",
    "setted_param = np.array([vl, vh, vreset, icasn, ireset, ithr, idb, ibias])"
   ]
  },
  {
   "cell_type": "markdown",
   "metadata": {},
   "source": [
    "## ENABLE MASK AND GET OCCUPANCY"
   ]
  },
  {
   "cell_type": "code",
   "execution_count": 4,
   "metadata": {},
   "outputs": [
    {
     "name": "stdout",
     "output_type": "stream",
     "text": [
      "Enable MASKH 50\n",
      "Got 51222 hits, total noisy pixels: 33\n",
      "Enable MASKH 100\n",
      "Got 105850 hits, total noisy pixels: 93\n",
      "Enable MASKH 150\n",
      "Got 26401 hits, total noisy pixels: 143\n",
      "Enable MASKH 200\n",
      "Got 154760 hits, total noisy pixels: 209\n",
      "Enable MASKH 223\n",
      "Got 36621 hits, total noisy pixels: 232\n",
      "Enable MASKV 50\n",
      "Got 10 hits, total noisy pixels: 234\n",
      "Enable MASKV 100\n",
      "Got 14 hits, total noisy pixels: 237\n",
      "Enable MASKV 111\n",
      "Got 82 hits, total noisy pixels: 239\n",
      "Enable MASKD 50\n",
      "Got 6 hits, total noisy pixels: 239\n",
      "Enable MASKD 100\n",
      "Got 77 hits, total noisy pixels: 240\n",
      "Enable MASKD 150\n",
      "Got 7 hits, total noisy pixels: 240\n",
      "Enable MASKD 200\n",
      "Got 85 hits, total noisy pixels: 243\n",
      "Enable MASKD 250\n",
      "Got 54 hits, total noisy pixels: 244\n",
      "Enable MASKD 300\n",
      "Got 119 hits, total noisy pixels: 246\n",
      "Enable MASKD 350\n",
      "Got 127 hits, total noisy pixels: 247\n",
      "Enable MASKD 400\n",
      "Got 54 hits, total noisy pixels: 249\n",
      "Enable MASKD 447\n",
      "Got 24 hits, total noisy pixels: 252\n",
      "Checking again after masking\n",
      "Got 126 hits, total noisy pixels: 252\n",
      "Noisy pixels: 252\n",
      "Enabled pixels: 15678\n",
      "Disabled pixels (noisy + unintentionally masked): 9410\n",
      "========= Getting residual occupancy =============\n",
      "Number of pixels counted: 10\n",
      "column, row) hits \n",
      "\n",
      "(103, 34) 1\n",
      "(98, 142) 1\n",
      "(72, 209) 1\n",
      "(54, 219) 1\n",
      "(52, 19) 1\n",
      "(39, 186) 1\n",
      "(27, 214) 1\n",
      "(9, 217) 1\n",
      "(7, 8) 1\n",
      "(2, 72) 1\n"
     ]
    }
   ],
   "source": [
    "th = 2\n",
    "step = 50\n",
    "dt = 0.2\n",
    "\n",
    "noisy_pixels, n_disabled_pixels, mask = chip.auto_mask(th=th, step=step, dt=dt)\n",
    "print(\"========= Getting residual occupancy =============\")\n",
    "pix_tmp, cnt = chip.get_occupancy(dt);"
   ]
  },
  {
   "cell_type": "markdown",
   "metadata": {},
   "source": [
    "# Configure injection and Select 1pixel "
   ]
  },
  {
   "cell_type": "code",
   "execution_count": null,
   "metadata": {},
   "outputs": [],
   "source": [
    "import tjmonopix.scans.injection_scan\n",
    "reload(tjmonopix.scans.injection_scan)\n",
    "\n",
    "delay = 800 #in clock units (640 MHz)\n",
    "width = 250\n",
    "repeat = 100 #number of pulse injected\n",
    "chip['inj'].set_delay(delay)\n",
    "chip['inj'].set_width(width)\n",
    "chip['inj'].set_repeat(repeat)\n",
    "chip['inj'].set_phase(0)\n",
    "chip['inj'].set_en(0)\n",
    "\n",
    "idb = chip.set_idb_dacunits(50,1) #### threshold; SOPRA LA METTE CON 50 DAC\n",
    "vh = chip.set_vh_dacunits(100,1) #### injection; SOPRA LA METTE CON 80 DAC\n",
    "chip.write_conf()\n",
    "\n",
    "col_to_inject = 66\n",
    "row_to_inject = 10\n",
    "chip.select_injection(col_to_inject, row_to_inject)\n",
    "\n",
    "_, pixels, hits_per_pixel = plots.tj_plot(chip, wait_inj=True)\n",
    "chip['data_rx'].set_en(False)\n",
    "\n",
    "chip.set_monoread()\n",
    "for _ in range(5):\n",
    "    chip['fifo'].reset()\n",
    "    time.sleep(0.002)\n",
    "chip[\"inj\"].start()\n",
    "while not chip['inj'].is_ready:\n",
    "    time.sleep(0.001)\n",
    "time.sleep(0.2)\n",
    "\n",
    "print \"fifo size\", chip['fifo'].get_fifo_size()\n",
    "ix = chip.interpret_data(chip['fifo'].get_data())\n",
    "uni, cnt = np.unique(ix[[\"col\",\"row\"]], return_counts = True)\n",
    "arg = np.argsort(cnt)\n",
    "for a_i, a in enumerate(arg[::-1]):\n",
    "    print a_i, uni[a], cnt[a]\n",
    "    "
   ]
  },
  {
   "cell_type": "markdown",
   "metadata": {},
   "source": [
    "## run parameter space scan using injection_scan"
   ]
  },
  {
   "cell_type": "code",
   "execution_count": 5,
   "metadata": {
    "scrolled": true
   },
   "outputs": [
    {
     "name": "stderr",
     "output_type": "stream",
     "text": [
      "2022-02-09 12:28:48,298 [INFO ] (MainThread) idb = 20\n",
      "2022-02-09 12:28:48,313 [INFO ] (MainThread) idb = 367.5 nA\n",
      "2022-02-09 12:28:48,328 [INFO ] (MainThread) vh = 1.51885826772V\n",
      "2022-02-09 12:28:48,351 [INFO ] (MainThread) Initializing InjectionScan\n",
      "2022-02-09 12:28:54,098 [INFO ] (MainThread) Power status: {'VPC [V]': 1.2993515804695306, 'VDDA_DAC [mA]': 2.502471747485684, 'VDDP [V]': 1.8049802771084336, 'VDDP OC': False, 'VDDA [mA]': 79.53297889485958, 'VDDD [V]': 1.8015140363636364, 'VDDA_DAC OC': False, 'VDDD [mA]': 2.820288999038665e-08, 'VPCSWSF [V]': 0.5001542395802099, 'VDDP [mA]': 143.50269488026495, 'BiasSF [V]': 1.0652808468281127, 'VDDD OC': False, 'VPC [mA]': 0.17799922116044364, 'VPCSWSF [mA]': 0.19709780513238037, 'VDDA [V]': 1.8038584294294295, 'VDDA OC': False, 'VDDA_DAC [V]': 1.8045472377622378, 'BiasSF [mA]': 0.10059447096451782}\n",
      "2022-02-09 12:29:11,371 [INFO ] (MainThread) Temperature (C): 30.678964\n",
      "2022-02-09 12:29:11,757 [INFO ] (MainThread) Temperature (C): 30.519961\n",
      "2022-02-09 12:29:12,012 [INFO ] (MainThread) Temperature (C): 30.519961\n",
      "2022-02-09 12:29:12,413 [INFO ] (MainThread) Temperature (C): 30.539349\n",
      "2022-02-09 12:29:12,697 [INFO ] (MainThread) Temperature (C): 30.539349\n",
      "2022-02-09 12:29:12,999 [INFO ] (MainThread) Temperature (C): 30.519961\n",
      "2022-02-09 12:29:13,361 [INFO ] (MainThread) Temperature (C): 30.519961\n",
      "2022-02-09 12:29:13,779 [INFO ] (MainThread) Temperature (C): 30.678964\n",
      "2022-02-09 12:29:14,079 [INFO ] (MainThread) Temperature (C): 30.519961\n",
      "2022-02-09 12:29:14,395 [INFO ] (MainThread) Temperature (C): 30.539349\n",
      "2022-02-09 12:29:14,417 [INFO ] (MainThread) Temperature: 30.6 C\n",
      "2022-02-09 12:29:15,605 [INFO ] (MainThread) Creating ZMQ context\n",
      "2022-02-09 12:29:15,637 [INFO ] (MainThread) Creating socket connection to server tcp://127.0.0.1:5500\n",
      "2022-02-09 12:29:15,653 [INFO ] (MainThread) ScanBase.start:data_send.data_send_init connected\n",
      "2022-02-09 12:29:17,696 [INFO ] (MainThread) Resetting SRAM FIFO: size = 337836672\n"
     ]
    },
    {
     "name": "stdout",
     "output_type": "stream",
     "text": [
      "sleeping\n"
     ]
    },
    {
     "name": "stderr",
     "output_type": "stream",
     "text": [
      "2022-02-09 12:29:17,950 [WARNI] (MainThread) SRAM FIFO not empty after reset: size = 2809856\n",
      "2022-02-09 12:29:18,582 [INFO ] (MainThread) Set timestamp: src=inj\n",
      "2022-02-09 12:29:19,207 [INFO ] (MainThread) Starting FIFO readout\n",
      "2022-02-09 12:29:19,221 [WARNI] (MainThread) SRAM FIFO not empty when starting FIFO readout: size = 345448\n"
     ]
    },
    {
     "name": "stdout",
     "output_type": "stream",
     "text": [
      "('row in rowlist', 70)\n",
      "('row in rowlist', 70)\n",
      "('row in rowlist', 70)\n",
      "('row in rowlist', 70)\n",
      "('row in rowlist', 70)\n",
      "('row in rowlist', 70)\n",
      "('row in rowlist', 70)\n"
     ]
    },
    {
     "name": "stderr",
     "output_type": "stream",
     "text": [
      "2022-02-09 12:29:19,523 [ERROR] (WatchdogThread) DATA RX FIFO discard error(s) detected\n",
      "2022-02-09 12:29:19,553 [ERROR] (WatchdogThread) DATA RX FIFO discard error(s) detected\n",
      "2022-02-09 12:29:19,601 [ERROR] (WatchdogThread) DATA RX FIFO discard error(s) detected\n",
      "2022-02-09 12:29:19,638 [ERROR] (WatchdogThread) DATA RX FIFO discard error(s) detected\n"
     ]
    },
    {
     "name": "stdout",
     "output_type": "stream",
     "text": [
      "('row in rowlist', 70)\n",
      "('row in rowlist', 70)\n",
      "('row in rowlist', 70)\n",
      "('row in rowlist', 70)\n",
      "('row in rowlist', 70)\n",
      "('row in rowlist', 70)\n",
      "('row in rowlist', 70)\n"
     ]
    },
    {
     "name": "stderr",
     "output_type": "stream",
     "text": [
      "2022-02-09 12:29:19,670 [ERROR] (WatchdogThread) DATA RX FIFO discard error(s) detected\n",
      "2022-02-09 12:29:19,701 [ERROR] (WatchdogThread) DATA RX FIFO discard error(s) detected\n",
      "2022-02-09 12:29:19,739 [ERROR] (WatchdogThread) DATA RX FIFO discard error(s) detected\n",
      "2022-02-09 12:29:19,770 [ERROR] (WatchdogThread) DATA RX FIFO discard error(s) detected\n",
      "2022-02-09 12:29:19,823 [ERROR] (WatchdogThread) DATA RX FIFO discard error(s) detected\n",
      "2022-02-09 12:29:19,855 [ERROR] (WatchdogThread) DATA RX FIFO discard error(s) detected\n"
     ]
    },
    {
     "name": "stdout",
     "output_type": "stream",
     "text": [
      "('row in rowlist', 70)\n",
      "('row in rowlist', 70)\n",
      "('row in rowlist', 70)\n",
      "('row in rowlist', 70)\n",
      "('row in rowlist', 70)\n",
      "('row in rowlist', 70)\n",
      "('row in rowlist', 70)\n",
      "('row in rowlist', 70)\n"
     ]
    },
    {
     "name": "stderr",
     "output_type": "stream",
     "text": [
      "2022-02-09 12:29:19,885 [ERROR] (WatchdogThread) DATA RX FIFO discard error(s) detected\n",
      "2022-02-09 12:29:19,924 [ERROR] (WatchdogThread) DATA RX FIFO discard error(s) detected\n",
      "2022-02-09 12:29:19,970 [ERROR] (WatchdogThread) DATA RX FIFO discard error(s) detected\n",
      "2022-02-09 12:29:20,023 [ERROR] (WatchdogThread) DATA RX FIFO discard error(s) detected\n",
      "2022-02-09 12:29:20,055 [ERROR] (WatchdogThread) DATA RX FIFO discard error(s) detected\n"
     ]
    },
    {
     "name": "stdout",
     "output_type": "stream",
     "text": [
      "('row in rowlist', 70)\n",
      "('row in rowlist', 70)\n",
      "('row in rowlist', 70)\n",
      "('row in rowlist', 70)\n",
      "('row in rowlist', 70)\n",
      "('row in rowlist', 70)\n",
      "('row in rowlist', 70)\n"
     ]
    },
    {
     "name": "stderr",
     "output_type": "stream",
     "text": [
      "2022-02-09 12:29:20,086 [ERROR] (WatchdogThread) DATA RX FIFO discard error(s) detected\n",
      "2022-02-09 12:29:20,125 [ERROR] (WatchdogThread) DATA RX FIFO discard error(s) detected\n",
      "2022-02-09 12:29:20,155 [ERROR] (WatchdogThread) DATA RX FIFO discard error(s) detected\n",
      "2022-02-09 12:29:20,209 [ERROR] (WatchdogThread) DATA RX FIFO discard error(s) detected\n",
      "2022-02-09 12:29:20,240 [ERROR] (WatchdogThread) DATA RX FIFO discard error(s) detected\n"
     ]
    },
    {
     "name": "stdout",
     "output_type": "stream",
     "text": [
      "('row in rowlist', 70)\n",
      "('row in rowlist', 70)\n",
      "('row in rowlist', 70)\n",
      "('row in rowlist', 70)\n",
      "('row in rowlist', 70)\n",
      "('row in rowlist', 70)\n",
      "('row in rowlist', 70)\n"
     ]
    },
    {
     "name": "stderr",
     "output_type": "stream",
     "text": [
      "2022-02-09 12:29:20,286 [ERROR] (WatchdogThread) DATA RX FIFO discard error(s) detected\n",
      "2022-02-09 12:29:20,325 [ERROR] (WatchdogThread) DATA RX FIFO discard error(s) detected\n",
      "2022-02-09 12:29:20,371 [ERROR] (WatchdogThread) DATA RX FIFO discard error(s) detected\n",
      "2022-02-09 12:29:20,410 [ERROR] (WatchdogThread) DATA RX FIFO discard error(s) detected\n",
      "2022-02-09 12:29:20,440 [ERROR] (WatchdogThread) DATA RX FIFO discard error(s) detected\n",
      "2022-02-09 12:29:20,487 [ERROR] (WatchdogThread) DATA RX FIFO discard error(s) detected\n"
     ]
    },
    {
     "name": "stdout",
     "output_type": "stream",
     "text": [
      "('row in rowlist', 70)\n",
      "('row in rowlist', 70)\n",
      "('row in rowlist', 70)\n",
      "('row in rowlist', 70)\n",
      "('row in rowlist', 70)\n",
      "('row in rowlist', 70)\n",
      "('row in rowlist', 70)\n",
      "('row in rowlist', 70)\n"
     ]
    },
    {
     "name": "stderr",
     "output_type": "stream",
     "text": [
      "2022-02-09 12:29:20,526 [ERROR] (WatchdogThread) DATA RX FIFO discard error(s) detected\n",
      "2022-02-09 12:29:20,572 [ERROR] (WatchdogThread) DATA RX FIFO discard error(s) detected\n",
      "2022-02-09 12:29:20,604 [ERROR] (WatchdogThread) DATA RX FIFO discard error(s) detected\n",
      "2022-02-09 12:29:20,641 [ERROR] (WatchdogThread) DATA RX FIFO discard error(s) detected\n",
      "2022-02-09 12:29:20,673 [ERROR] (WatchdogThread) DATA RX FIFO discard error(s) detected\n",
      "2022-02-09 12:29:20,703 [INFO ] (MainThread) scan_param_id=0 dat=3617114: cols=[90]\n"
     ]
    },
    {
     "name": "stdout",
     "output_type": "stream",
     "text": [
      "('row in rowlist', 70)\n",
      "('row in rowlist', 70)\n",
      "('row in rowlist', 70)\n",
      "('row in rowlist', 70)\n",
      "('row in rowlist', 70)\n",
      "('row in rowlist', 70)\n"
     ]
    },
    {
     "name": "stderr",
     "output_type": "stream",
     "text": [
      "2022-02-09 12:29:20,703 [ERROR] (WatchdogThread) DATA RX FIFO discard error(s) detected\n",
      "2022-02-09 12:29:20,773 [ERROR] (WatchdogThread) DATA RX FIFO discard error(s) detected\n",
      "2022-02-09 12:29:20,811 [ERROR] (WatchdogThread) DATA RX FIFO discard error(s) detected\n",
      "2022-02-09 12:29:20,842 [ERROR] (WatchdogThread) DATA RX FIFO discard error(s) detected\n",
      "2022-02-09 12:29:20,888 [ERROR] (WatchdogThread) DATA RX FIFO discard error(s) detected\n",
      "2022-02-09 12:29:20,927 [ERROR] (WatchdogThread) DATA RX FIFO discard error(s) detected\n",
      "2022-02-09 12:29:20,957 [ERROR] (WatchdogThread) DATA RX FIFO discard error(s) detected\n",
      "2022-02-09 12:29:20,989 [ERROR] (WatchdogThread) DATA RX FIFO discard error(s) detected\n",
      "2022-02-09 12:29:21,026 [ERROR] (WatchdogThread) DATA RX FIFO discard error(s) detected\n",
      "2022-02-09 12:29:21,073 [ERROR] (WatchdogThread) DATA RX FIFO discard error(s) detected\n",
      "2022-02-09 12:29:21,105 [ERROR] (WatchdogThread) DATA RX FIFO discard error(s) detected\n",
      "2022-02-09 12:29:21,142 [ERROR] (WatchdogThread) DATA RX FIFO discard error(s) detected\n",
      "2022-02-09 12:29:21,174 [ERROR] (WatchdogThread) DATA RX FIFO discard error(s) detected\n",
      "2022-02-09 12:29:31,229 [ERROR] (MainThread) FIFO stopped due to timeout after 10.0 second(s)\n",
      "2022-02-09 12:29:31,250 [INFO ] (MainThread) Stopped FIFO readout\n",
      "2022-02-09 12:29:31,298 [WARNI] (MainThread) stop_monoread: error cnt=39\n",
      "2022-02-09 12:29:31,351 [INFO ] (MainThread) g=None, dat=30357504\n",
      "2022-02-09 12:29:31,382 [INFO ] (MainThread) Recived words: 33974618\n",
      "2022-02-09 12:29:31,414 [INFO ] (MainThread) Data queue size: 0\n",
      "2022-02-09 12:29:31,428 [INFO ] (MainThread) SRAM FIFO size: 2024368\n",
      "2022-02-09 12:29:31,451 [INFO ] (MainThread) Channel:                     TDC | DATA_RX | TLU | TIMESTAMP\n",
      "2022-02-09 12:29:31,467 [INFO ] (MainThread) Discard counter:             None |      39 |   0 |         0\n",
      "2022-02-09 12:29:31,483 [WARNI] (MainThread) Errors detected\n",
      "2022-02-09 12:29:32,038 [INFO ] (MainThread) Power status: {'VPC [V]': 1.2998506463536463, 'VDDA_DAC [mA]': 2.502471747485684, 'VDDP [V]': 1.8049802771084336, 'VDDP OC': False, 'VDDA [mA]': 79.53297889485958, 'VDDD [V]': 1.8005150383838384, 'VDDA_DAC OC': False, 'VDDD [mA]': 2.820288999038665e-08, 'VPCSWSF [V]': 0.5001542395802099, 'VDDP [mA]': 142.99917665269473, 'BiasSF [V]': 1.0652808468281127, 'VDDD OC': False, 'VPC [mA]': 0.09799957358481776, 'VPCSWSF [mA]': 0.0290144028423366, 'VDDA [V]': 1.8048574894894895, 'VDDA OC': False, 'VDDA_DAC [V]': 1.8045472377622378, 'BiasSF [mA]': 0.10059447096451782}\n",
      "2022-02-09 12:29:32,115 [INFO ] (MainThread) Temperature (C): 30.558754\n",
      "2022-02-09 12:29:32,168 [INFO ] (MainThread) Temperature (C): 30.558754\n",
      "2022-02-09 12:29:32,232 [INFO ] (MainThread) Temperature (C): 30.737239\n",
      "2022-02-09 12:29:32,301 [INFO ] (MainThread) Temperature (C): 30.578175\n",
      "2022-02-09 12:29:32,354 [INFO ] (MainThread) Temperature (C): 30.717798\n",
      "2022-02-09 12:29:32,417 [INFO ] (MainThread) Temperature (C): 30.578175\n",
      "2022-02-09 12:29:32,470 [INFO ] (MainThread) Temperature (C): 30.578175\n",
      "2022-02-09 12:29:32,555 [INFO ] (MainThread) Temperature (C): 30.737239\n",
      "2022-02-09 12:29:32,617 [INFO ] (MainThread) Temperature (C): 30.717798\n",
      "2022-02-09 12:29:32,671 [INFO ] (MainThread) Temperature (C): 30.737239\n",
      "2022-02-09 12:29:32,686 [INFO ] (MainThread) Temperature: 30.6 C\n",
      "2022-02-09 12:29:32,770 [INFO ] (MainThread) Closing socket connection\n"
     ]
    }
   ],
   "source": [
    "chip['CONF_SR']['INJ_ROW'].setall(False)\n",
    "chip['CONF_SR']['COL_PULSE_SEL'].setall(False)\n",
    "\n",
    "delay = 800 #in clock units (640 MHz)\n",
    "width = 250\n",
    "repeat = 100 #number of pulse injected\n",
    "chip['inj'].set_delay(delay)\n",
    "chip['inj'].set_width(width)\n",
    "chip['inj'].set_repeat(repeat)\n",
    "chip['inj'].set_phase(0)\n",
    "chip['inj'].set_en(0)\n",
    "\n",
    "idb = chip.set_idb_dacunits(20,1) \n",
    "vh = chip.set_vh_dacunits(80,1) # The functions below change vl w.r.t. vh\n",
    "chip.write_conf()\n",
    "\n",
    "scans = tjmonopix.scans.injection_scan.InjectionScan(dut=chip)\n",
    "\n",
    "collist = [90]\n",
    "rowlist = [70] #list(range(224))\n",
    "injlist = np.arange(50, 0, -1)\n",
    "thlist = [20]\n",
    "chip.cleanup_fifo(n=10)\n",
    "chip.cleanup_fifo(n=10)\n",
    "\n",
    "output_filename = scans.start(\n",
    "    collist = collist, rowlist = rowlist,\n",
    "    injlist = injlist, thlist = thlist, phaselist = None,\n",
    "    with_mon = False, n_mask_col = 1, debug = 4)\n",
    "chip.cleanup_fifo(n=10)\n",
    "\n",
    "scans.analyze(output_filename)"
   ]
  },
  {
   "cell_type": "code",
   "execution_count": null,
   "metadata": {},
   "outputs": [],
   "source": []
  }
 ],
 "metadata": {
  "kernelspec": {
   "display_name": "Python 2",
   "language": "python",
   "name": "python2"
  },
  "language_info": {
   "codemirror_mode": {
    "name": "ipython",
    "version": 2
   },
   "file_extension": ".py",
   "mimetype": "text/x-python",
   "name": "python",
   "nbconvert_exporter": "python",
   "pygments_lexer": "ipython2",
   "version": "2.7.18"
  }
 },
 "nbformat": 4,
 "nbformat_minor": 2
}
