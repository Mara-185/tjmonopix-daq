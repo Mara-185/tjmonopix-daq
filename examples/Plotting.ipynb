{
 "cells": [
  {
   "cell_type": "code",
   "execution_count": null,
   "metadata": {
    "scrolled": false
   },
   "outputs": [],
   "source": [
    "%reset -f\n",
    "%matplotlib inline\n",
    "from tjmonopix.analysis.plotting import plotting\n",
    "plot=plotting()\n",
    "\n",
    "folder='IC_PMOS_PW3_PS6'\n",
    "start_dif=0\n",
    "VHLrange=40\n",
    "max_occ = 500\n",
    "DUtoe=20.18\n",
    "threshold=350\n",
    "sigma=14\n",
    "xtickspacing=50\n",
    "ytickspacing=50\n",
    "figx=16\n",
    "figy=6\n",
    "dpi=100\n",
    "transparent=False\n",
    "\n",
    "plot.plot_scurve_histogram(max_occ+10, DUtoe, xtickspacing, ytickspacing, figx, figy, dpi, transparent, folder)"
   ]
  },
  {
   "cell_type": "code",
   "execution_count": null,
   "metadata": {},
   "outputs": [],
   "source": [
    "plot.fit_scurvedata(VHLrange, start_dif, max_occ, DUtoe, threshold, sigma, folder)"
   ]
  },
  {
   "cell_type": "code",
   "execution_count": null,
   "metadata": {
    "scrolled": false
   },
   "outputs": [],
   "source": [
    "figx=25\n",
    "figy=8\n",
    "dpi=100\n",
    "autoscale=False\n",
    "samescale=False\n",
    "rangelowbot=0\n",
    "rangehighbot=851\n",
    "resolutionbot=150\n",
    "rangelowtop=0\n",
    "rangehightop=851\n",
    "resolutiontop=150\n",
    "ytickauto=False\n",
    "ytickhigh=301\n",
    "ytickspacing=20\n",
    "xtickauto=False\n",
    "xticklow =0\n",
    "xtickhigh=851\n",
    "xtickspacing=50\n",
    "transparent=False\n",
    "\n",
    "plot.plot_thr_dispersion(figx, figy, dpi, autoscale, samescale, rangelowbot, rangehighbot, resolutionbot, rangelowtop, rangehightop, resolutiontop, ytickauto, ytickhigh, ytickspacing, xtickauto, xticklow, xtickhigh, xtickspacing, transparent, folder)"
   ]
  },
  {
   "cell_type": "code",
   "execution_count": null,
   "metadata": {
    "scrolled": false
   },
   "outputs": [],
   "source": [
    "figx=25\n",
    "figy=8\n",
    "dpi=100\n",
    "autoscale=False\n",
    "samescale=False\n",
    "rangelowbot=0\n",
    "rangehighbot=41\n",
    "resolutionbot=800\n",
    "rangelowtop=0\n",
    "rangehightop=41\n",
    "resolutiontop=800\n",
    "ytickauto=False\n",
    "ytickhigh=401\n",
    "ytickspacing=50\n",
    "xtickauto=False\n",
    "xticklow = 0\n",
    "xtickhigh=41\n",
    "xtickspacing=2\n",
    "transparent=False\n",
    "\n",
    "plot.plot_enc_dispersion(figx, figy, dpi, autoscale, samescale, rangelowbot, rangehighbot, resolutionbot, rangelowtop, rangehightop, resolutiontop, ytickauto, ytickhigh, ytickspacing, xtickauto, xticklow, xtickhigh, xtickspacing, transparent, folder)"
   ]
  },
  {
   "cell_type": "code",
   "execution_count": null,
   "metadata": {
    "scrolled": false
   },
   "outputs": [],
   "source": [
    "thresholdorenc='threshold'\n",
    "colm='viridis'\n",
    "figx=6\n",
    "figy=12\n",
    "dpi=100\n",
    "vauto=False\n",
    "Log=False\n",
    "vmin=100\n",
    "vmax=801\n",
    "cbtickauto=True\n",
    "cbtickmin=100\n",
    "cbtickmax=700\n",
    "cbtickspacing=25\n",
    "mint1=2\n",
    "mint2=1\n",
    "flavor='PMOS reset'\n",
    "transparent=False\n",
    "\n",
    "plot.dplot(folder, thresholdorenc, figx, figy, dpi, colm, vauto, Log, vmin, vmax, cbtickauto, cbtickmin, cbtickmax, cbtickspacing, mint1, mint2, transparent, flavor)"
   ]
  },
  {
   "cell_type": "code",
   "execution_count": null,
   "metadata": {},
   "outputs": [],
   "source": [
    "thresholdorenc='enc'\n",
    "colm='viridis'\n",
    "figx=6\n",
    "figy=12\n",
    "dpi=100\n",
    "vauto=False\n",
    "Log=False\n",
    "vmin=1\n",
    "vmax=41\n",
    "cbtickauto=True\n",
    "cbtickmin=1\n",
    "cbtickmax=31\n",
    "cbtickspacing=1\n",
    "mint1=2\n",
    "mint2=2\n",
    "flavor='HV diode'\n",
    "transparent=False\n",
    "\n",
    "plot.dplot(folder, thresholdorenc, figx, figy, dpi, colm, vauto, Log, vmin, vmax, cbtickauto, cbtickmin, cbtickmax, cbtickspacing, mint1, mint2, transparent, flavor)"
   ]
  },
  {
   "cell_type": "code",
   "execution_count": null,
   "metadata": {
    "scrolled": true
   },
   "outputs": [],
   "source": [
    "import numpy as np\n",
    "enctop = np.load('./'+folder+'/enctop.npy')\n",
    "encbot = np.load('./'+folder+'/enctop.npy')\n",
    "#ee=np.where((enc > 1)&(enc < 3))[0]\n",
    "maskedbot=np.where(encbot==0)[0]\n",
    "maskedtop=np.where(encbot==0)[0]\n",
    "#print ee\n",
    "masked = len(maskedbot)+len(maskedtop)\n",
    "print masked"
   ]
  },
  {
   "cell_type": "code",
   "execution_count": null,
   "metadata": {},
   "outputs": [],
   "source": [
    "import matplotlib.pyplot as plt\n",
    "from scipy.optimize import curve_fit\n",
    "from scipy.special import erf\n",
    "\n",
    "xhits = range(start_dif,VHLrange+start_dif+1)\n",
    "\n",
    "scurves = np.load('./'+folder+'/scurvedatatop.npy')\n",
    "scurves[:,0]=0\n",
    "scurves[:,1]=0\n",
    "pix=11063\n",
    "print scurves[pix,:]\n",
    "popt, _ = curve_fit(plot.scurve, xhits, scurves[pix,:], p0=[max_occ, threshold, sigma], check_finite=False)\n",
    "print popt\n",
    "pt=plt.plot(scurves[pix,:], 'ro')"
   ]
  },
  {
   "cell_type": "code",
   "execution_count": null,
   "metadata": {},
   "outputs": [],
   "source": [
    "index=3829\n",
    "col = index // 112\n",
    "row = index-col*112\n",
    "row2 = (index-col*112)+112\n",
    "print col\n",
    "print row\n",
    "print row2"
   ]
  }
 ],
 "metadata": {
  "kernelspec": {
   "display_name": "Python 2",
   "language": "python",
   "name": "python2"
  },
  "language_info": {
   "codemirror_mode": {
    "name": "ipython",
    "version": 2
   },
   "file_extension": ".py",
   "mimetype": "text/x-python",
   "name": "python",
   "nbconvert_exporter": "python",
   "pygments_lexer": "ipython2",
   "version": "2.7.14"
  }
 },
 "nbformat": 4,
 "nbformat_minor": 2
}
