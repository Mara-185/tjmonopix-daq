{
 "cells": [
  {
   "cell_type": "markdown",
   "metadata": {},
   "source": [
    "## INITIALIZATION"
   ]
  },
  {
   "cell_type": "code",
   "execution_count": 1,
   "metadata": {},
   "outputs": [],
   "source": [
    "import time\n",
    "import matplotlib\n",
    "import matplotlib.pyplot as plt\n",
    "import numpy as np\n",
    "import datetime\n",
    "from bitarray import bitarray\n",
    "from tjmonopix.tjmonopix import TJMonoPix\n",
    "%matplotlib notebook\n",
    "\n",
    "from tjmonopix.online_monitor import noise_monitor #ho importato la libreria!"
   ]
  },
  {
   "cell_type": "code",
   "execution_count": 2,
   "metadata": {
    "scrolled": true
   },
   "outputs": [
    {
     "name": "stderr",
     "output_type": "stream",
     "text": [
      "2022-01-27 17:05:45,819 [INFO ] (MainThread) GPAC: power reset\n",
      "2022-01-27 17:05:47,622 [INFO ] (MainThread) Found adapter card: General Purpose Analog Card (GPAC) with ID 3\n",
      "2022-01-27 17:05:47,845 [INFO ] (MainThread) Found board 0 running firmware version 0.0\n",
      "2022-01-27 17:05:48,108 [INFO ] (MainThread) ibias = 45\n",
      "2022-01-27 17:05:48,124 [INFO ] (MainThread) ibias = 503.125 nA\n",
      "2022-01-27 17:05:48,694 [INFO ] (MainThread) {'VPC [V]': 1.2998506463536463, 'VDDA_DAC [mA]': 2.502471747485684, 'VDDP [V]': 1.8049802771084336, 'VDDP OC': False, 'VDDA [mA]': 50.151368865825674, 'VDDD [V]': 1.8015140363636364, 'VDDA_DAC OC': False, 'VDDD [mA]': 2.820288999038665e-08, 'VPCSWSF [V]': 0.5001542395802099, 'VDDP [mA]': 128.39714805315754, 'BiasSF [V]': 1.062780289971045, 'VDDD OC': False, 'VPC [mA]': -0.2194990277309476, 'VPCSWSF [mA]': -0.027513646142112637, 'VDDA [V]': 1.8058565495495498, 'VDDA OC': False, 'VDDA_DAC [V]': 1.8035484515484517, 'BiasSF [mA]': 0.10059447096451782}\n"
     ]
    }
   ],
   "source": [
    "##### if HV is on, no_power_reset=True,\n",
    "##### if GPAC had power reset then no_power_reset=False\n",
    "\n",
    "chip = TJMonoPix(conf=\"../tjmonopix/tjmonopix_mio3.yaml\",no_power_reset=False)\n",
    "chip.init(fl=\"EN_HV\")\n",
    "\n",
    "chip['data_rx'].CONF_START_FREEZE = 64 #default 3\n",
    "chip['data_rx'].CONF_STOP_FREEZE = 100 #default 40\n",
    "chip['data_rx'].CONF_START_READ = 66 #default 6\n",
    "chip['data_rx'].CONF_STOP_READ = 68 #default 7\n",
    "chip['data_rx'].CONF_STOP = 105 #default 45"
   ]
  },
  {
   "cell_type": "markdown",
   "metadata": {},
   "source": [
    "## POWER STATUS"
   ]
  },
  {
   "cell_type": "code",
   "execution_count": 3,
   "metadata": {
    "scrolled": false
   },
   "outputs": [
    {
     "name": "stdout",
     "output_type": "stream",
     "text": [
      "VPC [V] = 1.29985064635\n",
      "VDDA_DAC [mA] = 2.50247174749\n",
      "VDDP [V] = 1.80498027711\n",
      "VDDP OC = False\n",
      "VDDA [mA] = 50.1513688658\n",
      "VDDD [V] = 1.80151403636\n",
      "VDDA_DAC OC = False\n",
      "VDDD [mA] = 2.82028899904e-08\n",
      "VPCSWSF [V] = 0.50015423958\n",
      "VDDP [mA] = 128.397148053\n",
      "BiasSF [V] = 1.06278028997\n",
      "VDDD OC = False\n",
      "VPC [mA] = -0.208499076189\n",
      "VPCSWSF [mA] = 0.0280139064001\n",
      "VDDA [V] = 1.80585654955\n",
      "VDDA OC = False\n",
      "VDDA_DAC [V] = 1.80354845155\n",
      "BiasSF [mA] = 0.100594470965\n"
     ]
    }
   ],
   "source": [
    "#chip['BiasSF'].set_current(100, unit='uA') # SET THE SOURCE FOLLOWER READOUT CURRENT\n",
    "power_status = chip.get_power_status(printen=True)"
   ]
  },
  {
   "cell_type": "markdown",
   "metadata": {},
   "source": [
    "## COLUMN SETTINGS: FLAVOURS, MASKS, INJECTION"
   ]
  },
  {
   "cell_type": "code",
   "execution_count": 4,
   "metadata": {},
   "outputs": [],
   "source": [
    "# SELECT WHICH DOUBLE COLUMNS (PIXEL \"FLAVOURS\") TO ENABLE\n",
    "chip['CONF_SR']['EN_PMOS_NOSF'].setall(False)\n",
    "chip['CONF_SR']['EN_PMOS'].setall(False)\n",
    "chip['CONF_SR']['EN_COMP'].setall(False)\n",
    "chip['CONF_SR']['EN_HV'].setall(True)\n",
    "chip['CONF_SR']['EN_OUT'].setall(False) #ENABLES OR DISABLES THE NORMAL OUTPUT PADS, ACTIVE LOW\n",
    "chip['CONF_SR']['nEN_OUT'].setall(True) #ENABLES OR DISABLES THE COMPLEMENTARY OUTPUT PADS, ACTIVE LOW\n",
    "chip['CONF_SR']['EN_HITOR_OUT'].setall(True) #ENABLES OR DISABLES THE NORMAL HITOR PADS, HITOR0-3 =  1-4 flavor, ACTIVE LOW\n",
    "chip['CONF_SR']['nEN_HITOR_OUT'].setall(True) #ENABLES OR DISABLES THE COMPLEMENTARY HITOR PADS, ACTIVE LOW\n",
    "\n",
    "chip.write_conf()"
   ]
  },
  {
   "cell_type": "code",
   "execution_count": 5,
   "metadata": {},
   "outputs": [],
   "source": [
    "# SELECT WHICH PHYSICAL COLUMNS, ROWS, DIAGONALS TO MASK\n",
    "# TO MASK ONE PIXEL, MASKV, MASKH and MASKD OF THIS PIXEL SHOULD BE 0 (FALSE)\n",
    "# THE MASKD NUMBER OF THE PIXEL WE WANT TO MASK (or UNMASK), IS GIVEN BY: MASKD = PHYSCOL- PHYSROW\n",
    "# IF PHYSCOL-PHYSROW<0, then MASKD = 448+PHYSCOL-PHYSROW\n",
    "chip['CONF_SR']['MASKD'].setall(True)\n",
    "chip['CONF_SR']['MASKH'].setall(True)\n",
    "chip['CONF_SR']['MASKV'].setall(True)\n",
    "\n",
    "# TO USE THE MASK FUNCTION YOU MUST INPUT THE FLAVOR, COLUMN AND ROW\n",
    "# THE FLAVOR NUMERS IS: 0 FOR PMOS_NOSF, 1 FOR PMOS, 2 FOR COMP, 3 FOR HV\n",
    "\n",
    "chip.write_conf()"
   ]
  },
  {
   "cell_type": "code",
   "execution_count": 6,
   "metadata": {},
   "outputs": [],
   "source": [
    "\n",
    "# SELECT WHICH PHYSICAL COLUMS TO INJECT\n",
    "# INJ_IN_MON_L AND INJ_IN_MON_L SELECT THE LEFT AND RIGHT SPECIAL ANALOG MONITORING PIXELS\n",
    "chip['CONF_SR']['COL_PULSE_SEL'].setall(False)\n",
    "\n",
    "chip['CONF_SR']['INJ_IN_MON_L'] = 1 # ENABLE INJECTION FOR THE ANALOG MONITORING PIXELS LEFT SIDE\n",
    "chip['CONF_SR']['INJ_IN_MON_R'] = 1 # ENABLE INJECTION FOR THE ANALOG MONITORING PIXELS RIGHT SIDE\n",
    "\n",
    "# SELECT WHICH PHYSICAL ROWS TO INJECT\n",
    "# THE SPEXIAL PIXELS OUTA_MON3 to OUTA_MON0 CORRESPONT TO ROWS 223 to 220 FOR INJECTION\n",
    "chip['CONF_SR']['INJ_ROW'].setall(False)\n",
    "chip['CONF_SR']['INJ_ROW'][223:220] = True # FOR THE ANALOG MONITORING TOP PIXEL\n",
    "\n",
    "# SELECT PHYSICAL COLUMNS AND ROWS FOR INJECTION WITH FUNCTION\n",
    "#chip.enable_injection(3,18,99)\n",
    "\n",
    "chip.write_conf()"
   ]
  },
  {
   "cell_type": "code",
   "execution_count": 7,
   "metadata": {},
   "outputs": [],
   "source": [
    "# SELECT PHYSICAL COLUMN(S) FOR HITOR OUTPUT\n",
    "# nMASKH (SO SETTING MASKH TO FALSE) ENABLES HITOR FOR THE SPECIFIC ROW\n",
    "chip['CONF_SR']['DIG_MON_SEL'].setall(False)\n",
    "#chip.enable_column_hitor(1,18)\n",
    "\n",
    "chip.write_conf()"
   ]
  },
  {
   "cell_type": "markdown",
   "metadata": {},
   "source": [
    "## ANALOG FRONT END and INJECTION PULSE CONFIGURATION"
   ]
  },
  {
   "cell_type": "code",
   "execution_count": 8,
   "metadata": {},
   "outputs": [
    {
     "name": "stderr",
     "output_type": "stream",
     "text": [
      "2022-01-27 17:05:49,930 [INFO ] (MainThread) vl = 0.951929133858V\n",
      "2022-01-27 17:05:49,944 [INFO ] (MainThread) vh = 1.51885826772V\n"
     ]
    }
   ],
   "source": [
    "vl_dac = 40\n",
    "vh_dac = 80\n",
    "vreset_dac = 35\n",
    "icasn_dac = 0\n",
    "ireset_dac = 2\n",
    "ithr_dac = 90\n",
    "idb_dac = 13\n",
    "ibias_dac = 100\n",
    "\n",
    "\n",
    "## SET THE INJECTION PULSE AMPLITUDE\n",
    "## 128-bit DAC (7-bit binary equivalent)\n",
    "## SET THE VOLTAGES IN ONE HOT ENCODING, ONLY ONE BIT ACTIVE AT A TIME.\n",
    "## V = (127/1.8)*#BIT\n",
    "# Cinj=230aF => 1.43e-/mV\n",
    "# VDAC LSB=14.17mV => 20.3e-/LSB\n",
    "# The default values are VL=44, VH=79, VH-VL=35 => ~710e-\n",
    "CALCAP=33 ## 33 or 14.17E-3*230E-18/1.602E-19=20.3\n",
    "vl = chip.set_vl_dacunits(vl_dac,1)\n",
    "vh = chip.set_vh_dacunits(vh_dac,1)\n",
    "\n",
    "chip.write_conf()"
   ]
  },
  {
   "cell_type": "code",
   "execution_count": 9,
   "metadata": {},
   "outputs": [
    {
     "name": "stderr",
     "output_type": "stream",
     "text": [
      "2022-01-27 17:05:50,046 [INFO ] (MainThread) vreset = 1.05106299213V\n",
      "2022-01-27 17:05:50,068 [INFO ] (MainThread) icasn = 0\n",
      "2022-01-27 17:05:50,082 [INFO ] (MainThread) icasn = 4.375 nA\n",
      "2022-01-27 17:05:50,098 [INFO ] (MainThread) ireset = 2 high leakage mode\n",
      "2022-01-27 17:05:50,130 [INFO ] (MainThread) ireset = 0.1025390625nA, high leakage mode\n",
      "2022-01-27 17:05:50,145 [INFO ] (MainThread) ithr = 90\n",
      "2022-01-27 17:05:50,167 [INFO ] (MainThread) ithr = 12.44140625 nA\n",
      "2022-01-27 17:05:50,184 [INFO ] (MainThread) idb = 13\n",
      "2022-01-27 17:05:50,198 [INFO ] (MainThread) idb = 245.0 nA\n",
      "2022-01-27 17:05:50,214 [INFO ] (MainThread) ibias = 100\n",
      "2022-01-27 17:05:50,230 [INFO ] (MainThread) ibias = 1104.6875 nA\n"
     ]
    }
   ],
   "source": [
    "####### CONFIGURE THE FRONT END ######\n",
    "\n",
    "# SET VRESET_P, THIS IS THE BASELINE OF THE FRONT END INPUT, ONE HOT ENCODING\n",
    "vreset = chip.set_vreset_dacunits(vreset_dac, 1) #1V\n",
    "\n",
    "## 128-bit DAC (7-bit binary equivalent)\n",
    "## SET THE CURRENTS USING THERMOMETER ENCODING, I = #BITS_ACTIVE*140nA*SCALING, SCALING IS DIFFERENT FOR EACH CURRENT\n",
    "## SCALING: IBIAS=10, IDB=16, ITHR=0.125, ICASN=4, IRESET=0.03125\n",
    "## ACTIVE BITS SHOULD BE SET STARTING FROM THE MIDDLE e.g. for 15 active bits, (128-15)/2=56,5 so 56zeros,15ones,57zeros\n",
    "## Thus, Ix[71:57] = True\n",
    "\n",
    "# SET ICASN, THIS CURRENT CONTROLS THE OUTPUT BASELINE, BE CAREFUL NOT TO SET IT TO HIGH\n",
    "# ALWAYS MONITOR THE POWER AFTER SETTING ICASN. IF VDDD IS SEVERAL mA, REDUCE IT UNTIL IT RETURNS TO 0\n",
    "# ICASN MAINLY CONTROLS THE THRESHOLD\n",
    "icasn = chip.set_icasn_dacunits(icasn_dac,1) #4.375nA # approx 1.084V at -3V backbias, 600mV at 0V backbias\n",
    "\n",
    "# SET IRESET, THIS CURRENT CONTROLS THE RESET RATE OF THE FRONT END INPUT (ALSO THE THRESHOLD)\n",
    "ireset = chip.set_ireset_dacunits(ireset_dac,1,1) #270pA, HIGH LEAKAGE MODE, NORMAL SCALING, 0 = LOW LEAKAGE MODE, SCALING*0.01\n",
    "\n",
    "# SET ITHR, THIS CURRENT CONTROLS THE RESET RATE OF THE OUTPUT (AND THE THRESHOLD)\n",
    "ithr = chip.set_ithr_dacunits(ithr_dac,1) #680pA ## default=5\n",
    "\n",
    "# SET ITHR, THIS CURRENT CONTROLS THE BIASING OF THE DISCRIMINATOR (AND THE THRESHOLD)\n",
    "idb = chip.set_idb_dacunits(idb_dac,1) #500nA  \n",
    "\n",
    "# SET IBIAS, THIS CURRENT IS THE DC CURRENT OF THE MAIN BRANCH OF THE FRONT END THAT PROVIDES AMPLIFICATION\n",
    "# IT CONTROLS MAINLY THE RISE TIME\n",
    "ibias = chip.set_ibias_dacunits(ibias_dac,1) #500nA default=50\n",
    "\n",
    "############ ENABLE THE DAC CURRENT MONITORING ###########\n",
    "# chip['CONF_SR']['SWCNTL_DACMONI'] = 0\n",
    "\n",
    "########## SET THE BIAS CURRENTS OF THE TWO STAGE SOURCE FOLLOWER THAT BUFFERS THE ANALOG MONITORING VOLTAGES #########\n",
    "# CONTROLS THE RESPONSE TIME AND THE LEVEL SHIFT OF THE BUFFER\n",
    "# chip['CONF_SR']['SET_IBUFN_L'] = 0b1001\n",
    "# chip['CONF_SR']['SET_IBUFP_L'] = 0b0101\n",
    "\n",
    "chip.write_conf()\n",
    "\n",
    "\n",
    "setted_param_dac = np.array([vl_dac, vh_dac, vreset_dac, icasn_dac, ireset_dac, ithr_dac, idb_dac, ibias_dac])\n",
    "setted_param = np.array([vl, vh, vreset, icasn, ireset, ithr, idb, ibias])"
   ]
  },
  {
   "cell_type": "markdown",
   "metadata": {},
   "source": [
    "For using external ICASN instead:\n",
    "```python\n",
    "chip['DACMON_ICASN'].set_current(0, unit='uA')\n",
    "chip['CONF_SR']['SWCNTL_ICASN']=True\n",
    "chip.write_conf()\n",
    "time.sleep(1)\n",
    "print chip['DACMON_ICASN'].get_voltage()\n",
    "print chip['DACMON_ICASN'].get_current()\n",
    "```"
   ]
  },
  {
   "cell_type": "markdown",
   "metadata": {},
   "source": [
    "## Convenience functions"
   ]
  },
  {
   "cell_type": "code",
   "execution_count": 10,
   "metadata": {},
   "outputs": [],
   "source": [
    "# Set mask for all pixels\n",
    "def mask_all(chip, unmask=False):\n",
    "    chip['CONF_SR'][chip.SET['fl']].setall(False)\n",
    "    chip['CONF_SR']['EN_OUT'][chip.fl_n] = False\n",
    "    chip['CONF_SR']['MASKD'].setall(unmask)\n",
    "    chip['CONF_SR']['MASKH'].setall(unmask)\n",
    "    chip['CONF_SR']['MASKV'].setall(unmask)\n",
    "    chip.write_conf()\n",
    "\n",
    "    chip['CONF_SR'][chip.SET['fl']].setall(True)\n",
    "    chip.write_conf()\n",
    "\n",
    "# Unmask all pixels\n",
    "def unmask_all(chip):\n",
    "    mask_all(chip, True)"
   ]
  },
  {
   "cell_type": "code",
   "execution_count": 11,
   "metadata": {},
   "outputs": [],
   "source": [
    "# Enabled data rx FIFO\n",
    "def enable_data_rx(chip, wait=0.1):\n",
    "    chip['data_rx'].set_en(True)\n",
    "    for _ in range(10):\n",
    "        chip[\"fifo\"].reset()\n",
    "        time.sleep(wait)"
   ]
  },
  {
   "cell_type": "code",
   "execution_count": 12,
   "metadata": {},
   "outputs": [],
   "source": [
    "# Receive and parse data\n",
    "def recv_data(chip, dt=0.2, wait_inj=False):\n",
    "    chip.reset_ibias()  # Reset Ibias and wait for oscillations to stabilize\n",
    "    chip.reset_ibias()  # Oscillations may arise from configuration changes\n",
    "    chip['fifo'].reset()  # Clear the buffer\n",
    "    if wait_inj:\n",
    "        chip[\"inj\"].start()\n",
    "        while not chip['inj'].is_ready:\n",
    "            time.sleep(0.001)\n",
    "    time.sleep(dt)  # Wait integration time\n",
    "    return chip.interpret_data(chip['fifo'].get_data())  # Return array of hits\n",
    "\n",
    "# Same as above, but also return array of pixels with hits and number of hits per pixel\n",
    "def recv_data_summary(chip, dt=0.2, wait_inj=False):\n",
    "    hits = recv_data(chip, dt, wait_inj)\n",
    "    pixels, hits_per_pixel = np.unique(hits[[\"col\", \"row\"]], return_counts=True)\n",
    "    return hits, pixels, hits_per_pixel\n"
   ]
  },
  {
   "cell_type": "code",
   "execution_count": 16,
   "metadata": {},
   "outputs": [],
   "source": [
    "# Matrix plotter\n",
    "def tj_plot(chip, dt=0.2, wait_inj=False):\n",
    "    enable_data_rx(chip)\n",
    "    hits, pixels, hits_per_pixel = recv_data_summary(chip, dt, wait_inj)\n",
    "    \n",
    "    print(\"Got %d hits in %g s\" % (len(hits), dt))\n",
    "    \n",
    "    # Plot of the pixel matrix (2D histogram of number of hits vs row/col)\n",
    "    plt.figure()\n",
    "    plt.hist2d(hits[\"col\"], hits[\"row\"], bins=[112,224], range=[[0,112],[0,224]],\n",
    "               )#norm=matplotlib.colors.LogNorm(vmin=1))\n",
    "    plt.colorbar()\n",
    "\n",
    "    # Histogram of the hits-per-pixel distribution (to choose noise threshold)\n",
    "    plt.figure()\n",
    "    plt.hist(hits_per_pixel, bins=100)\n",
    "    plt.figure()\n",
    "    plt.hist(hits_per_pixel, bins=101, range=[0,100])\n",
    "    return hits, pixels, hits_per_pixel"
   ]
  },
  {
   "cell_type": "code",
   "execution_count": 22,
   "metadata": {},
   "outputs": [],
   "source": [
    "# Our own automask (TJMonopix.auto_mask but improved)\n",
    "def our_auto_mask(chip, th=10, step=50, dt=0.2):\n",
    "    mask_all(chip)\n",
    "    enable_data_rx(chip)\n",
    "\n",
    "    # Set of noisy pixels to fill, as tuples (flavor, col, row)\n",
    "    noisy_pixels = set()\n",
    "\n",
    "    def find_new_noisy_pixels():\n",
    "        # Get hits and see which pixels are noisy\n",
    "        hits, pixels, hits_per_pixel = recv_data_summary(chip, dt)\n",
    "        for px, n_hits in zip(pixels, hits_per_pixel):\n",
    "            if n_hits >= th:\n",
    "                if 0 <= px['col'] <= 111 and 0 <= px['row'] <= 223:\n",
    "                    noisy_pixels.add((chip.fl_n, px[\"col\"], px[\"row\"]))\n",
    "                else:  # This happens due to a bug or communication error\n",
    "                    print(\"Warning: invalid pixel with col,row = %d,%d\" % (px['col'], px['row']))\n",
    "        print(\"Got %d hits, total noisy pixels: %d\" % (len(hits), len(noisy_pixels)))\n",
    "\n",
    "    # Iterate over MASKH to find noisy pixels\n",
    "    for i in np.append(range(step, len(chip['CONF_SR']['MASKH']), step), 223):\n",
    "        # Unmask step rows at a time\n",
    "        chip['CONF_SR']['MASKH'][i:0] = (int(i) + 1) * bitarray('1')\n",
    "        # Mask noisy pixels that we found before\n",
    "        for flavor, col, row in noisy_pixels:\n",
    "            chip.mask(flavor, col, row)\n",
    "        chip['CONF_SR'].write()\n",
    "\n",
    "        print(\"Enable MASKH %d\" % i)\n",
    "        find_new_noisy_pixels()\n",
    "\n",
    "    # Iterate over MASKV to find noisy pixels\n",
    "    for i in np.append(range(step, 111, step), 111):\n",
    "        # Unmask step columns at a time, while keeping all rows unmasked\n",
    "        chip['CONF_SR']['MASKV'][i + (chip.fl_n * 112):(chip.fl_n * 112)] = (int(i) + 1) * bitarray('1')\n",
    "        # Mask noisy pixels that we found before\n",
    "        for flavor, col, row in noisy_pixels:\n",
    "            chip.mask(flavor, col, row)\n",
    "        chip['CONF_SR'].write()\n",
    "\n",
    "        print(\"Enable MASKV %d\" % i)\n",
    "        find_new_noisy_pixels()\n",
    "\n",
    "    # Iterate over MASKD to find noisy pixels\n",
    "    for i in np.append(range(step, len(chip['CONF_SR']['MASKD']) - 1, step), len(chip['CONF_SR']['MASKD']) - 1):\n",
    "        # Unmask step diagonals at a time, while keeping all rows and cols unmasked\n",
    "        chip['CONF_SR']['MASKD'][i:0] = (int(i)+1)*bitarray('1')\n",
    "        # Mask noisy pixels that we found before\n",
    "        for flavor, col, row in noisy_pixels:\n",
    "            chip.mask(flavor, col, row)\n",
    "        chip['CONF_SR'].write()\n",
    "\n",
    "        print(\"Enable MASKD %d\" % i)\n",
    "        find_new_noisy_pixels()\n",
    "\n",
    "    # Mask all previously-found noisy pixels and check again\n",
    "    for flavor, col, row in noisy_pixels:\n",
    "        chip.mask(flavor, col, row)\n",
    "    chip['CONF_SR'].write()\n",
    "\n",
    "    print(\"Checking again after masking\")\n",
    "    find_new_noisy_pixels()\n",
    "\n",
    "    # Mask additionally found noisy pixels\n",
    "    for flavor, col, row in noisy_pixels:\n",
    "        chip.mask(flavor, col, row)\n",
    "    chip['CONF_SR'].write()\n",
    "    chip['fifo'].reset()\n",
    "    time.sleep(0.3)\n",
    "    chip.reset_ibias()\n",
    "\n",
    "    print(\"Noisy pixels: %d\" % len(noisy_pixels))\n",
    "    # Get masked pixels using a convenience function of the TJMonopix class\n",
    "    mask = chip.get_disabled_pixel(maskV=chip['CONF_SR']['MASKV'], maskH=chip['CONF_SR']['MASKH'], maskD=chip['CONF_SR']['MASKD'])\n",
    "    total_enabled = np.shape(np.argwhere(mask[(chip.fl_n * 112):(chip.fl_n + 1) * 112, :] != 0))[0]\n",
    "    total_disabled = np.shape(np.argwhere(mask[(chip.fl_n * 112):(chip.fl_n + 1) * 112, :] == 0))[0]\n",
    "    print(\"Enabled pixels: %d\" % total_enabled)\n",
    "    print(\"Disabled pixels (noisy + unintentionally masked): %d\" % total_disabled)\n",
    "    return noisy_pixels, total_disabled\n"
   ]
  },
  {
   "cell_type": "markdown",
   "metadata": {},
   "source": [
    "## ENABLE MASK"
   ]
  },
  {
   "cell_type": "code",
   "execution_count": 17,
   "metadata": {
    "scrolled": true
   },
   "outputs": [
    {
     "name": "stdout",
     "output_type": "stream",
     "text": [
      "Got 238170 hits in 0.2 s\n"
     ]
    },
    {
     "data": {
      "image/png": "[encoded data removed]",
      "text/plain": [
       "<Figure size 432x288 with 2 Axes>"
      ]
     },
     "metadata": {
      "needs_background": "light"
     },
     "output_type": "display_data"
    },
    {
     "data": {
      "image/png": "[encoded data removed]",
      "text/plain": [
       "<Figure size 432x288 with 1 Axes>"
      ]
     },
     "metadata": {
      "needs_background": "light"
     },
     "output_type": "display_data"
    },
    {
     "data": {
      "image/png": "[encoded data removed]",
      "text/plain": [
       "<Figure size 432x288 with 1 Axes>"
      ]
     },
     "metadata": {
      "needs_background": "light"
     },
     "output_type": "display_data"
    }
   ],
   "source": [
    "# Check plot before masking\n",
    "unmask_all(chip)\n",
    "tj_plot(chip);"
   ]
  },
  {
   "cell_type": "code",
   "execution_count": 23,
   "metadata": {},
   "outputs": [
    {
     "name": "stdout",
     "output_type": "stream",
     "text": [
      "Enable MASKH 50\n",
      "Got 36744 hits, total noisy pixels: 13\n",
      "Enable MASKH 100\n",
      "Got 136145 hits, total noisy pixels: 39\n",
      "Enable MASKH 150\n",
      "Got 156464 hits, total noisy pixels: 67\n",
      "Enable MASKH 200\n",
      "Got 215938 hits, total noisy pixels: 108\n",
      "Enable MASKH 223\n",
      "Got 186307 hits, total noisy pixels: 131\n",
      "Enable MASKV 50\n",
      "Got 110 hits, total noisy pixels: 131\n",
      "Enable MASKV 100\n",
      "Got 142 hits, total noisy pixels: 131\n",
      "Enable MASKV 111\n",
      "Got 157 hits, total noisy pixels: 131\n",
      "Enable MASKD 50\n",
      "Got 166 hits, total noisy pixels: 131\n",
      "Enable MASKD 100\n",
      "Got 141 hits, total noisy pixels: 131\n",
      "Enable MASKD 150\n",
      "Got 1537 hits, total noisy pixels: 131\n",
      "Enable MASKD 200\n",
      "Got 274 hits, total noisy pixels: 132\n",
      "Enable MASKD 250\n",
      "Got 161 hits, total noisy pixels: 132\n",
      "Enable MASKD 300\n",
      "Got 1613 hits, total noisy pixels: 132\n",
      "Enable MASKD 350\n",
      "Got 266 hits, total noisy pixels: 132\n",
      "Enable MASKD 400\n",
      "Got 734 hits, total noisy pixels: 132\n",
      "Enable MASKD 447\n",
      "Got 2592 hits, total noisy pixels: 132\n",
      "Checking again after masking\n",
      "Got 1327 hits, total noisy pixels: 132\n",
      "Noisy pixels: 132\n",
      "Enabled pixels: 22502\n",
      "Disabled pixels (noisy + unintentionally masked): 2586\n",
      "Got 293 hits in 0.2 s\n"
     ]
    },
    {
     "data": {
      "image/png": "[encoded data removed]",
      "text/plain": [
       "<Figure size 432x288 with 2 Axes>"
      ]
     },
     "metadata": {
      "needs_background": "light"
     },
     "output_type": "display_data"
    },
    {
     "data": {
      "image/png": "[encoded data removed]",
      "text/plain": [
       "<Figure size 432x288 with 1 Axes>"
      ]
     },
     "metadata": {
      "needs_background": "light"
     },
     "output_type": "display_data"
    },
    {
     "data": {
      "image/png": "[encoded data removed]",
      "text/plain": [
       "<Figure size 432x288 with 1 Axes>"
      ]
     },
     "metadata": {
      "needs_background": "light"
     },
     "output_type": "display_data"
    }
   ],
   "source": [
    "# Auto-mask and plot again\n",
    "noisy_pixels, n_disabled_pixels = our_auto_mask(chip, th=20)\n",
    "tj_plot(chip);"
   ]
  },
  {
   "cell_type": "code",
   "execution_count": 25,
   "metadata": {},
   "outputs": [
    {
     "name": "stderr",
     "output_type": "stream",
     "text": [
      "2022-01-27 17:13:48,611 [INFO ] (MainThread) Output file saved!\n",
      "2022-01-27 17:13:48,627 [INFO ] (MainThread) Output file 'parameters.txt' saved!\n",
      "2022-01-27 17:13:48,641 [INFO ] (MainThread) Output file saved!\n"
     ]
    }
   ],
   "source": [
    "#save some outout monitor files\n",
    "date_string = datetime.datetime.now().strftime(\"%Y-%m-%d_%H-%M-%S\")\n",
    "output_file_noisy_pixels = date_string + '_noisy_pixels.txt'\n",
    "output_file_parameters = 'parameters.txt'\n",
    "output_file_power_status = date_string + 'power_status.txt'\n",
    "noise_monitor.save_noisy_pixels(np.array(list(noisy_pixels)), output_file_noisy_pixels)\n",
    "noise_monitor.save_param_and_noise(\n",
    "    setted_param_dac, setted_param, len(noisy_pixels), n_disabled_pixels, output_file_parameters)\n",
    "noise_monitor.save_power_status(power_status, output_file_power_status)"
   ]
  },
  {
   "cell_type": "markdown",
   "metadata": {},
   "source": [
    "## ENABLE INJECTION"
   ]
  },
  {
   "cell_type": "code",
   "execution_count": 26,
   "metadata": {},
   "outputs": [
    {
     "name": "stdout",
     "output_type": "stream",
     "text": [
      "Number of pixels counted: 1156\n",
      "(101, 58) 76\n",
      "(60, 177) 64\n",
      "(6, 36) 63\n",
      "(6, 68) 57\n",
      "(46, 108) 56\n",
      "(105, 17) 51\n",
      "(48, 141) 48\n",
      "(86, 122) 48\n",
      "(67, 147) 43\n",
      "(43, 92) 40\n",
      "(63, 82) 40\n",
      "(9, 45) 34\n",
      "(54, 219) 34\n",
      "(50, 80) 32\n",
      "(63, 129) 28\n",
      "(14, 101) 26\n",
      "(13, 139) 26\n",
      "(101, 147) 23\n",
      "(11, 214) 21\n",
      "(77, 163) 19\n",
      "(102, 64) 15\n",
      "(98, 6) 13\n",
      "(105, 161) 13\n",
      "(1, 168) 12\n",
      "(53, 155) 11\n",
      "(78, 18) 11\n",
      "(2, 125) 10\n",
      "(56, 185) 9\n",
      "(87, 198) 9\n",
      "(52, 206) 9\n",
      "(110, 0) 8\n",
      "(96, 152) 8\n",
      "(67, 164) 8\n",
      "(74, 194) 7\n",
      "(36, 166) 7\n",
      "(106, 29) 7\n",
      "(46, 17) 6\n",
      "(68, 97) 6\n",
      "(61, 91) 6\n",
      "(54, 129) 6\n",
      "(83, 127) 6\n",
      "(70, 41) 6\n",
      "(88, 78) 6\n",
      "(72, 209) 6\n",
      "(76, 37) 6\n",
      "(87, 99) 5\n",
      "(5, 201) 5\n",
      "(55, 14) 5\n",
      "(56, 209) 4\n",
      "(72, 174) 4\n",
      "(88, 140) 4\n",
      "(11, 29) 4\n",
      "(88, 44) 4\n",
      "(15, 152) 4\n",
      "(13, 84) 4\n",
      "(92, 165) 3\n",
      "(25, 141) 3\n",
      "(19, 156) 3\n",
      "(0, 28) 3\n",
      "(12, 127) 3\n",
      "(51, 122) 3\n",
      "(80, 190) 3\n",
      "(106, 151) 3\n",
      "(20, 184) 2\n",
      "(8, 169) 2\n",
      "(104, 221) 2\n",
      "(3, 96) 2\n",
      "(69, 53) 2\n",
      "(68, 179) 2\n",
      "(46, 168) 2\n",
      "(54, 109) 2\n",
      "(49, 153) 2\n",
      "(49, 152) 2\n",
      "(43, 3) 1\n",
      "(102, 136) 1\n",
      "(9, 116) 1\n",
      "(99, 144) 1\n",
      "(6, 163) 1\n",
      "(109, 22) 1\n",
      "(99, 80) 1\n",
      "(77, 2) 1\n",
      "(4, 186) 1\n",
      "(76, 110) 1\n",
      "(3, 91) 1\n",
      "(72, 158) 1\n",
      "(107, 178) 1\n",
      "(80, 111) 1\n",
      "(51, 106) 1\n",
      "(53, 84) 1\n",
      "(42, 143) 1\n",
      "(97, 44) 1\n",
      "(49, 207) 1\n",
      "(18, 34) 1\n",
      "(49, 132) 1\n",
      "(23, 147) 1\n",
      "(25, 64) 1\n",
      "(85, 212) 1\n",
      "(32, 184) 1\n",
      "(34, 2) 1\n",
      "(36, 173) 1\n",
      "(45, 60) 1\n",
      "(38, 126) 1\n"
     ]
    }
   ],
   "source": [
    "### check noise occupancy\n",
    "exp_time = 1\n",
    "chip.get_occupancy(exp_time)"
   ]
  },
  {
   "cell_type": "code",
   "execution_count": 28,
   "metadata": {},
   "outputs": [
    {
     "name": "stdout",
     "output_type": "stream",
     "text": [
      "Got 107 hits in 0.2 s\n",
      "((9, 149), 1)\n",
      "((25, 65), 1)\n",
      "((49, 33), 1)\n",
      "((75, 13), 1)\n",
      "((80, 171), 1)\n",
      "((90, 152), 1)\n",
      "((91, 192), 1)\n",
      "((18, 25), 100)\n"
     ]
    },
    {
     "data": {
      "image/png": "[encoded data removed]",
      "text/plain": [
       "<Figure size 432x288 with 2 Axes>"
      ]
     },
     "metadata": {
      "needs_background": "light"
     },
     "output_type": "display_data"
    },
    {
     "data": {
      "image/png": "[encoded data removed]",
      "text/plain": [
       "<Figure size 432x288 with 1 Axes>"
      ]
     },
     "metadata": {
      "needs_background": "light"
     },
     "output_type": "display_data"
    },
    {
     "data": {
      "image/png": "[encoded data removed]",
      "text/plain": [
       "<Figure size 432x288 with 1 Axes>"
      ]
     },
     "metadata": {
      "needs_background": "light"
     },
     "output_type": "display_data"
    }
   ],
   "source": [
    "## configure injection pulse and inject pulses to one pixel\n",
    "col_to_inject = 18\n",
    "row_to_inject = 25\n",
    "\n",
    "delay=800\n",
    "width=250\n",
    "repeat=100\n",
    "chip['inj'].set_delay(delay)\n",
    "chip['inj'].set_width(width)\n",
    "chip['inj'].set_repeat(repeat)\n",
    "chip['inj'].set_phase(0)\n",
    "chip['inj'].set_en(0)\n",
    "\n",
    "chip['CONF_SR']['INJ_ROW'].setall(False)\n",
    "chip['CONF_SR']['COL_PULSE_SEL'].setall(False)\n",
    "chip.enable_injection(3, col_to_inject, row_to_inject)\n",
    "chip.write_conf()\n",
    "\n",
    "_, pixels, hits_per_pixel = tj_plot(chip, wait_inj=True)\n",
    "chip['data_rx'].set_en(False)\n",
    "\n",
    "arg = np.argsort(hits_per_pixel)\n",
    "for px, n_hits in zip(pixels[arg], hits_per_pixel[arg]):\n",
    "    print(px, n_hits)\n",
    "    # chip.mask(3, px[0], px[1]) # Do we need this?"
   ]
  },
  {
   "cell_type": "markdown",
   "metadata": {},
   "source": [
    "## INJECTION SCANS -  S-CURVE"
   ]
  },
  {
   "cell_type": "code",
   "execution_count": 31,
   "metadata": {},
   "outputs": [
    {
     "name": "stdout",
     "output_type": "stream",
     "text": [
      "80 102 100 6.04\n",
      "79 102 100 6.09\n",
      "78 100 100 6.17\n",
      "77 102 100 6.06\n",
      "76 101 100 6.06\n",
      "75 105 100 6.14\n",
      "74 101 100 6.05\n",
      "73 101 100 6.04\n",
      "72 103 100 6.16\n",
      "71 103 100 6.17\n",
      "70 101 100 6.14\n",
      "69 101 100 6.01\n",
      "68 100 100 5.97\n",
      "67 101 100 6.08\n",
      "66 101 100 6.12\n",
      "65 102 100 5.94\n",
      "64 102 100 6.01\n",
      "63 101 100 5.98\n",
      "62 104 100 5.86\n",
      "61 104 100 5.82\n",
      "60 102 100 5.77\n",
      "59 100 100 5.71\n",
      "58 101 100 5.6\n",
      "57 103 100 5.55\n",
      "56 102 100 5.53\n",
      "55 100 100 5.45\n",
      "54 100 100 5.39\n",
      "53 100 100 5.36\n",
      "52 103 100 5.28\n",
      "51 102 100 5.18\n",
      "50 104 100 5.03\n",
      "49 102 100 4.98\n",
      "48 101 100 4.84\n",
      "47 101 100 4.81\n",
      "46 101 100 4.6\n",
      "45 102 100 4.56\n",
      "44 103 100 4.5\n",
      "43 101 100 4.45\n",
      "42 100 100 4.25\n",
      "41 103 100 4.24\n",
      "40 104 100 4.24\n",
      "39 100 100 4.11\n",
      "38 102 100 3.84\n",
      "37 101 100 3.81\n",
      "36 101 100 3.53\n",
      "35 103 100 3.36\n",
      "34 100 100 3.06\n",
      "33 101 100 2.89\n",
      "32 101 100 2.77\n",
      "31 100 100 2.57\n",
      "30 101 100 2.34\n",
      "29 100 100 2.01\n",
      "28 100 100 1.79\n",
      "27 99 98 1.5\n",
      "26 86 85 1.5294117647058822\n",
      "25 80 76 1.4078947368421053\n",
      "24 72 70 1.2285714285714286\n",
      "23 56 54 0.9074074074074074\n",
      "22 32 30 0.9666666666666667\n",
      "21 26 25 1.04\n",
      "20 16 15 1.0\n",
      "19 6 4 1.0\n",
      "18 1 0 nan\n",
      "17 4 0 nan\n",
      "16 1 0 nan\n",
      "15 1 0 nan\n",
      "14 3 0 nan\n",
      "13 2 0 nan\n",
      "12 2 0 nan\n",
      "11 0 0 nan\n",
      "10 4 0 nan\n",
      "9 2 0 nan\n",
      "8 1 0 nan\n",
      "7 0 0 nan\n",
      "6 2 0 nan\n",
      "5 2 0 nan\n",
      "4 1 0 nan\n",
      "3 0 0 nan\n",
      "2 1 0 nan\n",
      "1 1 0 nan\n"
     ]
    }
   ],
   "source": [
    "injlist=np.arange(80,0,-1)\n",
    "\n",
    "inj_low=chip.get_vl_dacunits()\n",
    "chip['data_rx'].set_en(True)\n",
    "for _ in range(5):\n",
    "    chip['fifo'].reset()\n",
    "    time.sleep(0.002)\n",
    "    \n",
    "time.sleep(2)\n",
    "\n",
    "cnt=np.empty(len(injlist))\n",
    "tot=np.empty(len(injlist))\n",
    "for inj_i,inj in enumerate(injlist):\n",
    "    chip.set_vh_dacunits(inj+inj_low,0)\n",
    "    chip.write_conf()\n",
    "    for _ in range(5):\n",
    "        chip['fifo'].reset()\n",
    "        time.sleep(0.002)\n",
    "    chip.set_monoread()\n",
    "    chip[\"inj\"].start()\n",
    "    while not chip['inj'].is_ready:\n",
    "        time.sleep(0.001)\n",
    "    time.sleep(0.02)\n",
    "    x = chip['fifo'].get_data()\n",
    "    ix = chip.interpret_data(x)\n",
    "    ix_inj=ix[np.bitwise_and(ix[\"col\"]==col_to_inject,ix[\"row\"]==row_to_inject)]\n",
    "    print inj,len(ix),len(ix_inj),np.average((ix_inj[\"te\"]-ix_inj[\"le\"]) & 0x3F)\n",
    "    cnt[inj_i]=len(ix_inj)\n",
    "    tot[inj_i]=np.average((ix_inj[\"te\"]-ix_inj[\"le\"]) & 0x3F)"
   ]
  },
  {
   "cell_type": "code",
   "execution_count": 37,
   "metadata": {},
   "outputs": [
    {
     "name": "stdout",
     "output_type": "stream",
     "text": [
      "approx. th = 23 DAC = 759 e-\n"
     ]
    },
    {
     "data": {
      "text/plain": [
       "<matplotlib.legend.Legend at 0xb507b08>"
      ]
     },
     "execution_count": 37,
     "metadata": {},
     "output_type": "execute_result"
    },
    {
     "data": {
      "image/png": "[encoded data removed]",
      "text/plain": [
       "<Figure size 432x288 with 3 Axes>"
      ]
     },
     "metadata": {
      "needs_background": "light"
     },
     "output_type": "display_data"
    },
    {
     "name": "stderr",
     "output_type": "stream",
     "text": [
      "Exception in thread TcpReadoutThread:\n",
      "Traceback (most recent call last):\n",
      "  File \"C:\\ProgramData\\Miniconda2\\lib\\threading.py\", line 801, in __bootstrap_inner\n",
      "    self.run()\n",
      "  File \"C:\\ProgramData\\Miniconda2\\lib\\threading.py\", line 754, in run\n",
      "    self.__target(*self.__args, **self.__kwargs)\n",
      "  File \"c:\\users\\belle2\\basil\\basil\\TL\\SiTcp.py\", line 406, in _tcp_readout\n",
      "    data = bytearray(self._sock_tcp.recv(1024 * 8))\n",
      "error: [Errno 10054] Connessione in corso interrotta forzatamente dall'host remoto\n",
      "\n"
     ]
    }
   ],
   "source": [
    "### plot\n",
    "\n",
    "approx_th = injlist[np.argmin(np.abs(cnt-repeat/2))]\n",
    "print \"approx. th = %d DAC = %g e-\" % (approx_th, approx_th*CALCAP)\n",
    "fig,ax=plt.subplots(1,1)\n",
    "ax.plot(injlist,cnt,\"C0o\",label=\"count\")\n",
    "ax2=ax.twiny()\n",
    "ax3=ax.twinx()\n",
    "ax3.plot(injlist,tot,\"C1x\",label=\"ToT\")\n",
    "ax.plot([],[],\"C1x\",label=\"ToT\")\n",
    "\n",
    "ax.set_xlabel(\"Injection [ADC]\")\n",
    "ax.set_ylabel(\"#\")\n",
    "ax3.set_ylabel(\"ToT [40MHz]\")\n",
    "ax2.set_xlabel(\"Charge [e]\")\n",
    "ax.set_xbound(np.min(injlist),np.max(injlist))\n",
    "ax2.set_xbound(np.min(injlist)*CALCAP,np.max(injlist)*CALCAP)\n",
    "ax.legend();"
   ]
  },
  {
   "cell_type": "code",
   "execution_count": null,
   "metadata": {},
   "outputs": [],
   "source": []
  }
 ],
 "metadata": {
  "kernelspec": {
   "display_name": "Python 2",
   "language": "python",
   "name": "python2"
  },
  "language_info": {
   "codemirror_mode": {
    "name": "ipython",
    "version": 2
   },
   "file_extension": ".py",
   "mimetype": "text/x-python",
   "name": "python",
   "nbconvert_exporter": "python",
   "pygments_lexer": "ipython2",
   "version": "2.7.18"
  }
 },
 "nbformat": 4,
 "nbformat_minor": 2
}
