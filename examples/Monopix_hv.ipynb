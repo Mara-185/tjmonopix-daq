{
 "cells": [
  {
   "cell_type": "markdown",
   "metadata": {},
   "source": [
    "## INITIALIZATION"
   ]
  },
  {
   "cell_type": "code",
   "execution_count": 1,
   "metadata": {},
   "outputs": [],
   "source": [
    "import time\n",
    "import matplotlib\n",
    "import matplotlib.pyplot as plt\n",
    "import numpy as np\n",
    "import datetime\n",
    "from bitarray import bitarray\n",
    "from tjmonopix.tjmonopix import TJMonoPix\n",
    "%matplotlib notebook\n",
    "\n",
    "from tjmonopix.online_monitor import noise_monitor, plots"
   ]
  },
  {
   "cell_type": "code",
   "execution_count": 2,
   "metadata": {
    "scrolled": true
   },
   "outputs": [
    {
     "name": "stderr",
     "output_type": "stream",
     "text": [
      "2022-01-31 12:03:02,236 [INFO ] (MainThread) GPAC: power reset\n",
      "2022-01-31 12:03:04,009 [INFO ] (MainThread) Found adapter card: General Purpose Analog Card (GPAC) with ID 3\n",
      "2022-01-31 12:03:04,256 [INFO ] (MainThread) Found board 0 running firmware version 0.0\n",
      "2022-01-31 12:03:04,503 [INFO ] (MainThread) ibias = 45\n",
      "2022-01-31 12:03:04,526 [INFO ] (MainThread) ibias = 503.125 nA\n",
      "2022-01-31 12:03:05,088 [INFO ] (MainThread) {'VPC [V]': 1.2998506463536463, 'VDDA_DAC [mA]': 2.502471747485684, 'VDDP [V]': 1.8049802771084336, 'VDDP OC': False, 'VDDA [mA]': 50.151368865825674, 'VDDD [V]': 1.8015140363636364, 'VDDA_DAC OC': False, 'VDDD [mA]': 2.820288999038665e-08, 'VPCSWSF [V]': 0.5006537, 'VDDP [mA]': 128.39714805315754, 'BiasSF [V]': 1.0612799558568045, 'VDDD OC': False, 'VPC [mA]': -0.02249989557596879, 'VPCSWSF [mA]': 0.08104021783687393, 'VDDA [V]': 1.8058565495495498, 'VDDA OC': False, 'VDDA_DAC [V]': 1.8035484515484517, 'BiasSF [mA]': 0.10109892318840588}\n"
     ]
    }
   ],
   "source": [
    "##### if HV is on, no_power_reset=True,\n",
    "##### if GPAC had power reset then no_power_reset=False\n",
    "\n",
    "chip = TJMonoPix(conf=\"../tjmonopix/tjmonopix_mio3.yaml\",no_power_reset=False)\n",
    "chip.init(fl=\"EN_HV\")\n",
    "\n",
    "chip['data_rx'].CONF_START_FREEZE = 64 #default 3\n",
    "chip['data_rx'].CONF_STOP_FREEZE = 100 #default 40\n",
    "chip['data_rx'].CONF_START_READ = 66 #default 6\n",
    "chip['data_rx'].CONF_STOP_READ = 68 #default 7\n",
    "chip['data_rx'].CONF_STOP = 105 #default 45"
   ]
  },
  {
   "cell_type": "markdown",
   "metadata": {},
   "source": [
    "## POWER STATUS"
   ]
  },
  {
   "cell_type": "code",
   "execution_count": 3,
   "metadata": {
    "scrolled": false
   },
   "outputs": [
    {
     "name": "stdout",
     "output_type": "stream",
     "text": [
      "BiasSF [V] = 1.0622801786\n",
      "BiasSF [mA] = 0.100594470965\n",
      "VDDA OC = False\n",
      "VDDA [V] = 1.80585654955\n",
      "VDDA [mA] = 50.1513688658\n",
      "VDDA_DAC OC = False\n",
      "VDDA_DAC [V] = 1.80354845155\n",
      "VDDA_DAC [mA] = 2.50247174749\n",
      "VDDD OC = False\n",
      "VDDD [V] = 1.80151403636\n",
      "VDDD [mA] = 2.82028899904e-08\n",
      "VDDP OC = False\n",
      "VDDP [V] = 1.80498027711\n",
      "VDDP [mA] = 128.397148053\n",
      "VPC [V] = 1.29935158047\n",
      "VPC [mA] = -0.0504997722274\n",
      "VPCSWSF [V] = 0.5006537\n",
      "VPCSWSF [mA] = 0.12356131663\n"
     ]
    }
   ],
   "source": [
    "#chip['BiasSF'].set_current(100, unit='uA') # SET THE SOURCE FOLLOWER READOUT CURRENT\n",
    "power_status = chip.get_power_status(printen=True)"
   ]
  },
  {
   "cell_type": "markdown",
   "metadata": {},
   "source": [
    "## COLUMN SETTINGS: FLAVOURS, MASKS, INJECTION"
   ]
  },
  {
   "cell_type": "code",
   "execution_count": 4,
   "metadata": {},
   "outputs": [],
   "source": [
    "# SELECT WHICH DOUBLE COLUMNS (PIXEL \"FLAVOURS\") TO ENABLE\n",
    "chip['CONF_SR']['EN_PMOS_NOSF'].setall(False)\n",
    "chip['CONF_SR']['EN_PMOS'].setall(False)\n",
    "chip['CONF_SR']['EN_COMP'].setall(False)\n",
    "chip['CONF_SR']['EN_HV'].setall(True)\n",
    "chip['CONF_SR']['EN_OUT'].setall(False) #ENABLES OR DISABLES THE NORMAL OUTPUT PADS, ACTIVE LOW\n",
    "chip['CONF_SR']['nEN_OUT'].setall(True) #ENABLES OR DISABLES THE COMPLEMENTARY OUTPUT PADS, ACTIVE LOW\n",
    "chip['CONF_SR']['EN_HITOR_OUT'].setall(True) #ENABLES OR DISABLES THE NORMAL HITOR PADS, HITOR0-3 =  1-4 flavor, ACTIVE LOW\n",
    "chip['CONF_SR']['nEN_HITOR_OUT'].setall(True) #ENABLES OR DISABLES THE COMPLEMENTARY HITOR PADS, ACTIVE LOW\n",
    "\n",
    "chip.write_conf()"
   ]
  },
  {
   "cell_type": "code",
   "execution_count": 5,
   "metadata": {},
   "outputs": [],
   "source": [
    "# SELECT WHICH PHYSICAL COLUMNS, ROWS, DIAGONALS TO MASK\n",
    "# TO MASK ONE PIXEL, MASKV, MASKH and MASKD OF THIS PIXEL SHOULD BE 0 (FALSE)\n",
    "# THE MASKD NUMBER OF THE PIXEL WE WANT TO MASK (or UNMASK), IS GIVEN BY: MASKD = PHYSCOL- PHYSROW\n",
    "# IF PHYSCOL-PHYSROW<0, then MASKD = 448+PHYSCOL-PHYSROW\n",
    "chip['CONF_SR']['MASKD'].setall(True)\n",
    "chip['CONF_SR']['MASKH'].setall(True)\n",
    "chip['CONF_SR']['MASKV'].setall(True)\n",
    "\n",
    "# TO USE THE MASK FUNCTION YOU MUST INPUT THE FLAVOR, COLUMN AND ROW\n",
    "# THE FLAVOR NUMERS IS: 0 FOR PMOS_NOSF, 1 FOR PMOS, 2 FOR COMP, 3 FOR HV\n",
    "\n",
    "chip.write_conf()"
   ]
  },
  {
   "cell_type": "code",
   "execution_count": 6,
   "metadata": {},
   "outputs": [],
   "source": [
    "# SELECT WHICH PHYSICAL COLUMS TO INJECT\n",
    "# INJ_IN_MON_L AND INJ_IN_MON_L SELECT THE LEFT AND RIGHT SPECIAL ANALOG MONITORING PIXELS\n",
    "chip['CONF_SR']['COL_PULSE_SEL'].setall(False)\n",
    "\n",
    "chip['CONF_SR']['INJ_IN_MON_L'] = 1 # ENABLE INJECTION FOR THE ANALOG MONITORING PIXELS LEFT SIDE\n",
    "chip['CONF_SR']['INJ_IN_MON_R'] = 1 # ENABLE INJECTION FOR THE ANALOG MONITORING PIXELS RIGHT SIDE\n",
    "\n",
    "# SELECT WHICH PHYSICAL ROWS TO INJECT\n",
    "# THE SPEXIAL PIXELS OUTA_MON3 to OUTA_MON0 CORRESPONT TO ROWS 223 to 220 FOR INJECTION\n",
    "chip['CONF_SR']['INJ_ROW'].setall(False)\n",
    "chip['CONF_SR']['INJ_ROW'][223:220] = True # FOR THE ANALOG MONITORING TOP PIXEL\n",
    "\n",
    "# SELECT PHYSICAL COLUMNS AND ROWS FOR INJECTION WITH FUNCTION\n",
    "#chip.enable_injection(3,18,99)\n",
    "\n",
    "chip.write_conf()"
   ]
  },
  {
   "cell_type": "code",
   "execution_count": 7,
   "metadata": {},
   "outputs": [],
   "source": [
    "# SELECT PHYSICAL COLUMN(S) FOR HITOR OUTPUT\n",
    "# nMASKH (SO SETTING MASKH TO FALSE) ENABLES HITOR FOR THE SPECIFIC ROW\n",
    "chip['CONF_SR']['DIG_MON_SEL'].setall(False)\n",
    "#chip.enable_column_hitor(1,18)\n",
    "\n",
    "chip.write_conf()"
   ]
  },
  {
   "cell_type": "markdown",
   "metadata": {},
   "source": [
    "## ANALOG FRONT END CONFIGURATION"
   ]
  },
  {
   "cell_type": "code",
   "execution_count": 8,
   "metadata": {},
   "outputs": [
    {
     "name": "stderr",
     "output_type": "stream",
     "text": [
      "2022-01-31 12:03:13,178 [INFO ] (MainThread) vl = 0.951929133858V\n",
      "2022-01-31 12:03:13,194 [INFO ] (MainThread) vh = 1.51885826772V\n"
     ]
    }
   ],
   "source": [
    "vl_dac = 40\n",
    "vh_dac = 80\n",
    "vreset_dac = 35\n",
    "icasn_dac = 0  # This sets the baseline voltage of the discriminator input\n",
    "ireset_dac = 2\n",
    "ithr_dac = 5  # Also this sets the baseline voltage of the discriminator input\n",
    "idb_dac = 50  # This sets the threshold of the discriminator\n",
    "ibias_dac = 100\n",
    "\n",
    "\n",
    "## SET THE INJECTION PULSE AMPLITUDE\n",
    "## 128-bit DAC (7-bit binary equivalent)\n",
    "## SET THE VOLTAGES IN ONE HOT ENCODING, ONLY ONE BIT ACTIVE AT A TIME.\n",
    "## V = (127/1.8)*#BIT\n",
    "# Cinj=230aF => 1.43e-/mV\n",
    "# VDAC LSB=14.17mV => 20.3e-/LSB\n",
    "# The default values are VL=44, VH=79, VH-VL=35 => ~710e-\n",
    "CALCAP=33 ## 33 or 14.17E-3*230E-18/1.602E-19=20.3\n",
    "vl = chip.set_vl_dacunits(vl_dac,1)\n",
    "vh = chip.set_vh_dacunits(vh_dac,1)\n",
    "\n",
    "chip.write_conf()"
   ]
  },
  {
   "cell_type": "code",
   "execution_count": 9,
   "metadata": {},
   "outputs": [
    {
     "name": "stderr",
     "output_type": "stream",
     "text": [
      "2022-01-31 12:03:15,627 [INFO ] (MainThread) vreset = 1.05106299213V\n",
      "2022-01-31 12:03:15,641 [INFO ] (MainThread) icasn = 0\n",
      "2022-01-31 12:03:15,657 [INFO ] (MainThread) icasn = 4.375 nA\n",
      "2022-01-31 12:03:15,674 [INFO ] (MainThread) ireset = 2 high leakage mode\n",
      "2022-01-31 12:03:15,710 [INFO ] (MainThread) ireset = 0.1025390625nA, high leakage mode\n",
      "2022-01-31 12:03:15,726 [INFO ] (MainThread) ithr = 5\n",
      "2022-01-31 12:03:15,742 [INFO ] (MainThread) ithr = 0.8203125 nA\n",
      "2022-01-31 12:03:15,757 [INFO ] (MainThread) idb = 50\n",
      "2022-01-31 12:03:15,773 [INFO ] (MainThread) idb = 892.5 nA\n",
      "2022-01-31 12:03:15,779 [INFO ] (MainThread) ibias = 100\n",
      "2022-01-31 12:03:15,796 [INFO ] (MainThread) ibias = 1104.6875 nA\n"
     ]
    }
   ],
   "source": [
    "# SET VRESET_P, THIS IS THE BASELINE OF THE FRONT END INPUT, ONE HOT ENCODING\n",
    "vreset = chip.set_vreset_dacunits(vreset_dac, 1) #1V\n",
    "\n",
    "## 128-bit DAC (7-bit binary equivalent)\n",
    "## SET THE CURRENTS USING THERMOMETER ENCODING, I = #BITS_ACTIVE*140nA*SCALING, SCALING IS DIFFERENT FOR EACH CURRENT\n",
    "## SCALING: IBIAS=10, IDB=16, ITHR=0.125, ICASN=4, IRESET=0.03125\n",
    "## ACTIVE BITS SHOULD BE SET STARTING FROM THE MIDDLE e.g. for 15 active bits, (128-15)/2=56,5 so 56zeros,15ones,57zeros\n",
    "## Thus, Ix[71:57] = True\n",
    "\n",
    "# SET ICASN, THIS CURRENT CONTROLS THE OUTPUT BASELINE, BE CAREFUL NOT TO SET IT TO HIGH\n",
    "# ALWAYS MONITOR THE POWER AFTER SETTING ICASN. IF VDDD IS SEVERAL mA, REDUCE IT UNTIL IT RETURNS TO 0\n",
    "# ICASN MAINLY CONTROLS THE THRESHOLD\n",
    "icasn = chip.set_icasn_dacunits(icasn_dac,1) #4.375nA # approx 1.084V at -3V backbias, 600mV at 0V backbias\n",
    "\n",
    "# SET IRESET, THIS CURRENT CONTROLS THE RESET RATE OF THE FRONT END INPUT (ALSO THE THRESHOLD)\n",
    "ireset = chip.set_ireset_dacunits(ireset_dac,1,1) #270pA, HIGH LEAKAGE MODE, NORMAL SCALING, 0 = LOW LEAKAGE MODE, SCALING*0.01\n",
    "\n",
    "# SET ITHR, THIS CURRENT CONTROLS THE RESET RATE OF THE OUTPUT (AND THE THRESHOLD)\n",
    "ithr = chip.set_ithr_dacunits(ithr_dac,1) #680pA ## default=5\n",
    "\n",
    "# SET ITHR, THIS CURRENT CONTROLS THE BIASING OF THE DISCRIMINATOR (AND THE THRESHOLD)\n",
    "idb = chip.set_idb_dacunits(idb_dac,1) #500nA  \n",
    "\n",
    "# SET IBIAS, THIS CURRENT IS THE DC CURRENT OF THE MAIN BRANCH OF THE FRONT END THAT PROVIDES AMPLIFICATION\n",
    "# IT CONTROLS MAINLY THE RISE TIME\n",
    "ibias = chip.set_ibias_dacunits(ibias_dac,1) #500nA default=50\n",
    "\n",
    "############ ENABLE THE DAC CURRENT MONITORING ###########\n",
    "# chip['CONF_SR']['SWCNTL_DACMONI'] = 0\n",
    "\n",
    "########## SET THE BIAS CURRENTS OF THE TWO STAGE SOURCE FOLLOWER THAT BUFFERS THE ANALOG MONITORING VOLTAGES #########\n",
    "# CONTROLS THE RESPONSE TIME AND THE LEVEL SHIFT OF THE BUFFER\n",
    "# chip['CONF_SR']['SET_IBUFN_L'] = 0b1001\n",
    "# chip['CONF_SR']['SET_IBUFP_L'] = 0b0101\n",
    "\n",
    "chip.write_conf()\n",
    "\n",
    "\n",
    "setted_param_dac = np.array([vl_dac, vh_dac, vreset_dac, icasn_dac, ireset_dac, ithr_dac, idb_dac, ibias_dac])\n",
    "setted_param = np.array([vl, vh, vreset, icasn, ireset, ithr, idb, ibias])"
   ]
  },
  {
   "cell_type": "markdown",
   "metadata": {},
   "source": [
    "For using external ICASN instead:\n",
    "```python\n",
    "chip['DACMON_ICASN'].set_current(0, unit='uA')\n",
    "chip['CONF_SR']['SWCNTL_ICASN']=True\n",
    "chip.write_conf()\n",
    "time.sleep(1)\n",
    "print chip['DACMON_ICASN'].get_voltage()\n",
    "print chip['DACMON_ICASN'].get_current()\n",
    "```"
   ]
  },
  {
   "cell_type": "markdown",
   "metadata": {},
   "source": [
    "## ENABLE MASK"
   ]
  },
  {
   "cell_type": "code",
   "execution_count": 10,
   "metadata": {
    "scrolled": true
   },
   "outputs": [
    {
     "name": "stdout",
     "output_type": "stream",
     "text": [
      "Got 219000 hits in 0.2 s\n"
     ]
    },
    {
     "data": {
      "image/png": "[encoded data removed]",
      "text/plain": [
       "<Figure size 432x288 with 2 Axes>"
      ]
     },
     "metadata": {
      "needs_background": "light"
     },
     "output_type": "display_data"
    },
    {
     "data": {
      "image/png": "[encoded data removed]",
      "text/plain": [
       "<Figure size 432x288 with 1 Axes>"
      ]
     },
     "metadata": {
      "needs_background": "light"
     },
     "output_type": "display_data"
    }
   ],
   "source": [
    "chip.unmask_all()\n",
    "plots.tj_plot(chip);"
   ]
  },
  {
   "cell_type": "code",
   "execution_count": 11,
   "metadata": {},
   "outputs": [
    {
     "name": "stdout",
     "output_type": "stream",
     "text": [
      "Enable MASKH 50\n",
      "Got 51830 hits, total noisy pixels: 35\n",
      "Enable MASKH 100\n",
      "Got 109378 hits, total noisy pixels: 97\n",
      "Enable MASKH 150\n",
      "Got 26889 hits, total noisy pixels: 148\n",
      "Enable MASKH 200\n",
      "Got 157801 hits, total noisy pixels: 207\n",
      "Enable MASKH 223\n",
      "Got 37717 hits, total noisy pixels: 227\n",
      "Enable MASKV 50\n",
      "Got 77 hits, total noisy pixels: 230\n",
      "Enable MASKV 100\n",
      "Got 104 hits, total noisy pixels: 235\n",
      "Enable MASKV 111\n",
      "Got 5 hits, total noisy pixels: 236\n",
      "Enable MASKD 50\n",
      "Got 119 hits, total noisy pixels: 236\n",
      "Enable MASKD 100\n",
      "Got 3 hits, total noisy pixels: 236\n",
      "Enable MASKD 150\n",
      "Got 43 hits, total noisy pixels: 237\n",
      "Enable MASKD 200\n",
      "Got 44 hits, total noisy pixels: 241\n",
      "Enable MASKD 250\n",
      "Got 63 hits, total noisy pixels: 245\n",
      "Enable MASKD 300\n",
      "Got 100 hits, total noisy pixels: 246\n",
      "Enable MASKD 350\n",
      "Got 47 hits, total noisy pixels: 251\n",
      "Enable MASKD 400\n",
      "Got 19 hits, total noisy pixels: 254\n",
      "Enable MASKD 447\n",
      "Got 110 hits, total noisy pixels: 258\n",
      "Checking again after masking\n",
      "Got 35 hits, total noisy pixels: 262\n",
      "Noisy pixels: 262\n",
      "Enabled pixels: 14760\n",
      "Disabled pixels (noisy + unintentionally masked): 10328\n",
      "Got 66 hits in 0.2 s\n"
     ]
    },
    {
     "data": {
      "image/png": "[encoded data removed]",
      "text/plain": [
       "<Figure size 432x288 with 2 Axes>"
      ]
     },
     "metadata": {
      "needs_background": "light"
     },
     "output_type": "display_data"
    },
    {
     "data": {
      "image/png": "[encoded data removed]",
      "text/plain": [
       "<Figure size 432x288 with 1 Axes>"
      ]
     },
     "metadata": {
      "needs_background": "light"
     },
     "output_type": "display_data"
    },
    {
     "data": {
      "image/png": "[encoded data removed]",
      "text/plain": [
       "<Figure size 432x288 with 1 Axes>"
      ]
     },
     "metadata": {
      "needs_background": "light"
     },
     "output_type": "display_data"
    },
    {
     "data": {
      "image/png": "[encoded data removed]",
      "text/plain": [
       "<Figure size 432x288 with 1 Axes>"
      ]
     },
     "metadata": {
      "needs_background": "light"
     },
     "output_type": "display_data"
    }
   ],
   "source": [
    "\"\"\" Software parameters to select: \n",
    "    the threshold above whitch a pixel is defined noisy (th = number of hits per pixel), \n",
    "    the step (),\n",
    "    the time of the data acquisition run (in s) \"\"\"\n",
    "th = 2\n",
    "step = 50\n",
    "dt = 0.2\n",
    "\n",
    "# Auto-mask and plot again\n",
    "noisy_pixels, n_disabled_pixels, mask = chip.auto_mask(th=th, step=step, dt=dt)\n",
    "plots.tj_plot(chip);\n",
    "\n",
    "plt.figure()\n",
    "plt.subplot(1, 2, 1)\n",
    "plt.hist2d([x[1] for x in noisy_pixels], [x[2] for x in noisy_pixels], bins=[112,224], range=[[0,112],[0,224]])\n",
    "plt.title(\"Noisy pixels\")\n",
    "plt.xlabel('rows')\n",
    "plt.ylabel('columns')\n",
    "\n",
    "plt.subplot(1, 2, 2)\n",
    "plt.hist2d([x[0] for x in mask], [x[1] for x in mask], bins=[112,224], range=[[0,112],[0,224]])\n",
    "plt.title(\"Masked pixels\")\n",
    "plt.xlabel('rows')\n",
    "plt.ylabel('columns')\n",
    "plt.show()"
   ]
  },
  {
   "cell_type": "markdown",
   "metadata": {},
   "source": [
    "## OCCUPANCY"
   ]
  },
  {
   "cell_type": "code",
   "execution_count": 14,
   "metadata": {},
   "outputs": [
    {
     "name": "stdout",
     "output_type": "stream",
     "text": [
      "Number of pixels counted: 16\n",
      "column, row) hits \n",
      "\n",
      "(29, 39) 2\n",
      "(4, 186) 2\n",
      "(105, 46) 1\n",
      "(94, 93) 1\n",
      "(88, 78) 1\n",
      "(66, 85) 1\n",
      "(62, 26) 1\n",
      "(61, 184) 1\n",
      "(56, 3) 1\n",
      "(53, 179) 1\n",
      "(52, 24) 1\n",
      "(46, 134) 1\n",
      "(36, 166) 1\n",
      "(35, 160) 1\n"
     ]
    }
   ],
   "source": [
    "pix_tmp, cnt = chip.get_occupancy(dt);"
   ]
  },
  {
   "cell_type": "code",
   "execution_count": null,
   "metadata": {},
   "outputs": [],
   "source": [
    "#save some outout monitor files\n",
    "date_string = datetime.datetime.now().strftime(\"%Y-%m-%d_%H-%M-%S\")\n",
    "\n",
    "output_file_power_status = date_string + 'power_status.txt'\n",
    "output_file_parameters = 'parameters.txt'\n",
    "output_file_noisy_pixels = date_string + '_noisy_pixels.txt'\n",
    "output_file_hits_per_pixels = date_string + '_hits_pixels.txt'\n",
    "\n",
    "noise_monitor.save_noisy_pixels(np.array(list(noisy_pixels)), output_file_noisy_pixels)\n",
    "noise_monitor.save_param_and_noise(\n",
    "    setted_param_dac, setted_param, len(noisy_pixels), n_disabled_pixels, output_file_parameters)\n",
    "noise_monitor.save_power_status(power_status, output_file_power_status)\n",
    "\n",
    "#noise_monitor.save_hits_per_pixels(hits, pixels, hits_per_pixel, output_file_hits_per_pixels)"
   ]
  },
  {
   "cell_type": "markdown",
   "metadata": {},
   "source": [
    "# ENABLE INJECTION"
   ]
  },
  {
   "cell_type": "code",
   "execution_count": 20,
   "metadata": {},
   "outputs": [
    {
     "name": "stdout",
     "output_type": "stream",
     "text": [
      "Got 169 hits in 0.2 s\n",
      "((0, 211), 1)\n",
      "((110, 5), 1)\n",
      "((110, 6), 1)\n",
      "((110, 7), 1)\n",
      "((110, 8), 1)\n",
      "((110, 9), 1)\n",
      "((110, 10), 1)\n",
      "((110, 11), 1)\n",
      "((110, 12), 1)\n",
      "((110, 13), 1)\n",
      "((110, 14), 1)\n",
      "((110, 15), 1)\n",
      "((110, 16), 1)\n",
      "((110, 17), 1)\n",
      "((111, 0), 1)\n",
      "((110, 4), 1)\n",
      "((111, 2), 1)\n",
      "((111, 4), 1)\n",
      "((111, 5), 1)\n",
      "((111, 6), 1)\n",
      "((111, 7), 1)\n",
      "((111, 8), 1)\n",
      "((111, 9), 1)\n",
      "((111, 10), 1)\n",
      "((111, 11), 1)\n",
      "((111, 12), 1)\n",
      "((111, 13), 1)\n",
      "((111, 14), 1)\n",
      "((111, 15), 1)\n",
      "((111, 16), 1)\n",
      "((111, 17), 1)\n",
      "((111, 3), 1)\n",
      "((111, 18), 1)\n",
      "((110, 3), 1)\n",
      "((110, 1), 1)\n",
      "((0, 213), 1)\n",
      "((0, 216), 1)\n",
      "((0, 217), 1)\n",
      "((0, 218), 1)\n",
      "((0, 219), 1)\n",
      "((0, 220), 1)\n",
      "((0, 221), 1)\n",
      "((0, 222), 1)\n",
      "((0, 223), 1)\n",
      "((1, 215), 1)\n",
      "((1, 217), 1)\n",
      "((1, 218), 1)\n",
      "((1, 219), 1)\n",
      "((1, 220), 1)\n",
      "((110, 2), 1)\n",
      "((1, 221), 1)\n",
      "((1, 223), 1)\n",
      "((8, 164), 1)\n",
      "((35, 160), 1)\n",
      "((44, 210), 1)\n",
      "((54, 29), 1)\n",
      "((66, 85), 1)\n",
      "((68, 179), 1)\n",
      "((88, 78), 1)\n",
      "((94, 74), 1)\n",
      "((102, 55), 1)\n",
      "((1, 222), 1)\n",
      "((111, 20), 1)\n",
      "((4, 186), 2)\n",
      "((7, 8), 2)\n",
      "((46, 134), 2)\n",
      "((18, 25), 100)\n"
     ]
    },
    {
     "data": {
      "image/png": "[encoded data removed]",
      "text/plain": [
       "<Figure size 432x288 with 2 Axes>"
      ]
     },
     "metadata": {
      "needs_background": "light"
     },
     "output_type": "display_data"
    },
    {
     "data": {
      "image/png": "[encoded data removed]",
      "text/plain": [
       "<Figure size 432x288 with 1 Axes>"
      ]
     },
     "metadata": {
      "needs_background": "light"
     },
     "output_type": "display_data"
    }
   ],
   "source": [
    "col_to_inject = 18\n",
    "row_to_inject = 25\n",
    "\n",
    "delay = 800 #in clock units (640 MHz)\n",
    "width = 250\n",
    "repeat = 100 #number of pulse injected\n",
    "chip['inj'].set_delay(delay)\n",
    "chip['inj'].set_width(width)\n",
    "chip['inj'].set_repeat(repeat)\n",
    "chip['inj'].set_phase(0)\n",
    "chip['inj'].set_en(0)\n",
    "\n",
    "chip['CONF_SR']['INJ_ROW'].setall(False)\n",
    "chip['CONF_SR']['COL_PULSE_SEL'].setall(False)\n",
    "chip.enable_injection(3, col_to_inject, row_to_inject)\n",
    "chip.write_conf()\n",
    "\n",
    "_, pixels, hits_per_pixel = plots.tj_plot(chip, wait_inj=True)\n",
    "chip['data_rx'].set_en(False)\n"
   ]
  },
  {
   "cell_type": "markdown",
   "metadata": {},
   "source": [
    "## INJECTION SCANS -  S-CURVE"
   ]
  },
  {
   "cell_type": "code",
   "execution_count": 21,
   "metadata": {},
   "outputs": [
    {
     "name": "stdout",
     "output_type": "stream",
     "text": [
      "80 100 100 44.28\n",
      "79 105 100 44.21\n",
      "78 101 100 44.13\n",
      "77 107 100 44.12\n",
      "76 106 100 44.43\n",
      "75 102 100 44.13\n",
      "74 111 100 44.11\n",
      "73 100 100 44.05\n",
      "72 100 100 44.15\n",
      "71 106 100 43.8\n",
      "70 106 100 43.91\n",
      "69 102 100 43.88\n",
      "68 105 100 43.69\n",
      "67 104 100 43.56\n",
      "66 102 100 43.55\n",
      "65 102 100 43.22\n",
      "64 102 100 42.97\n",
      "63 100 100 42.6\n",
      "62 104 100 41.56\n",
      "61 102 100 41.51\n",
      "60 103 100 41.07\n",
      "59 104 100 40.31\n",
      "58 108 100 39.64\n",
      "57 105 100 38.71\n",
      "56 104 100 38.14\n",
      "55 104 100 37.24\n",
      "54 101 100 36.42\n",
      "53 104 100 35.54\n",
      "52 103 100 34.98\n",
      "51 101 100 33.97\n",
      "50 103 100 32.94\n",
      "49 104 100 32.02\n",
      "48 107 100 31.2\n",
      "47 102 100 29.88\n",
      "46 102 100 28.39\n",
      "45 102 100 27.2\n",
      "44 102 100 26.42\n",
      "43 103 100 25.52\n",
      "42 103 100 23.91\n",
      "41 100 100 22.36\n",
      "40 102 100 21.54\n",
      "39 101 100 20.5\n",
      "38 101 100 19.25\n",
      "37 102 100 18.11\n",
      "36 105 100 16.67\n",
      "35 102 100 15.51\n",
      "34 107 100 14.08\n",
      "33 104 100 13.16\n",
      "32 105 100 12.06\n",
      "31 103 100 10.7\n",
      "30 102 100 9.67\n",
      "29 101 100 8.28\n",
      "28 103 100 6.98\n",
      "27 102 100 5.53\n",
      "26 100 97 4.752577319587629\n",
      "25 84 83 4.0843373493975905\n",
      "24 80 77 3.4935064935064934\n",
      "23 73 70 2.842857142857143\n",
      "22 64 63 2.111111111111111\n",
      "21 45 43 1.7906976744186047\n",
      "20 36 33 1.5757575757575757\n",
      "19 25 24 1.5416666666666667\n",
      "18 16 11 1.3636363636363635\n",
      "17 12 8 1.125\n",
      "16 7 5 1.0\n",
      "15 6 1 0.0\n",
      "14 0 0 nan\n"
     ]
    },
    {
     "name": "stderr",
     "output_type": "stream",
     "text": [
      "C:\\ProgramData\\Miniconda2\\lib\\site-packages\\numpy\\lib\\function_base.py:392: RuntimeWarning: Mean of empty slice.\n",
      "  avg = a.mean(axis)\n",
      "C:\\ProgramData\\Miniconda2\\lib\\site-packages\\numpy\\core\\_methods.py:85: RuntimeWarning: invalid value encountered in double_scalars\n",
      "  ret = ret.dtype.type(ret / rcount)\n"
     ]
    },
    {
     "name": "stdout",
     "output_type": "stream",
     "text": [
      "13 4 0 nan\n",
      "12 5 0 nan\n",
      "11 2 0 nan\n",
      "10 7 0 nan\n",
      "9 8 0 nan\n",
      "8 5 0 nan\n",
      "7 2 0 nan\n",
      "6 2 0 nan\n",
      "5 3 0 nan\n",
      "4 1 0 nan\n",
      "3 3 0 nan\n",
      "2 5 0 nan\n",
      "1 4 0 nan\n"
     ]
    }
   ],
   "source": [
    "inj_low_dac = chip.get_vl_dacunits()\n",
    "inj_low = vl\n",
    "chip['data_rx'].set_en(True)\n",
    "for _ in range(5):\n",
    "    chip['fifo'].reset()\n",
    "    time.sleep(0.002)\n",
    "time.sleep(2)\n",
    "\n",
    "#it is a signal from 40DAC (=vl) to 120DAC (=vh) and corresponds to a signal in 0.95-2.28V\n",
    "#\n",
    "injlist = np.arange(80, 0, -1)  \n",
    "cnt = np.empty(len(injlist))\n",
    "tot = np.empty(len(injlist))\n",
    "inj_high = np.empty(len(injlist))\n",
    "\n",
    "for inj_i, inj in enumerate(injlist):\n",
    "    inj_high_pulse_dac = inj + inj_low_dac\n",
    "    inj_high_pulse = chip.set_vh_dacunits(inj_high_dac, 0)\n",
    "    chip.write_conf()\n",
    "    for _ in range(5):\n",
    "        chip['fifo'].reset()\n",
    "        time.sleep(0.002)\n",
    "    chip.set_monoread()\n",
    "    chip[\"inj\"].start()\n",
    "    while not chip['inj'].is_ready:\n",
    "        time.sleep(0.001)\n",
    "    time.sleep(0.02)\n",
    "    \n",
    "    ix = chip.interpret_data(chip['fifo'].get_data())\n",
    "    ix_inj = ix[np.bitwise_and(ix[\"col\"] == col_to_inject, ix[\"row\"] == row_to_inject)]\n",
    "    print inj, inj_high_pulse, len(ix), len(ix_inj), np.average((ix_inj[\"te\"] - ix_inj[\"le\"]) & 0x3F)\n",
    "    cnt[inj_i] = len(ix_inj)\n",
    "    tot[inj_i] = np.average((ix_inj[\"te\"]-ix_inj[\"le\"]) & 0x3F)\n",
    "    inj_high[inj_i] = inj_high_pulse"
   ]
  },
  {
   "cell_type": "code",
   "execution_count": 22,
   "metadata": {},
   "outputs": [
    {
     "name": "stdout",
     "output_type": "stream",
     "text": [
      "approx. th = 21 DAC = 693 e-\n"
     ]
    },
    {
     "data": {
      "image/png": "[encoded data removed]",
      "text/plain": [
       "<Figure size 432x288 with 3 Axes>"
      ]
     },
     "metadata": {
      "needs_background": "light"
     },
     "output_type": "display_data"
    }
   ],
   "source": [
    "threshold, sigma = plot.s_curve(injlist, inj_high, cnt, repeat, CALCAP)"
   ]
  }
 ],
 "metadata": {
  "kernelspec": {
   "display_name": "Python 3 (ipykernel)",
   "language": "python",
   "name": "python3"
  },
  "language_info": {
   "codemirror_mode": {
    "name": "ipython",
    "version": 3
   },
   "file_extension": ".py",
   "mimetype": "text/x-python",
   "name": "python",
   "nbconvert_exporter": "python",
   "pygments_lexer": "ipython3",
   "version": "3.8.10"
  }
 },
 "nbformat": 4,
 "nbformat_minor": 2
}
