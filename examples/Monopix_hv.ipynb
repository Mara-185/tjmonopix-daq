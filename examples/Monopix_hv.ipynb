{
 "cells": [
  {
   "cell_type": "markdown",
   "metadata": {},
   "source": [
    "## INITIALIZATION"
   ]
  },
  {
   "cell_type": "code",
   "execution_count": null,
   "metadata": {},
   "outputs": [],
   "source": [
    "import time\n",
    "import matplotlib\n",
    "import matplotlib.pyplot as plt\n",
    "import numpy as np\n",
    "import datetime\n",
    "from bitarray import bitarray\n",
    "from tjmonopix.tjmonopix import TJMonoPix\n",
    "%matplotlib notebook\n",
    "\n",
    "from tjmonopix.online_monitor import noise_monitor #ho importato la libreria!"
   ]
  },
  {
   "cell_type": "code",
   "execution_count": null,
   "metadata": {
    "scrolled": true
   },
   "outputs": [],
   "source": [
    "##### if HV is on, no_power_reset=True,\n",
    "##### if GPAC had power reset then no_power_reset=False\n",
    "\n",
    "chip = TJMonoPix(conf=\"../tjmonopix/tjmonopix_mio3.yaml\",no_power_reset=False)\n",
    "chip.init(fl=\"EN_HV\")\n",
    "\n",
    "chip['data_rx'].CONF_START_FREEZE = 64 #default 3\n",
    "chip['data_rx'].CONF_STOP_FREEZE = 100 #default 40\n",
    "chip['data_rx'].CONF_START_READ = 66 #default 6\n",
    "chip['data_rx'].CONF_STOP_READ = 68 #default 7\n",
    "chip['data_rx'].CONF_STOP = 105 #default 45"
   ]
  },
  {
   "cell_type": "markdown",
   "metadata": {},
   "source": [
    "## POWER STATUS"
   ]
  },
  {
   "cell_type": "code",
   "execution_count": null,
   "metadata": {
    "scrolled": false
   },
   "outputs": [],
   "source": [
    "#chip['BiasSF'].set_current(100, unit='uA') # SET THE SOURCE FOLLOWER READOUT CURRENT\n",
    "power_status = chip.get_power_status(printen=True)"
   ]
  },
  {
   "cell_type": "markdown",
   "metadata": {},
   "source": [
    "## COLUMN SETTINGS: FLAVOURS, MASKS, INJECTION"
   ]
  },
  {
   "cell_type": "code",
   "execution_count": null,
   "metadata": {},
   "outputs": [],
   "source": [
    "# SELECT WHICH DOUBLE COLUMNS (PIXEL \"FLAVOURS\") TO ENABLE\n",
    "chip['CONF_SR']['EN_PMOS_NOSF'].setall(False)\n",
    "chip['CONF_SR']['EN_PMOS'].setall(False)\n",
    "chip['CONF_SR']['EN_COMP'].setall(False)\n",
    "chip['CONF_SR']['EN_HV'].setall(True)\n",
    "chip['CONF_SR']['EN_OUT'].setall(False) #ENABLES OR DISABLES THE NORMAL OUTPUT PADS, ACTIVE LOW\n",
    "chip['CONF_SR']['nEN_OUT'].setall(True) #ENABLES OR DISABLES THE COMPLEMENTARY OUTPUT PADS, ACTIVE LOW\n",
    "chip['CONF_SR']['EN_HITOR_OUT'].setall(True) #ENABLES OR DISABLES THE NORMAL HITOR PADS, HITOR0-3 =  1-4 flavor, ACTIVE LOW\n",
    "chip['CONF_SR']['nEN_HITOR_OUT'].setall(True) #ENABLES OR DISABLES THE COMPLEMENTARY HITOR PADS, ACTIVE LOW\n",
    "\n",
    "chip.write_conf()"
   ]
  },
  {
   "cell_type": "code",
   "execution_count": null,
   "metadata": {},
   "outputs": [],
   "source": [
    "# SELECT WHICH PHYSICAL COLUMNS, ROWS, DIAGONALS TO MASK\n",
    "# TO MASK ONE PIXEL, MASKV, MASKH and MASKD OF THIS PIXEL SHOULD BE 0 (FALSE)\n",
    "# THE MASKD NUMBER OF THE PIXEL WE WANT TO MASK (or UNMASK), IS GIVEN BY: MASKD = PHYSCOL- PHYSROW\n",
    "# IF PHYSCOL-PHYSROW<0, then MASKD = 448+PHYSCOL-PHYSROW\n",
    "chip['CONF_SR']['MASKD'].setall(True)\n",
    "chip['CONF_SR']['MASKH'].setall(True)\n",
    "chip['CONF_SR']['MASKV'].setall(True)\n",
    "\n",
    "# TO USE THE MASK FUNCTION YOU MUST INPUT THE FLAVOR, COLUMN AND ROW\n",
    "# THE FLAVOR NUMERS IS: 0 FOR PMOS_NOSF, 1 FOR PMOS, 2 FOR COMP, 3 FOR HV\n",
    "\n",
    "chip.write_conf()"
   ]
  },
  {
   "cell_type": "code",
   "execution_count": null,
   "metadata": {},
   "outputs": [],
   "source": [
    "\n",
    "# SELECT WHICH PHYSICAL COLUMS TO INJECT\n",
    "# INJ_IN_MON_L AND INJ_IN_MON_L SELECT THE LEFT AND RIGHT SPECIAL ANALOG MONITORING PIXELS\n",
    "chip['CONF_SR']['COL_PULSE_SEL'].setall(False)\n",
    "\n",
    "chip['CONF_SR']['INJ_IN_MON_L'] = 1 # ENABLE INJECTION FOR THE ANALOG MONITORING PIXELS LEFT SIDE\n",
    "chip['CONF_SR']['INJ_IN_MON_R'] = 1 # ENABLE INJECTION FOR THE ANALOG MONITORING PIXELS RIGHT SIDE\n",
    "\n",
    "# SELECT WHICH PHYSICAL ROWS TO INJECT\n",
    "# THE SPEXIAL PIXELS OUTA_MON3 to OUTA_MON0 CORRESPONT TO ROWS 223 to 220 FOR INJECTION\n",
    "chip['CONF_SR']['INJ_ROW'].setall(False)\n",
    "chip['CONF_SR']['INJ_ROW'][223:220] = True # FOR THE ANALOG MONITORING TOP PIXEL\n",
    "\n",
    "# SELECT PHYSICAL COLUMNS AND ROWS FOR INJECTION WITH FUNCTION\n",
    "#chip.enable_injection(3,18,99)\n",
    "\n",
    "chip.write_conf()"
   ]
  },
  {
   "cell_type": "code",
   "execution_count": null,
   "metadata": {},
   "outputs": [],
   "source": [
    "# SELECT PHYSICAL COLUMN(S) FOR HITOR OUTPUT\n",
    "# nMASKH (SO SETTING MASKH TO FALSE) ENABLES HITOR FOR THE SPECIFIC ROW\n",
    "chip['CONF_SR']['DIG_MON_SEL'].setall(False)\n",
    "#chip.enable_column_hitor(1,18)\n",
    "\n",
    "chip.write_conf()"
   ]
  },
  {
   "cell_type": "markdown",
   "metadata": {},
   "source": [
    "## ANALOG FRONT END and INJECTION PULSE CONFIGURATION"
   ]
  },
  {
   "cell_type": "code",
   "execution_count": null,
   "metadata": {},
   "outputs": [],
   "source": [
    "vl_dac = 40\n",
    "vh_dac = 80\n",
    "vreset_dac = 35\n",
    "icasn_dac = 0\n",
    "ireset_dac = 2\n",
    "ithr_dac = 90\n",
    "idb_dac = 13\n",
    "ibias_dac = 100\n",
    "\n",
    "\n",
    "## SET THE INJECTION PULSE AMPLITUDE\n",
    "## 128-bit DAC (7-bit binary equivalent)\n",
    "## SET THE VOLTAGES IN ONE HOT ENCODING, ONLY ONE BIT ACTIVE AT A TIME.\n",
    "## V = (127/1.8)*#BIT\n",
    "# The default values are VL=44, VH=79, VH-VL=35\n",
    "# VDAC LSB=14.17mV, Cinj=230aF, 1.43e-/mV, ~710e-\n",
    "CALCAP=33 ## 33 or 14.17E-3*230E-18/1.602E-19=20.3\n",
    "vl = chip.set_vl_dacunits(vl_dac,1)\n",
    "vh = chip.set_vh_dacunits(vh_dac,1)\n",
    "\n",
    "chip.write_conf()"
   ]
  },
  {
   "cell_type": "code",
   "execution_count": null,
   "metadata": {},
   "outputs": [],
   "source": [
    "####### CONFIGURE THE FRONT END ######\n",
    "\n",
    "# SET VRESET_P, THIS IS THE BASELINE OF THE FRONT END INPUT, ONE HOT ENCODING\n",
    "vreset = chip.set_vreset_dacunits(vreset_dac, 1) #1V\n",
    "\n",
    "## 128-bit DAC (7-bit binary equivalent)\n",
    "## SET THE CURRENTS USING THERMOMETER ENCODING, I = #BITS_ACTIVE*140nA*SCALING, SCALING IS DIFFERENT FOR EACH CURRENT\n",
    "## SCALING: IBIAS=10, IDB=16, ITHR=0.125, ICASN=4, IRESET=0.03125\n",
    "## ACTIVE BITS SHOULD BE SET STARTING FROM THE MIDDLE e.g. for 15 active bits, (128-15)/2=56,5 so 56zeros,15ones,57zeros\n",
    "## Thus, Ix[71:57] = True\n",
    "\n",
    "# SET ICASN, THIS CURRENT CONTROLS THE OUTPUT BASELINE, BE CAREFUL NOT TO SET IT TO HIGH\n",
    "# ALWAYS MONITOR THE POWER AFTER SETTING ICASN. IF VDDD IS SEVERAL mA, REDUCE IT UNTIL IT RETURNS TO 0\n",
    "# ICASN MAINLY CONTROLS THE THRESHOLD\n",
    "icasn = chip.set_icasn_dacunits(icasn_dac,1) #4.375nA # approx 1.084V at -3V backbias, 600mV at 0V backbias\n",
    "\n",
    "# SET IRESET, THIS CURRENT CONTROLS THE RESET RATE OF THE FRONT END INPUT (ALSO THE THRESHOLD)\n",
    "ireset = chip.set_ireset_dacunits(ireset_dac,1,1) #270pA, HIGH LEAKAGE MODE, NORMAL SCALING, 0 = LOW LEAKAGE MODE, SCALING*0.01\n",
    "\n",
    "# SET ITHR, THIS CURRENT CONTROLS THE RESET RATE OF THE OUTPUT (AND THE THRESHOLD)\n",
    "ithr = chip.set_ithr_dacunits(ithr_dac,1) #680pA ## default=5\n",
    "\n",
    "# SET ITHR, THIS CURRENT CONTROLS THE BIASING OF THE DISCRIMINATOR (AND THE THRESHOLD)\n",
    "idb = chip.set_idb_dacunits(idb_dac,1) #500nA  \n",
    "\n",
    "# SET IBIAS, THIS CURRENT IS THE DC CURRENT OF THE MAIN BRANCH OF THE FRONT END THAT PROVIDES AMPLIFICATION\n",
    "# IT CONTROLS MAINLY THE RISE TIME\n",
    "ibias = chip.set_ibias_dacunits(ibias_dac,1) #500nA default=50\n",
    "\n",
    "############ ENABLE THE DAC CURRENT MONITORING ###########\n",
    "# chip['CONF_SR']['SWCNTL_DACMONI'] = 0\n",
    "\n",
    "########## SET THE BIAS CURRENTS OF THE TWO STAGE SOURCE FOLLOWER THAT BUFFERS THE ANALOG MONITORING VOLTAGES #########\n",
    "# CONTROLS THE RESPONSE TIME AND THE LEVEL SHIFT OF THE BUFFER\n",
    "# chip['CONF_SR']['SET_IBUFN_L'] = 0b1001\n",
    "# chip['CONF_SR']['SET_IBUFP_L'] = 0b0101\n",
    "\n",
    "chip.write_conf()\n",
    "\n",
    "\n",
    "setted_param_dac = np.array([vl_dac, vh_dac, vreset_dac, icasn_dac, ireset_dac, ithr_dac, idb_dac, ibias_dac])\n",
    "setted_param = np.array([vl, vh, vreset, icasn, ireset, ithr, idb, ibias])"
   ]
  },
  {
   "cell_type": "markdown",
   "metadata": {},
   "source": [
    "For using external ICASN instead:\n",
    "```python\n",
    "chip['DACMON_ICASN'].set_current(0, unit='uA')\n",
    "chip['CONF_SR']['SWCNTL_ICASN']=True\n",
    "chip.write_conf()\n",
    "time.sleep(1)\n",
    "print chip['DACMON_ICASN'].get_voltage()\n",
    "print chip['DACMON_ICASN'].get_current()\n",
    "```"
   ]
  },
  {
   "cell_type": "markdown",
   "metadata": {},
   "source": [
    "## Convenience functions"
   ]
  },
  {
   "cell_type": "code",
   "execution_count": null,
   "metadata": {},
   "outputs": [],
   "source": [
    "# Set mask for all pixels\n",
    "def mask_all(chip, unmask=False):\n",
    "    chip['CONF_SR'][chip.SET['fl']].setall(False)\n",
    "    chip['CONF_SR']['EN_OUT'][chip.fl_n] = False\n",
    "    chip['CONF_SR']['MASKD'].setall(unmask)\n",
    "    chip['CONF_SR']['MASKH'].setall(unmask)\n",
    "    chip['CONF_SR']['MASKV'].setall(unmask)\n",
    "    chip.write_conf()\n",
    "\n",
    "    chip['CONF_SR'][chip.SET['fl']].setall(True)\n",
    "    chip.write_conf()\n",
    "\n",
    "# Unmask all pixels\n",
    "def unmask_all(chip):\n",
    "    mask_all(chip, True)"
   ]
  },
  {
   "cell_type": "code",
   "execution_count": null,
   "metadata": {},
   "outputs": [],
   "source": [
    "# Enabled data rx FIFO\n",
    "def enable_data_rx(chip, wait=0.1):\n",
    "    chip['data_rx'].set_en(True)\n",
    "    for _ in range(10):\n",
    "        chip[\"fifo\"].reset()\n",
    "        time.sleep(wait)"
   ]
  },
  {
   "cell_type": "code",
   "execution_count": null,
   "metadata": {},
   "outputs": [],
   "source": [
    "# Receive and parse data\n",
    "def recv_data(chip, dt=0.2, wait_inj=False):\n",
    "    chip.reset_ibias()  # Reset Ibias and wait for oscillations to stabilize\n",
    "    chip.reset_ibias()  # Oscillations may arise from configuration changes\n",
    "    chip['fifo'].reset()  # Clear the buffer\n",
    "    if wait_inj:\n",
    "        chip[\"inj\"].start()\n",
    "        while not chip['inj'].is_ready:\n",
    "            time.sleep(0.001)\n",
    "    time.sleep(dt)  # Wait integration time\n",
    "    return chip.interpret_data(chip['fifo'].get_data())  # Return array of hits\n",
    "\n",
    "# Same as above, but also return array of pixels with hits and number of hits per pixel\n",
    "def recv_data_summary(chip, dt=0.2, wait_inj=False):\n",
    "    hits = recv_data(chip, dt, wait_inj)\n",
    "    pixels, hits_per_pixel = np.unique(hits[[\"col\", \"row\"]], return_counts=True)\n",
    "    return hits, pixels, hits_per_pixel\n"
   ]
  },
  {
   "cell_type": "code",
   "execution_count": null,
   "metadata": {},
   "outputs": [],
   "source": [
    "# Matrix plotter\n",
    "def tj_plot(chip, dt=0.2, wait_inj=False):\n",
    "    enable_data_rx()\n",
    "    hits, pixels, hits_per_pixel = recv_data_summary(chip, dt, wait_inj)\n",
    "    \n",
    "    print(\"Got %d hits in %g s\" % (len(hits), dt))\n",
    "    \n",
    "    # Plot of the pixel matrix (2D histogram of number of hits vs row/col)\n",
    "    plt.figure()\n",
    "    plt.hist2d(dat[\"col\"], dat[\"row\"], bins=[112,224], range=[[0,112],[0,224]],\n",
    "               )#norm=matplotlib.colors.LogNorm(vmin=1))\n",
    "    plt.colorbar()\n",
    "\n",
    "    # Histogram of the hits-per-pixel distribution (to choose noise threshold)\n",
    "    plt.figure()\n",
    "    plt.hist(hits_per_pixel)\n",
    "    return hits, pixels, hits_per_pixel"
   ]
  },
  {
   "cell_type": "code",
   "execution_count": null,
   "metadata": {},
   "outputs": [],
   "source": [
    "# Our own automask (TJMonopix.auto_mask but improved)\n",
    "def our_auto_mask(chip, th=10, step=50, dt=0.2):\n",
    "    mask_all(chip)\n",
    "    enable_data_rx(chip)\n",
    "\n",
    "    # Set of noisy pixels to fill, as tuples (flavor, col, row)\n",
    "    noisy_pixels = set()\n",
    "\n",
    "    def find_new_noisy_pixels():\n",
    "        # Get hits and see which pixels are noisy\n",
    "        hits, pixels, hits_per_pixel = recv_data_summary(chip, dt)\n",
    "        for px, n_hits in zip(pixels, hits_per_pixel):\n",
    "            if n_hits >= th:\n",
    "                if 0 <= px['col'] <= 111 and 0 <= px['row'] <= 223:\n",
    "                    noisy_pixels.add((chip.fl_n, px[\"col\"], px[\"row\"]))\n",
    "                else:  # This happens due to a bug or communication error\n",
    "                    print(\"Warning: invalid pixel with col,row = %d,%d\" % (px['col'], px['row']))\n",
    "        print(\"Got %d hits, total noisy pixels: %d\" % (len(hits), len(noisy_pixels)))\n",
    "\n",
    "    # Iterate over MASKH to find noisy pixels\n",
    "    for i in np.append(range(step, len(chip['CONF_SR']['MASKH']), step), 223):\n",
    "        # Unmask step rows at a time\n",
    "        chip['CONF_SR']['MASKH'][i:0] = (int(i) + 1) * bitarray('1')\n",
    "        # Mask noisy pixels that we found before\n",
    "        for flavor, col, row in noisy_pixels:\n",
    "            chip.mask(flavor, col, row)\n",
    "        chip['CONF_SR'].write()\n",
    "\n",
    "        print(\"Enable MASKH %d\" % i)\n",
    "        find_new_noisy_pixels()\n",
    "\n",
    "    # Iterate over MASKV to find noisy pixels\n",
    "    for i in np.append(range(step, 111, step), 111):\n",
    "        # Unmask step columns at a time, while keeping all rows unmasked\n",
    "        chip['CONF_SR']['MASKV'][i + (chip.fl_n * 112):(chip.fl_n * 112)] = (int(i) + 1) * bitarray('1')\n",
    "        # Mask noisy pixels that we found before\n",
    "        for flavor, col, row in noisy_pixels:\n",
    "            chip.mask(flavor, col, row)\n",
    "        chip['CONF_SR'].write()\n",
    "\n",
    "        print(\"Enable MASKV %d\" % i)\n",
    "        find_new_noisy_pixels()\n",
    "\n",
    "    # Iterate over MASKD to find noisy pixels\n",
    "    for i in np.append(range(step, len(chip['CONF_SR']['MASKD']) - 1, step), len(chip['CONF_SR']['MASKD']) - 1):\n",
    "        # Unmask step diagonals at a time, while keeping all rows and cols unmasked\n",
    "        chip['CONF_SR']['MASKD'][i:0] = (int(i)+1)*bitarray('1')\n",
    "        # Mask noisy pixels that we found before\n",
    "        for flavor, col, row in noisy_pixels:\n",
    "            chip.mask(flavor, col, row)\n",
    "        chip['CONF_SR'].write()\n",
    "\n",
    "        print(\"Enable MASKD %d\" % i)\n",
    "        find_new_noisy_pixels()\n",
    "\n",
    "    # Mask all previously-found noisy pixels and check again\n",
    "    for flavor, col, row in noisy_pixels:\n",
    "        chip.mask(flavor, col, row)\n",
    "    chip['CONF_SR'].write()\n",
    "\n",
    "    print(\"Checking again after masking\")\n",
    "    find_new_noisy_pixels()\n",
    "\n",
    "    # Mask additionally found noisy pixels\n",
    "    for flavor, col, row in noisy_pixels:\n",
    "        chip.mask(flavor, col, row)\n",
    "    chip['CONF_SR'].write()\n",
    "    chip['fifo'].reset()\n",
    "    time.sleep(0.3)\n",
    "    chip.reset_ibias()\n",
    "\n",
    "    print(\"Noisy pixels: %d\" % len(noisy_pixels))\n",
    "    # Get masked pixels using a convenience function of the TJMonopix class\n",
    "    mask = chip.get_disabled_pixel(maskV=chip['CONF_SR']['MASKV'], maskH=chip['CONF_SR']['MASKH'], maskD=chip['CONF_SR']['MASKD'])\n",
    "    total_enabled = np.shape(np.argwhere(mask[(chip.fl_n * 112):(chip.fl_n + 1) * 112, :] != 0))[0]\n",
    "    total_disabled = np.shape(np.argwhere(mask[(chip.fl_n * 112):(chip.fl_n + 1) * 112, :] == 0))[0]\n",
    "    print(\"Enabled pixels: %d\" % total_enabled)\n",
    "    print(\"Disabled pixels (noisy + unintentionally masked): %d\" % total_disabled)\n",
    "    return noisy_pixels\n"
   ]
  },
  {
   "cell_type": "markdown",
   "metadata": {},
   "source": [
    "## ENABLE MASK"
   ]
  },
  {
   "cell_type": "code",
   "execution_count": null,
   "metadata": {},
   "outputs": [],
   "source": [
    "#save some outout monitor files\n",
    "date_string = datetime.datetime.now().strftime(\"%Y-%m-%d_%H-%M-%S\")\n",
    "output_file_noisy_pixels = date_string + '_noisy_pixels.txt'\n",
    "output_file_parameters = 'parameters.txt'\n",
    "output_file_power_status = date_string + 'power_status.txt'\n",
    "noise_monitor.save_noisy_pixels(pix, output_file_noisy_pixels)\n",
    "noise_monitor.save_param_and_noise(\n",
    "    setted_param_dac, setted_param, number_noisy_pixels, total_disabled, output_file_parameters)\n",
    "noise_monitor.save_power_status(power_status, output_file_power_status)"
   ]
  },
  {
   "cell_type": "code",
   "execution_count": null,
   "metadata": {
    "scrolled": true
   },
   "outputs": [],
   "source": [
    "# Check plot before masking\n",
    "unmask_all(chip)\n",
    "tj_plot(chip);"
   ]
  },
  {
   "cell_type": "code",
   "execution_count": null,
   "metadata": {},
   "outputs": [],
   "source": [
    "# Auto-mask and plot again\n",
    "our_auto_mask(chip, th=10)\n",
    "tj_plot(chip);"
   ]
  },
  {
   "cell_type": "markdown",
   "metadata": {},
   "source": [
    "## ENABLE INJECTION"
   ]
  },
  {
   "cell_type": "code",
   "execution_count": null,
   "metadata": {},
   "outputs": [],
   "source": [
    "### check noise occupancy\n",
    "exp_time = 1\n",
    "chip.get_occupancy(exp_time)"
   ]
  },
  {
   "cell_type": "code",
   "execution_count": null,
   "metadata": {},
   "outputs": [],
   "source": [
    "## configure injection pulse and inject pulses to one pixel\n",
    "col_to_inject = 18\n",
    "row_to_inject = 25\n",
    "\n",
    "delay=800\n",
    "width=250\n",
    "repeat=100\n",
    "chip['inj'].set_delay(delay)\n",
    "chip['inj'].set_width(width)\n",
    "chip['inj'].set_repeat(repeat)\n",
    "chip['inj'].set_phase(0)\n",
    "chip['inj'].set_en(0)\n",
    "\n",
    "chip['CONF_SR']['INJ_ROW'].setall(False)\n",
    "chip['CONF_SR']['COL_PULSE_SEL'].setall(False)\n",
    "chip.enable_injection(3, col_to_inject, row_to_inject)\n",
    "chip.write_conf()\n",
    "\n",
    "_, pixels, hits_per_pixel = tj_plot(wait_inj=True)\n",
    "chip['data_rx'].set_en(False)\n",
    "\n",
    "arg = np.argsort(hits_per_pixel)\n",
    "for px, n_hits in zip(pixels[arg], hits_per_pixel[arg]):\n",
    "    print(px, n_hits)\n",
    "    # chip.mask(3, px[0], px[1]) # Do we need this?"
   ]
  },
  {
   "cell_type": "markdown",
   "metadata": {},
   "source": [
    "## INJECTION SCANS -  S-CURVE"
   ]
  },
  {
   "cell_type": "code",
   "execution_count": null,
   "metadata": {},
   "outputs": [],
   "source": [
    "injlist=np.arange(80,0,-1)\n",
    "\n",
    "inj_low=chip.get_vl_dacunits()\n",
    "chip['data_rx'].set_en(True)\n",
    "for _ in range(5):\n",
    "    chip['fifo'].reset()\n",
    "    time.sleep(0.002)\n",
    "\n",
    "cnt=np.empty(len(injlist))\n",
    "tot=np.empty(len(injlist))\n",
    "for inj_i,inj in enumerate(injlist):\n",
    "    chip.set_vh_dacunits(inj+inj_low,0)\n",
    "    chip.write_conf()\n",
    "    for _ in range(5):\n",
    "        chip['fifo'].reset()\n",
    "        time.sleep(0.002)\n",
    "    chip.set_monoread()\n",
    "    chip[\"inj\"].start()\n",
    "    while not chip['inj'].is_ready:\n",
    "        time.sleep(0.001)\n",
    "    time.sleep(0.02)\n",
    "    x = chip['fifo'].get_data()\n",
    "    ix = chip.interpret_data(x)\n",
    "    ix_inj=ix[np.bitwise_and(ix[\"col\"]==col_to_inject,ix[\"row\"]==row_to_inject)]\n",
    "    print inj,len(ix),len(ix_inj),np.average((ix_inj[\"te\"]-ix_inj[\"le\"]) & 0x3F)\n",
    "    cnt[inj_i]=len(ix_inj)\n",
    "    tot[inj_i]=np.average((ix_inj[\"te\"]-ix_inj[\"le\"]) & 0x3F)"
   ]
  },
  {
   "cell_type": "code",
   "execution_count": null,
   "metadata": {},
   "outputs": [],
   "source": [
    "### plot\n",
    "\n",
    "print \"approx. th=\",injlist[np.argmin(np.abs(cnt-repeat/2))],\"DAC\",injlist[np.argmin(np.abs(cnt-repeat/2))]*CALCAP,\"e\"\n",
    "fig,ax=plt.subplots(1,1)\n",
    "ax.plot(injlist,cnt,\"C0o\",label=\"count\")\n",
    "ax2=ax.twiny()\n",
    "ax3=ax.twinx()\n",
    "ax3.plot(injlist,tot,\"C1x\",label=\"ToT\")\n",
    "ax.plot([],[],\"C1x\",label=\"ToT\")\n",
    "\n",
    "ax.set_xlabel(\"Injection [ADC]\")\n",
    "ax.set_ylabel(\"#\")\n",
    "ax3.set_ylabel(\"ToT [40MHz]\")\n",
    "ax2.set_xlabel(\"Charge [e]\")\n",
    "ax.set_xbound(np.min(injlist),np.max(injlist))\n",
    "ax2.set_xbound(np.min(injlist)*CALCAP,np.max(injlist)*CALCAP)\n",
    "ax.legend()"
   ]
  },
  {
   "cell_type": "code",
   "execution_count": null,
   "metadata": {},
   "outputs": [],
   "source": []
  }
 ],
 "metadata": {
  "kernelspec": {
   "display_name": "Python 2",
   "language": "python",
   "name": "python2"
  },
  "language_info": {
   "codemirror_mode": {
    "name": "ipython",
    "version": 2
   },
   "file_extension": ".py",
   "mimetype": "text/x-python",
   "name": "python",
   "nbconvert_exporter": "python",
   "pygments_lexer": "ipython2",
   "version": "2.7.18"
  }
 },
 "nbformat": 4,
 "nbformat_minor": 2
}
