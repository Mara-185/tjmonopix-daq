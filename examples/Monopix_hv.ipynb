{
 "cells": [
  {
   "cell_type": "markdown",
   "metadata": {},
   "source": [
    "## INITIALIZATION"
   ]
  },
  {
   "cell_type": "code",
   "execution_count": 1,
   "metadata": {},
   "outputs": [],
   "source": [
    "import time\n",
    "import matplotlib\n",
    "import matplotlib.pyplot as plt\n",
    "import numpy as np\n",
    "import datetime\n",
    "from bitarray import bitarray\n",
    "from tjmonopix.tjmonopix import TJMonoPix\n",
    "%matplotlib notebook\n",
    "\n",
    "from tjmonopix.online_monitor import noise_monitor, plots\n",
    "from tjmonopix.analysis import analysis_functions"
   ]
  },
  {
   "cell_type": "code",
   "execution_count": 2,
   "metadata": {
    "scrolled": true
   },
   "outputs": [
    {
     "name": "stderr",
     "output_type": "stream",
     "text": [
      "2022-03-01 10:06:59,661 [INFO ] (MainThread) GPAC: power reset\n",
      "2022-03-01 10:07:01,411 [INFO ] (MainThread) Found adapter card: General Purpose Analog Card (GPAC) with ID 3\n",
      "2022-03-01 10:07:01,641 [INFO ] (MainThread) Found board 0 running firmware version 0.0\n",
      "2022-03-01 10:07:01,880 [INFO ] (MainThread) ibias = 45\n",
      "2022-03-01 10:07:01,894 [INFO ] (MainThread) ibias = 503.125 nA\n",
      "2022-03-01 10:07:02,480 [INFO ] (MainThread) {'VPC [V]': 1.2998506463536463, 'VDDA_DAC [mA]': 2.502471747485684, 'VDDP [V]': 1.8059798142570278, 'VDDP OC': False, 'VDDA [mA]': 49.64478938256647, 'VDDD [V]': 1.8005150383838384, 'VDDA_DAC OC': False, 'VDDD [mA]': 2.820288999038665e-08, 'VPCSWSF [V]': 0.5001542395802099, 'VDDP [mA]': 128.39714805315754, 'BiasSF [V]': 1.0562788421426692, 'VDDD OC': False, 'VPC [mA]': -0.07199967751338733, 'VPCSWSF [mA]': -0.1230610563724649, 'VDDA [V]': 1.8058565495495498, 'VDDA OC': False, 'VDDA_DAC [V]': 1.8045472377622378, 'BiasSF [mA]': 0.10059447096451782}\n"
     ]
    }
   ],
   "source": [
    "##### if HV is on, no_power_reset=True,\n",
    "##### if GPAC had power reset then no_power_reset=False\n",
    "\n",
    "chip = TJMonoPix(conf=\"../tjmonopix/tjmonopix_mio3.yaml\",no_power_reset=False)\n",
    "chip.init(fl=\"EN_HV\")\n",
    "\n",
    "chip['data_rx'].CONF_START_FREEZE = 64 #default 3\n",
    "chip['data_rx'].CONF_STOP_FREEZE = 100 #default 40\n",
    "chip['data_rx'].CONF_START_READ = 66 #default 6\n",
    "chip['data_rx'].CONF_STOP_READ = 68 #default 7\n",
    "chip['data_rx'].CONF_STOP = 105 #default 45"
   ]
  },
  {
   "cell_type": "markdown",
   "metadata": {},
   "source": [
    "## POWER STATUS"
   ]
  },
  {
   "cell_type": "code",
   "execution_count": 3,
   "metadata": {
    "scrolled": false
   },
   "outputs": [
    {
     "name": "stdout",
     "output_type": "stream",
     "text": [
      "BiasSF [V] = 1.05927951037\n",
      "BiasSF [mA] = 0.101098923188\n",
      "VDDA OC = False\n",
      "VDDA [V] = 1.80585654955\n",
      "VDDA [mA] = 50.1513688658\n",
      "VDDA_DAC OC = False\n",
      "VDDA_DAC [V] = 1.80454723776\n",
      "VDDA_DAC [mA] = 2.50247174749\n",
      "VDDD OC = False\n",
      "VDDD [V] = 1.80151403636\n",
      "VDDD [mA] = 2.82028899904e-08\n",
      "VDDP OC = False\n",
      "VDDP [V] = 1.80597981426\n",
      "VDDP [mA] = 128.397148053\n",
      "VPC [V] = 1.29985064635\n",
      "VPC [mA] = -0.445998029929\n",
      "VPCSWSF [V] = 0.50015423958\n",
      "VPCSWSF [mA] = 0.0410203601488\n"
     ]
    }
   ],
   "source": [
    "#chip['BiasSF'].set_current(100, unit='uA') # SET THE SOURCE FOLLOWER READOUT CURRENT\n",
    "power_status = chip.get_power_status(printen=True)"
   ]
  },
  {
   "cell_type": "markdown",
   "metadata": {},
   "source": [
    "## COLUMN SETTINGS: FLAVOURS, MASKS, INJECTION"
   ]
  },
  {
   "cell_type": "code",
   "execution_count": 4,
   "metadata": {},
   "outputs": [],
   "source": [
    "# SELECT WHICH DOUBLE COLUMNS (PIXEL \"FLAVOURS\") TO ENABLE\n",
    "chip['CONF_SR']['EN_PMOS_NOSF'].setall(False)\n",
    "chip['CONF_SR']['EN_PMOS'].setall(False)\n",
    "chip['CONF_SR']['EN_COMP'].setall(False)\n",
    "chip['CONF_SR']['EN_HV'].setall(True)\n",
    "chip['CONF_SR']['EN_OUT'].setall(False) #ENABLES OR DISABLES THE NORMAL OUTPUT PADS, ACTIVE LOW\n",
    "chip['CONF_SR']['nEN_OUT'].setall(True) #ENABLES OR DISABLES THE COMPLEMENTARY OUTPUT PADS, ACTIVE LOW\n",
    "chip['CONF_SR']['EN_HITOR_OUT'].setall(True) #ENABLES OR DISABLES THE NORMAL HITOR PADS, HITOR0-3 =  1-4 flavor, ACTIVE LOW\n",
    "chip['CONF_SR']['nEN_HITOR_OUT'].setall(True) #ENABLES OR DISABLES THE COMPLEMENTARY HITOR PADS, ACTIVE LOW\n",
    "\n",
    "chip.write_conf()"
   ]
  },
  {
   "cell_type": "code",
   "execution_count": 5,
   "metadata": {},
   "outputs": [],
   "source": [
    "# SELECT WHICH PHYSICAL COLUMNS, ROWS, DIAGONALS TO MASK\n",
    "# TO MASK ONE PIXEL, MASKV, MASKH and MASKD OF THIS PIXEL SHOULD BE 0 (FALSE)\n",
    "# THE MASKD NUMBER OF THE PIXEL WE WANT TO MASK (or UNMASK), IS GIVEN BY: MASKD = PHYSCOL- PHYSROW\n",
    "# IF PHYSCOL-PHYSROW<0, then MASKD = 448+PHYSCOL-PHYSROW\n",
    "chip['CONF_SR']['MASKD'].setall(True)\n",
    "chip['CONF_SR']['MASKH'].setall(True)\n",
    "chip['CONF_SR']['MASKV'].setall(True)\n",
    "\n",
    "# TO USE THE MASK FUNCTION YOU MUST INPUT THE FLAVOR, COLUMN AND ROW\n",
    "# THE FLAVOR NUMERS IS: 0 FOR PMOS_NOSF, 1 FOR PMOS, 2 FOR COMP, 3 FOR HV\n",
    "\n",
    "chip.write_conf()"
   ]
  },
  {
   "cell_type": "code",
   "execution_count": 6,
   "metadata": {},
   "outputs": [],
   "source": [
    "# SELECT WHICH PHYSICAL COLUMS TO INJECT\n",
    "# INJ_IN_MON_L AND INJ_IN_MON_L SELECT THE LEFT AND RIGHT SPECIAL ANALOG MONITORING PIXELS\n",
    "chip['CONF_SR']['COL_PULSE_SEL'].setall(False)\n",
    "\n",
    "chip['CONF_SR']['INJ_IN_MON_L'] = 1 # ENABLE INJECTION FOR THE ANALOG MONITORING PIXELS LEFT SIDE\n",
    "chip['CONF_SR']['INJ_IN_MON_R'] = 1 # ENABLE INJECTION FOR THE ANALOG MONITORING PIXELS RIGHT SIDE\n",
    "\n",
    "# SELECT WHICH PHYSICAL ROWS TO INJECT\n",
    "# THE SPEXIAL PIXELS OUTA_MON3 to OUTA_MON0 CORRESPONT TO ROWS 223 to 220 FOR INJECTION\n",
    "chip['CONF_SR']['INJ_ROW'].setall(False)\n",
    "chip['CONF_SR']['INJ_ROW'][223:220] = True # FOR THE ANALOG MONITORING TOP PIXEL\n",
    "\n",
    "# SELECT PHYSICAL COLUMNS AND ROWS FOR INJECTION WITH FUNCTION\n",
    "#chip.enable_injection(3,18,99)\n",
    "\n",
    "chip.write_conf()"
   ]
  },
  {
   "cell_type": "code",
   "execution_count": 7,
   "metadata": {},
   "outputs": [],
   "source": [
    "# SELECT PHYSICAL COLUMN(S) FOR HITOR OUTPUT\n",
    "# nMASKH (SO SETTING MASKH TO FALSE) ENABLES HITOR FOR THE SPECIFIC ROW\n",
    "chip['CONF_SR']['DIG_MON_SEL'].setall(False)\n",
    "#chip.enable_column_hitor(1,18)\n",
    "\n",
    "chip.write_conf()"
   ]
  },
  {
   "cell_type": "markdown",
   "metadata": {},
   "source": [
    "## ANALOG FRONT END CONFIGURATION"
   ]
  },
  {
   "cell_type": "code",
   "execution_count": 8,
   "metadata": {},
   "outputs": [
    {
     "name": "stderr",
     "output_type": "stream",
     "text": [
      "2022-03-01 10:07:30,319 [INFO ] (MainThread) vl = 0.951929133858V\n",
      "2022-03-01 10:07:30,388 [INFO ] (MainThread) vh = 1.51885826772V\n"
     ]
    }
   ],
   "source": [
    "vl_dac = 40\n",
    "vh_dac = 80\n",
    "vreset_dac = 35\n",
    "icasn_dac = 0  # This sets the baseline voltage of the discriminator input\n",
    "ireset_dac = 2\n",
    "ithr_dac = 5  # Also this sets the baseline voltage of the discriminator input\n",
    "idb_dac = 50  # This sets the threshold of the discriminator\n",
    "ibias_dac = 100\n",
    "\n",
    "\n",
    "## SET THE INJECTION PULSE AMPLITUDE\n",
    "## 128-bit DAC (7-bit binary equivalent)\n",
    "## SET THE VOLTAGES IN ONE HOT ENCODING, ONLY ONE BIT ACTIVE AT A TIME.\n",
    "## V = (127/1.8)*#BIT\n",
    "# Cinj=230aF => 1.43e-/mV\n",
    "# VDAC LSB=14.17mV => 20.3e-/LSB\n",
    "# The default values are VL=44, VH=79, VH-VL=35 => ~710e-\n",
    "CALCAP=33 ## 33 or 14.17E-3*230E-18/1.602E-19=20.3\n",
    "vl = chip.set_vl_dacunits(vl_dac,1)\n",
    "vh = chip.set_vh_dacunits(vh_dac,1)\n",
    "\n",
    "chip.write_conf()"
   ]
  },
  {
   "cell_type": "code",
   "execution_count": 9,
   "metadata": {},
   "outputs": [
    {
     "name": "stderr",
     "output_type": "stream",
     "text": [
      "2022-03-01 10:07:33,424 [INFO ] (MainThread) vreset = 1.05106299213V\n",
      "2022-03-01 10:07:33,440 [INFO ] (MainThread) icasn = 0\n",
      "2022-03-01 10:07:33,454 [INFO ] (MainThread) icasn = 4.375 nA\n",
      "2022-03-01 10:07:33,461 [INFO ] (MainThread) ireset = 2 high leakage mode\n",
      "2022-03-01 10:07:33,493 [INFO ] (MainThread) ireset = 0.1025390625nA, high leakage mode\n",
      "2022-03-01 10:07:33,509 [INFO ] (MainThread) ithr = 5\n",
      "2022-03-01 10:07:33,523 [INFO ] (MainThread) ithr = 0.8203125 nA\n",
      "2022-03-01 10:07:33,539 [INFO ] (MainThread) idb = 50\n",
      "2022-03-01 10:07:33,555 [INFO ] (MainThread) idb = 892.5 nA\n",
      "2022-03-01 10:07:33,576 [INFO ] (MainThread) ibias = 100\n",
      "2022-03-01 10:07:33,592 [INFO ] (MainThread) ibias = 1104.6875 nA\n"
     ]
    }
   ],
   "source": [
    "# SET VRESET_P, THIS IS THE BASELINE OF THE FRONT END INPUT, ONE HOT ENCODING\n",
    "vreset = chip.set_vreset_dacunits(vreset_dac, 1) #1V\n",
    "\n",
    "## 128-bit DAC (7-bit binary equivalent)\n",
    "## SET THE CURRENTS USING THERMOMETER ENCODING, I = #BITS_ACTIVE*140nA*SCALING, SCALING IS DIFFERENT FOR EACH CURRENT\n",
    "## SCALING: IBIAS=10, IDB=16, ITHR=0.125, ICASN=4, IRESET=0.03125\n",
    "## ACTIVE BITS SHOULD BE SET STARTING FROM THE MIDDLE e.g. for 15 active bits, (128-15)/2=56,5 so 56zeros,15ones,57zeros\n",
    "## Thus, Ix[71:57] = True\n",
    "\n",
    "# SET ICASN, THIS CURRENT CONTROLS THE OUTPUT BASELINE, BE CAREFUL NOT TO SET IT TO HIGH\n",
    "# ALWAYS MONITOR THE POWER AFTER SETTING ICASN. IF VDDD IS SEVERAL mA, REDUCE IT UNTIL IT RETURNS TO 0\n",
    "# ICASN MAINLY CONTROLS THE THRESHOLD\n",
    "icasn = chip.set_icasn_dacunits(icasn_dac,1) #4.375nA # approx 1.084V at -3V backbias, 600mV at 0V backbias\n",
    "\n",
    "# SET IRESET, THIS CURRENT CONTROLS THE RESET RATE OF THE FRONT END INPUT (ALSO THE THRESHOLD)\n",
    "ireset = chip.set_ireset_dacunits(ireset_dac,1,1) #270pA, HIGH LEAKAGE MODE, NORMAL SCALING, 0 = LOW LEAKAGE MODE, SCALING*0.01\n",
    "\n",
    "# SET ITHR, THIS CURRENT CONTROLS THE RESET RATE OF THE OUTPUT (AND THE THRESHOLD)\n",
    "ithr = chip.set_ithr_dacunits(ithr_dac,1) #680pA ## default=5\n",
    "\n",
    "# SET ITHR, THIS CURRENT CONTROLS THE BIASING OF THE DISCRIMINATOR (AND THE THRESHOLD)\n",
    "idb = chip.set_idb_dacunits(idb_dac,1) #500nA  \n",
    "\n",
    "# SET IBIAS, THIS CURRENT IS THE DC CURRENT OF THE MAIN BRANCH OF THE FRONT END THAT PROVIDES AMPLIFICATION\n",
    "# IT CONTROLS MAINLY THE RISE TIME\n",
    "ibias = chip.set_ibias_dacunits(ibias_dac,1) #500nA default=50\n",
    "\n",
    "############ ENABLE THE DAC CURRENT MONITORING ###########\n",
    "# chip['CONF_SR']['SWCNTL_DACMONI'] = 0\n",
    "\n",
    "########## SET THE BIAS CURRENTS OF THE TWO STAGE SOURCE FOLLOWER THAT BUFFERS THE ANALOG MONITORING VOLTAGES #########\n",
    "# CONTROLS THE RESPONSE TIME AND THE LEVEL SHIFT OF THE BUFFER\n",
    "# chip['CONF_SR']['SET_IBUFN_L'] = 0b1001\n",
    "# chip['CONF_SR']['SET_IBUFP_L'] = 0b0101\n",
    "\n",
    "chip.write_conf()\n",
    "\n",
    "\n",
    "setted_param_dac = np.array([vl_dac, vh_dac, vreset_dac, icasn_dac, ireset_dac, ithr_dac, idb_dac, ibias_dac])\n",
    "setted_param = np.array([vl, vh, vreset, icasn, ireset, ithr, idb, ibias])"
   ]
  },
  {
   "cell_type": "markdown",
   "metadata": {},
   "source": [
    "For using external ICASN instead:\n",
    "```python\n",
    "chip['DACMON_ICASN'].set_current(0, unit='uA')\n",
    "chip['CONF_SR']['SWCNTL_ICASN']=True\n",
    "chip.write_conf()\n",
    "time.sleep(1)\n",
    "print chip['DACMON_ICASN'].get_voltage()\n",
    "print chip['DACMON_ICASN'].get_current()\n",
    "```"
   ]
  },
  {
   "cell_type": "markdown",
   "metadata": {},
   "source": [
    "## ENABLE MASK"
   ]
  },
  {
   "cell_type": "code",
   "execution_count": 10,
   "metadata": {
    "scrolled": true
   },
   "outputs": [
    {
     "name": "stdout",
     "output_type": "stream",
     "text": [
      "Got 229349 hits in 0.2 s\n"
     ]
    },
    {
     "data": {
      "image/png": "[encoded data removed]",
      "text/plain": [
       "<Figure size 432x288 with 3 Axes>"
      ]
     },
     "metadata": {
      "needs_background": "light"
     },
     "output_type": "display_data"
    }
   ],
   "source": [
    "chip.unmask_all()\n",
    "plots.tj_plot(chip);"
   ]
  },
  {
   "cell_type": "code",
   "execution_count": 12,
   "metadata": {
    "scrolled": false
   },
   "outputs": [
    {
     "name": "stdout",
     "output_type": "stream",
     "text": [
      "Enable MASKH 50\n",
      "Got 53776 hits, total noisy pixels: 29\n",
      "Enable MASKH 100\n",
      "Got 105485 hits, total noisy pixels: 84\n",
      "Enable MASKH 150\n",
      "Got 24090 hits, total noisy pixels: 128\n",
      "Enable MASKH 200\n",
      "Got 167684 hits, total noisy pixels: 212\n",
      "Enable MASKH 223\n",
      "Got 44322 hits, total noisy pixels: 248\n",
      "Enable MASKV 50\n",
      "Got 123 hits, total noisy pixels: 250\n",
      "Enable MASKV 100\n",
      "Got 10 hits, total noisy pixels: 251\n",
      "Enable MASKV 111\n",
      "Got 82 hits, total noisy pixels: 252\n",
      "Enable MASKD 50\n",
      "Got 10 hits, total noisy pixels: 253\n",
      "Enable MASKD 100\n",
      "Got 6 hits, total noisy pixels: 253\n",
      "Enable MASKD 150\n",
      "Got 5 hits, total noisy pixels: 255\n",
      "Enable MASKD 200\n",
      "Got 42 hits, total noisy pixels: 257\n",
      "Enable MASKD 250\n",
      "Got 124 hits, total noisy pixels: 259\n",
      "Enable MASKD 300\n",
      "Got 121 hits, total noisy pixels: 259\n",
      "Enable MASKD 350\n",
      "Got 30 hits, total noisy pixels: 262\n",
      "Enable MASKD 400\n",
      "Got 109 hits, total noisy pixels: 266\n",
      "Enable MASKD 447\n",
      "Got 18 hits, total noisy pixels: 270\n",
      "Checking again after masking\n",
      "Got 16 hits, total noisy pixels: 272\n",
      "Noisy pixels: 272\n",
      "Enabled pixels: 14522\n",
      "Disabled pixels (noisy + unintentionally masked): 10566\n",
      "Got 71 hits in 0.2 s\n"
     ]
    },
    {
     "data": {
      "image/png": "[encoded data removed]",
      "text/plain": [
       "<Figure size 432x288 with 3 Axes>"
      ]
     },
     "metadata": {
      "needs_background": "light"
     },
     "output_type": "display_data"
    },
    {
     "data": {
      "image/png": "[encoded data removed]",
      "text/plain": [
       "<Figure size 432x288 with 2 Axes>"
      ]
     },
     "metadata": {
      "needs_background": "light"
     },
     "output_type": "display_data"
    },
    {
     "name": "stderr",
     "output_type": "stream",
     "text": [
      "Exception in thread TcpReadoutThread:\n",
      "Traceback (most recent call last):\n",
      "  File \"C:\\ProgramData\\Miniconda2\\lib\\threading.py\", line 801, in __bootstrap_inner\n",
      "    self.run()\n",
      "  File \"C:\\ProgramData\\Miniconda2\\lib\\threading.py\", line 754, in run\n",
      "    self.__target(*self.__args, **self.__kwargs)\n",
      "  File \"c:\\users\\belle2\\basil\\basil\\TL\\SiTcp.py\", line 406, in _tcp_readout\n",
      "    data = bytearray(self._sock_tcp.recv(1024 * 8))\n",
      "error: [Errno 10054] Connessione in corso interrotta forzatamente dall'host remoto\n",
      "\n"
     ]
    }
   ],
   "source": [
    "\"\"\" Software parameters to select: \n",
    "    the threshold above whitch a pixel is defined noisy (th = number of hits per pixel), \n",
    "    the step (),\n",
    "    the time of the data acquisition run (in s) \"\"\"\n",
    "th = 2\n",
    "step = 50\n",
    "dt = 0.2\n",
    "\n",
    "# Auto-mask and plot again\n",
    "noisy_pixels, n_disabled_pixels, mask = chip.auto_mask(th=th, step=step, dt=dt)\n",
    "plots.tj_plot(chip);\n",
    "\n",
    "plt.figure()\n",
    "plt.subplot(1, 2, 1)\n",
    "plt.hist2d([x[1] for x in noisy_pixels], [x[2] for x in noisy_pixels], bins=[112,224], range=[[0,112],[0,224]])\n",
    "plt.title(\"Noisy pixels\")\n",
    "plt.xlabel('columns')\n",
    "plt.ylabel('rows')\n",
    "\n",
    "plt.subplot(1, 2, 2)\n",
    "plt.hist2d([x[0] for x in mask], [x[1] for x in mask], bins=[112,224], range=[[0,112],[0,224]])\n",
    "plt.title(\"Masked pixels\")\n",
    "plt.xlabel('columns')\n",
    "plt.ylabel('rows')\n",
    "\n",
    "plt.tight_layout()\n",
    "plt.show()"
   ]
  },
  {
   "cell_type": "markdown",
   "metadata": {},
   "source": [
    "## OCCUPANCY"
   ]
  },
  {
   "cell_type": "code",
   "execution_count": null,
   "metadata": {},
   "outputs": [],
   "source": [
    "pix_tmp, cnt = chip.get_occupancy(dt);"
   ]
  },
  {
   "cell_type": "code",
   "execution_count": null,
   "metadata": {},
   "outputs": [],
   "source": [
    "#save some outout monitor files\n",
    "date_string = datetime.datetime.now().strftime(\"%Y-%m-%d_%H-%M-%S\")\n",
    "\n",
    "output_file_power_status = date_string + 'power_status.txt'\n",
    "output_file_parameters = 'parameters.txt'\n",
    "output_file_noisy_pixels = date_string + '_noisy_pixels.txt'\n",
    "output_file_hits_per_pixels = date_string + '_hits_pixels.txt'\n",
    "\n",
    "noise_monitor.save_noisy_pixels(np.array(list(noisy_pixels)), output_file_noisy_pixels)\n",
    "noise_monitor.save_param_and_noise(\n",
    "    setted_param_dac, setted_param, len(noisy_pixels), n_disabled_pixels, output_file_parameters)\n",
    "noise_monitor.save_power_status(power_status, output_file_power_status)\n",
    "\n",
    "#noise_monitor.save_hits_per_pixels(hits, pixels, hits_per_pixel, output_file_hits_per_pixels)"
   ]
  },
  {
   "cell_type": "markdown",
   "metadata": {},
   "source": [
    "# ENABLE INJECTION"
   ]
  },
  {
   "cell_type": "code",
   "execution_count": null,
   "metadata": {},
   "outputs": [],
   "source": [
    "col_to_inject = 90\n",
    "row_to_inject = 55\n",
    "\n",
    "delay = 800 #in clock units (640 MHz)\n",
    "width = 250\n",
    "repeat = 100 #number of pulse injected\n",
    "chip['inj'].set_delay(delay)\n",
    "chip['inj'].set_width(width)\n",
    "chip['inj'].set_repeat(repeat)\n",
    "chip['inj'].set_phase(0)\n",
    "chip['inj'].set_en(0)\n",
    "\n",
    "chip['CONF_SR']['INJ_ROW'].setall(False)\n",
    "chip['CONF_SR']['COL_PULSE_SEL'].setall(False)\n",
    "#chip.enable_injection(3, col_to_inject, row_to_inject)\n",
    "chip.write_conf()\n",
    "\n",
    "_, pixels, hits_per_pixel = plots.tj_plot(chip, wait_inj=True)\n",
    "chip['data_rx'].set_en(False)\n"
   ]
  },
  {
   "cell_type": "markdown",
   "metadata": {},
   "source": [
    "## INJECTION SCANS "
   ]
  },
  {
   "cell_type": "code",
   "execution_count": null,
   "metadata": {
    "scrolled": true
   },
   "outputs": [],
   "source": [
    "injlist = np.arange(80, 0, -1)\n",
    "inj_low_dac = self.get_vl_dacunits()\n",
    "\n",
    "cnt, tot, inj_high = chip.injection_scan(injlist, inj_low_dac, col_to_inject, row_to_inject)\n"
   ]
  },
  {
   "cell_type": "markdown",
   "metadata": {},
   "source": [
    "# S-CURVE"
   ]
  },
  {
   "cell_type": "code",
   "execution_count": null,
   "metadata": {},
   "outputs": [],
   "source": [
    "analysis_functions.find_approx_threshold(injlist, inj_high, cnt, repeat, CALCAP)\n",
    "plots.s_curve(injlist, cnt, tot, CALCAP);"
   ]
  },
  {
   "cell_type": "code",
   "execution_count": null,
   "metadata": {},
   "outputs": [],
   "source": []
  }
 ],
 "metadata": {
  "kernelspec": {
   "display_name": "Python 2",
   "language": "python",
   "name": "python2"
  },
  "language_info": {
   "codemirror_mode": {
    "name": "ipython",
    "version": 2
   },
   "file_extension": ".py",
   "mimetype": "text/x-python",
   "name": "python",
   "nbconvert_exporter": "python",
   "pygments_lexer": "ipython2",
   "version": "2.7.18"
  }
 },
 "nbformat": 4,
 "nbformat_minor": 2
}
